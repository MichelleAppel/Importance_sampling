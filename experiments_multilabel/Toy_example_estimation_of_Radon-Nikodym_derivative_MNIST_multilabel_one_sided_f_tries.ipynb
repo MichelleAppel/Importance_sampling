{
 "cells": [
  {
   "cell_type": "markdown",
   "metadata": {
    "colab_type": "text",
    "id": "view-in-github"
   },
   "source": [
    "<a href=\"https://colab.research.google.com/github/MichelleAppel/Importance_sampling/blob/master/experiments_multilabel/Toy_example_estimation_of_Radon-Nikodym_derivative_MNIST_multilabel_one_sided_f_tries.ipynb\" target=\"_parent\"><img src=\"https://colab.research.google.com/assets/colab-badge.svg\" alt=\"Open In Colab\"/></a>"
   ]
  },
  {
   "cell_type": "markdown",
   "metadata": {
    "id": "6J5y6SbAJaMS"
   },
   "source": [
    "# Toy example estimation of Radon-Nikodym derivative for MNIST dataset (one sided)"
   ]
  },
  {
   "cell_type": "markdown",
   "metadata": {
    "id": "LUEg3hsSJaMT"
   },
   "source": [
    "Equation (5) of the paper by Binkowski et al. explains that the Radon-Nikodym derivative $\\frac{d \\mathbb{Q}_y}{ \\mathbb{P}_y^G}$ of the two domains exist under the assumptions they state. This derivative can also be seen as the ratio between the two distributions of the domains, and can be used to express the compensation for imbalance in the domains:\n",
    "\n",
    "$\\mathbb{E}_{Y \\sim \\mathbb{Q}_y}[D(Y)] = \\mathbb{E}_{X \\sim \\mathbb{P}_x}[D(G(X)) \\frac{d \\mathbb{Q}_y}{ d\\mathbb{P}_y^G}(G(X))]$\n",
    "\n",
    "This expresses compensation for imbalance between the discriminator outputs, caused by the imbalance in the domain distributions. However, it does not necessarily have to be used for the imbalance in the discriminator outputs. It can be applied to any imbalance caused by the different domain distributions.\n",
    "\n",
    "--\n",
    "\n",
    "In other words, we are trying to study the situation where we don't deal with a discriminator but with any function, let it be $f$. This $f$ can be any function, e.g. identity, mean.... We try to compensate for imbalances in the two domains over which we compute the function:\n",
    "\n",
    "$\\mathbb{E}_{Y \\sim \\mathbb{Q}_y}[f(Y)] = \\mathbb{E}_{X \\sim \\mathbb{P}_x}[f(G(X)) \\frac{d \\mathbb{Q}_y}{ d\\mathbb{P}_y^G}(G(X))]$\n",
    "\n",
    "Possible functions $f$ for MNIST:\n",
    "* use the label\n",
    "* pre-trained classifier\n",
    "\n",
    "In this toy example we use try different possibilities for $f$:\n",
    "\n",
    "0.   $f$ = real value for the label of the image (Like in Toy_example_estimation_of_Radon-Nikodym_derivative_MNIST_one_sided.ipynb : https://colab.research.google.com/drive/1REZfm-gHmH0_ozOROrofkCpM5eh0u2pI#scrollTo=FRC7j9BYJaM1)\n",
    "1.   $f$ = mean of the pixel value over the whole image\n",
    "2.   $f$ = image itself, that is weighted by the image's weight (and, after the weighting, an operation like a sum is applid over the whole batch)\n",
    "3.   $f$ = fixed (not trained) randomly initialized neural network\n",
    "4.   $f$ = fixed (not trained) randomly initialized neural network, with possibility to use hidden variables as $f$. $f$ can also be a tensor instead of a single value  \n",
    "\n",
    "\n",
    "\n",
    "--\n",
    "\n",
    "This toy example uses a simplified version of MNIST.\n",
    "\n",
    "The dataset only has zeroes and ones, and the percentage of zeros/ones is specified by the user\n",
    "\n",
    "--\n",
    "\n",
    "The following toy example shows how we can use the Radon-Nikodym derivative for compensating the imbalance for the mean of the domains using $\\bar{Y} = \\bar{X}\\frac{d \\mathbb{Q}_y}{d \\mathbb{P}_x}$.\n",
    "\n",
    "\n",
    "Let $X = [1, 1, 1, 1, 1, 1, 1, 0, 0]$, with mean $\\bar{X} = 0.8$ and <br />\n",
    "Let $Y = [1, 1, 0, 0, 0, 0, 0, 0, 0]$, with mean $\\bar{Y} = 0.2$\n",
    "\n",
    "Then $[1, 1, 0, 0, 0, 0, 0, 0, 0] = [1, 1, 1, 1, 1, 1, 1, 0, 0] \\cdot \\frac{d \\mathbb{Q}_y}{d \\mathbb{P}_x}(X)$, and <br />\n",
    "$\\frac{d \\mathbb{Q}_y}{d \\mathbb{P}_x}(X) = [0.25, 0.25, 0.25, 0.25, 0.25, 0.25, 0.25, 4, 4]$\n",
    "\n",
    "This can be interpreted as the ratio between means of the domains for each of the samples. In this example the ratio can be calculated. However, in more complex situations, for example with images, the Radon-Nykodym derivative $\\frac{d \\mathbb{Q}_y}{d \\mathbb{P}_x}$ is unknown and we may try to estimate it using a neural network $W$. This leads to the objective function\n",
    "\n",
    "$\\inf_{W \\in \\mathcal{W}} (\\mathbb{E}_{X \\sim \\mathbb{P}_x} [D(G(X)) \\cdot W(X)] - \\mathbb{E}_{Y \\sim \\mathbb{Q}_y}[D(Y)])^2$\n",
    "\n",
    "used by Binkowski et al. for compensation of distributions in the domains, using the discriminator output. Similarly, we can use such a network in our toy example."
   ]
  },
  {
   "cell_type": "markdown",
   "metadata": {
    "id": "dnCHtiikgzkl"
   },
   "source": [
    "### Initializations"
   ]
  },
  {
   "cell_type": "code",
   "execution_count": 1,
   "metadata": {
    "id": "siUNmu07JaMT"
   },
   "outputs": [],
   "source": [
    "import torch\n",
    "import torch.nn as nn\n",
    "import torch.nn.functional as F\n",
    "import torch.optim as optim\n",
    "from torch.utils.data import Dataset, DataLoader\n",
    "from torchvision.utils import make_grid\n",
    "import torchvision\n",
    "import numpy as np\n",
    "\n",
    "import itertools\n",
    "\n",
    "import matplotlib.pyplot as plt"
   ]
  },
  {
   "cell_type": "code",
   "execution_count": 2,
   "metadata": {
    "id": "FrWt3LBZJaMX"
   },
   "outputs": [],
   "source": [
    "def visualize_img_batch(batch):\n",
    "    '''Visualizes image batch\n",
    "    \n",
    "    Parameters:\n",
    "    batch (Tensor): An image batch\n",
    "    '''\n",
    "    \n",
    "    print(\"*** batch ***\")\n",
    "    print('Batch dim:' + str(batch.shape[0]))\n",
    "    print('0 :' + str((batch==0.0).sum().item()))\n",
    "    print('1 :' + str((batch==1.0).sum().item()))\n",
    "    print('2 :' + str((batch==2.0).sum().item()))\n",
    "    print('3 :' + str((batch==3.0).sum().item()))\n",
    "    print('4 :' + str((batch==4.0).sum().item()))\n",
    "    print('5 :' + str((batch==5.0).sum().item()))\n",
    "    print('6 :' + str((batch==6.0).sum().item()))\n",
    "    print('7 :' + str((batch==7.0).sum().item()))\n",
    "    print('8 :' + str((batch==8.0).sum().item()))\n",
    "    print('9 :' + str((batch==9.0).sum().item()))\n",
    "\n",
    "    batch_formatted = torch.tensor(batch[:64]).unsqueeze(1).cuda() \n",
    "    for i in range(8):\n",
    "      #print('{} {} {} {} {} {} {} {} {} {}'.format(batch[]))\n",
    "      string = ''\n",
    "      for j in range(8):\n",
    "        string = string + ' {}'.format(int(batch_formatted[i*8+j][0]))\n",
    "      print(string)\n"
   ]
  },
  {
   "cell_type": "code",
   "execution_count": 5,
   "metadata": {
    "id": "ByE-gIdSEtFH"
   },
   "outputs": [],
   "source": [
    "def visualize_MNIST_img_batch(batch):\n",
    "    '''Visualizes image batch for MNIST\n",
    "    \n",
    "    Parameters:\n",
    "    batch (Tensor): An image batch\n",
    "    '''\n",
    "    fig = plt.figure()\n",
    "    for i in range(batch.shape[0]):\n",
    "      plt.subplot(1,batch.shape[0],i+1)\n",
    "      plt.tight_layout()\n",
    "      plt.imshow(batch[i], cmap='gray', interpolation='none')\n",
    "      plt.title(\"Ground Truth: {}\".format(i))\n",
    "      plt.xticks([])\n",
    "      plt.yticks([])"
   ]
  },
  {
   "cell_type": "code",
   "execution_count": 7,
   "metadata": {
    "colab": {
     "base_uri": "https://localhost:8080/",
     "height": 407
    },
    "id": "HIx0JMDXtEC3",
    "outputId": "48c34950-95d1-4b60-a62a-3cbcfe236bda"
   },
   "outputs": [
    {
     "ename": "AttributeError",
     "evalue": "module 'torch' has no attribute 'logical_and'",
     "output_type": "error",
     "traceback": [
      "\u001b[0;31m---------------------------------------------------------------------------\u001b[0m",
      "\u001b[0;31mAttributeError\u001b[0m                            Traceback (most recent call last)",
      "\u001b[0;32m<ipython-input-7-dcccf4117f4d>\u001b[0m in \u001b[0;36m<module>\u001b[0;34m\u001b[0m\n\u001b[1;32m     50\u001b[0m \u001b[0;31m# TEST\u001b[0m\u001b[0;34m\u001b[0m\u001b[0;34m\u001b[0m\u001b[0;34m\u001b[0m\u001b[0m\n\u001b[1;32m     51\u001b[0m \u001b[0mratio\u001b[0m \u001b[0;34m=\u001b[0m \u001b[0;36m0.2\u001b[0m\u001b[0;34m\u001b[0m\u001b[0;34m\u001b[0m\u001b[0m\n\u001b[0;32m---> 52\u001b[0;31m \u001b[0mres\u001b[0m \u001b[0;34m=\u001b[0m \u001b[0mMNIST_binary_data\u001b[0m\u001b[0;34m(\u001b[0m\u001b[0mratio\u001b[0m\u001b[0;34m)\u001b[0m\u001b[0;34m\u001b[0m\u001b[0;34m\u001b[0m\u001b[0m\n\u001b[0m\u001b[1;32m     53\u001b[0m \u001b[0;31m#print(res)\u001b[0m\u001b[0;34m\u001b[0m\u001b[0;34m\u001b[0m\u001b[0;34m\u001b[0m\u001b[0m\n\u001b[1;32m     54\u001b[0m \u001b[0;31m#print(res.targets.tolist()) #labels\u001b[0m\u001b[0;34m\u001b[0m\u001b[0;34m\u001b[0m\u001b[0;34m\u001b[0m\u001b[0m\n",
      "\u001b[0;32m<ipython-input-7-dcccf4117f4d>\u001b[0m in \u001b[0;36mMNIST_binary_data\u001b[0;34m(ratio)\u001b[0m\n\u001b[1;32m     12\u001b[0m     \u001b[0midxm0\u001b[0m \u001b[0;34m=\u001b[0m \u001b[0mMNIST\u001b[0m\u001b[0;34m.\u001b[0m\u001b[0mtrain_labels\u001b[0m\u001b[0;34m==\u001b[0m\u001b[0;36m0\u001b[0m\u001b[0;34m\u001b[0m\u001b[0;34m\u001b[0m\u001b[0m\n\u001b[1;32m     13\u001b[0m     \u001b[0midxm1\u001b[0m \u001b[0;34m=\u001b[0m \u001b[0mMNIST\u001b[0m\u001b[0;34m.\u001b[0m\u001b[0mtrain_labels\u001b[0m\u001b[0;34m==\u001b[0m\u001b[0;36m1\u001b[0m\u001b[0;34m\u001b[0m\u001b[0;34m\u001b[0m\u001b[0m\n\u001b[0;32m---> 14\u001b[0;31m     \u001b[0midxm2\u001b[0m \u001b[0;34m=\u001b[0m \u001b[0mtorch\u001b[0m\u001b[0;34m.\u001b[0m\u001b[0mlogical_and\u001b[0m\u001b[0;34m(\u001b[0m\u001b[0mMNIST\u001b[0m\u001b[0;34m.\u001b[0m\u001b[0mtrain_labels\u001b[0m\u001b[0;34m!=\u001b[0m\u001b[0;36m0\u001b[0m\u001b[0;34m,\u001b[0m \u001b[0mMNIST\u001b[0m\u001b[0;34m.\u001b[0m\u001b[0mtrain_labels\u001b[0m\u001b[0;34m!=\u001b[0m\u001b[0;36m1\u001b[0m\u001b[0;34m)\u001b[0m\u001b[0;34m\u001b[0m\u001b[0;34m\u001b[0m\u001b[0m\n\u001b[0m\u001b[1;32m     15\u001b[0m     \u001b[0mdim\u001b[0m \u001b[0;34m=\u001b[0m \u001b[0mlen\u001b[0m\u001b[0;34m(\u001b[0m\u001b[0midxm0\u001b[0m\u001b[0;34m)\u001b[0m\u001b[0;34m\u001b[0m\u001b[0;34m\u001b[0m\u001b[0m\n\u001b[1;32m     16\u001b[0m \u001b[0;34m\u001b[0m\u001b[0m\n",
      "\u001b[0;31mAttributeError\u001b[0m: module 'torch' has no attribute 'logical_and'"
     ]
    }
   ],
   "source": [
    "def MNIST_binary_data(ratio=0.5):\n",
    "    # ratio: ratio between zeroes and ones, i.e. number_zeroes / (number_zeroes + number_ones)\n",
    "    # returns (data, labels) for MNIST with all the classes; zeroes and ones the given ratio\n",
    "\n",
    "    MNIST = torchvision.datasets.MNIST('./files/', train=True, download=True,\n",
    "                             transform=torchvision.transforms.Compose([\n",
    "                               torchvision.transforms.ToTensor(),\n",
    "                               torchvision.transforms.Normalize(\n",
    "                                 (0.1307,), (0.3081,))\n",
    "                             ]))\n",
    "    \n",
    "    idxm0 = MNIST.train_labels==0\n",
    "    idxm1 = MNIST.train_labels==1 \n",
    "    idxm2 = torch.logical_and(MNIST.train_labels!=0, MNIST.train_labels!=1)\n",
    "    dim = len(idxm0)  \n",
    "\n",
    "    n0 = torch.sum(idxm0)\n",
    "    n1 = torch.sum(idxm1)\n",
    "    tot = n0 + n1\n",
    "\n",
    "    if ratio < n0.item()/tot.item():  # if there are too many zeroes, take just the first zeroes until reaching the ratio\n",
    "      if ratio == 1:\n",
    "        size = n0\n",
    "      else:\n",
    "        size = int(n1/(1-ratio))\n",
    "      idx0 = np.where(idxm0)[0]\n",
    "      idx0 = idx0[:int(size*ratio)]\n",
    "      idx1 = np.where(idxm1)[0]\n",
    "    else:                              # if there are too many ones, take just the first zeroes until reaching the ratio\n",
    "      if ratio == 1:\n",
    "        size = n1\n",
    "      else:\n",
    "        size = int(n0/ratio)\n",
    "      idx0 = np.where(idxm0)[0]\n",
    "      idx1 = np.where(idxm1)[0]\n",
    "      idx1 = idx1[:int(size*(1-ratio))]\n",
    "\n",
    "    # index of images in the wole dataset to be kept\n",
    "    idx2 = np.where(idxm2)[0]\n",
    "    idx = torch.sort(torch.tensor(idx0.tolist() + idx1.tolist() + idx2.tolist())).values\n",
    "    #print(idx)\n",
    "    #idxm = torch.tensor( [True if i in idx else False for i in range(dim)] )\n",
    "\n",
    "    # assign the new data and labels to the dataset\n",
    "    MNIST.targets = MNIST.train_labels[idx]\n",
    "    MNIST.data = MNIST.train_data[idx]\n",
    "\n",
    "    return MNIST \n",
    "\n",
    "# TEST\n",
    "ratio = 0.2\n",
    "res = MNIST_binary_data(ratio)\n",
    "#print(res)\n",
    "#print(res.targets.tolist()) #labels\n",
    "#print(res.data) #data\n",
    "\n",
    "zeroes = (res.train_labels==0).sum().item()\n",
    "ones = (res.train_labels==1).sum().item()\n",
    "tot = zeroes + ones\n",
    "print('ratio zeroes/(zeroes + ones) =' + str(zeroes/tot) + ' (intended =' + str(ratio) + ')')\n",
    "\n",
    "print(res)\n",
    "print('0 =' + str((res.train_labels==0).sum().item()))\n",
    "print('1 =' + str((res.train_labels==1).sum().item()))\n",
    "print('2 =' + str((res.train_labels==2).sum().item()))\n",
    "print('3 =' + str((res.train_labels==3).sum().item()))\n",
    "print('4 =' + str((res.train_labels==4).sum().item()))\n",
    "print('5 =' + str((res.train_labels==5).sum().item()))\n",
    "print('6 =' + str((res.train_labels==6).sum().item()))\n",
    "print('7 =' + str((res.train_labels==7).sum().item()))\n",
    "print('8 =' + str((res.train_labels==8).sum().item()))\n",
    "print('9 =' + str((res.train_labels==9).sum().item()))"
   ]
  },
  {
   "cell_type": "code",
   "execution_count": 9,
   "metadata": {
    "colab": {
     "base_uri": "https://localhost:8080/",
     "height": 391
    },
    "id": "nTWHgSR59-NK",
    "outputId": "b4fe18e9-59f5-4f26-cdbe-4dce17d3b38d"
   },
   "outputs": [
    {
     "name": "stdout",
     "output_type": "stream",
     "text": [
      "Dataset MNIST\n",
      "    Number of datapoints: 17615\n",
      "    Root location: ./files/\n",
      "    Split: Train\n",
      "    StandardTransform\n",
      "Transform: Compose(\n",
      "               ToTensor()\n",
      "               Normalize(mean=(0.1307,), std=(0.3081,))\n",
      "           )\n",
      "0 =813\n",
      "1 =813\n",
      "2 =813\n",
      "3 =813\n",
      "4 =813\n",
      "5 =2710\n",
      "6 =2710\n",
      "7 =2710\n",
      "8 =2710\n",
      "9 =2710\n"
     ]
    },
    {
     "name": "stderr",
     "output_type": "stream",
     "text": [
      "/home/michelle/.local/lib/python3.7/site-packages/torchvision/datasets/mnist.py:55: UserWarning: train_data has been renamed data\n",
      "  warnings.warn(\"train_data has been renamed data\")\n"
     ]
    }
   ],
   "source": [
    "def MNIST_data(ratio=[0.1, 0.1, 0.1, 0.1, 0.1, 0.1, 0.1, 0.1, 0.1, 0.1]):\n",
    "    # ratio: ratio between zeroes and ones, i.e. number_zeroes / (number_zeroes + number_ones)\n",
    "    # returns (data, labels) for MNIST with all the classes; zeroes and ones have the given ratio\n",
    "\n",
    "    MNIST = torchvision.datasets.MNIST('./files/', train=True, download=True,\n",
    "                             transform=torchvision.transforms.Compose([\n",
    "                               torchvision.transforms.ToTensor(),\n",
    "                               torchvision.transforms.Normalize(\n",
    "                                 (0.1307,), (0.3081,))\n",
    "                             ]))\n",
    "    \n",
    "    tot = torch.tensor(ratio).sum().item()\n",
    "    #print(tot)\n",
    "    #if tot > 1:\n",
    "    #  print(\"Invalid value\")\n",
    "    #  return MNIST\n",
    "\n",
    "    # bool mask for each label\n",
    "    idxm = [MNIST.train_labels==label for label in range(10)]\n",
    "    #print(idxm)\n",
    "\n",
    "    # list of indices for each label\n",
    "    idx = [np.where(idxm[label])[0] for label in range(10)]\n",
    "    #print(idx)\n",
    "\n",
    "    # compute the tot. number of elements in the result:\n",
    "    # - for each label there's the desired percentage in the result, and the number of images -> the max number of contribution in the result is tot_samples / desired_percentage\n",
    "    # - the tot. number of elements in the result is the minimum across all the labels \n",
    "    tot_labels = [(MNIST.train_labels==label).sum().item() for label in range(10)]\n",
    "    dim_res = [tot_labels[label] / ratio[label] for label in range(10)]\n",
    "    dim_res = int(min(dim_res)) / 2\n",
    "\n",
    "    # list of valid indices (i.e. indices for the result) for each label\n",
    "    valid_idx_labels = [[] for label in range(10)]\n",
    "    valid_idx = []\n",
    "    for label in range(10):\n",
    "      number_samples = ratio[label] * dim_res\n",
    "      valid_idx_labels[label] = idx[label][:int(number_samples)]\n",
    "      valid_idx = valid_idx + valid_idx_labels[label].tolist()\n",
    "    # sort\n",
    "    #print(valid_idx)\n",
    "    valid_idx = torch.sort(torch.tensor(valid_idx)).values\n",
    "    #print(valid_idx)\n",
    "\n",
    "    # assign the new data and labels to the dataset\n",
    "    MNIST.targets = MNIST.train_labels[valid_idx]\n",
    "    MNIST.data = MNIST.train_data[valid_idx]\n",
    "\n",
    "    return MNIST \n",
    "\n",
    "# TEST\n",
    "ratio = [0.15, 0.15, 0.15, 0.15, 0.15, 0.5, 0.5, 0.5, 0.5, 0.5]\n",
    "res = MNIST_data(ratio)\n",
    "#print(res)\n",
    "#print(res.targets.tolist()) #labels\n",
    "#print(res.data) #data\n",
    "\n",
    "print(res)\n",
    "print('0 =' + str((res.train_labels==0).sum().item()))\n",
    "print('1 =' + str((res.train_labels==1).sum().item()))\n",
    "print('2 =' + str((res.train_labels==2).sum().item()))\n",
    "print('3 =' + str((res.train_labels==3).sum().item()))\n",
    "print('4 =' + str((res.train_labels==4).sum().item()))\n",
    "print('5 =' + str((res.train_labels==5).sum().item()))\n",
    "print('6 =' + str((res.train_labels==6).sum().item()))\n",
    "print('7 =' + str((res.train_labels==7).sum().item()))\n",
    "print('8 =' + str((res.train_labels==8).sum().item()))\n",
    "print('9 =' + str((res.train_labels==9).sum().item()))"
   ]
  },
  {
   "cell_type": "code",
   "execution_count": 6,
   "metadata": {
    "colab": {
     "base_uri": "https://localhost:8080/",
     "height": 158
    },
    "id": "_RwJIr7Gs0On",
    "outputId": "d17fc086-4473-4294-86b2-76a1461bd883"
   },
   "outputs": [
    {
     "name": "stderr",
     "output_type": "stream",
     "text": [
      "/usr/local/lib/python3.6/dist-packages/torchvision/datasets/mnist.py:45: UserWarning: train_labels has been renamed targets\n",
      "  warnings.warn(\"train_labels has been renamed targets\")\n",
      "/usr/local/lib/python3.6/dist-packages/torchvision/datasets/mnist.py:55: UserWarning: train_data has been renamed data\n",
      "  warnings.warn(\"train_data has been renamed data\")\n",
      "/usr/local/lib/python3.6/dist-packages/ipykernel_launcher.py:45: UserWarning: Tight layout not applied. tight_layout cannot make axes width small enough to accommodate all axes decorations\n"
     ]
    },
    {
     "data": {
      "image/png": "[encoded data removed]",
      "text/plain": [
       "<Figure size 432x288 with 10 Axes>"
      ]
     },
     "metadata": {
      "tags": []
     },
     "output_type": "display_data"
    }
   ],
   "source": [
    "class MNISTDataset(Dataset):\n",
    "    '''The dataset for the MNIST binary data\n",
    "    '''\n",
    "    def __init__(self, ratio = [0.1, 0.1, 0.1, 0.1, 0.1, 0.1, 0.1, 0.1, 0.1, 0.1]):\n",
    "\n",
    "        self.ratio = ratio\n",
    "        \n",
    "        self.dataset = MNIST_data(ratio=self.ratio)\n",
    "        \n",
    "        self.example_imgs = self.example()\n",
    "        \n",
    "    def example(self):\n",
    "        '''\n",
    "        Returns an example from each digit in the domain\n",
    "        \n",
    "        '''\n",
    "        labels = self.dataset.targets\n",
    "        data = self.dataset.data\n",
    "        img0 = data[labels==0][0].unsqueeze(0)\n",
    "        img1 = data[labels==1][0].unsqueeze(0)\n",
    "        img2 = data[labels==2][0].unsqueeze(0)\n",
    "        img3 = data[labels==3][0].unsqueeze(0)\n",
    "        img4 = data[labels==4][0].unsqueeze(0)\n",
    "        img5 = data[labels==5][0].unsqueeze(0)\n",
    "        img6 = data[labels==6][0].unsqueeze(0)\n",
    "        img7 = data[labels==7][0].unsqueeze(0)\n",
    "        img8 = data[labels==8][0].unsqueeze(0)\n",
    "        img9 = data[labels==9][0].unsqueeze(0)\n",
    "        ex = torch.cat((img0, img1, img2, img3, img4, img5, img6, img7, img8, img9), 0)\n",
    "              \n",
    "        return ex\n",
    "\n",
    "    def __len__(self):\n",
    "        return len(self.dataset)\n",
    "    \n",
    "    def __getitem__(self, idx):      \n",
    "        return self.dataset[idx]\n",
    "\n",
    "# TEST\n",
    "dataset = MNISTDataset()\n",
    "\n",
    "fig = plt.figure()\n",
    "for i in range(10):\n",
    "  plt.subplot(1,10,i+1)\n",
    "  plt.tight_layout()\n",
    "  plt.imshow(dataset.example_imgs[i].cpu(), cmap='gray', interpolation='none')\n",
    "  plt.title(\"Ground Truth: {}\".format(i))\n",
    "  plt.xticks([])\n",
    "  plt.yticks([])"
   ]
  },
  {
   "cell_type": "code",
   "execution_count": 10,
   "metadata": {
    "colab": {
     "base_uri": "https://localhost:8080/",
     "height": 267
    },
    "id": "prbVAeT_JaMf",
    "outputId": "91a6f55c-7c4c-46e4-b807-9acf00a8e072"
   },
   "outputs": [
    {
     "ename": "NameError",
     "evalue": "name 'MNISTDataset' is not defined",
     "output_type": "error",
     "traceback": [
      "\u001b[0;31m---------------------------------------------------------------------------\u001b[0m",
      "\u001b[0;31mNameError\u001b[0m                                 Traceback (most recent call last)",
      "\u001b[0;32m<ipython-input-10-88258d6feaad>\u001b[0m in \u001b[0;36m<module>\u001b[0;34m\u001b[0m\n\u001b[1;32m      1\u001b[0m \u001b[0;31m# Settings for domain A (red)\u001b[0m\u001b[0;34m\u001b[0m\u001b[0;34m\u001b[0m\u001b[0;34m\u001b[0m\u001b[0m\n\u001b[1;32m      2\u001b[0m \u001b[0mratio_A\u001b[0m \u001b[0;34m=\u001b[0m \u001b[0;34m[\u001b[0m\u001b[0;36m0.15\u001b[0m\u001b[0;34m,\u001b[0m \u001b[0;36m0.15\u001b[0m\u001b[0;34m,\u001b[0m \u001b[0;36m0.15\u001b[0m\u001b[0;34m,\u001b[0m \u001b[0;36m0.15\u001b[0m\u001b[0;34m,\u001b[0m \u001b[0;36m0.15\u001b[0m\u001b[0;34m,\u001b[0m \u001b[0;36m0.5\u001b[0m\u001b[0;34m,\u001b[0m \u001b[0;36m0.5\u001b[0m\u001b[0;34m,\u001b[0m \u001b[0;36m0.5\u001b[0m\u001b[0;34m,\u001b[0m \u001b[0;36m0.5\u001b[0m\u001b[0;34m,\u001b[0m \u001b[0;36m0.5\u001b[0m\u001b[0;34m]\u001b[0m\u001b[0;34m\u001b[0m\u001b[0;34m\u001b[0m\u001b[0m\n\u001b[0;32m----> 3\u001b[0;31m \u001b[0mdataset_A\u001b[0m \u001b[0;34m=\u001b[0m \u001b[0mMNISTDataset\u001b[0m\u001b[0;34m(\u001b[0m\u001b[0mratio\u001b[0m\u001b[0;34m=\u001b[0m\u001b[0mratio_A\u001b[0m\u001b[0;34m)\u001b[0m\u001b[0;34m\u001b[0m\u001b[0;34m\u001b[0m\u001b[0m\n\u001b[0m\u001b[1;32m      4\u001b[0m \u001b[0mdataloader_A\u001b[0m \u001b[0;34m=\u001b[0m \u001b[0mDataLoader\u001b[0m\u001b[0;34m(\u001b[0m\u001b[0mdataset_A\u001b[0m\u001b[0;34m,\u001b[0m \u001b[0mbatch_size\u001b[0m\u001b[0;34m=\u001b[0m\u001b[0;36m256\u001b[0m\u001b[0;34m,\u001b[0m \u001b[0mshuffle\u001b[0m\u001b[0;34m=\u001b[0m\u001b[0;32mTrue\u001b[0m\u001b[0;34m)\u001b[0m\u001b[0;34m\u001b[0m\u001b[0;34m\u001b[0m\u001b[0m\n\u001b[1;32m      5\u001b[0m \u001b[0;34m\u001b[0m\u001b[0m\n",
      "\u001b[0;31mNameError\u001b[0m: name 'MNISTDataset' is not defined"
     ]
    }
   ],
   "source": [
    "# Settings for domain A (red)\n",
    "ratio_A = [0.15, 0.15, 0.15, 0.15, 0.15, 0.5, 0.5, 0.5, 0.5, 0.5]\n",
    "dataset_A = MNISTDataset(ratio=ratio_A)\n",
    "dataloader_A = DataLoader(dataset_A, batch_size=256, shuffle=True)\n",
    "\n",
    "# Settings for domain B (green)\n",
    "ratio_B = [0.1, 0.1, 0.1, 0.1, 0.1, 0.1, 0.1, 0.1, 0.1, 0.1]\n",
    "dataset_B = MNISTDataset(ratio=ratio_B)\n",
    "dataloader_B = DataLoader(dataset_B, batch_size=256, shuffle=True)\n",
    "\n",
    "visualize_MNIST_img_batch(dataset_A.example_imgs.cpu())\n",
    "visualize_MNIST_img_batch(dataset_B.example_imgs.cpu())\n",
    "\n",
    "print(len(dataset_A))\n",
    "print(len(dataset_B))"
   ]
  },
  {
   "cell_type": "code",
   "execution_count": 8,
   "metadata": {
    "colab": {
     "base_uri": "https://localhost:8080/",
     "height": 1000
    },
    "id": "hlPSWnigJaMi",
    "outputId": "f3757bdb-9ae4-45aa-c37b-074eb5e8b029"
   },
   "outputs": [
    {
     "name": "stdout",
     "output_type": "stream",
     "text": [
      "*** Batches distribution plot***\n"
     ]
    },
    {
     "data": {
      "image/png": "[encoded data removed]",
      "text/plain": [
       "<Figure size 432x288 with 1 Axes>"
      ]
     },
     "metadata": {
      "needs_background": "light",
      "tags": []
     },
     "output_type": "display_data"
    },
    {
     "data": {
      "image/png": "[encoded data removed]",
      "text/plain": [
       "<Figure size 432x288 with 1 Axes>"
      ]
     },
     "metadata": {
      "needs_background": "light",
      "tags": []
     },
     "output_type": "display_data"
    },
    {
     "name": "stdout",
     "output_type": "stream",
     "text": [
      "*** batch ***\n",
      "Batch dim:256\n",
      "0 :11\n",
      "1 :6\n",
      "2 :12\n",
      "3 :14\n",
      "4 :13\n",
      "5 :36\n",
      "6 :33\n",
      "7 :37\n",
      "8 :41\n",
      "9 :53\n"
     ]
    },
    {
     "name": "stderr",
     "output_type": "stream",
     "text": [
      "/usr/local/lib/python3.6/dist-packages/ipykernel_launcher.py:21: UserWarning: To copy construct from a tensor, it is recommended to use sourceTensor.clone().detach() or sourceTensor.clone().detach().requires_grad_(True), rather than torch.tensor(sourceTensor).\n"
     ]
    },
    {
     "name": "stdout",
     "output_type": "stream",
     "text": [
      " 2 7 8 2 0 6 5 9\n",
      " 8 9 9 5 5 9 3 7\n",
      " 9 7 1 6 2 3 9 5\n",
      " 1 9 2 4 9 0 9 5\n",
      " 4 9 8 9 9 9 9 9\n",
      " 9 9 5 1 8 6 7 5\n",
      " 3 9 5 7 9 7 5 9\n",
      " 6 6 6 9 0 2 8 6\n",
      "*** batch ***\n",
      "Batch dim:256\n",
      "0 :15\n",
      "1 :33\n",
      "2 :22\n",
      "3 :28\n",
      "4 :21\n",
      "5 :21\n",
      "6 :19\n",
      "7 :31\n",
      "8 :28\n",
      "9 :38\n",
      " 0 4 9 3 6 7 6 1\n",
      " 4 3 3 5 7 9 2 7\n",
      " 9 5 1 8 5 6 9 4\n",
      " 3 2 1 3 1 4 9 2\n",
      " 8 9 8 4 1 3 5 7\n",
      " 8 4 1 0 7 3 7 7\n",
      " 2 0 1 4 5 8 6 9\n",
      " 3 2 4 4 7 7 1 8\n"
     ]
    }
   ],
   "source": [
    "import cv2\n",
    "\n",
    "def plot_hist(data):\n",
    "    data = data.squeeze().cpu()\n",
    "   \n",
    "    legend = []\n",
    "    for label in range(10):\n",
    "      plt.hist(data[data==label], weights=torch.ones(len(data[data==label]))/len(data), \n",
    "             color='black', bins=20, range= (0, 10), alpha=0.5)\n",
    "      legend = legend + ['Imgs for label {}'.format(label)]\n",
    "    #plt.legend(legend)\n",
    "    #plt.gca().set_facecolor('xkcd:gray')\n",
    "    x_unique_count = torch.stack([(data==x_u).sum() for x_u in data.unique()])\n",
    "    plt.show()\n",
    "\n",
    "for i, (data_A, data_B) in enumerate(zip(dataloader_A, dataloader_B)):\n",
    "    labs_A = data_A[1].double()\n",
    "    labs_B = data_B[1].double()\n",
    "\n",
    "    print('*** Batches distribution plot***')\n",
    "    plot_hist(labs_A)\n",
    "    plot_hist(labs_B)\n",
    "    \n",
    "    visualize_img_batch(labs_A)\n",
    "    visualize_img_batch(labs_B)\n",
    "    #visualize_img_batch(torch.tensor(labs_A[:64]).unsqueeze(1).cuda())\n",
    "    #visualize_img_batch(torch.tensor(labs_B[:64]).unsqueeze(1).cuda())\n",
    "\n",
    "    break"
   ]
  },
  {
   "cell_type": "code",
   "execution_count": 11,
   "metadata": {
    "id": "Xzr1OIyoJaMl"
   },
   "outputs": [],
   "source": [
    "class WeightNet(nn.Module):\n",
    "    '''A simple network that predicts the importances of the samples'''\n",
    "\n",
    "    def __init__(self):\n",
    "        super(WeightNet, self).__init__()\n",
    "#        self.fc1 = nn.Linear(1, 1)\n",
    "#        self.fc2 = nn.Linear(1, 1)\n",
    "        self.softmax = nn.Softmax(dim=0)\n",
    "\n",
    "        self.conv1 = nn.Conv2d(1, 10, kernel_size=5)\n",
    "        self.conv2 = nn.Conv2d(10, 20, kernel_size=5)\n",
    "        self.fc1 = nn.Linear(320, 40)\n",
    "        self.fc2 = nn.Linear(40, 1)\n",
    "        \n",
    "    def forward(self, x):\n",
    "        x = torch.sigmoid(F.max_pool2d(self.conv1(x), 2))\n",
    "        x = torch.sigmoid(F.max_pool2d(self.conv2(x), 2))\n",
    "        x = x.view(-1, 320)\n",
    "        x = torch.sigmoid(self.fc1(x))\n",
    "        x = self.fc2(x)\n",
    "        return self.softmax(x), x\n"
   ]
  },
  {
   "cell_type": "markdown",
   "metadata": {
    "id": "dgjgLzF-dXVQ"
   },
   "source": [
    "####Compute the average & variance of assigned weights, for each number, in the batches"
   ]
  },
  {
   "cell_type": "code",
   "execution_count": 12,
   "metadata": {
    "id": "6b-3WsGUdVvC"
   },
   "outputs": [],
   "source": [
    "# compute the average weight/importance assigned to images in the batches, and the variance\n",
    "\n",
    "import collections\n",
    "\n",
    "def compute_average_prob(weight_network):\n",
    "    weights_total = collections.defaultdict(torch.tensor)\n",
    "    weights_mean = collections.defaultdict(float)\n",
    "    weights_var = collections.defaultdict(float)\n",
    "    mean_weight_batch = collections.defaultdict(float)\n",
    "    ratio01s = []\n",
    "    unnorm_weights_batch_list = collections.defaultdict(torch.tensor)\n",
    "    \n",
    "    for i, (batch_A, batch_B) in enumerate(zip(dataloader_A, dataloader_B)):\n",
    "\n",
    "        real_A = batch_A[0].cuda()\n",
    "        labels_A = batch_A[1].cuda()\n",
    "        weights_batch, unnorm_weights_batch = weight_network(real_A)\n",
    "\n",
    "        possible_labels, _ = torch.unique(labels_A).sort()\n",
    "        for l in possible_labels:\n",
    "            indices_with_label_l = labels_A == l.item()\n",
    "            if l not in weights_total.keys():\n",
    "              weights_total[l.item()] = weights_batch[indices_with_label_l]\n",
    "            else:\n",
    "              torch.cat((weights_total[l.item()], weights_batch[indices_with_label_l]), 0)\n",
    "            \n",
    "            mean_weight_batch[l.item()] = weights_batch[indices_with_label_l].mean().item() # mean weight assigned to '0' and '1' for each batch: p('0',batch_i) and p('1',batch_i)\n",
    "\n",
    "            if l not in weights_total.keys():\n",
    "              unnorm_weights_batch_list[l.item()] = torch.exp(unnorm_weights_batch[indices_with_label_l])\n",
    "            else:\n",
    "              torch.cat((unnorm_weights_batch_list[l.item()], torch.exp(unnorm_weights_batch[indices_with_label_l])), 0) #all w_i for all i that are '0', lets call this list_0; the same for '1', lets call it list_1\n",
    "\n",
    "        #NOTE: +1 added to numerator and denominator because mean_weight_batch[1] was 0 for some batches (when using multilabel setting)\n",
    "        ratio01s += [(mean_weight_batch[0]+1) / (mean_weight_batch[1]+1)] # ratio q(batch_i) = p('0',batch_i)/p('1',batch_i)\n",
    "        \n",
    "    for key in weights_total.keys():\n",
    "        weights_mean[key] = weights_total[key].mean().item()\n",
    "        weights_var[key] = weights_total[key].var().item()\n",
    "    \n",
    "    ratio01 = torch.tensor(ratio01s).mean().item() # average over all q(batch_i)\n",
    "\n",
    "    unnorm_ratio01 = torch.tensor(unnorm_weights_batch_list[0]).mean().item() / torch.tensor(unnorm_weights_batch_list[1]).mean().item() # average over list_0, and independently over list_1, and take the quotient\n",
    "\n",
    "    return weights_mean, weights_var, ratio01, unnorm_ratio01\n",
    "\n",
    "#compute_average_prob(weight_network)"
   ]
  },
  {
   "cell_type": "markdown",
   "metadata": {
    "id": "fdKLeyC-gW1T"
   },
   "source": [
    "### Different functions for f"
   ]
  },
  {
   "cell_type": "code",
   "execution_count": 13,
   "metadata": {
    "id": "Ir9JAHeIP0UM"
   },
   "outputs": [],
   "source": [
    "def f_0(labels_A, labels_B, w):\n",
    "   '''f = label of the image '''\n",
    "\n",
    "   L_A  = (labels_A.view(-1) * weight_normalization(w).view(-1)).sum()\n",
    "   L_B = (labels_B.float()).mean()\n",
    "\n",
    "   return L_A, L_B"
   ]
  },
  {
   "cell_type": "code",
   "execution_count": 14,
   "metadata": {
    "id": "m730JSP6F2f8"
   },
   "outputs": [],
   "source": [
    "def f_1(real_A, real_B, w):\n",
    "   '''f = mean of each image '''\n",
    "\n",
    "   L_A  = (torch.mean(real_A, dim=[2,3]).view(-1) * weight_normalization(w).view(-1)).sum()\n",
    "   L_B = (torch.mean(real_B, dim=[2,3])).mean()\n",
    "\n",
    "   return L_A, L_B"
   ]
  },
  {
   "cell_type": "code",
   "execution_count": 15,
   "metadata": {
    "id": "kqc3yOaWGjn2"
   },
   "outputs": [],
   "source": [
    "def f_2(real_A, real_B, w):\n",
    "   '''f = image itself; each image is weighted, and the sum across all images is computed '''\n",
    "\n",
    "   L_A  = (real_A * weight_normalization(w).repeat(28,28,1,1).permute(2,3,0,1)).sum()\n",
    "   L_B = (real_B).mean()\n",
    "\n",
    "   return L_A, L_B"
   ]
  },
  {
   "cell_type": "code",
   "execution_count": 16,
   "metadata": {
    "id": "DoSZF7pKAUlg"
   },
   "outputs": [],
   "source": [
    "class f_Net_2cl2fcl(nn.Module):\n",
    "    ''' NN with 2 convolutional layers and fully connected layers'''\n",
    "\n",
    "    def __init__(self):\n",
    "        super(f_Net_2cl2fcl, self).__init__()\n",
    "        self.softmax = nn.Softmax(dim=0)\n",
    "\n",
    "        self.conv1 = nn.Conv2d(1, 4, kernel_size=5, stride = 2)\n",
    "        self.conv2 = nn.Conv2d(4, 8, kernel_size=5, stride = 2)\n",
    "        self.fc1 = nn.Linear(128, 36)\n",
    "        self.fc2 = nn.Linear(36, 1)\n",
    "\n",
    "        # randomly initialize the network\n",
    "        nn.init.uniform_(self.conv1.weight)\n",
    "        nn.init.uniform_(self.conv2.weight)\n",
    "        nn.init.uniform_(self.fc1.weight)\n",
    "        nn.init.uniform_(self.fc2.weight)\n",
    "\n",
    "        # freezes the network (does not update the weights in Grad Desc.)\n",
    "        for param in self.parameters():\n",
    "           param.requires_grad = False\n",
    "        \n",
    "    def forward(self, x):\n",
    "        cl1 = torch.sigmoid(self.conv1(x))\n",
    "        cl2 = torch.sigmoid(self.conv2(cl1))\n",
    "        cl2 = cl2.view(-1, 128)\n",
    "        fc1 = torch.sigmoid(self.fc1(cl2))\n",
    "        fc2 = self.fc2(fc1)\n",
    "        fc2 = fc2.squeeze()\n",
    "\n",
    "        # outputs a dictionary\n",
    "        out = {}\n",
    "        out['cl1'] = cl1.view(-1, 576) # hidden variables\n",
    "        out['cl2'] = cl2 # hidden variables\n",
    "        out['fc1'] = fc1 # hidden variables\n",
    "        out['out'] = fc2 # output\n",
    "        \n",
    "        return out"
   ]
  },
  {
   "cell_type": "code",
   "execution_count": 17,
   "metadata": {
    "id": "5WlmXFvi4Yxv"
   },
   "outputs": [],
   "source": [
    "class f_Net_1cl1fcl(nn.Module):\n",
    "    ''' NN with 1 convolutional layer and 1 fully connected layer'''\n",
    "\n",
    "    def __init__(self):\n",
    "        super(f_Net_1cl1fcl, self).__init__()\n",
    "\n",
    "        self.conv1 = nn.Conv2d(1, 4, kernel_size=5, stride = 4)\n",
    "        self.fc2 = nn.Linear(144, 1)\n",
    "\n",
    "        # randomly initialize the network\n",
    "        nn.init.uniform_(self.conv1.weight)\n",
    "        nn.init.uniform_(self.fc2.weight)\n",
    "\n",
    "        # freezes the network (does not update the weights in Grad Desc.)\n",
    "        for param in self.parameters():\n",
    "           param.requires_grad = False\n",
    "        \n",
    "    def forward(self, x):\n",
    "        cl1 = torch.sigmoid(self.conv1(x))\n",
    "        cl1 = cl1.view(-1, 144)\n",
    "        fc2 = torch.sigmoid(self.fc2(cl1))\n",
    "        fc2 = fc2.squeeze()\n",
    "\n",
    "        # outputs a dictionary\n",
    "        out = {}\n",
    "        out['cl1'] = cl1 # hidden variables\n",
    "        out['out'] = fc2 # output\n",
    "        \n",
    "        return out"
   ]
  },
  {
   "cell_type": "code",
   "execution_count": 18,
   "metadata": {
    "id": "GBpX05Qj0YDJ"
   },
   "outputs": [],
   "source": [
    "class f_Net_4fcl(nn.Module):\n",
    "    ''' NN with 4 fully connected layers'''\n",
    "\n",
    "    def __init__(self):\n",
    "        super(f_Net_4fcl, self).__init__()\n",
    "\n",
    "        self.fc1 = nn.Linear(784, 392)\n",
    "        self.fc2 = nn.Linear(392, 128)\n",
    "        self.fc3 = nn.Linear(128, 36)\n",
    "        self.fc4 = nn.Linear(36, 1)\n",
    "\n",
    "        # randomly initialize the network\n",
    "        nn.init.uniform_(self.fc1.weight)\n",
    "        nn.init.uniform_(self.fc2.weight)\n",
    "        nn.init.uniform_(self.fc3.weight)\n",
    "        nn.init.uniform_(self.fc4.weight)\n",
    "\n",
    "        # freezes the network (does not update the weights in Grad Desc.)\n",
    "        for param in self.parameters():\n",
    "           param.requires_grad = False\n",
    "        \n",
    "    def forward(self, x):\n",
    "        x = x.view(-1, 784)\n",
    "        fc1 = torch.sigmoid(self.fc1(x))\n",
    "        fc2 = torch.sigmoid(self.fc2(fc1))\n",
    "        fc3 = torch.sigmoid(self.fc3(fc2))\n",
    "        fc4 = torch.sigmoid(self.fc4(fc3))\n",
    "        fc4 = fc4.squeeze()\n",
    "\n",
    "        # outputs a dictionary\n",
    "        out = {}\n",
    "        out['fc1'] = fc1 # hidden variables\n",
    "        out['fc2'] = fc2 # hidden variables\n",
    "        out['fc3'] = fc3 # hidden variables\n",
    "        out['out'] = fc4 # output\n",
    "        \n",
    "        return out"
   ]
  },
  {
   "cell_type": "code",
   "execution_count": 19,
   "metadata": {
    "id": "wh5uX7Pv36UR"
   },
   "outputs": [],
   "source": [
    "class f_Net_3fcl(nn.Module):\n",
    "    ''' NN with 3 fully connected layers'''\n",
    "\n",
    "    def __init__(self):\n",
    "        super(f_Net_3fcl, self).__init__()\n",
    "\n",
    "        self.fc1 = nn.Linear(784, 392)\n",
    "        self.fc2 = nn.Linear(392, 36)\n",
    "        self.fc4 = nn.Linear(36, 1)\n",
    "\n",
    "        # randomly initialize the network\n",
    "        nn.init.uniform_(self.fc1.weight)\n",
    "        nn.init.uniform_(self.fc2.weight)\n",
    "        nn.init.uniform_(self.fc4.weight)\n",
    "\n",
    "        # freezes the network (does not update the weights in Grad Desc.)\n",
    "        for param in self.parameters():\n",
    "           param.requires_grad = False\n",
    "        \n",
    "    def forward(self, x):\n",
    "        x = x.view(-1, 784)\n",
    "        fc1 = torch.sigmoid(self.fc1(x))\n",
    "        fc2 = torch.sigmoid(self.fc2(fc1))\n",
    "        fc3 = torch.sigmoid(self.fc4(fc2))\n",
    "        fc3 = fc3.squeeze()\n",
    "\n",
    "        # outputs a dictionary\n",
    "        out = {}\n",
    "        out['fc1'] = fc1 # hidden variables\n",
    "        out['fc2'] = fc2 # hidden variables\n",
    "        out['out'] = fc3 # output\n",
    "\n",
    "        return out"
   ]
  },
  {
   "cell_type": "code",
   "execution_count": 20,
   "metadata": {
    "id": "F9PtHER_3UxF"
   },
   "outputs": [],
   "source": [
    "class f_Net_2fcl(nn.Module):\n",
    "    ''' NN with 2 fully connected layers'''\n",
    "\n",
    "    def __init__(self):\n",
    "        super(f_Net_2fcl, self).__init__()\n",
    "\n",
    "        self.fc1 = nn.Linear(784, 36)\n",
    "        self.fc4 = nn.Linear(36, 1)\n",
    "\n",
    "        # randomly initialize the network\n",
    "        nn.init.uniform_(self.fc1.weight)\n",
    "        nn.init.uniform_(self.fc4.weight)\n",
    "\n",
    "        # freezes the network (does not update the weights in Grad Desc.)\n",
    "        for param in self.parameters():\n",
    "           param.requires_grad = False\n",
    "        \n",
    "    def forward(self, x):\n",
    "        x = x.view(-1, 784)\n",
    "        fc1 = torch.sigmoid(self.fc1(x))\n",
    "        fc2 = torch.sigmoid(self.fc4(fc1))\n",
    "        fc2 = fc2.squeeze()\n",
    "\n",
    "        # outputs a dictionary\n",
    "        out = {}\n",
    "        out['fc1'] = fc1 # hidden variables\n",
    "        out['out'] = fc2 # output\n",
    "        \n",
    "        return out"
   ]
  },
  {
   "cell_type": "code",
   "execution_count": 21,
   "metadata": {
    "id": "j8D5qMMvztu3"
   },
   "outputs": [],
   "source": [
    "class f_Net_1fcl(nn.Module):\n",
    "    ''' NN with 1 fully connected layer'''\n",
    "\n",
    "    def __init__(self):\n",
    "        super(f_Net_1fcl, self).__init__()\n",
    "\n",
    "        self.fc1 = nn.Linear(784, 1)\n",
    "\n",
    "        # randomly initialize the network\n",
    "        nn.init.uniform_(self.fc1.weight)\n",
    "\n",
    "        # freezes the network (does not update the weights in Grad Desc.)\n",
    "        for param in self.parameters():\n",
    "           param.requires_grad = False\n",
    "        \n",
    "    def forward(self, x):\n",
    "        x = x.view(-1, 784)\n",
    "        x = torch.sigmoid(self.fc1(x))\n",
    "        x = x.squeeze()\n",
    "\n",
    "        # outputs a dictionary\n",
    "        out = {}\n",
    "        out['out'] = x # output\n",
    "        \n",
    "        return out"
   ]
  },
  {
   "cell_type": "code",
   "execution_count": 22,
   "metadata": {
    "id": "gWBMdehBHJw4"
   },
   "outputs": [],
   "source": [
    "def f_3(real_A, real_b, w):\n",
    "   '''f = output of a fixed (not-trained and randomly initialized) NN for the image'''\n",
    "   \n",
    "   ''' Architectures that work: '''\n",
    "   #f=f_Net_1fcl().cuda() # 1 fcl\n",
    "   #f=f_Net_2fcl().cuda() # 2 fcl\n",
    "\n",
    "   ''' Architectures that do not work: '''\n",
    "   #f=f_Net_1cl1fcl().cuda() # 1 cl 1 fcl  \n",
    "   #f=f_Net_3fcl().cuda() # 3 fcl\n",
    "   #f=f_Net_4fcl().cuda() # 4 fcl\n",
    "   #f=f_Net_2cl2fcl().cuda() # 2 cl 2 fcl\n",
    "   \n",
    "   \n",
    "   L_A  = (f(real_A)['out'].detach().view(-1) * weight_normalization(w).view(-1)).sum()\n",
    "   L_B = (f(real_B)['out'].detach()).mean()\n",
    "\n",
    "   return L_A, L_B"
   ]
  },
  {
   "cell_type": "code",
   "execution_count": 23,
   "metadata": {
    "id": "CbjruuOQhFx9"
   },
   "outputs": [],
   "source": [
    "def f_4(real_A, real_b, w):\n",
    "   '''f = hidden values of a fixed (not-trained and randomly initialized) NN for the image'''\n",
    "   \n",
    "   ''' Architectures that work: '''\n",
    "   #f=f_Net_1fcl().cuda() # 1 fcl\n",
    "   #f=f_Net_2fcl().cuda() # 2 fcl\n",
    "\n",
    "   ''' Architectures that do not always work: '''\n",
    "   f=f_Net_3fcl().cuda() # 3 fcl : works for f = fc1 or fc2, doesn't work for f = out\n",
    "   #f=f_Net_4fcl().cuda() # 4 fcl : works for f = fc1 or fc2, doesn't work for f = fc3 or out\n",
    "   #f=f_Net_1cl1fcl().cuda() # 1 cl 1 fcl : works for f = cl1, doesn't work for f = out   \n",
    "   #f=f_Net_2cl2fcl().cuda() # 2 cl 2 fcl : works for f = cl1 or cl2, doesn't work for f = fc1 or out\n",
    "\n",
    "   ''' Choose which part of the NN to use as f (output or any hidden variable) by selecting the correct entry in the dictionary output of the NN '''\n",
    "   f_A = f(real_A)['fc1']\n",
    "   if len(list(f_A.shape)) == 1:\n",
    "     weights = weight_normalization(w).view(-1)\n",
    "   else:\n",
    "     dim = torch.cat([torch.tensor([1]), torch.tensor(f_A.shape[1:]).long()], dim = 0)\n",
    "     weights = weight_normalization(w).repeat(tuple(dim))\n",
    "   f_B = f(real_B)['fc1']\n",
    "   \n",
    "   L_A  = (f_A.detach() * weights).sum(dim = 0) # if f is a hidden variable, L_A and L_B are tensors, hence the sum(dim = 0)\n",
    "   L_B = (f_B.detach()).mean(dim = 0)\n",
    "\n",
    "   return L_A, L_B"
   ]
  },
  {
   "cell_type": "markdown",
   "metadata": {
    "id": "91qakA8cgoKn"
   },
   "source": [
    "### Training"
   ]
  },
  {
   "cell_type": "code",
   "execution_count": 24,
   "metadata": {
    "id": "6W7yop--4E5R"
   },
   "outputs": [],
   "source": [
    "class WeightNet(nn.Module):\n",
    "    '''A simple network that predicts the importances of the samples'''\n",
    "\n",
    "    def __init__(self):\n",
    "        super(WeightNet, self).__init__()\n",
    "        self.softmax = nn.Softmax(dim=0)\n",
    "\n",
    "        self.conv1 = nn.Conv2d(1, 10, kernel_size=5)\n",
    "        self.conv2 = nn.Conv2d(10, 20, kernel_size=5)\n",
    "        self.fc1 = nn.Linear(320, 40)\n",
    "        self.fc2 = nn.Linear(40, 1)\n",
    "        \n",
    "    def forward(self, x):\n",
    "        x = torch.sigmoid(F.max_pool2d(self.conv1(x), 2))\n",
    "        x = torch.sigmoid(F.max_pool2d(self.conv2(x), 2))\n",
    "        x = x.view(-1, 320)\n",
    "        x = torch.sigmoid(self.fc1(x))\n",
    "        x = self.fc2(x)\n",
    "        return self.softmax(x), x\n",
    "\n",
    "class WeightNet_not(nn.Module):\n",
    "    def __init__(self):\n",
    "        super(WeightNet, self).__init__()\n",
    "        self.conv1 = nn.Conv2d(1, 10, kernel_size=5)\n",
    "        self.conv2 = nn.Conv2d(10, 20, kernel_size=5)\n",
    "        self.conv2_drop = nn.Dropout2d()\n",
    "        self.fc1 = nn.Linear(320, 50)\n",
    "        self.fc2 = nn.Linear(50, 1)\n",
    "\n",
    "        self.softmax = nn.Softmax(dim=0)\n",
    "\n",
    "    def forward(self, x):\n",
    "        x = torch.sigmoid(F.max_pool2d(self.conv1(x), 2))\n",
    "        x = torch.sigmoid(F.max_pool2d(self.conv2(x), 2))\n",
    "        x = x.view(-1, 320)\n",
    "        x = torch.sigmoid(self.fc1(x))\n",
    "        #x = F.dropout(x, training=self.training)\n",
    "        x = self.fc2(x)\n",
    "        return self.softmax(x), x\n",
    "\n",
    "class WeightNet_not_2(nn.Module):\n",
    "    def __init__(self):\n",
    "        super(WeightNet, self).__init__()\n",
    "        self.conv1 = nn.Conv2d(1, 10, kernel_size=5)\n",
    "        self.conv2 = nn.Conv2d(10, 20, kernel_size=5)\n",
    "        self.conv2_drop = nn.Dropout2d()\n",
    "        self.fc1 = nn.Linear(320, 50)\n",
    "        self.fc2 = nn.Linear(50, 1)\n",
    "\n",
    "    def forward(self, x):\n",
    "        x = F.relu(F.max_pool2d(self.conv1(x), 2))\n",
    "        x = F.relu(F.max_pool2d(self.conv2(x), 2))\n",
    "        x = x.view(-1, 320)\n",
    "        x = F.relu(self.fc1(x))\n",
    "        #x = F.dropout(x, training=self.training)\n",
    "        x = self.fc2(x)\n",
    "        return F.log_softmax(x), x"
   ]
  },
  {
   "cell_type": "code",
   "execution_count": 25,
   "metadata": {
    "colab": {
     "base_uri": "https://localhost:8080/",
     "height": 118
    },
    "id": "mzq2m9j-JaMp",
    "outputId": "f1ebe26f-d3cc-4e9b-ed44-aecf91590ecf"
   },
   "outputs": [
    {
     "ename": "NameError",
     "evalue": "name 'dataloader_A' is not defined",
     "output_type": "error",
     "traceback": [
      "\u001b[0;31m---------------------------------------------------------------------------\u001b[0m",
      "\u001b[0;31mNameError\u001b[0m                                 Traceback (most recent call last)",
      "\u001b[0;32m<ipython-input-25-1d587e53fd4b>\u001b[0m in \u001b[0;36m<module>\u001b[0;34m\u001b[0m\n\u001b[1;32m     27\u001b[0m \u001b[0;34m\u001b[0m\u001b[0m\n\u001b[1;32m     28\u001b[0m \u001b[0;32mfor\u001b[0m \u001b[0mepoch\u001b[0m \u001b[0;32min\u001b[0m \u001b[0mrange\u001b[0m\u001b[0;34m(\u001b[0m\u001b[0;36m1\u001b[0m\u001b[0;34m)\u001b[0m\u001b[0;34m:\u001b[0m\u001b[0;34m\u001b[0m\u001b[0;34m\u001b[0m\u001b[0m\n\u001b[0;32m---> 29\u001b[0;31m     \u001b[0;32mfor\u001b[0m \u001b[0mi\u001b[0m\u001b[0;34m,\u001b[0m \u001b[0;34m(\u001b[0m\u001b[0mbatch_A\u001b[0m\u001b[0;34m,\u001b[0m \u001b[0mbatch_B\u001b[0m\u001b[0;34m)\u001b[0m \u001b[0;32min\u001b[0m \u001b[0menumerate\u001b[0m\u001b[0;34m(\u001b[0m\u001b[0mzip\u001b[0m\u001b[0;34m(\u001b[0m\u001b[0mdataloader_A\u001b[0m\u001b[0;34m,\u001b[0m \u001b[0mdataloader_B\u001b[0m\u001b[0;34m)\u001b[0m\u001b[0;34m)\u001b[0m\u001b[0;34m:\u001b[0m\u001b[0;34m\u001b[0m\u001b[0;34m\u001b[0m\u001b[0m\n\u001b[0m\u001b[1;32m     30\u001b[0m \u001b[0;34m\u001b[0m\u001b[0m\n\u001b[1;32m     31\u001b[0m         \u001b[0mreal_A\u001b[0m \u001b[0;34m=\u001b[0m \u001b[0mbatch_A\u001b[0m\u001b[0;34m[\u001b[0m\u001b[0;36m0\u001b[0m\u001b[0;34m]\u001b[0m\u001b[0;34m.\u001b[0m\u001b[0mcuda\u001b[0m\u001b[0;34m(\u001b[0m\u001b[0;34m)\u001b[0m\u001b[0;34m\u001b[0m\u001b[0;34m\u001b[0m\u001b[0m\n",
      "\u001b[0;31mNameError\u001b[0m: name 'dataloader_A' is not defined"
     ]
    }
   ],
   "source": [
    "# Initialize the networks\n",
    "weight_network = WeightNet().cuda()\n",
    "\n",
    "# Initialize the optimizers\n",
    "lr = 0.001\n",
    "optimizer_w = optim.Adam(weight_network.parameters(), lr=lr)\n",
    "\n",
    "losses_w = []\n",
    "\n",
    "mean_A = []\n",
    "mean_B = []\n",
    "\n",
    "L_As = []\n",
    "L_Bs = []\n",
    "\n",
    "example_importances_A = []\n",
    "example_importances_B = []\n",
    "\n",
    "w_means = collections.defaultdict(list)\n",
    "w_vars = collections.defaultdict(list)\n",
    "ratio01s = []\n",
    "unnorm_ratio01s = []\n",
    "\n",
    "def weight_normalization(w):\n",
    "    return w\n",
    "#    return 0.5*(1 + w)\n",
    "\n",
    "for epoch in range(1):\n",
    "    for i, (batch_A, batch_B) in enumerate(zip(dataloader_A, dataloader_B)):\n",
    "\n",
    "        real_A = batch_A[0].cuda()\n",
    "        real_B = batch_B[0].cuda()\n",
    "        labels_A = batch_A[1].cuda()\n",
    "        labels_B = batch_B[1].cuda()\n",
    "\n",
    "        # The weighting process\n",
    "        w, unnorm_w = weight_network(real_A)\n",
    "    \n",
    "        # The loss function --------------------------------------------------------------------------------\n",
    "        \n",
    "        # Using f as objective function\n",
    "        L_A, L_B = f_0(labels_A, labels_B, w)\n",
    "        #L_A, L_B = f_1(real_A, real_B, w)\n",
    "        #L_A, L_B = f_2(real_A, real_B, w)\n",
    "        #L_A, L_B = f_3(real_A, real_B, w)\n",
    "        #L_A, L_B = f_4(real_A, real_B, w)\n",
    "        \n",
    "        loss_w = ((L_A - L_B)**2).sum() # if f is a hidden variable, L_A and L_B are tensors, hence the sum() after the square\n",
    "        \n",
    "        mean_A += [real_A.mean()]\n",
    "        mean_B += [real_B.mean()]\n",
    "\n",
    "        # ---------------------------------------------------------------------------------------------------\n",
    "\n",
    "        # Backward\n",
    "        optimizer_w.zero_grad()\n",
    "        loss_w.backward()\n",
    "        optimizer_w.step()   \n",
    "\n",
    "        # Store values --------------------------------------------------------------------------------------\n",
    "        L_As += [L_A.sum().item()] # if f is a hidden variable, L_A and L_B are tensors, hence the sum()\n",
    "        L_Bs += [L_B.sum().item()]\n",
    "        \n",
    "        losses_w += [loss_w.item()]\n",
    "        \n",
    "        w_a = weight_normalization((weight_network(dataset_A.example_imgs.float().unsqueeze(1).cuda())[0]))\n",
    "        example_importances_A += [(w_a[0].item(), w_a[1].item(), w_a[2].item(), w_a[3].item(), w_a[4].item(), w_a[5].item(), w_a[6].item(), w_a[7].item(), w_a[8].item(), w_a[9].item())] # Store examples in a list\n",
    "        \n",
    "\n",
    "        if i % 20 == 0: # compute avg and var every 20 steps because it's quite slow\n",
    "          mean, var, ratio01, unnorm_ratio01 = compute_average_prob(weight_network)\n",
    "          for key in mean.keys():\n",
    "            if (key not in w_means.keys()):\n",
    "              w_means[key] = []\n",
    "              w_vars[key] = [] \n",
    "            w_means[key] += [mean[key]]\n",
    "            w_vars[key] += [var[key]]\n",
    "          ratio01s += [ratio01]\n",
    "          unnorm_ratio01s += [unnorm_ratio01]\n",
    "\n",
    "        # ---------------------------------------------------------------------------------------------------\n",
    "\n",
    "        # Print statistics\n",
    "        if i % 20 == 0:\n",
    "            print('epoch', epoch, 'step', i, 'loss_w: ', loss_w.item())\n",
    "            \n",
    "        if i % 5000 == 0 and i != 0:\n",
    "            break"
   ]
  },
  {
   "cell_type": "markdown",
   "metadata": {
    "id": "Ca1lkKpLRuFG"
   },
   "source": [
    "###Results"
   ]
  },
  {
   "cell_type": "markdown",
   "metadata": {
    "id": "lMaddksAZudR"
   },
   "source": [
    "####Average & variance of assignedweights, for each number, in the batches"
   ]
  },
  {
   "cell_type": "code",
   "execution_count": null,
   "metadata": {
    "colab": {
     "base_uri": "https://localhost:8080/",
     "height": 118
    },
    "id": "pg4UL43FOX3L",
    "outputId": "e3d1c28c-5e1e-45dc-9cf7-ca8285d0a7e9"
   },
   "outputs": [],
   "source": [
    "# compute the average weight/importance assigned to images in the batches, and the variance\n",
    "\n",
    "mean, var, ratio01, unnorm_ratio01 = compute_average_prob(weight_network)\n",
    "\n",
    "# print stats\n",
    "print(\"Means: \", mean)\n",
    "print(\"Variance: \", var)\n",
    "print(\"Ratio01: \", ratio01)\n",
    "print(\"Not normalized ratio01: \", unnorm_ratio01)"
   ]
  },
  {
   "cell_type": "code",
   "execution_count": null,
   "metadata": {
    "colab": {
     "base_uri": "https://localhost:8080/",
     "height": 1000
    },
    "id": "AhUCgoDafzHC",
    "outputId": "fc3c4a3f-9dd5-4900-f622-19c2c425dbda"
   },
   "outputs": [],
   "source": [
    "# plot means and variances collected during the training\n",
    "fig, axs = plt.subplots(4, 5, figsize=(100,60))\n",
    "fig.suptitle('Weights means and variances collected during the training (separate plots)', fontsize = 40)\n",
    "for label in range(5):\n",
    "  axs[0, label].plot(w_means[label])\n",
    "  axs[0, label].set_title('Mean weight for {}'.format(label), fontsize = 40)\n",
    "  axs[1, label].plot(w_vars[label], 'tab:orange')\n",
    "  axs[1, label].set_title('Variance of weights for {}'.format(label), fontsize = 40)\n",
    "for label in range(5, 10):\n",
    "  axs[2, label-5].plot(w_means[label])\n",
    "  axs[2, label-5].set_title('Mean weight for {}'.format(label), fontsize = 40)\n",
    "  axs[3, label-5].plot(w_vars[label], 'tab:orange')\n",
    "  axs[3, label-5].set_title('Variance of weights for {}'.format(label), fontsize = 40)\n",
    "\n",
    "for ax in axs[0,:]:\n",
    "  ax.set(xlabel='iterations / 20', ylabel='Mean')\n",
    "for ax in axs[1,:]:\n",
    "  ax.set(xlabel='iterations / 20', ylabel='Variance')\n",
    "\n",
    "for i in range(4):\n",
    "  for ax in axs[i, :]:\n",
    "    ax.xaxis.label.set_size(40)\n",
    "    ax.yaxis.label.set_size(40)\n",
    "    ax.tick_params(axis='both', which='major', labelsize=30)\n",
    "    ax.tick_params(axis='both', which='minor', labelsize=30)\n",
    "\n",
    "\n",
    "plt.figure(figsize=(10,6))\n",
    "plt.title('Weights means and variances collected during the training (same plot)')\n",
    "for label in range(10):\n",
    "  plt.plot(w_means[label])\n",
    "plt.legend(['Imgs from A with value {} (p={})'.format(0, ratio_A[0]), \n",
    "            'Imgs from A with value {} (p={})'.format(1, ratio_A[1]), \n",
    "            'Imgs from A with value {} (p={})'.format(1, ratio_A[2]), \n",
    "            'Imgs from A with value {} (p={})'.format(1, ratio_A[3]), \n",
    "            'Imgs from A with value {} (p={})'.format(1, ratio_A[4]), \n",
    "            'Imgs from A with value {} (p={})'.format(1, ratio_A[5]), \n",
    "            'Imgs from A with value {} (p={})'.format(1, ratio_A[6]), \n",
    "            'Imgs from A with value {} (p={})'.format(1, ratio_A[7]), \n",
    "            'Imgs from A with value {} (p={})'.format(1, ratio_A[8]), \n",
    "            'Imgs from A with value {} (p={})'.format(1, ratio_A[9])])\n",
    "plt.ylabel('Assigned importance')\n",
    "plt.xlabel('Training iterations')\n",
    "plt.show()\n",
    "\n",
    "\n",
    "#plt.figure(figsize=(10,6))\n",
    "#plt.title('Ratio between the weights assigned to 0 and 1: average in each batch, compute the ratio, then average through all the batches')\n",
    "#plt.xlabel('Training iterations')\n",
    "#plt.ylabel('Ratio 0/1')\n",
    "#plt.plot(ratio01s)\n",
    "#plt.legend(['ratio01'])\n",
    "#plt.show()\n",
    "\n",
    "#plt.figure(figsize=(10,6))\n",
    "#plt.title('Ratio between the averages of not normalized weights for the classes')\n",
    "#plt.xlabel('Training iterations')\n",
    "#plt.ylabel('Unnormalized Ratio 0/1')\n",
    "#plt.plot(unnorm_ratio01s)\n",
    "#plt.legend(['Unnorm_ratio01'])\n",
    "#plt.show()"
   ]
  },
  {
   "cell_type": "markdown",
   "metadata": {
    "id": "5Dipc2xeaHKv"
   },
   "source": [
    "####Loss"
   ]
  },
  {
   "cell_type": "code",
   "execution_count": null,
   "metadata": {
    "colab": {
     "base_uri": "https://localhost:8080/",
     "height": 403
    },
    "id": "odfL4hdUJaMr",
    "outputId": "190df33b-efaa-4463-deb5-948da6e70c64"
   },
   "outputs": [],
   "source": [
    "plt.figure(figsize=(10,6))\n",
    "plt.title('Losses over iterations')\n",
    "plt.xlabel('Training iterations')\n",
    "plt.ylabel('Loss')\n",
    "# plt.yscale('symlog')\n",
    "plt.plot(losses_w)\n",
    "plt.legend(['W'])\n",
    "plt.show()"
   ]
  },
  {
   "cell_type": "code",
   "execution_count": null,
   "metadata": {
    "colab": {
     "base_uri": "https://localhost:8080/",
     "height": 403
    },
    "id": "PJuq-bwQJaMt",
    "outputId": "6fc20bfb-7a6e-4525-8eaf-61bb54e2813c"
   },
   "outputs": [],
   "source": [
    "plt.figure(figsize=(10,6))\n",
    "plt.title('Values of L_A and L_B over iterations')\n",
    "plt.xlabel('Training iterations')\n",
    "plt.ylabel('Loss')\n",
    "plt.plot(L_As)\n",
    "plt.plot(L_Bs)\n",
    "plt.legend(['L_A', 'L_B'])\n",
    "plt.show()"
   ]
  },
  {
   "cell_type": "markdown",
   "metadata": {
    "id": "bXUvxGkAaM1N"
   },
   "source": [
    "####Assigned importances for the example images over the course of training"
   ]
  },
  {
   "cell_type": "code",
   "execution_count": null,
   "metadata": {
    "colab": {
     "base_uri": "https://localhost:8080/",
     "height": 566
    },
    "id": "Y_mNJOz7JaMw",
    "outputId": "11ad7d1a-2be5-4418-a1cf-0d2d31ed9ae7"
   },
   "outputs": [],
   "source": [
    "plt.figure(figsize=(10,6))\n",
    "plt.title('Assigned importances for the toy example images over the course of training')\n",
    "plt.plot(example_importances_A)\n",
    "plt.legend(['Img from A with value {} (p={})'.format(0, ratio_A[0]), \n",
    "            'Img from A with value {} (p={})'.format(1, ratio_A[1]), \n",
    "            'Img from A with value {} (p={})'.format(1, ratio_A[2]), \n",
    "            'Img from A with value {} (p={})'.format(1, ratio_A[3]), \n",
    "            'Img from A with value {} (p={})'.format(1, ratio_A[4]), \n",
    "            'Img from A with value {} (p={})'.format(1, ratio_A[5]), \n",
    "            'Img from A with value {} (p={})'.format(1, ratio_A[6]), \n",
    "            'Img from A with value {} (p={})'.format(1, ratio_A[7]), \n",
    "            'Img from A with value {} (p={})'.format(1, ratio_A[8]), \n",
    "            'Img from A with value {} (p={})'.format(1, ratio_A[9])])\n",
    "plt.ylabel('Assigned importance')\n",
    "plt.xlabel('Training iterations')\n",
    "plt.show()\n",
    "\n",
    "example_importances_A[-1]"
   ]
  },
  {
   "cell_type": "markdown",
   "metadata": {
    "id": "wTC1zgt8af52"
   },
   "source": [
    "####Assigned importances for the linear combination of the example images"
   ]
  },
  {
   "cell_type": "code",
   "execution_count": 29,
   "metadata": {
    "colab": {
     "base_uri": "https://localhost:8080/",
     "height": 403
    },
    "id": "PaxHb0AEJaMy",
    "outputId": "a286b892-0f3f-4bcb-904b-6390689c1ce1"
   },
   "outputs": [
    {
     "data": {
      "image/png": "[encoded data removed]",
      "text/plain": [
       "<Figure size 720x432 with 1 Axes>"
      ]
     },
     "metadata": {
      "needs_background": "light",
      "tags": []
     },
     "output_type": "display_data"
    }
   ],
   "source": [
    "lambd = torch.linspace(0, 1, 64).repeat(28,28,1,1).permute(3,2,0,1)\n",
    "lin_comb = lambd * dataset_A.example_imgs[0] + (1-lambd) * dataset_A.example_imgs[1]\n",
    "\n",
    "weights, _ = weight_network(lin_comb.cuda())\n",
    "weights = weights.cpu().detach().numpy()\n",
    "plt.figure(figsize=(10,6))\n",
    "plt.title('Assigned importances for linear combination between images of 0 and 1 [lambda * 0 + (1-lambda * 1)]')\n",
    "plt.plot(torch.linspace(0, 1, 64), weights)\n",
    "plt.ylabel('Assigned importance')\n",
    "plt.xlabel('Lambda value')\n",
    "plt.show()"
   ]
  },
  {
   "cell_type": "markdown",
   "metadata": {
    "id": "4PCbd8gEatbJ"
   },
   "source": [
    "Other"
   ]
  },
  {
   "cell_type": "code",
   "execution_count": 30,
   "metadata": {
    "colab": {
     "base_uri": "https://localhost:8080/",
     "height": 403
    },
    "id": "M3wuEfOwJaM7",
    "outputId": "1cbe6893-f103-4733-f2e9-c924f228fa95"
   },
   "outputs": [
    {
     "data": {
      "image/png": "[encoded data removed]",
      "text/plain": [
       "<Figure size 720x432 with 1 Axes>"
      ]
     },
     "metadata": {
      "needs_background": "light",
      "tags": []
     },
     "output_type": "display_data"
    }
   ],
   "source": [
    "plt.figure(figsize=(10,6))\n",
    "plt.title('Losses over iterations')\n",
    "plt.xlabel('Training iterations')\n",
    "plt.ylabel('Mean')\n",
    "plt.plot(mean_A)\n",
    "plt.plot(mean_B)\n",
    "plt.legend(['mean_A', 'mean_B'])\n",
    "plt.show()"
   ]
  },
  {
   "cell_type": "code",
   "execution_count": 30,
   "metadata": {
    "id": "ClMr5mFnJaM-"
   },
   "outputs": [],
   "source": []
  }
 ],
 "metadata": {
  "accelerator": "GPU",
  "colab": {
   "collapsed_sections": [
    "fdKLeyC-gW1T"
   ],
   "include_colab_link": true,
   "name": "Toy_example_estimation_of_Radon-Nikodym_derivative_MNIST_multilabel_one_sided_f_tries.ipynb",
   "provenance": []
  },
  "kernelspec": {
   "display_name": "Python 3",
   "language": "python",
   "name": "python3"
  },
  "language_info": {
   "codemirror_mode": {
    "name": "ipython",
    "version": 3
   },
   "file_extension": ".py",
   "mimetype": "text/x-python",
   "name": "python",
   "nbconvert_exporter": "python",
   "pygments_lexer": "ipython3",
   "version": "3.7.5"
  }
 },
 "nbformat": 4,
 "nbformat_minor": 1
}
