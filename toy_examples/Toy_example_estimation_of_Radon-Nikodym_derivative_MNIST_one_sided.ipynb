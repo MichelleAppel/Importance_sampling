{
  "nbformat": 4,
  "nbformat_minor": 0,
  "metadata": {
    "kernelspec": {
      "display_name": "Python 3",
      "language": "python",
      "name": "python3"
    },
    "language_info": {
      "codemirror_mode": {
        "name": "ipython",
        "version": 3
      },
      "file_extension": ".py",
      "mimetype": "text/x-python",
      "name": "python",
      "nbconvert_exporter": "python",
      "pygments_lexer": "ipython3",
      "version": "3.7.5"
    },
    "colab": {
      "name": "Toy_example_estimation_of_Radon-Nikodym_derivative_MNIST_one_sided.ipynb",
      "provenance": [],
      "include_colab_link": true
    },
    "accelerator": "GPU"
  },
  "cells": [
    {
      "cell_type": "markdown",
      "metadata": {
        "id": "view-in-github",
        "colab_type": "text"
      },
      "source": [
        "<a href=\"https://colab.research.google.com/github/MichelleAppel/Importance_sampling/blob/master/toy_examples/Toy_example_estimation_of_Radon-Nikodym_derivative_MNIST_one_sided.ipynb\" target=\"_parent\"><img src=\"https://colab.research.google.com/assets/colab-badge.svg\" alt=\"Open In Colab\"/></a>"
      ]
    },
    {
      "cell_type": "markdown",
      "metadata": {
        "id": "6J5y6SbAJaMS",
        "colab_type": "text"
      },
      "source": [
        "# Toy example estimation of Radon-Nikodym derivative for MNIST dataset (one sided)"
      ]
    },
    {
      "cell_type": "markdown",
      "metadata": {
        "id": "LUEg3hsSJaMT",
        "colab_type": "text"
      },
      "source": [
        "Equation (5) of the paper by Binkowski et al. explains that the Radon-Nikodym derivative $\\frac{d \\mathbb{Q}_y}{ \\mathbb{P}_y^G}$ of the two domains exist under the assumptions they state. This derivative can also be seen as the ratio between the two distributions of the domains, and can be used to express the compensation for imbalance in the domains:\n",
        "\n",
        "$\\mathbb{E}_{Y \\sim \\mathbb{Q}_y}[D(Y)] = \\mathbb{E}_{X \\sim \\mathbb{P}_x}[D(G(X)) \\frac{d \\mathbb{Q}_y}{ d\\mathbb{P}_y^G}(G(X))]$\n",
        "\n",
        "This expresses compensation for imbalance between the discriminator outputs, caused by the imbalance in the domain distributions. However, it does not necessarily have to be used for the imbalance in the discriminator outputs. It can be applied to any imbalance caused by the different domain distributions.\n",
        "\n",
        "--\n",
        "\n",
        "In other words, we are trying to study the situation where we don't deal with a discriminator but with any function, let it be $f$. This $f$ can be any function, e.g. identity, mean.... We try to compensate for imbalances in the two domains over which we compute the function:\n",
        "\n",
        "$\\mathbb{E}_{Y \\sim \\mathbb{Q}_y}[f(Y)] = \\mathbb{E}_{X \\sim \\mathbb{P}_x}[f(G(X)) \\frac{d \\mathbb{Q}_y}{ d\\mathbb{P}_y^G}(G(X))]$\n",
        "\n",
        "Possible functions $f$ for MNIST:\n",
        "* use the label\n",
        "* pre-trained classifier\n",
        "\n",
        "\n",
        "--\n",
        "\n",
        "This toy example uses a simplified version of MNIST.\n",
        "\n",
        "The dataset only has zeroes and ones, and the percentage of zeros/ones is specified by the user\n",
        "\n",
        "--\n",
        "\n",
        "The following toy example shows how we can use the Radon-Nikodym derivative for compensating the imbalance for the mean of the domains using $\\bar{Y} = \\bar{X}\\frac{d \\mathbb{Q}_y}{d \\mathbb{P}_x}$.\n",
        "\n",
        "\n",
        "Let $X = [1, 1, 1, 1, 1, 1, 1, 0, 0]$, with mean $\\bar{X} = 0.8$ and <br />\n",
        "Let $Y = [1, 1, 0, 0, 0, 0, 0, 0, 0]$, with mean $\\bar{Y} = 0.2$\n",
        "\n",
        "Then $[1, 1, 0, 0, 0, 0, 0, 0, 0] = [1, 1, 1, 1, 1, 1, 1, 0, 0] \\cdot \\frac{d \\mathbb{Q}_y}{d \\mathbb{P}_x}(X)$, and <br />\n",
        "$\\frac{d \\mathbb{Q}_y}{d \\mathbb{P}_x}(X) = [0.25, 0.25, 0.25, 0.25, 0.25, 0.25, 0.25, 4, 4]$\n",
        "\n",
        "This can be interpreted as the ratio between means of the domains for each of the samples. In this example the ratio can be calculated. However, in more complex situations, for example with images, the Radon-Nykodym derivative $\\frac{d \\mathbb{Q}_y}{d \\mathbb{P}_x}$ is unknown and we may try to estimate it using a neural network $W$. This leads to the objective function\n",
        "\n",
        "$\\inf_{W \\in \\mathcal{W}} (\\mathbb{E}_{X \\sim \\mathbb{P}_x} [D(G(X)) \\cdot W(X)] - \\mathbb{E}_{Y \\sim \\mathbb{Q}_y}[D(Y)])^2$\n",
        "\n",
        "used by Binkowski et al. for compensation of distributions in the domains, using the discriminator output. Similarly, we can use such a network in our toy example."
      ]
    },
    {
      "cell_type": "code",
      "metadata": {
        "id": "siUNmu07JaMT",
        "colab_type": "code",
        "colab": {}
      },
      "source": [
        "import torch\n",
        "import torch.nn as nn\n",
        "import torch.nn.functional as F\n",
        "import torch.optim as optim\n",
        "from torch.utils.data import Dataset, DataLoader\n",
        "from torchvision.utils import make_grid\n",
        "import torchvision\n",
        "import numpy as np\n",
        "\n",
        "import itertools\n",
        "\n",
        "import matplotlib.pyplot as plt"
      ],
      "execution_count": 137,
      "outputs": []
    },
    {
      "cell_type": "code",
      "metadata": {
        "id": "FrWt3LBZJaMX",
        "colab_type": "code",
        "colab": {}
      },
      "source": [
        "def visualize_img_batch(batch):\n",
        "    '''Visualizes image batch\n",
        "    \n",
        "    Parameters:\n",
        "    batch (Tensor): An image batch\n",
        "    '''\n",
        "    grid = make_grid(batch.unsqueeze(1).unsqueeze(1).cpu(), nrow=8, padding=1, normalize=False, range=None, scale_each=False, pad_value=0.5)\n",
        "    plt.imshow(grid.permute(1,2,0))\n",
        "    plt.show()"
      ],
      "execution_count": 138,
      "outputs": []
    },
    {
      "cell_type": "code",
      "metadata": {
        "id": "S4mfJzmXJaMa",
        "colab_type": "code",
        "colab": {
          "base_uri": "https://localhost:8080/",
          "height": 51
        },
        "outputId": "7414f1d4-599b-4884-acfd-bb617fe657fe"
      },
      "source": [
        "'''def binary_data(size=(2**21, 1), ratio=0.5):\n",
        "    \n",
        "    idx = torch.randperm(size[0])[:int(ratio*size[0])] # Randomly choose indices according to the ratio\n",
        "\n",
        "    print(idx)\n",
        "    print(idx.shape)\n",
        "    image_batch = torch.zeros(size)\n",
        "    image_batch[idx] = 1\n",
        "    \n",
        "    return image_batch.clamp(0, 1).cuda().detach()'''\n"
      ],
      "execution_count": 139,
      "outputs": [
        {
          "output_type": "execute_result",
          "data": {
            "application/vnd.google.colaboratory.intrinsic": {
              "type": "string"
            },
            "text/plain": [
              "'def binary_data(size=(2**21, 1), ratio=0.5):\\n    \\n    idx = torch.randperm(size[0])[:int(ratio*size[0])] # Randomly choose indices according to the ratio\\n\\n    print(idx)\\n    print(idx.shape)\\n    image_batch = torch.zeros(size)\\n    image_batch[idx] = 1\\n    \\n    return image_batch.clamp(0, 1).cuda().detach()'"
            ]
          },
          "metadata": {
            "tags": []
          },
          "execution_count": 139
        }
      ]
    },
    {
      "cell_type": "code",
      "metadata": {
        "id": "cYv7UIwcJaMc",
        "colab_type": "code",
        "colab": {
          "base_uri": "https://localhost:8080/",
          "height": 83
        },
        "outputId": "036b7bb1-a835-45f9-bae9-a67fdea96785"
      },
      "source": [
        "'''class ColorDataset(Dataset):\n",
        "    ''The dataloader for the binary data\n",
        "    '\n",
        "    def __init__(self, ratio=0.5):\n",
        "\n",
        "        self.ratio = ratio\n",
        "        \n",
        "        self.dataset = binary_data(ratio=self.ratio)\n",
        "        \n",
        "        self.example_imgs = self.example()\n",
        "        \n",
        "    def example(self):\n",
        "        '\n",
        "        Returns an example from each mode in the domain\n",
        "        \n",
        "        ''\n",
        "        example_imgs = torch.zeros(size=(2, 1))\n",
        "        example_imgs[1] = 1\n",
        "        \n",
        "        return example_imgs\n",
        "\n",
        "    def __len__(self):\n",
        "        return len(self.dataset)\n",
        "    \n",
        "    def __getitem__(self, idx):      \n",
        "        return self.dataset[idx]'''"
      ],
      "execution_count": 140,
      "outputs": [
        {
          "output_type": "execute_result",
          "data": {
            "application/vnd.google.colaboratory.intrinsic": {
              "type": "string"
            },
            "text/plain": [
              "\"class ColorDataset(Dataset):\\n    ''The dataloader for the binary data\\n    '\\n    def __init__(self, ratio=0.5):\\n\\n        self.ratio = ratio\\n        \\n        self.dataset = binary_data(ratio=self.ratio)\\n        \\n        self.example_imgs = self.example()\\n        \\n    def example(self):\\n        '\\n        Returns an example from each mode in the domain\\n        \\n        ''\\n        example_imgs = torch.zeros(size=(2, 1))\\n        example_imgs[1] = 1\\n        \\n        return example_imgs\\n\\n    def __len__(self):\\n        return len(self.dataset)\\n    \\n    def __getitem__(self, idx):      \\n        return self.dataset[idx]\""
            ]
          },
          "metadata": {
            "tags": []
          },
          "execution_count": 140
        }
      ]
    },
    {
      "cell_type": "code",
      "metadata": {
        "colab_type": "code",
        "id": "ByE-gIdSEtFH",
        "colab": {}
      },
      "source": [
        "def visualize_MNIST_img_batch(batch):\n",
        "    '''Visualizes image batch for MNIST\n",
        "    \n",
        "    Parameters:\n",
        "    batch (Tensor): An image batch\n",
        "    '''\n",
        "    fig = plt.figure()\n",
        "    for i in range(batch.shape[0]):\n",
        "      plt.subplot(1,2,i+1)\n",
        "      plt.tight_layout()\n",
        "      plt.imshow(batch[i], cmap='gray', interpolation='none')\n",
        "      plt.title(\"Ground Truth: {}\".format(i))\n",
        "      plt.xticks([])\n",
        "      plt.yticks([])"
      ],
      "execution_count": 141,
      "outputs": []
    },
    {
      "cell_type": "code",
      "metadata": {
        "colab_type": "code",
        "id": "HIx0JMDXtEC3",
        "colab": {
          "base_uri": "https://localhost:8080/",
          "height": 51
        },
        "outputId": "ab196039-9341-425d-d580-0579b97ff5bf"
      },
      "source": [
        "def MNIST_binary_data(ratio=0.5):\n",
        "    # ratio: percentage of zeroes\n",
        "    #returns (data, labels) for MNIST with only zeroes and ones, with the given ratio\n",
        "\n",
        "    MNIST = torchvision.datasets.MNIST('/files/', train=True, download=True,\n",
        "                             transform=torchvision.transforms.Compose([\n",
        "                               torchvision.transforms.ToTensor(),\n",
        "                               torchvision.transforms.Normalize(\n",
        "                                 (0.1307,), (0.3081,))\n",
        "                             ]))\n",
        "    \n",
        "    idxm0 = MNIST.train_labels==0\n",
        "    idxm1 = MNIST.train_labels==1 \n",
        "    dim = len(idxm0)  \n",
        "\n",
        "    n0 = torch.sum(idxm0)\n",
        "    n1 = torch.sum(idxm1)\n",
        "    tot = n0 + n1\n",
        "\n",
        "    if ratio < n0.item()/tot.item():\n",
        "      if ratio == 1:\n",
        "        size = n0\n",
        "      else:\n",
        "        size = int(n1/(1-ratio))\n",
        "      idx0 = np.where(idxm0)[0]\n",
        "      idx0 = idx0[:int(size*ratio)]\n",
        "      idx1 = np.where(idxm1)[0]\n",
        "      #idx0 = [True if i in indices else False for i in range(len(idx0))]\n",
        "    else:\n",
        "      if ratio == 1:\n",
        "        size = n1\n",
        "      else:\n",
        "        size = int(n0/ratio)\n",
        "      idx0 = np.where(idxm0)[0]\n",
        "      idx1 = np.where(idxm1)[0]\n",
        "      idx1 = idx1[:int(size*(1-ratio))]\n",
        "      #idx1 = [True if i in indices else False for i in range(len(idx1))]\n",
        "\n",
        "    idx = idx0.tolist() + idx1.tolist()\n",
        "    idxm = torch.tensor( [True if i in idx else False for i in range(dim)] )\n",
        "\n",
        "    #labels = MNIST.train_labels[idxm]\n",
        "    #data = MNIST.train_data[idxm]\n",
        "\n",
        "    MNIST.targets = MNIST.train_labels[idx]\n",
        "    MNIST.data = MNIST.train_data[idx]\n",
        "\n",
        "    return MNIST \n",
        "\n",
        "'''# TEST\n",
        "res = MNIST_binary_data(0.2)\n",
        "#print(res)\n",
        "#print(res.targets) #labels\n",
        "#print(res.data) #data\n",
        "\n",
        "ones = res.targets.sum().item()\n",
        "tot = res.targets.shape[0]\n",
        "print('zeroes =' + str(tot-ones))\n",
        "print('ones =' + str(ones))\n",
        "print('ratio =' + str((tot-ones)/tot))'''"
      ],
      "execution_count": 173,
      "outputs": [
        {
          "output_type": "execute_result",
          "data": {
            "application/vnd.google.colaboratory.intrinsic": {
              "type": "string"
            },
            "text/plain": [
              "\"# TEST\\nres = MNIST_binary_data(0.2)\\n#print(res)\\n#print(res.targets) #labels\\n#print(res.data) #data\\n\\nones = res.targets.sum().item()\\ntot = res.targets.shape[0]\\nprint('zeroes =' + str(tot-ones))\\nprint('ones =' + str(ones))\\nprint('ratio =' + str((tot-ones)/tot))\""
            ]
          },
          "metadata": {
            "tags": []
          },
          "execution_count": 173
        }
      ]
    },
    {
      "cell_type": "code",
      "metadata": {
        "colab_type": "code",
        "id": "_RwJIr7Gs0On",
        "colab": {
          "base_uri": "https://localhost:8080/",
          "height": 51
        },
        "outputId": "06477527-3aa0-4a2b-b2be-de38c34342fe"
      },
      "source": [
        "class MNISTDataset(Dataset):\n",
        "    '''The dataset for the MNIST binary data\n",
        "    '''\n",
        "    def __init__(self, ratio=0.5):\n",
        "\n",
        "        self.ratio = ratio\n",
        "        \n",
        "        self.dataset = MNIST_binary_data(ratio=self.ratio)\n",
        "        \n",
        "        self.example_imgs = self.example()\n",
        "        \n",
        "    def example(self):\n",
        "        '''\n",
        "        Returns an example from each digit in the domain\n",
        "        \n",
        "        '''\n",
        "        labels = self.dataset.targets\n",
        "        data = self.dataset.data\n",
        "        img0 = data[labels==0][0].unsqueeze(0)\n",
        "        img1 = data[labels==1][0].unsqueeze(0)\n",
        "        ex = torch.cat((img0, img1), 0)\n",
        "              \n",
        "        return ex\n",
        "\n",
        "    def __len__(self):\n",
        "        return len(self.dataset)\n",
        "    \n",
        "    def __getitem__(self, idx):      \n",
        "        return self.dataset[idx]\n",
        "\n",
        "'''# TEST\n",
        "dataset = MNISTDataset()\n",
        "\n",
        "fig = plt.figure()\n",
        "for i in range(2):\n",
        "  plt.subplot(1,2,i+1)\n",
        "  plt.tight_layout()\n",
        "  plt.imshow(dataset.example_imgs[i].cpu(), cmap='gray', interpolation='none')\n",
        "  plt.title(\"Ground Truth: {}\".format(i))\n",
        "  plt.xticks([])\n",
        "  plt.yticks([])'''"
      ],
      "execution_count": 143,
      "outputs": [
        {
          "output_type": "execute_result",
          "data": {
            "application/vnd.google.colaboratory.intrinsic": {
              "type": "string"
            },
            "text/plain": [
              "'# TEST\\ndataset = MNISTDataset()\\n\\nfig = plt.figure()\\nfor i in range(2):\\n  plt.subplot(1,2,i+1)\\n  plt.tight_layout()\\n  plt.imshow(dataset.example_imgs[i].cpu(), cmap=\\'gray\\', interpolation=\\'none\\')\\n  plt.title(\"Ground Truth: {}\".format(i))\\n  plt.xticks([])\\n  plt.yticks([])'"
            ]
          },
          "metadata": {
            "tags": []
          },
          "execution_count": 143
        }
      ]
    },
    {
      "cell_type": "code",
      "metadata": {
        "id": "prbVAeT_JaMf",
        "colab_type": "code",
        "colab": {
          "base_uri": "https://localhost:8080/",
          "height": 513
        },
        "outputId": "d6d6197e-21e8-4b27-cc5c-cc238a7263be"
      },
      "source": [
        "# Settings for domain A (red)\n",
        "ratio_A = 0.2\n",
        "dataset_A = MNISTDataset(ratio=ratio_A)\n",
        "dataloader_A = DataLoader(dataset_A, batch_size=256, shuffle=True)\n",
        "\n",
        "# Settings for domain B (green)\n",
        "ratio_B = 0.8\n",
        "dataset_B = MNISTDataset(ratio=ratio_B)\n",
        "dataloader_B = DataLoader(dataset_B, batch_size=256, shuffle=True)\n",
        "\n",
        "visualize_MNIST_img_batch(dataset_A.example_imgs.cpu())\n",
        "visualize_MNIST_img_batch(dataset_B.example_imgs.cpu())"
      ],
      "execution_count": 144,
      "outputs": [
        {
          "output_type": "stream",
          "text": [
            "/usr/local/lib/python3.6/dist-packages/torchvision/datasets/mnist.py:45: UserWarning: train_labels has been renamed targets\n",
            "  warnings.warn(\"train_labels has been renamed targets\")\n",
            "/usr/local/lib/python3.6/dist-packages/torchvision/datasets/mnist.py:55: UserWarning: train_data has been renamed data\n",
            "  warnings.warn(\"train_data has been renamed data\")\n"
          ],
          "name": "stderr"
        },
        {
          "output_type": "display_data",
          "data": {
            "image/png": "[encoded data removed]",
            "text/plain": [
              "<Figure size 432x288 with 2 Axes>"
            ]
          },
          "metadata": {
            "tags": []
          }
        },
        {
          "output_type": "display_data",
          "data": {
            "image/png": "[encoded data removed]",
            "text/plain": [
              "<Figure size 432x288 with 2 Axes>"
            ]
          },
          "metadata": {
            "tags": []
          }
        }
      ]
    },
    {
      "cell_type": "code",
      "metadata": {
        "id": "hlPSWnigJaMi",
        "colab_type": "code",
        "colab": {
          "base_uri": "https://localhost:8080/",
          "height": 1000
        },
        "outputId": "58e544bc-7141-4614-de33-fdc836fb2397"
      },
      "source": [
        "import cv2\n",
        "\n",
        "def plot_hist(data):\n",
        "    data = data.squeeze().cpu()\n",
        "    plt.hist(data[data==1], weights=torch.ones(len(data[data==1]))/len(data), \n",
        "             color='black', bins=10, range= (0, 1))\n",
        "    plt.hist(data[data==0], weights=torch.ones(len(data[data==0]))/len(data), \n",
        "             color='white', bins=10, range= (0, 1))\n",
        "    plt.legend(['Imgs for label {}'.format(1), \n",
        "                'Imgs for label {}'.format(0)])\n",
        "    plt.gca().set_facecolor('xkcd:gray')\n",
        "    x_unique_count = torch.stack([(data==x_u).sum() for x_u in data.unique()])\n",
        "    plt.show()\n",
        "\n",
        "for i, (data_A, data_B) in enumerate(zip(dataloader_A, dataloader_B)):\n",
        "    labs_A = data_A[1].double()\n",
        "    labs_B = data_B[1].double()\n",
        "\n",
        "    plot_hist(labs_A)\n",
        "    plot_hist(labs_B)\n",
        "    \n",
        "    visualize_img_batch(torch.tensor(labs_A[:64]).unsqueeze(1).cuda())\n",
        "    visualize_img_batch(torch.tensor(labs_B[:64]).unsqueeze(1).cuda())\n",
        "    break"
      ],
      "execution_count": 145,
      "outputs": [
        {
          "output_type": "display_data",
          "data": {
            "image/png": "[encoded data removed]",
            "text/plain": [
              "<Figure size 432x288 with 1 Axes>"
            ]
          },
          "metadata": {
            "tags": [],
            "needs_background": "light"
          }
        },
        {
          "output_type": "display_data",
          "data": {
            "image/png": "[encoded data removed]",
            "text/plain": [
              "<Figure size 432x288 with 1 Axes>"
            ]
          },
          "metadata": {
            "tags": [],
            "needs_background": "light"
          }
        },
        {
          "output_type": "stream",
          "text": [
            "/usr/local/lib/python3.6/dist-packages/ipykernel_launcher.py:22: UserWarning: To copy construct from a tensor, it is recommended to use sourceTensor.clone().detach() or sourceTensor.clone().detach().requires_grad_(True), rather than torch.tensor(sourceTensor).\n"
          ],
          "name": "stderr"
        },
        {
          "output_type": "display_data",
          "data": {
            "image/png": "[encoded data removed]",
            "text/plain": [
              "<Figure size 432x288 with 1 Axes>"
            ]
          },
          "metadata": {
            "tags": [],
            "needs_background": "light"
          }
        },
        {
          "output_type": "stream",
          "text": [
            "/usr/local/lib/python3.6/dist-packages/ipykernel_launcher.py:23: UserWarning: To copy construct from a tensor, it is recommended to use sourceTensor.clone().detach() or sourceTensor.clone().detach().requires_grad_(True), rather than torch.tensor(sourceTensor).\n"
          ],
          "name": "stderr"
        },
        {
          "output_type": "display_data",
          "data": {
            "image/png": "[encoded data removed]",
            "text/plain": [
              "<Figure size 432x288 with 1 Axes>"
            ]
          },
          "metadata": {
            "tags": [],
            "needs_background": "light"
          }
        }
      ]
    },
    {
      "cell_type": "code",
      "metadata": {
        "id": "Xzr1OIyoJaMl",
        "colab_type": "code",
        "colab": {}
      },
      "source": [
        "class WeightNet(nn.Module):\n",
        "    '''A simple network that predicts the importances of the samples'''\n",
        "\n",
        "    def __init__(self):\n",
        "        super(WeightNet, self).__init__()\n",
        "#        self.fc1 = nn.Linear(1, 1)\n",
        "#        self.fc2 = nn.Linear(1, 1)\n",
        "        self.softmax = nn.Softmax(dim=0)\n",
        "\n",
        "        self.conv1 = nn.Conv2d(1, 10, kernel_size=5)\n",
        "        self.conv2 = nn.Conv2d(10, 20, kernel_size=5)\n",
        "        self.fc1 = nn.Linear(320, 40)\n",
        "        self.fc2 = nn.Linear(40, 1)\n",
        "        \n",
        "    def forward(self, x):\n",
        "        x = torch.sigmoid(F.max_pool2d(self.conv1(x), 2))\n",
        "        x = torch.sigmoid(F.max_pool2d(self.conv2(x), 2))\n",
        "        x = x.view(-1, 320)\n",
        "        x = torch.sigmoid(self.fc1(x))\n",
        "        x = self.fc2(x)\n",
        "        return self.softmax(x)\n",
        "\n",
        "#        h1 = torch.sigmoid(self.fc1(x))\n",
        "#        out = self.fc2(h1)\n",
        "#        return self.softmax(out)\n",
        "#         return out"
      ],
      "execution_count": 148,
      "outputs": []
    },
    {
      "cell_type": "code",
      "metadata": {
        "id": "mzq2m9j-JaMp",
        "colab_type": "code",
        "colab": {
          "base_uri": "https://localhost:8080/",
          "height": 33
        },
        "outputId": "5d5ab3a2-9d5e-4a2f-b90f-e6a88357a5ee"
      },
      "source": [
        "# Initialize the networks\n",
        "weight_network = WeightNet().cuda()\n",
        "\n",
        "# Initialize the optimizers\n",
        "lr = 0.01\n",
        "optimizer_w = optim.Adam(weight_network.parameters(), lr=lr)\n",
        "\n",
        "losses_w = []\n",
        "\n",
        "mean_A = []\n",
        "mean_B = []\n",
        "\n",
        "L_As = []\n",
        "L_Bs = []\n",
        "\n",
        "example_importances_A = []\n",
        "example_importances_B = []\n",
        "\n",
        "def weight_normalization(w):\n",
        "    return w\n",
        "#     return 0.5*(1 + w)\n",
        "\n",
        "for epoch in range(1):\n",
        "    for i, (batch_A, batch_B) in enumerate(zip(dataloader_A, dataloader_B)):\n",
        "      \n",
        "        real_A = batch_A[0].cuda()\n",
        "        real_B = batch_B[0].cuda()\n",
        "        labels_A = batch_A[1].cuda()\n",
        "        labels_B = batch_B[1].cuda()\n",
        "\n",
        "        # The weighting process\n",
        "        w = weight_network(real_A)\n",
        "    \n",
        "        # The loss function --------------------------------------------------------------------------------\n",
        "        \n",
        "        # Using the means as objective function\n",
        "        L_A  = (labels_A * weight_normalization(w)).sum()\n",
        "        L_B = (labels_B.float()).mean()\n",
        "        loss_w = (L_A - L_B)**2\n",
        "        \n",
        "        mean_A += [real_A.mean()]\n",
        "        mean_B += [real_B.mean()]\n",
        "\n",
        "        # ---------------------------------------------------------------------------------------------------\n",
        "\n",
        "        # Backward\n",
        "        optimizer_w.zero_grad()\n",
        "        loss_w.backward()\n",
        "        optimizer_w.step()   \n",
        "\n",
        "        # Store values --------------------------------------------------------------------------------------\n",
        "        L_As += [L_A.item()]\n",
        "        L_Bs += [L_B.item()]\n",
        "        \n",
        "        losses_w += [loss_w.item()]\n",
        "        \n",
        "        w_a = weight_normalization((weight_network(dataset_A.example_imgs.float().unsqueeze(1).cuda())))\n",
        "        example_importances_A += [(w_a[0].item(), w_a[1].item())] # Store examples in a list\n",
        "\n",
        "        # ---------------------------------------------------------------------------------------------------\n",
        "\n",
        "        # Print statistics\n",
        "        if i % 500 == 0:\n",
        "            print('step', i, 'loss_w: ', loss_w.item())\n",
        "            \n",
        "        if i % 5000 == 0 and i != 0:\n",
        "            break"
      ],
      "execution_count": 174,
      "outputs": [
        {
          "output_type": "stream",
          "text": [
            "step 0 loss_w:  47004.2734375\n"
          ],
          "name": "stdout"
        }
      ]
    },
    {
      "cell_type": "code",
      "metadata": {
        "id": "odfL4hdUJaMr",
        "colab_type": "code",
        "colab": {
          "base_uri": "https://localhost:8080/",
          "height": 403
        },
        "outputId": "27d4c266-5f11-4358-f24d-9a64bd91bb12"
      },
      "source": [
        "plt.figure(figsize=(10,6))\n",
        "plt.title('Losses over iterations')\n",
        "plt.xlabel('Training iterations')\n",
        "plt.ylabel('Loss')\n",
        "# plt.yscale('symlog')\n",
        "plt.plot(losses_w)\n",
        "plt.legend(['W'])\n",
        "plt.show()"
      ],
      "execution_count": 162,
      "outputs": [
        {
          "output_type": "display_data",
          "data": {
            "image/png": "[encoded data removed]",
            "text/plain": [
              "<Figure size 720x432 with 1 Axes>"
            ]
          },
          "metadata": {
            "tags": [],
            "needs_background": "light"
          }
        }
      ]
    },
    {
      "cell_type": "code",
      "metadata": {
        "id": "PJuq-bwQJaMt",
        "colab_type": "code",
        "colab": {
          "base_uri": "https://localhost:8080/",
          "height": 403
        },
        "outputId": "29b5bccb-94b8-4474-b056-e8eda6bada5e"
      },
      "source": [
        "plt.figure(figsize=(10,6))\n",
        "plt.title('Losses over iterations')\n",
        "plt.xlabel('Training iterations')\n",
        "plt.ylabel('Loss')\n",
        "plt.plot(L_As)\n",
        "plt.plot(L_Bs)\n",
        "plt.legend(['L_A', 'L_B'])\n",
        "plt.show()"
      ],
      "execution_count": 163,
      "outputs": [
        {
          "output_type": "display_data",
          "data": {
            "image/png": "[encoded data removed]",
            "text/plain": [
              "<Figure size 720x432 with 1 Axes>"
            ]
          },
          "metadata": {
            "tags": [],
            "needs_background": "light"
          }
        }
      ]
    },
    {
      "cell_type": "code",
      "metadata": {
        "id": "Y_mNJOz7JaMw",
        "colab_type": "code",
        "colab": {
          "base_uri": "https://localhost:8080/",
          "height": 420
        },
        "outputId": "35413266-6254-4dcf-b1e2-14534182cbf5"
      },
      "source": [
        "plt.figure(figsize=(10,6))\n",
        "plt.title('Assigned importances for the toy example images over the course of training')\n",
        "plt.plot(example_importances_A)\n",
        "plt.legend(['Img A with value {} (p={})'.format(0, ratio_A), \n",
        "            'Img A with value {} (p={})'.format(1, 1-ratio_A)])\n",
        "plt.ylabel('Assigned importance')\n",
        "plt.xlabel('Training iterations')\n",
        "plt.show()\n",
        "\n",
        "example_importances_A[-1]"
      ],
      "execution_count": 164,
      "outputs": [
        {
          "output_type": "display_data",
          "data": {
            "image/png": "[encoded data removed]",
            "text/plain": [
              "<Figure size 720x432 with 1 Axes>"
            ]
          },
          "metadata": {
            "tags": [],
            "needs_background": "light"
          }
        },
        {
          "output_type": "execute_result",
          "data": {
            "text/plain": [
              "(0.4999997317790985, 0.5000002980232239)"
            ]
          },
          "metadata": {
            "tags": []
          },
          "execution_count": 164
        }
      ]
    },
    {
      "cell_type": "code",
      "metadata": {
        "id": "PaxHb0AEJaMy",
        "colab_type": "code",
        "colab": {
          "base_uri": "https://localhost:8080/",
          "height": 361
        },
        "outputId": "df5315f5-bb37-4931-acf4-8ccd4f66691e"
      },
      "source": [
        "weights = weight_network(torch.linspace(0, 1, 64).view(-1,1).cuda()).cpu().detach().numpy()\n",
        "plt.figure(figsize=(10,6))\n",
        "plt.title('Assigned importances for image values')\n",
        "plt.plot(torch.linspace(0, 1, 64), weights)\n",
        "plt.ylabel('Assigned importance')\n",
        "plt.xlabel('Image value')\n",
        "plt.show()"
      ],
      "execution_count": 165,
      "outputs": [
        {
          "output_type": "error",
          "ename": "RuntimeError",
          "evalue": "ignored",
          "traceback": [
            "\u001b[0;31m---------------------------------------------------------------------------\u001b[0m",
            "\u001b[0;31mRuntimeError\u001b[0m                              Traceback (most recent call last)",
            "\u001b[0;32m<ipython-input-165-6f8fd6105603>\u001b[0m in \u001b[0;36m<module>\u001b[0;34m()\u001b[0m\n\u001b[0;32m----> 1\u001b[0;31m \u001b[0mweights\u001b[0m \u001b[0;34m=\u001b[0m \u001b[0mweight_network\u001b[0m\u001b[0;34m(\u001b[0m\u001b[0mtorch\u001b[0m\u001b[0;34m.\u001b[0m\u001b[0mlinspace\u001b[0m\u001b[0;34m(\u001b[0m\u001b[0;36m0\u001b[0m\u001b[0;34m,\u001b[0m \u001b[0;36m1\u001b[0m\u001b[0;34m,\u001b[0m \u001b[0;36m64\u001b[0m\u001b[0;34m)\u001b[0m\u001b[0;34m.\u001b[0m\u001b[0mview\u001b[0m\u001b[0;34m(\u001b[0m\u001b[0;34m-\u001b[0m\u001b[0;36m1\u001b[0m\u001b[0;34m,\u001b[0m\u001b[0;36m1\u001b[0m\u001b[0;34m)\u001b[0m\u001b[0;34m.\u001b[0m\u001b[0mcuda\u001b[0m\u001b[0;34m(\u001b[0m\u001b[0;34m)\u001b[0m\u001b[0;34m)\u001b[0m\u001b[0;34m.\u001b[0m\u001b[0mcpu\u001b[0m\u001b[0;34m(\u001b[0m\u001b[0;34m)\u001b[0m\u001b[0;34m.\u001b[0m\u001b[0mdetach\u001b[0m\u001b[0;34m(\u001b[0m\u001b[0;34m)\u001b[0m\u001b[0;34m.\u001b[0m\u001b[0mnumpy\u001b[0m\u001b[0;34m(\u001b[0m\u001b[0;34m)\u001b[0m\u001b[0;34m\u001b[0m\u001b[0;34m\u001b[0m\u001b[0m\n\u001b[0m\u001b[1;32m      2\u001b[0m \u001b[0mplt\u001b[0m\u001b[0;34m.\u001b[0m\u001b[0mfigure\u001b[0m\u001b[0;34m(\u001b[0m\u001b[0mfigsize\u001b[0m\u001b[0;34m=\u001b[0m\u001b[0;34m(\u001b[0m\u001b[0;36m10\u001b[0m\u001b[0;34m,\u001b[0m\u001b[0;36m6\u001b[0m\u001b[0;34m)\u001b[0m\u001b[0;34m)\u001b[0m\u001b[0;34m\u001b[0m\u001b[0;34m\u001b[0m\u001b[0m\n\u001b[1;32m      3\u001b[0m \u001b[0mplt\u001b[0m\u001b[0;34m.\u001b[0m\u001b[0mtitle\u001b[0m\u001b[0;34m(\u001b[0m\u001b[0;34m'Assigned importances for image values'\u001b[0m\u001b[0;34m)\u001b[0m\u001b[0;34m\u001b[0m\u001b[0;34m\u001b[0m\u001b[0m\n\u001b[1;32m      4\u001b[0m \u001b[0mplt\u001b[0m\u001b[0;34m.\u001b[0m\u001b[0mplot\u001b[0m\u001b[0;34m(\u001b[0m\u001b[0mtorch\u001b[0m\u001b[0;34m.\u001b[0m\u001b[0mlinspace\u001b[0m\u001b[0;34m(\u001b[0m\u001b[0;36m0\u001b[0m\u001b[0;34m,\u001b[0m \u001b[0;36m1\u001b[0m\u001b[0;34m,\u001b[0m \u001b[0;36m64\u001b[0m\u001b[0;34m)\u001b[0m\u001b[0;34m,\u001b[0m \u001b[0mweights\u001b[0m\u001b[0;34m)\u001b[0m\u001b[0;34m\u001b[0m\u001b[0;34m\u001b[0m\u001b[0m\n\u001b[1;32m      5\u001b[0m \u001b[0mplt\u001b[0m\u001b[0;34m.\u001b[0m\u001b[0mylabel\u001b[0m\u001b[0;34m(\u001b[0m\u001b[0;34m'Assigned importance'\u001b[0m\u001b[0;34m)\u001b[0m\u001b[0;34m\u001b[0m\u001b[0;34m\u001b[0m\u001b[0m\n",
            "\u001b[0;32m/usr/local/lib/python3.6/dist-packages/torch/nn/modules/module.py\u001b[0m in \u001b[0;36m__call__\u001b[0;34m(self, *input, **kwargs)\u001b[0m\n\u001b[1;32m    548\u001b[0m             \u001b[0mresult\u001b[0m \u001b[0;34m=\u001b[0m \u001b[0mself\u001b[0m\u001b[0;34m.\u001b[0m\u001b[0m_slow_forward\u001b[0m\u001b[0;34m(\u001b[0m\u001b[0;34m*\u001b[0m\u001b[0minput\u001b[0m\u001b[0;34m,\u001b[0m \u001b[0;34m**\u001b[0m\u001b[0mkwargs\u001b[0m\u001b[0;34m)\u001b[0m\u001b[0;34m\u001b[0m\u001b[0;34m\u001b[0m\u001b[0m\n\u001b[1;32m    549\u001b[0m         \u001b[0;32melse\u001b[0m\u001b[0;34m:\u001b[0m\u001b[0;34m\u001b[0m\u001b[0;34m\u001b[0m\u001b[0m\n\u001b[0;32m--> 550\u001b[0;31m             \u001b[0mresult\u001b[0m \u001b[0;34m=\u001b[0m \u001b[0mself\u001b[0m\u001b[0;34m.\u001b[0m\u001b[0mforward\u001b[0m\u001b[0;34m(\u001b[0m\u001b[0;34m*\u001b[0m\u001b[0minput\u001b[0m\u001b[0;34m,\u001b[0m \u001b[0;34m**\u001b[0m\u001b[0mkwargs\u001b[0m\u001b[0;34m)\u001b[0m\u001b[0;34m\u001b[0m\u001b[0;34m\u001b[0m\u001b[0m\n\u001b[0m\u001b[1;32m    551\u001b[0m         \u001b[0;32mfor\u001b[0m \u001b[0mhook\u001b[0m \u001b[0;32min\u001b[0m \u001b[0mself\u001b[0m\u001b[0;34m.\u001b[0m\u001b[0m_forward_hooks\u001b[0m\u001b[0;34m.\u001b[0m\u001b[0mvalues\u001b[0m\u001b[0;34m(\u001b[0m\u001b[0;34m)\u001b[0m\u001b[0;34m:\u001b[0m\u001b[0;34m\u001b[0m\u001b[0;34m\u001b[0m\u001b[0m\n\u001b[1;32m    552\u001b[0m             \u001b[0mhook_result\u001b[0m \u001b[0;34m=\u001b[0m \u001b[0mhook\u001b[0m\u001b[0;34m(\u001b[0m\u001b[0mself\u001b[0m\u001b[0;34m,\u001b[0m \u001b[0minput\u001b[0m\u001b[0;34m,\u001b[0m \u001b[0mresult\u001b[0m\u001b[0;34m)\u001b[0m\u001b[0;34m\u001b[0m\u001b[0;34m\u001b[0m\u001b[0m\n",
            "\u001b[0;32m<ipython-input-148-06d174cad8a7>\u001b[0m in \u001b[0;36mforward\u001b[0;34m(self, x)\u001b[0m\n\u001b[1;32m     14\u001b[0m \u001b[0;34m\u001b[0m\u001b[0m\n\u001b[1;32m     15\u001b[0m     \u001b[0;32mdef\u001b[0m \u001b[0mforward\u001b[0m\u001b[0;34m(\u001b[0m\u001b[0mself\u001b[0m\u001b[0;34m,\u001b[0m \u001b[0mx\u001b[0m\u001b[0;34m)\u001b[0m\u001b[0;34m:\u001b[0m\u001b[0;34m\u001b[0m\u001b[0;34m\u001b[0m\u001b[0m\n\u001b[0;32m---> 16\u001b[0;31m         \u001b[0mx\u001b[0m \u001b[0;34m=\u001b[0m \u001b[0mtorch\u001b[0m\u001b[0;34m.\u001b[0m\u001b[0msigmoid\u001b[0m\u001b[0;34m(\u001b[0m\u001b[0mF\u001b[0m\u001b[0;34m.\u001b[0m\u001b[0mmax_pool2d\u001b[0m\u001b[0;34m(\u001b[0m\u001b[0mself\u001b[0m\u001b[0;34m.\u001b[0m\u001b[0mconv1\u001b[0m\u001b[0;34m(\u001b[0m\u001b[0mx\u001b[0m\u001b[0;34m)\u001b[0m\u001b[0;34m,\u001b[0m \u001b[0;36m2\u001b[0m\u001b[0;34m)\u001b[0m\u001b[0;34m)\u001b[0m\u001b[0;34m\u001b[0m\u001b[0;34m\u001b[0m\u001b[0m\n\u001b[0m\u001b[1;32m     17\u001b[0m         \u001b[0mx\u001b[0m \u001b[0;34m=\u001b[0m \u001b[0mtorch\u001b[0m\u001b[0;34m.\u001b[0m\u001b[0msigmoid\u001b[0m\u001b[0;34m(\u001b[0m\u001b[0mF\u001b[0m\u001b[0;34m.\u001b[0m\u001b[0mmax_pool2d\u001b[0m\u001b[0;34m(\u001b[0m\u001b[0mself\u001b[0m\u001b[0;34m.\u001b[0m\u001b[0mconv2\u001b[0m\u001b[0;34m(\u001b[0m\u001b[0mx\u001b[0m\u001b[0;34m)\u001b[0m\u001b[0;34m,\u001b[0m \u001b[0;36m2\u001b[0m\u001b[0;34m)\u001b[0m\u001b[0;34m)\u001b[0m\u001b[0;34m\u001b[0m\u001b[0;34m\u001b[0m\u001b[0m\n\u001b[1;32m     18\u001b[0m         \u001b[0mx\u001b[0m \u001b[0;34m=\u001b[0m \u001b[0mx\u001b[0m\u001b[0;34m.\u001b[0m\u001b[0mview\u001b[0m\u001b[0;34m(\u001b[0m\u001b[0;34m-\u001b[0m\u001b[0;36m1\u001b[0m\u001b[0;34m,\u001b[0m \u001b[0;36m320\u001b[0m\u001b[0;34m)\u001b[0m\u001b[0;34m\u001b[0m\u001b[0;34m\u001b[0m\u001b[0m\n",
            "\u001b[0;32m/usr/local/lib/python3.6/dist-packages/torch/nn/modules/module.py\u001b[0m in \u001b[0;36m__call__\u001b[0;34m(self, *input, **kwargs)\u001b[0m\n\u001b[1;32m    548\u001b[0m             \u001b[0mresult\u001b[0m \u001b[0;34m=\u001b[0m \u001b[0mself\u001b[0m\u001b[0;34m.\u001b[0m\u001b[0m_slow_forward\u001b[0m\u001b[0;34m(\u001b[0m\u001b[0;34m*\u001b[0m\u001b[0minput\u001b[0m\u001b[0;34m,\u001b[0m \u001b[0;34m**\u001b[0m\u001b[0mkwargs\u001b[0m\u001b[0;34m)\u001b[0m\u001b[0;34m\u001b[0m\u001b[0;34m\u001b[0m\u001b[0m\n\u001b[1;32m    549\u001b[0m         \u001b[0;32melse\u001b[0m\u001b[0;34m:\u001b[0m\u001b[0;34m\u001b[0m\u001b[0;34m\u001b[0m\u001b[0m\n\u001b[0;32m--> 550\u001b[0;31m             \u001b[0mresult\u001b[0m \u001b[0;34m=\u001b[0m \u001b[0mself\u001b[0m\u001b[0;34m.\u001b[0m\u001b[0mforward\u001b[0m\u001b[0;34m(\u001b[0m\u001b[0;34m*\u001b[0m\u001b[0minput\u001b[0m\u001b[0;34m,\u001b[0m \u001b[0;34m**\u001b[0m\u001b[0mkwargs\u001b[0m\u001b[0;34m)\u001b[0m\u001b[0;34m\u001b[0m\u001b[0;34m\u001b[0m\u001b[0m\n\u001b[0m\u001b[1;32m    551\u001b[0m         \u001b[0;32mfor\u001b[0m \u001b[0mhook\u001b[0m \u001b[0;32min\u001b[0m \u001b[0mself\u001b[0m\u001b[0;34m.\u001b[0m\u001b[0m_forward_hooks\u001b[0m\u001b[0;34m.\u001b[0m\u001b[0mvalues\u001b[0m\u001b[0;34m(\u001b[0m\u001b[0;34m)\u001b[0m\u001b[0;34m:\u001b[0m\u001b[0;34m\u001b[0m\u001b[0;34m\u001b[0m\u001b[0m\n\u001b[1;32m    552\u001b[0m             \u001b[0mhook_result\u001b[0m \u001b[0;34m=\u001b[0m \u001b[0mhook\u001b[0m\u001b[0;34m(\u001b[0m\u001b[0mself\u001b[0m\u001b[0;34m,\u001b[0m \u001b[0minput\u001b[0m\u001b[0;34m,\u001b[0m \u001b[0mresult\u001b[0m\u001b[0;34m)\u001b[0m\u001b[0;34m\u001b[0m\u001b[0;34m\u001b[0m\u001b[0m\n",
            "\u001b[0;32m/usr/local/lib/python3.6/dist-packages/torch/nn/modules/conv.py\u001b[0m in \u001b[0;36mforward\u001b[0;34m(self, input)\u001b[0m\n\u001b[1;32m    351\u001b[0m \u001b[0;34m\u001b[0m\u001b[0m\n\u001b[1;32m    352\u001b[0m     \u001b[0;32mdef\u001b[0m \u001b[0mforward\u001b[0m\u001b[0;34m(\u001b[0m\u001b[0mself\u001b[0m\u001b[0;34m,\u001b[0m \u001b[0minput\u001b[0m\u001b[0;34m)\u001b[0m\u001b[0;34m:\u001b[0m\u001b[0;34m\u001b[0m\u001b[0;34m\u001b[0m\u001b[0m\n\u001b[0;32m--> 353\u001b[0;31m         \u001b[0;32mreturn\u001b[0m \u001b[0mself\u001b[0m\u001b[0;34m.\u001b[0m\u001b[0m_conv_forward\u001b[0m\u001b[0;34m(\u001b[0m\u001b[0minput\u001b[0m\u001b[0;34m,\u001b[0m \u001b[0mself\u001b[0m\u001b[0;34m.\u001b[0m\u001b[0mweight\u001b[0m\u001b[0;34m)\u001b[0m\u001b[0;34m\u001b[0m\u001b[0;34m\u001b[0m\u001b[0m\n\u001b[0m\u001b[1;32m    354\u001b[0m \u001b[0;34m\u001b[0m\u001b[0m\n\u001b[1;32m    355\u001b[0m \u001b[0;32mclass\u001b[0m \u001b[0mConv3d\u001b[0m\u001b[0;34m(\u001b[0m\u001b[0m_ConvNd\u001b[0m\u001b[0;34m)\u001b[0m\u001b[0;34m:\u001b[0m\u001b[0;34m\u001b[0m\u001b[0;34m\u001b[0m\u001b[0m\n",
            "\u001b[0;32m/usr/local/lib/python3.6/dist-packages/torch/nn/modules/conv.py\u001b[0m in \u001b[0;36m_conv_forward\u001b[0;34m(self, input, weight)\u001b[0m\n\u001b[1;32m    348\u001b[0m                             _pair(0), self.dilation, self.groups)\n\u001b[1;32m    349\u001b[0m         return F.conv2d(input, weight, self.bias, self.stride,\n\u001b[0;32m--> 350\u001b[0;31m                         self.padding, self.dilation, self.groups)\n\u001b[0m\u001b[1;32m    351\u001b[0m \u001b[0;34m\u001b[0m\u001b[0m\n\u001b[1;32m    352\u001b[0m     \u001b[0;32mdef\u001b[0m \u001b[0mforward\u001b[0m\u001b[0;34m(\u001b[0m\u001b[0mself\u001b[0m\u001b[0;34m,\u001b[0m \u001b[0minput\u001b[0m\u001b[0;34m)\u001b[0m\u001b[0;34m:\u001b[0m\u001b[0;34m\u001b[0m\u001b[0;34m\u001b[0m\u001b[0m\n",
            "\u001b[0;31mRuntimeError\u001b[0m: Expected 4-dimensional input for 4-dimensional weight [10, 1, 5, 5], but got 2-dimensional input of size [64, 1] instead"
          ]
        }
      ]
    },
    {
      "cell_type": "code",
      "metadata": {
        "id": "FRC7j9BYJaM1",
        "colab_type": "code",
        "colab": {
          "base_uri": "https://localhost:8080/",
          "height": 33
        },
        "outputId": "23d47925-b1aa-47ce-c232-e813a702fda6"
      },
      "source": [
        "a = example_importances_A[-1][0]\n",
        "b = example_importances_A[-1][1]\n",
        "a, b"
      ],
      "execution_count": 166,
      "outputs": [
        {
          "output_type": "execute_result",
          "data": {
            "text/plain": [
              "(0.4999997317790985, 0.5000002980232239)"
            ]
          },
          "metadata": {
            "tags": []
          },
          "execution_count": 166
        }
      ]
    },
    {
      "cell_type": "code",
      "metadata": {
        "id": "8rTofkmfJaM3",
        "colab_type": "code",
        "colab": {
          "base_uri": "https://localhost:8080/",
          "height": 33
        },
        "outputId": "832c24ec-3c85-4981-9a0c-bde3a93e17a4"
      },
      "source": [
        "# We find that the ratio is equal\n",
        "a/b, ratio_A**2/ratio_B**2"
      ],
      "execution_count": 167,
      "outputs": [
        {
          "output_type": "execute_result",
          "data": {
            "text/plain": [
              "(0.9999988675124243, 0.0625)"
            ]
          },
          "metadata": {
            "tags": []
          },
          "execution_count": 167
        }
      ]
    },
    {
      "cell_type": "code",
      "metadata": {
        "id": "cgqHEBQZJaM5",
        "colab_type": "code",
        "colab": {
          "base_uri": "https://localhost:8080/",
          "height": 50
        },
        "outputId": "7ac13b25-45a7-4000-eb6c-d5da21fcddee"
      },
      "source": [
        "print(ratio_A/ratio_B)\n",
        "print(ratio_B/ratio_A)"
      ],
      "execution_count": 168,
      "outputs": [
        {
          "output_type": "stream",
          "text": [
            "0.25\n",
            "4.0\n"
          ],
          "name": "stdout"
        }
      ]
    },
    {
      "cell_type": "code",
      "metadata": {
        "id": "M3wuEfOwJaM7",
        "colab_type": "code",
        "colab": {
          "base_uri": "https://localhost:8080/",
          "height": 403
        },
        "outputId": "26d3e1ab-f666-4009-e927-4f32654dea96"
      },
      "source": [
        "plt.figure(figsize=(10,6))\n",
        "plt.title('Losses over iterations')\n",
        "plt.xlabel('Training iterations')\n",
        "plt.ylabel('Mean')\n",
        "plt.plot(mean_A)\n",
        "plt.plot(mean_B)\n",
        "plt.legend(['mean_A', 'mean_B'])\n",
        "plt.show()"
      ],
      "execution_count": 169,
      "outputs": [
        {
          "output_type": "display_data",
          "data": {
            "image/png": "[encoded data removed]",
            "text/plain": [
              "<Figure size 720x432 with 1 Axes>"
            ]
          },
          "metadata": {
            "tags": [],
            "needs_background": "light"
          }
        }
      ]
    },
    {
      "cell_type": "code",
      "metadata": {
        "id": "ClMr5mFnJaM-",
        "colab_type": "code",
        "colab": {}
      },
      "source": [
        ""
      ],
      "execution_count": null,
      "outputs": []
    }
  ]
}