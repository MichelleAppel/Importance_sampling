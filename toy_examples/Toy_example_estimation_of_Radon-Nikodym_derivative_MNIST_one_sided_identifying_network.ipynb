{
 "cells": [
  {
   "cell_type": "markdown",
   "metadata": {
    "colab_type": "text",
    "id": "view-in-github"
   },
   "source": [
    "<a href=\"https://colab.research.google.com/github/MichelleAppel/Importance_sampling/blob/master/toy_examples/Toy_example_estimation_of_Radon-Nikodym_derivative_MNIST_one_sided.ipynb\" target=\"_parent\"><img src=\"https://colab.research.google.com/assets/colab-badge.svg\" alt=\"Open In Colab\"/></a>"
   ]
  },
  {
   "cell_type": "markdown",
   "metadata": {
    "colab_type": "text",
    "id": "6J5y6SbAJaMS"
   },
   "source": [
    "# Toy example estimation of Radon-Nikodym derivative for MNIST dataset (one sided)"
   ]
  },
  {
   "cell_type": "markdown",
   "metadata": {
    "colab_type": "text",
    "id": "LUEg3hsSJaMT"
   },
   "source": [
    "Equation (5) of the paper by Binkowski et al. explains that the Radon-Nikodym derivative $\\frac{d \\mathbb{Q}_y}{ \\mathbb{P}_y^G}$ of the two domains exist under the assumptions they state. This derivative can also be seen as the ratio between the two distributions of the domains, and can be used to express the compensation for imbalance in the domains:\n",
    "\n",
    "$\\mathbb{E}_{Y \\sim \\mathbb{Q}_y}[D(Y)] = \\mathbb{E}_{X \\sim \\mathbb{P}_x}[D(G(X)) \\frac{d \\mathbb{Q}_y}{ d\\mathbb{P}_y^G}(G(X))]$\n",
    "\n",
    "This expresses compensation for imbalance between the discriminator outputs, caused by the imbalance in the domain distributions. However, it does not necessarily have to be used for the imbalance in the discriminator outputs. It can be applied to any imbalance caused by the different domain distributions.\n",
    "\n",
    "--\n",
    "\n",
    "In other words, we are trying to study the situation where we don't deal with a discriminator but with any function, let it be $f$. This $f$ can be any function, e.g. identity, mean.... We try to compensate for imbalances in the two domains over which we compute the function:\n",
    "\n",
    "$\\mathbb{E}_{Y \\sim \\mathbb{Q}_y}[f(Y)] = \\mathbb{E}_{X \\sim \\mathbb{P}_x}[f(G(X)) \\frac{d \\mathbb{Q}_y}{ d\\mathbb{P}_y^G}(G(X))]$\n",
    "\n",
    "Possible functions $f$ for MNIST:\n",
    "* use the label\n",
    "* pre-trained classifier\n",
    "\n",
    "\n",
    "--\n",
    "\n",
    "This toy example uses a simplified version of MNIST.\n",
    "\n",
    "The dataset only has zeroes and ones, and the percentage of zeros/ones is specified by the user\n",
    "\n",
    "--\n",
    "\n",
    "The following toy example shows how we can use the Radon-Nikodym derivative for compensating the imbalance for the mean of the domains using $\\bar{Y} = \\bar{X}\\frac{d \\mathbb{Q}_y}{d \\mathbb{P}_x}$.\n",
    "\n",
    "\n",
    "Let $X = [1, 1, 1, 1, 1, 1, 1, 0, 0]$, with mean $\\bar{X} = 0.8$ and <br />\n",
    "Let $Y = [1, 1, 0, 0, 0, 0, 0, 0, 0]$, with mean $\\bar{Y} = 0.2$\n",
    "\n",
    "Then $[1, 1, 0, 0, 0, 0, 0, 0, 0] = [1, 1, 1, 1, 1, 1, 1, 0, 0] \\cdot \\frac{d \\mathbb{Q}_y}{d \\mathbb{P}_x}(X)$, and <br />\n",
    "$\\frac{d \\mathbb{Q}_y}{d \\mathbb{P}_x}(X) = [0.25, 0.25, 0.25, 0.25, 0.25, 0.25, 0.25, 4, 4]$\n",
    "\n",
    "This can be interpreted as the ratio between means of the domains for each of the samples. In this example the ratio can be calculated. However, in more complex situations, for example with images, the Radon-Nykodym derivative $\\frac{d \\mathbb{Q}_y}{d \\mathbb{P}_x}$ is unknown and we may try to estimate it using a neural network $W$. This leads to the objective function\n",
    "\n",
    "$\\inf_{W \\in \\mathcal{W}} (\\mathbb{E}_{X \\sim \\mathbb{P}_x} [D(G(X)) \\cdot W(X)] - \\mathbb{E}_{Y \\sim \\mathbb{Q}_y}[D(Y)])^2$\n",
    "\n",
    "used by Binkowski et al. for compensation of distributions in the domains, using the discriminator output. Similarly, we can use such a network in our toy example."
   ]
  },
  {
   "cell_type": "code",
   "execution_count": 1,
   "metadata": {
    "colab": {},
    "colab_type": "code",
    "id": "siUNmu07JaMT"
   },
   "outputs": [],
   "source": [
    "import torch\n",
    "import torch.nn as nn\n",
    "import torch.nn.functional as F\n",
    "import torch.optim as optim\n",
    "from torch.utils.data import Dataset, DataLoader\n",
    "from torchvision.utils import make_grid\n",
    "import torchvision\n",
    "import numpy as np\n",
    "\n",
    "import itertools\n",
    "\n",
    "import matplotlib.pyplot as plt"
   ]
  },
  {
   "cell_type": "code",
   "execution_count": 2,
   "metadata": {
    "colab": {},
    "colab_type": "code",
    "id": "FrWt3LBZJaMX"
   },
   "outputs": [],
   "source": [
    "def visualize_img_batch(batch):\n",
    "    '''Visualizes image batch\n",
    "    \n",
    "    Parameters:\n",
    "    batch (Tensor): An image batch\n",
    "    '''\n",
    "    grid = make_grid(batch.unsqueeze(1).unsqueeze(1).cpu(), nrow=8, padding=1, normalize=False, range=None, scale_each=False, pad_value=0.5)\n",
    "    plt.imshow(grid.permute(1,2,0))\n",
    "    plt.show()"
   ]
  },
  {
   "cell_type": "code",
   "execution_count": 3,
   "metadata": {
    "colab": {
     "base_uri": "https://localhost:8080/",
     "height": 51
    },
    "colab_type": "code",
    "id": "S4mfJzmXJaMa",
    "outputId": "7414f1d4-599b-4884-acfd-bb617fe657fe"
   },
   "outputs": [
    {
     "data": {
      "text/plain": [
       "'def binary_data(size=(2**21, 1), ratio=0.5):\\n    \\n    idx = torch.randperm(size[0])[:int(ratio*size[0])] # Randomly choose indices according to the ratio\\n\\n    print(idx)\\n    print(idx.shape)\\n    image_batch = torch.zeros(size)\\n    image_batch[idx] = 1\\n    \\n    return image_batch.clamp(0, 1).cuda().detach()'"
      ]
     },
     "execution_count": 3,
     "metadata": {},
     "output_type": "execute_result"
    }
   ],
   "source": [
    "'''def binary_data(size=(2**21, 1), ratio=0.5):\n",
    "    \n",
    "    idx = torch.randperm(size[0])[:int(ratio*size[0])] # Randomly choose indices according to the ratio\n",
    "\n",
    "    print(idx)\n",
    "    print(idx.shape)\n",
    "    image_batch = torch.zeros(size)\n",
    "    image_batch[idx] = 1\n",
    "    \n",
    "    return image_batch.clamp(0, 1).cuda().detach()'''\n"
   ]
  },
  {
   "cell_type": "code",
   "execution_count": 4,
   "metadata": {
    "colab": {
     "base_uri": "https://localhost:8080/",
     "height": 83
    },
    "colab_type": "code",
    "id": "cYv7UIwcJaMc",
    "outputId": "036b7bb1-a835-45f9-bae9-a67fdea96785"
   },
   "outputs": [
    {
     "data": {
      "text/plain": [
       "\"class ColorDataset(Dataset):\\n    ''The dataloader for the binary data\\n    '\\n    def __init__(self, ratio=0.5):\\n\\n        self.ratio = ratio\\n        \\n        self.dataset = binary_data(ratio=self.ratio)\\n        \\n        self.example_imgs = self.example()\\n        \\n    def example(self):\\n        '\\n        Returns an example from each mode in the domain\\n        \\n        ''\\n        example_imgs = torch.zeros(size=(2, 1))\\n        example_imgs[1] = 1\\n        \\n        return example_imgs\\n\\n    def __len__(self):\\n        return len(self.dataset)\\n    \\n    def __getitem__(self, idx):      \\n        return self.dataset[idx]\""
      ]
     },
     "execution_count": 4,
     "metadata": {},
     "output_type": "execute_result"
    }
   ],
   "source": [
    "'''class ColorDataset(Dataset):\n",
    "    ''The dataloader for the binary data\n",
    "    '\n",
    "    def __init__(self, ratio=0.5):\n",
    "\n",
    "        self.ratio = ratio\n",
    "        \n",
    "        self.dataset = binary_data(ratio=self.ratio)\n",
    "        \n",
    "        self.example_imgs = self.example()\n",
    "        \n",
    "    def example(self):\n",
    "        '\n",
    "        Returns an example from each mode in the domain\n",
    "        \n",
    "        ''\n",
    "        example_imgs = torch.zeros(size=(2, 1))\n",
    "        example_imgs[1] = 1\n",
    "        \n",
    "        return example_imgs\n",
    "\n",
    "    def __len__(self):\n",
    "        return len(self.dataset)\n",
    "    \n",
    "    def __getitem__(self, idx):      \n",
    "        return self.dataset[idx]'''"
   ]
  },
  {
   "cell_type": "code",
   "execution_count": 5,
   "metadata": {
    "colab": {},
    "colab_type": "code",
    "id": "ByE-gIdSEtFH"
   },
   "outputs": [],
   "source": [
    "def visualize_MNIST_img_batch(batch):\n",
    "    '''Visualizes image batch for MNIST\n",
    "    \n",
    "    Parameters:\n",
    "    batch (Tensor): An image batch\n",
    "    '''\n",
    "    fig = plt.figure()\n",
    "    for i in range(batch.shape[0]):\n",
    "      plt.subplot(1,2,i+1)\n",
    "      plt.tight_layout()\n",
    "      plt.imshow(batch[i], cmap='gray', interpolation='none')\n",
    "      plt.title(\"Ground Truth: {}\".format(i))\n",
    "      plt.xticks([])\n",
    "      plt.yticks([])"
   ]
  },
  {
   "cell_type": "code",
   "execution_count": 6,
   "metadata": {
    "colab": {
     "base_uri": "https://localhost:8080/",
     "height": 51
    },
    "colab_type": "code",
    "id": "HIx0JMDXtEC3",
    "outputId": "ab196039-9341-425d-d580-0579b97ff5bf"
   },
   "outputs": [
    {
     "data": {
      "text/plain": [
       "\"# TEST\\nres = MNIST_binary_data(0.2)\\n#print(res)\\n#print(res.targets) #labels\\n#print(res.data) #data\\n\\nones = res.targets.sum().item()\\ntot = res.targets.shape[0]\\nprint('zeroes =' + str(tot-ones))\\nprint('ones =' + str(ones))\\nprint('ratio =' + str((tot-ones)/tot))\""
      ]
     },
     "execution_count": 6,
     "metadata": {},
     "output_type": "execute_result"
    }
   ],
   "source": [
    "def MNIST_binary_data(ratio=0.5):\n",
    "    # ratio: percentage of zeroes\n",
    "    #returns (data, labels) for MNIST with only zeroes and ones, with the given ratio\n",
    "\n",
    "    MNIST = torchvision.datasets.MNIST('./files/', train=True, download=True,\n",
    "                             transform=torchvision.transforms.Compose([\n",
    "                               torchvision.transforms.ToTensor(),\n",
    "                               torchvision.transforms.Normalize(\n",
    "                                 (0.1307,), (0.3081,))\n",
    "                             ]))\n",
    "    \n",
    "    idxm0 = MNIST.train_labels==0\n",
    "    idxm1 = MNIST.train_labels==1 \n",
    "    dim = len(idxm0)  \n",
    "\n",
    "    n0 = torch.sum(idxm0)\n",
    "    n1 = torch.sum(idxm1)\n",
    "    tot = n0 + n1\n",
    "\n",
    "    if ratio < n0.item()/tot.item():\n",
    "      if ratio == 1:\n",
    "        size = n0\n",
    "      else:\n",
    "        size = int(n1/(1-ratio))\n",
    "      idx0 = np.where(idxm0)[0]\n",
    "      idx0 = idx0[:int(size*ratio)]\n",
    "      idx1 = np.where(idxm1)[0]\n",
    "      #idx0 = [True if i in indices else False for i in range(len(idx0))]\n",
    "    else:\n",
    "      if ratio == 1:\n",
    "        size = n1\n",
    "      else:\n",
    "        size = int(n0/ratio)\n",
    "      idx0 = np.where(idxm0)[0]\n",
    "      idx1 = np.where(idxm1)[0]\n",
    "      idx1 = idx1[:int(size*(1-ratio))]\n",
    "      #idx1 = [True if i in indices else False for i in range(len(idx1))]\n",
    "\n",
    "    idx = idx0.tolist() + idx1.tolist()\n",
    "    idxm = torch.tensor( [True if i in idx else False for i in range(dim)] )\n",
    "\n",
    "    #labels = MNIST.train_labels[idxm]\n",
    "    #data = MNIST.train_data[idxm]\n",
    "\n",
    "    MNIST.targets = MNIST.train_labels[idx]\n",
    "    MNIST.data = MNIST.train_data[idx]\n",
    "\n",
    "    return MNIST \n",
    "\n",
    "'''# TEST\n",
    "res = MNIST_binary_data(0.2)\n",
    "#print(res)\n",
    "#print(res.targets) #labels\n",
    "#print(res.data) #data\n",
    "\n",
    "ones = res.targets.sum().item()\n",
    "tot = res.targets.shape[0]\n",
    "print('zeroes =' + str(tot-ones))\n",
    "print('ones =' + str(ones))\n",
    "print('ratio =' + str((tot-ones)/tot))'''"
   ]
  },
  {
   "cell_type": "code",
   "execution_count": 7,
   "metadata": {
    "colab": {
     "base_uri": "https://localhost:8080/",
     "height": 51
    },
    "colab_type": "code",
    "id": "_RwJIr7Gs0On",
    "outputId": "06477527-3aa0-4a2b-b2be-de38c34342fe"
   },
   "outputs": [
    {
     "data": {
      "text/plain": [
       "'# TEST\\ndataset = MNISTDataset()\\n\\nfig = plt.figure()\\nfor i in range(2):\\n  plt.subplot(1,2,i+1)\\n  plt.tight_layout()\\n  plt.imshow(dataset.example_imgs[i].cpu(), cmap=\\'gray\\', interpolation=\\'none\\')\\n  plt.title(\"Ground Truth: {}\".format(i))\\n  plt.xticks([])\\n  plt.yticks([])'"
      ]
     },
     "execution_count": 7,
     "metadata": {},
     "output_type": "execute_result"
    }
   ],
   "source": [
    "class MNISTDataset(Dataset):\n",
    "    '''The dataset for the MNIST binary data\n",
    "    '''\n",
    "    def __init__(self, ratio=0.5):\n",
    "\n",
    "        self.ratio = ratio\n",
    "        \n",
    "        self.dataset = MNIST_binary_data(ratio=self.ratio)\n",
    "        \n",
    "        self.example_imgs = self.example()\n",
    "        \n",
    "    def example(self):\n",
    "        '''\n",
    "        Returns an example from each digit in the domain\n",
    "        \n",
    "        '''\n",
    "        labels = self.dataset.targets\n",
    "        data = self.dataset.data\n",
    "        img0 = data[labels==0][0].unsqueeze(0)\n",
    "        img1 = data[labels==1][0].unsqueeze(0)\n",
    "        ex = torch.cat((img0, img1), 0)\n",
    "              \n",
    "        return ex\n",
    "\n",
    "    def __len__(self):\n",
    "        return len(self.dataset)\n",
    "    \n",
    "    def __getitem__(self, idx):      \n",
    "        return self.dataset[idx]\n",
    "\n",
    "'''# TEST\n",
    "dataset = MNISTDataset()\n",
    "\n",
    "fig = plt.figure()\n",
    "for i in range(2):\n",
    "  plt.subplot(1,2,i+1)\n",
    "  plt.tight_layout()\n",
    "  plt.imshow(dataset.example_imgs[i].cpu(), cmap='gray', interpolation='none')\n",
    "  plt.title(\"Ground Truth: {}\".format(i))\n",
    "  plt.xticks([])\n",
    "  plt.yticks([])'''"
   ]
  },
  {
   "cell_type": "code",
   "execution_count": 8,
   "metadata": {
    "colab": {
     "base_uri": "https://localhost:8080/",
     "height": 513
    },
    "colab_type": "code",
    "id": "prbVAeT_JaMf",
    "outputId": "d6d6197e-21e8-4b27-cc5c-cc238a7263be"
   },
   "outputs": [
    {
     "name": "stderr",
     "output_type": "stream",
     "text": [
      "/home/michelle/.local/lib/python3.7/site-packages/torchvision/datasets/mnist.py:45: UserWarning: train_labels has been renamed targets\n",
      "  warnings.warn(\"train_labels has been renamed targets\")\n",
      "/home/michelle/.local/lib/python3.7/site-packages/torchvision/datasets/mnist.py:55: UserWarning: train_data has been renamed data\n",
      "  warnings.warn(\"train_data has been renamed data\")\n"
     ]
    },
    {
     "data": {
      "image/png": "[encoded data removed]",
      "text/plain": [
       "<Figure size 432x288 with 2 Axes>"
      ]
     },
     "metadata": {},
     "output_type": "display_data"
    },
    {
     "data": {
      "image/png": "[encoded data removed]",
      "text/plain": [
       "<Figure size 432x288 with 2 Axes>"
      ]
     },
     "metadata": {},
     "output_type": "display_data"
    }
   ],
   "source": [
    "# Settings for domain A (red)\n",
    "ratio_A = 0.2\n",
    "dataset_A = MNISTDataset(ratio=ratio_A)\n",
    "dataloader_A = DataLoader(dataset_A, batch_size=256, shuffle=True)\n",
    "\n",
    "# Settings for domain B (green)\n",
    "ratio_B = 0.8\n",
    "dataset_B = MNISTDataset(ratio=ratio_B)\n",
    "dataloader_B = DataLoader(dataset_B, batch_size=256, shuffle=True)\n",
    "\n",
    "visualize_MNIST_img_batch(dataset_A.example_imgs.cpu())\n",
    "visualize_MNIST_img_batch(dataset_B.example_imgs.cpu())"
   ]
  },
  {
   "cell_type": "code",
   "execution_count": 9,
   "metadata": {
    "colab": {
     "base_uri": "https://localhost:8080/",
     "height": 1000
    },
    "colab_type": "code",
    "id": "hlPSWnigJaMi",
    "outputId": "58e544bc-7141-4614-de33-fdc836fb2397"
   },
   "outputs": [
    {
     "data": {
      "image/png": "[encoded data removed]",
      "text/plain": [
       "<Figure size 432x288 with 1 Axes>"
      ]
     },
     "metadata": {
      "needs_background": "light"
     },
     "output_type": "display_data"
    },
    {
     "data": {
      "image/png": "[encoded data removed]",
      "text/plain": [
       "<Figure size 432x288 with 1 Axes>"
      ]
     },
     "metadata": {
      "needs_background": "light"
     },
     "output_type": "display_data"
    },
    {
     "name": "stderr",
     "output_type": "stream",
     "text": [
      "/home/michelle/.local/lib/python3.7/site-packages/ipykernel_launcher.py:22: UserWarning: To copy construct from a tensor, it is recommended to use sourceTensor.clone().detach() or sourceTensor.clone().detach().requires_grad_(True), rather than torch.tensor(sourceTensor).\n"
     ]
    },
    {
     "data": {
      "image/png": "[encoded data removed]",
      "text/plain": [
       "<Figure size 432x288 with 1 Axes>"
      ]
     },
     "metadata": {
      "needs_background": "light"
     },
     "output_type": "display_data"
    },
    {
     "name": "stderr",
     "output_type": "stream",
     "text": [
      "/home/michelle/.local/lib/python3.7/site-packages/ipykernel_launcher.py:23: UserWarning: To copy construct from a tensor, it is recommended to use sourceTensor.clone().detach() or sourceTensor.clone().detach().requires_grad_(True), rather than torch.tensor(sourceTensor).\n"
     ]
    },
    {
     "data": {
      "image/png": "[encoded data removed]",
      "text/plain": [
       "<Figure size 432x288 with 1 Axes>"
      ]
     },
     "metadata": {
      "needs_background": "light"
     },
     "output_type": "display_data"
    }
   ],
   "source": [
    "import cv2\n",
    "\n",
    "def plot_hist(data):\n",
    "    data = data.squeeze().cpu()\n",
    "    plt.hist(data[data==1], weights=torch.ones(len(data[data==1]))/len(data), \n",
    "             color='black', bins=10, range= (0, 1))\n",
    "    plt.hist(data[data==0], weights=torch.ones(len(data[data==0]))/len(data), \n",
    "             color='white', bins=10, range= (0, 1))\n",
    "    plt.legend(['Imgs for label {}'.format(1), \n",
    "                'Imgs for label {}'.format(0)])\n",
    "    plt.gca().set_facecolor('xkcd:gray')\n",
    "    x_unique_count = torch.stack([(data==x_u).sum() for x_u in data.unique()])\n",
    "    plt.show()\n",
    "\n",
    "for i, (data_A, data_B) in enumerate(zip(dataloader_A, dataloader_B)):\n",
    "    labs_A = data_A[1].double()\n",
    "    labs_B = data_B[1].double()\n",
    "\n",
    "    plot_hist(labs_A)\n",
    "    plot_hist(labs_B)\n",
    "    \n",
    "    visualize_img_batch(torch.tensor(labs_A[:64]).unsqueeze(1).cuda())\n",
    "    visualize_img_batch(torch.tensor(labs_B[:64]).unsqueeze(1).cuda())\n",
    "    break"
   ]
  },
  {
   "cell_type": "code",
   "execution_count": 11,
   "metadata": {
    "colab": {},
    "colab_type": "code",
    "id": "Xzr1OIyoJaMl"
   },
   "outputs": [],
   "source": [
    "class WeightNet(nn.Module):\n",
    "    '''A simple network that predicts the importances of the samples'''\n",
    "\n",
    "    def __init__(self):\n",
    "        super(WeightNet, self).__init__()\n",
    "#        self.fc1 = nn.Linear(1, 1)\n",
    "#        self.fc2 = nn.Linear(1, 1)\n",
    "        self.softmax = nn.Softmax(dim=0)\n",
    "\n",
    "        self.conv1 = nn.Conv2d(1, 10, kernel_size=5)\n",
    "        self.conv2 = nn.Conv2d(10, 20, kernel_size=5)\n",
    "        self.fc1 = nn.Linear(320, 40)\n",
    "        self.fc2 = nn.Linear(40, 1)\n",
    "        \n",
    "    def forward(self, x):\n",
    "        x = torch.sigmoid(F.max_pool2d(self.conv1(x), 2))\n",
    "        x = torch.sigmoid(F.max_pool2d(self.conv2(x), 2))\n",
    "        x = x.view(-1, 320)\n",
    "        x = torch.sigmoid(self.fc1(x))\n",
    "        x = self.fc2(x)\n",
    "        return self.softmax(x)\n",
    "\n",
    "#        h1 = torch.sigmoid(self.fc1(x))\n",
    "#        out = self.fc2(h1)\n",
    "#        return self.softmax(out)\n",
    "#         return out"
   ]
  },
  {
   "cell_type": "code",
   "execution_count": 14,
   "metadata": {},
   "outputs": [],
   "source": [
    "class IdentifyNet(nn.Module):\n",
    "    '''A simple network that predicts the importances of the samples'''\n",
    "\n",
    "    def __init__(self):\n",
    "        super(IdentifyNet, self).__init__()\n",
    "#        self.fc1 = nn.Linear(1, 1)\n",
    "#        self.fc2 = nn.Linear(1, 1)\n",
    "        self.softmax = nn.Softmax(dim=0)\n",
    "\n",
    "        self.conv1 = nn.Conv2d(1, 10, kernel_size=5)\n",
    "        self.conv2 = nn.Conv2d(10, 20, kernel_size=5)\n",
    "        self.fc1 = nn.Linear(320, 40)\n",
    "        self.fc2 = nn.Linear(40, 1)\n",
    "        \n",
    "    def forward(self, x):\n",
    "        x = torch.sigmoid(F.max_pool2d(self.conv1(x), 2))\n",
    "        x = torch.sigmoid(F.max_pool2d(self.conv2(x), 2))\n",
    "        x = x.view(-1, 320)\n",
    "        x = torch.sigmoid(self.fc1(x))\n",
    "        x = self.fc2(x)\n",
    "        return x\n",
    "\n",
    "#        h1 = torch.sigmoid(self.fc1(x))\n",
    "#        out = self.fc2(h1)\n",
    "#        return self.softmax(out)\n",
    "#         return out"
   ]
  },
  {
   "cell_type": "code",
   "execution_count": null,
   "metadata": {
    "colab": {
     "base_uri": "https://localhost:8080/",
     "height": 33
    },
    "colab_type": "code",
    "id": "mzq2m9j-JaMp",
    "outputId": "5d5ab3a2-9d5e-4a2f-b90f-e6a88357a5ee"
   },
   "outputs": [
    {
     "name": "stdout",
     "output_type": "stream",
     "text": [
      "epoch 0 step 0 loss_w:  2.234078237961512e-06 loss_i -2.234078237961512e-06\n",
      "epoch 1 step 0 loss_w:  0.012025557458400726 loss_i -0.012025557458400726\n",
      "epoch 2 step 0 loss_w:  2.263587474822998 loss_i -2.263587474822998\n",
      "epoch 3 step 0 loss_w:  0.03917150944471359 loss_i -0.03917150944471359\n",
      "epoch 4 step 0 loss_w:  4.938458442687988 loss_i -4.938458442687988\n",
      "epoch 5 step 0 loss_w:  7.021679401397705 loss_i -7.021679401397705\n",
      "epoch 6 step 0 loss_w:  22.643259048461914 loss_i -22.643259048461914\n",
      "epoch 7 step 0 loss_w:  17.10411834716797 loss_i -17.10411834716797\n",
      "epoch 8 step 0 loss_w:  15.504480361938477 loss_i -15.504480361938477\n",
      "epoch 9 step 0 loss_w:  2.8325679302215576 loss_i -2.8325679302215576\n"
     ]
    }
   ],
   "source": [
    "# Initialize the networks\n",
    "weight_network = WeightNet().cuda()\n",
    "identify_net = IdentifyNet().cuda()\n",
    "\n",
    "# Initialize the optimizers\n",
    "lr = 0.01\n",
    "optimizer_w = optim.Adam(weight_network.parameters(), lr=lr)\n",
    "optimizer_i = optim.Adam(identify_net.parameters(), lr=lr)\n",
    "\n",
    "losses_w = []\n",
    "\n",
    "means_A = []\n",
    "means_B = []\n",
    "\n",
    "L_As = []\n",
    "L_Bs = []\n",
    "\n",
    "example_importances_A = []\n",
    "example_importances_B = []\n",
    "\n",
    "\n",
    "\n",
    "def weight_normalization(w):\n",
    "    return w\n",
    "#     return 0.5*(1 + w)\n",
    "\n",
    "for epoch in range(20):\n",
    "    for i, (batch_A, batch_B) in enumerate(zip(dataloader_A, dataloader_B)):\n",
    "      \n",
    "        real_A = batch_A[0].cuda().detach()\n",
    "        real_B = batch_B[0].cuda().detach()\n",
    "        labels_A = batch_A[1].cuda().detach()\n",
    "        labels_B = batch_B[1].cuda().detach()\n",
    "        \n",
    "        # The weighting process\n",
    "        w = weight_network(real_A)\n",
    "        A = identify_net(real_A)\n",
    "        B = identify_net(real_B)\n",
    "    \n",
    "        # The loss function --------------------------------------------------------------------------------\n",
    "        \n",
    "        # Using the means as objective function\n",
    "        L_A  = (A.view(-1).detach() * weight_normalization(w).view(-1)).sum()\n",
    "        L_B = (B.view(-1).detach()).mean()\n",
    "        loss_w = (L_A - L_B)**2\n",
    "        \n",
    "        L_A_i  = (A.view(-1) * weight_normalization(w.detach()).view(-1)).sum()\n",
    "        L_B_i = (B.view(-1)).mean()\n",
    "        loss_i = -(L_A_i - L_B_i)**2        \n",
    "        \n",
    "        mean_A = (labels_A.view(-1).float() * w.view(-1)).sum()\n",
    "        mean_B = (labels_B.view(-1).float()).mean()\n",
    "        \n",
    "        \n",
    "        means_A += [mean_A]\n",
    "        means_B += [mean_B]\n",
    "\n",
    "        # ---------------------------------------------------------------------------------------------------\n",
    "\n",
    "        # Backward\n",
    "        optimizer_w.zero_grad()\n",
    "        loss_w.backward()\n",
    "        optimizer_w.step() \n",
    "        \n",
    "        optimizer_i.zero_grad()\n",
    "        loss_i.backward()\n",
    "        optimizer_i.step()         \n",
    "\n",
    "        # Store values --------------------------------------------------------------------------------------\n",
    "        L_As += [L_A.item()]\n",
    "        L_Bs += [L_B.item()]\n",
    "        \n",
    "        losses_w += [loss_w.item()]\n",
    "        \n",
    "        w_a = weight_normalization((weight_network(dataset_A.example_imgs.float().unsqueeze(1).cuda())))\n",
    "        example_importances_A += [(w_a[0].item(), w_a[1].item())] # Store examples in a list\n",
    "\n",
    "        # ---------------------------------------------------------------------------------------------------\n",
    "\n",
    "        # Print statistics\n",
    "        if i % 500 == 0:\n",
    "            print('epoch', epoch, 'step', i, 'loss_w: ', loss_w.item(), 'loss_i', loss_i.item())\n",
    "            \n",
    "        if i % 10000 == 0 and i != 0:\n",
    "            break"
   ]
  },
  {
   "cell_type": "code",
   "execution_count": null,
   "metadata": {
    "colab": {
     "base_uri": "https://localhost:8080/",
     "height": 403
    },
    "colab_type": "code",
    "id": "odfL4hdUJaMr",
    "outputId": "27d4c266-5f11-4358-f24d-9a64bd91bb12"
   },
   "outputs": [],
   "source": [
    "plt.figure(figsize=(10,6))\n",
    "plt.title('Losses over iterations')\n",
    "plt.xlabel('Training iterations')\n",
    "plt.ylabel('Loss')\n",
    "# plt.yscale('symlog')\n",
    "plt.plot(losses_w)\n",
    "plt.legend(['W'])\n",
    "plt.show()"
   ]
  },
  {
   "cell_type": "code",
   "execution_count": null,
   "metadata": {
    "colab": {
     "base_uri": "https://localhost:8080/",
     "height": 403
    },
    "colab_type": "code",
    "id": "PJuq-bwQJaMt",
    "outputId": "29b5bccb-94b8-4474-b056-e8eda6bada5e"
   },
   "outputs": [],
   "source": [
    "plt.figure(figsize=(10,6))\n",
    "plt.title('Losses over iterations')\n",
    "plt.xlabel('Training iterations')\n",
    "plt.ylabel('Loss')\n",
    "plt.plot(L_As)\n",
    "plt.plot(L_Bs)\n",
    "plt.legend(['L_A', 'L_B'])\n",
    "plt.show()"
   ]
  },
  {
   "cell_type": "code",
   "execution_count": null,
   "metadata": {
    "colab": {
     "base_uri": "https://localhost:8080/",
     "height": 420
    },
    "colab_type": "code",
    "id": "Y_mNJOz7JaMw",
    "outputId": "35413266-6254-4dcf-b1e2-14534182cbf5"
   },
   "outputs": [],
   "source": [
    "plt.figure(figsize=(10,6))\n",
    "plt.title('Assigned importances for the toy example images over the course of training')\n",
    "plt.plot(example_importances_A)\n",
    "plt.legend(['Img A with value {} (p={})'.format(0, ratio_A), \n",
    "            'Img A with value {} (p={})'.format(1, 1-ratio_A)])\n",
    "plt.ylabel('Assigned importance')\n",
    "plt.xlabel('Training iterations')\n",
    "plt.show()\n",
    "\n",
    "example_importances_A[-1]"
   ]
  },
  {
   "cell_type": "code",
   "execution_count": null,
   "metadata": {
    "colab": {
     "base_uri": "https://localhost:8080/",
     "height": 361
    },
    "colab_type": "code",
    "id": "PaxHb0AEJaMy",
    "outputId": "df5315f5-bb37-4931-acf4-8ccd4f66691e"
   },
   "outputs": [],
   "source": [
    "# weights = weight_network(torch.linspace(0, 1, 64).view(-1,1).cuda()).cpu().detach().numpy()\n",
    "# plt.figure(figsize=(10,6))\n",
    "# plt.title('Assigned importances for image values')\n",
    "# plt.plot(torch.linspace(0, 1, 64), weights)\n",
    "# plt.ylabel('Assigned importance')\n",
    "# plt.xlabel('Image value')\n",
    "# plt.show()"
   ]
  },
  {
   "cell_type": "code",
   "execution_count": null,
   "metadata": {
    "colab": {
     "base_uri": "https://localhost:8080/",
     "height": 33
    },
    "colab_type": "code",
    "id": "FRC7j9BYJaM1",
    "outputId": "23d47925-b1aa-47ce-c232-e813a702fda6"
   },
   "outputs": [],
   "source": [
    "a = example_importances_A[-1][0]\n",
    "b = example_importances_A[-1][1]\n",
    "a, b"
   ]
  },
  {
   "cell_type": "code",
   "execution_count": null,
   "metadata": {
    "colab": {
     "base_uri": "https://localhost:8080/",
     "height": 403
    },
    "colab_type": "code",
    "id": "M3wuEfOwJaM7",
    "outputId": "26d3e1ab-f666-4009-e927-4f32654dea96"
   },
   "outputs": [],
   "source": [
    "plt.figure(figsize=(10,6))\n",
    "plt.title('Weighted means of the domains over iterations')\n",
    "plt.xlabel('Training iterations')\n",
    "plt.ylabel('Mean')\n",
    "plt.plot(means_A)\n",
    "plt.plot(means_B)\n",
    "plt.legend(['mean_A', 'mean_B'])\n",
    "plt.show()"
   ]
  },
  {
   "cell_type": "code",
   "execution_count": null,
   "metadata": {
    "colab": {},
    "colab_type": "code",
    "id": "ClMr5mFnJaM-"
   },
   "outputs": [],
   "source": []
  }
 ],
 "metadata": {
  "accelerator": "GPU",
  "colab": {
   "include_colab_link": true,
   "name": "Toy_example_estimation_of_Radon-Nikodym_derivative_MNIST_one_sided.ipynb",
   "provenance": []
  },
  "kernelspec": {
   "display_name": "Python 3",
   "language": "python",
   "name": "python3"
  },
  "language_info": {
   "codemirror_mode": {
    "name": "ipython",
    "version": 3
   },
   "file_extension": ".py",
   "mimetype": "text/x-python",
   "name": "python",
   "nbconvert_exporter": "python",
   "pygments_lexer": "ipython3",
   "version": "3.7.5"
  }
 },
 "nbformat": 4,
 "nbformat_minor": 1
}
