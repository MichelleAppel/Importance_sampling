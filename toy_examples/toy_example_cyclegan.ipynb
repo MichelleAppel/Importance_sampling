{
  "nbformat": 4,
  "nbformat_minor": 0,
  "metadata": {
    "kernelspec": {
      "display_name": "Python 3",
      "language": "python",
      "name": "python3"
    },
    "language_info": {
      "codemirror_mode": {
        "name": "ipython",
        "version": 3
      },
      "file_extension": ".py",
      "mimetype": "text/x-python",
      "name": "python",
      "nbconvert_exporter": "python",
      "pygments_lexer": "ipython3",
      "version": "3.7.5"
    },
    "colab": {
      "name": "toy_example_cyclegan.ipynb",
      "provenance": [],
      "collapsed_sections": []
    }
  },
  "cells": [
    {
      "cell_type": "markdown",
      "metadata": {
        "id": "VXe6aVtFj-y8",
        "colab_type": "text"
      },
      "source": [
        "# CycleGAN: toy example\n",
        "This is an toy example that demonstrates CycleGAN and our assumption of semantic correspondence in the color dataset."
      ]
    },
    {
      "cell_type": "code",
      "metadata": {
        "id": "oEy2GYhbj-y9",
        "colab_type": "code",
        "colab": {}
      },
      "source": [
        "import torch\n",
        "import torch.nn as nn\n",
        "import torch.nn.functional as F\n",
        "import torch.optim as optim\n",
        "from torch.utils.data import Dataset, DataLoader\n",
        "from torchvision.utils import make_grid\n",
        "\n",
        "import itertools\n",
        "\n",
        "import matplotlib.pyplot as plt"
      ],
      "execution_count": 0,
      "outputs": []
    },
    {
      "cell_type": "markdown",
      "metadata": {
        "id": "jnlyXXFNj-zC",
        "colab_type": "text"
      },
      "source": [
        "### Functions for generation and visualization of the image batches"
      ]
    },
    {
      "cell_type": "code",
      "metadata": {
        "id": "rtzDupimj-zD",
        "colab_type": "code",
        "colab": {}
      },
      "source": [
        "def visualize_img_batch(batch):\n",
        "    '''Visualizes image batch\n",
        "    \n",
        "    Parameters:\n",
        "    batch (Tensor): An image batch\n",
        "    '''\n",
        "    grid = make_grid(batch, nrow=8, padding=1, normalize=False, range=None, scale_each=False, pad_value=0)\n",
        "    plt.imshow(grid.permute(1,2,0))\n",
        "    plt.show()"
      ],
      "execution_count": 0,
      "outputs": []
    },
    {
      "cell_type": "code",
      "metadata": {
        "id": "Xs9NiMxbj-zI",
        "colab_type": "code",
        "colab": {}
      },
      "source": [
        "def random_image_data(size=(2**21, 3, 1, 1), ratio=0.5, offset=0.2, color=0):\n",
        "    '''Generates a random image batch \n",
        "    consisting of two modes (dark and light images)\n",
        "    \n",
        "    Parameters:\n",
        "    size (tuple): The dimensions of the image batch (batch_size, channels, width, length)\n",
        "    ratio (float): The ratio of light to dark images\n",
        "    offset (float): The brightness of the images relative to black and bright\n",
        "    color (int): Red = 0, green = 1, blue = 2\n",
        "    \n",
        "    Returns:\n",
        "    image_batch (Tensor): The generated image batch\n",
        "    \n",
        "    '''\n",
        "    idx = torch.randperm(size[0])[:int(ratio*size[0])] # Randomly choose indices according to the ratio\n",
        "    image_batch = torch.zeros(size)\n",
        "    image_batch[:, color] += offset # light color\n",
        "    image_batch[idx, color] = 1 - offset # dark color \n",
        "    return image_batch"
      ],
      "execution_count": 0,
      "outputs": []
    },
    {
      "cell_type": "markdown",
      "metadata": {
        "id": "MD7tIVc1j-zL",
        "colab_type": "text"
      },
      "source": [
        "### The dataset class"
      ]
    },
    {
      "cell_type": "code",
      "metadata": {
        "id": "aeSzMHIsj-zM",
        "colab_type": "code",
        "colab": {}
      },
      "source": [
        "class ColorDataset(Dataset):\n",
        "    '''The dataloader for the color images\n",
        "    '''\n",
        "    def __init__(self, ratio=0.5, offset=0.2, color=0):\n",
        "        '''  \n",
        "        Parameters:\n",
        "        ratio (float): The ratio of light to dark images\n",
        "        offset (float): The brightness of the images relative to black and bright\n",
        "        color (int): Red = 0, green = 1, blue = 2\n",
        "        '''\n",
        "        self.offset = offset\n",
        "        self.ratio = ratio\n",
        "        self.color = color\n",
        "        \n",
        "        self.dataset = random_image_data(ratio=self.ratio, \n",
        "                                         offset=self.offset, \n",
        "                                         color=self.color)\n",
        "        self.example_imgs = self.example()\n",
        "        \n",
        "    def example(self):\n",
        "        '''\n",
        "        Returns an example from each mode in the domain\n",
        "        \n",
        "        '''\n",
        "        example_imgs = torch.zeros(size=(2, 3, 1, 1))\n",
        "\n",
        "        example_imgs[0, self.color] += self.offset # light color\n",
        "        example_imgs[1, self.color] = 1 - self.offset # dark color\n",
        "        return example_imgs   \n",
        "\n",
        "    def __len__(self):\n",
        "        return len(self.dataset)\n",
        "    \n",
        "    def __getitem__(self, idx):      \n",
        "        return self.dataset[idx]"
      ],
      "execution_count": 0,
      "outputs": []
    },
    {
      "cell_type": "markdown",
      "metadata": {
        "id": "7fRXvIB2j-zT",
        "colab_type": "text"
      },
      "source": [
        "### The networks"
      ]
    },
    {
      "cell_type": "code",
      "metadata": {
        "id": "xd6lZD56j-zU",
        "colab_type": "code",
        "colab": {}
      },
      "source": [
        "class Discriminator(nn.Module):\n",
        "    '''A simple joint discriminator network'''\n",
        "\n",
        "    def __init__(self):\n",
        "        super(Discriminator, self).__init__()\n",
        "        self.fc1 = nn.Linear(3, 3)\n",
        "        self.fc2 = nn.Linear(3, 1)\n",
        "        \n",
        "    def forward(self, x):\n",
        "        h1 = torch.sigmoid(self.fc1(x.view(-1, 3)))\n",
        "        out = torch.sigmoid(self.fc2(h1))\n",
        "        return out"
      ],
      "execution_count": 0,
      "outputs": []
    },
    {
      "cell_type": "code",
      "metadata": {
        "id": "2SBHSpl1j-za",
        "colab_type": "code",
        "colab": {}
      },
      "source": [
        "class Generator(nn.Module):\n",
        "    '''A simple conditional generator network'''\n",
        "\n",
        "    def __init__(self):\n",
        "        super(Generator, self).__init__()\n",
        "        self.fc1 = nn.Linear(3, 3)\n",
        "        self.fc2 = nn.Linear(3, 3)\n",
        "        \n",
        "    def forward(self, x):\n",
        "        h1 = F.relu(self.fc1(x.view(-1, 3)))\n",
        "        out = torch.sigmoid(self.fc2(h1))\n",
        "        return out.unsqueeze(-1).unsqueeze(-1)"
      ],
      "execution_count": 0,
      "outputs": []
    },
    {
      "cell_type": "markdown",
      "metadata": {
        "id": "Ho-OPTASj-zg",
        "colab_type": "text"
      },
      "source": [
        "### A demonstration of the two domains\n",
        "The idea here is that we create two domains: A red and a green domain. The domains consist of two modes: dark and light images. The big assumption here for our purpose is that the dark and light images have semantic correspondance, so for example: dark red will be translated to dark green.\n",
        "\n",
        "We can adjust the intensity of the images (offset) and the ratio of the modes for the experiment. In the visualiztion you can see the elements of the dataset. In the histogram you can see the modes."
      ]
    },
    {
      "cell_type": "code",
      "metadata": {
        "id": "ETEUDKTEj-zh",
        "colab_type": "code",
        "outputId": "212b87e2-38d8-4c89-eec4-0cdf7c906816",
        "colab": {
          "base_uri": "https://localhost:8080/",
          "height": 488
        }
      },
      "source": [
        "# Settings for domain A (red)\n",
        "offset_A = 0.2\n",
        "ratio_A = 0.5\n",
        "color_A = 0\n",
        "dataset_A = ColorDataset(offset=offset_A, ratio=ratio_A, color=color_A)\n",
        "dataloader_A = DataLoader(dataset_A, batch_size=256, shuffle=True)\n",
        "\n",
        "# Settings for domain B (green)\n",
        "offset_B = 0.2\n",
        "ratio_B = 0.5\n",
        "color_B = 1\n",
        "dataset_B = ColorDataset(offset=offset_B, ratio=ratio_B, color=color_B)\n",
        "dataloader_B = DataLoader(dataset_B, batch_size=256, shuffle=True)\n",
        "\n",
        "visualize_img_batch(dataset_A.example_imgs)\n",
        "visualize_img_batch(dataset_B.example_imgs)"
      ],
      "execution_count": 7,
      "outputs": [
        {
          "output_type": "display_data",
          "data": {
            "image/png": "[encoded data removed]",
            "text/plain": [
              "<Figure size 432x288 with 1 Axes>"
            ]
          },
          "metadata": {
            "tags": [],
            "needs_background": "light"
          }
        },
        {
          "output_type": "display_data",
          "data": {
            "image/png": "[encoded data removed]",
            "text/plain": [
              "<Figure size 432x288 with 1 Axes>"
            ]
          },
          "metadata": {
            "tags": [],
            "needs_background": "light"
          }
        }
      ]
    },
    {
      "cell_type": "code",
      "metadata": {
        "id": "6wNRHbeJj-zl",
        "colab_type": "code",
        "outputId": "e6d28b08-7bac-4577-8fa4-c437f853ed7a",
        "colab": {
          "base_uri": "https://localhost:8080/",
          "height": 301
        }
      },
      "source": [
        "R = dataset_A.example_imgs[:, :2].squeeze()\n",
        "G = dataset_B.example_imgs[:, :2].squeeze()\n",
        "sem1 = torch.stack((R[1], R[0]))-G\n",
        "sem2 = R-G\n",
        "\n",
        "plt.quiver([0, 0], [0, 0], R[:, 0], R[:, 1], angles='xy', scale_units='xy', color=['r', 'r'], scale=1)\n",
        "plt.quiver([0, 0], [0, 0], G[:, 0], G[:, 1], angles='xy', scale_units='xy', color=['g', 'g'], scale=1)\n",
        "plt.quiver(G[:, 0], G[:, 1], sem1[:, 0], sem1[:, 1], angles='xy', scale_units='xy', color=['c', 'c'], scale=1)\n",
        "plt.quiver(G[:, 0], G[:, 1], sem2[:, 0], sem2[:, 1], angles='xy', scale_units='xy', color=['y', 'y'], scale=1)\n",
        "\n",
        "plt.xlim(-0.1, 1)\n",
        "plt.ylim(-0.1, 1)\n",
        "plt.show()\n",
        "\n",
        "print('Total distance of cyan   (light to dark, dark to light)', ((sem1[:, 0]**2 + sem1[:, 1]**2)**0.5).sum().item())\n",
        "print('Total distance of yellow (light to light, dark to dark)', ((sem2[:, 0]**2 + sem2[:, 1]**2)**0.5).sum().item())"
      ],
      "execution_count": 8,
      "outputs": [
        {
          "output_type": "display_data",
          "data": {
            "image/png": "[encoded data removed]",
            "text/plain": [
              "<Figure size 432x288 with 1 Axes>"
            ]
          },
          "metadata": {
            "tags": [],
            "needs_background": "light"
          }
        },
        {
          "output_type": "stream",
          "text": [
            "Total distance of cyan   (light to dark, dark to light) 1.6492422819137573\n",
            "Total distance of yellow (light to light, dark to dark) 1.4142136573791504\n"
          ],
          "name": "stdout"
        }
      ]
    },
    {
      "cell_type": "code",
      "metadata": {
        "id": "3e96LRpPj-zo",
        "colab_type": "code",
        "outputId": "9ed7983a-c3b2-4833-b0b5-248bbd993f23",
        "colab": {
          "base_uri": "https://localhost:8080/",
          "height": 577
        }
      },
      "source": [
        "def plot_hist(data):\n",
        "    data = data.view(3, -1).sum(0)\n",
        "    plt.hist(data, weights=torch.ones(len(data))/len(data))\n",
        "    x_unique_count = torch.stack([(data==x_u).sum() for x_u in data.unique()])\n",
        "    \n",
        "    print('Count:', x_unique_count, 'Ratio in this batch:', x_unique_count/float(x_unique_count.sum()))\n",
        "\n",
        "    plt.show()\n",
        "\n",
        "for i, (data_A, data_B) in enumerate(zip(dataloader_A, dataloader_B)):\n",
        "    print('True ratio domain A:', dataloader_A.dataset.ratio)\n",
        "    plot_hist(data_A)\n",
        "    print('True ratio domain B:', dataloader_B.dataset.ratio)\n",
        "    plot_hist(data_B)\n",
        "    break"
      ],
      "execution_count": 9,
      "outputs": [
        {
          "output_type": "stream",
          "text": [
            "True ratio domain A: 0.5\n",
            "Count: tensor([137, 119]) Ratio in this batch: tensor([0.5352, 0.4648])\n"
          ],
          "name": "stdout"
        },
        {
          "output_type": "display_data",
          "data": {
            "image/png": "[encoded data removed]",
            "text/plain": [
              "<Figure size 432x288 with 1 Axes>"
            ]
          },
          "metadata": {
            "tags": [],
            "needs_background": "light"
          }
        },
        {
          "output_type": "stream",
          "text": [
            "True ratio domain B: 0.5\n",
            "Count: tensor([130, 126]) Ratio in this batch: tensor([0.5078, 0.4922])\n"
          ],
          "name": "stdout"
        },
        {
          "output_type": "display_data",
          "data": {
            "image/png": "[encoded data removed]",
            "text/plain": [
              "<Figure size 432x288 with 1 Axes>"
            ]
          },
          "metadata": {
            "tags": [],
            "needs_background": "light"
          }
        }
      ]
    },
    {
      "cell_type": "markdown",
      "metadata": {
        "id": "1rbWxb97j-zr",
        "colab_type": "text"
      },
      "source": [
        "## The training loop"
      ]
    },
    {
      "cell_type": "code",
      "metadata": {
        "scrolled": false,
        "id": "vhxyXbCbj-zr",
        "colab_type": "code",
        "outputId": "61526205-bd7a-460a-976b-1a3b5513edde",
        "colab": {
          "base_uri": "https://localhost:8080/",
          "height": 293
        }
      },
      "source": [
        "# Initialize the networks\n",
        "generator_A = Generator()\n",
        "generator_B = Generator()\n",
        "discriminator_A = Discriminator()\n",
        "discriminator_B = Discriminator()\n",
        "\n",
        "# Initialize the optimizers\n",
        "optimizer_g = optim.Adam(itertools.chain(generator_A.parameters(),\n",
        "                                         generator_B.parameters()), lr=0.002, betas=(0.5, 0.999)) # lr=0.01)\n",
        "optimizer_d = optim.Adam(itertools.chain(discriminator_A.parameters(),\n",
        "                                         discriminator_B.parameters()), lr=0.002, betas=(0.5, 0.999))\n",
        "\n",
        "# Store values\n",
        "samples_A = []\n",
        "samples_B = []\n",
        "\n",
        "losses_g = []\n",
        "losses_d = []\n",
        "\n",
        "criterion_D = nn.MSELoss()\n",
        "criterion_G = nn.MSELoss()\n",
        "criterion_cycle = nn.MSELoss()\n",
        "criterion_L2 = nn.MSELoss()\n",
        "\n",
        "for epoch in range(1):\n",
        "    for i, (real_A, real_B) in enumerate(zip(dataloader_A, dataloader_B)):\n",
        "        # Set gradients to zero\n",
        "        optimizer_d.zero_grad()\n",
        "        optimizer_g.zero_grad()\n",
        "\n",
        "        # Forward\n",
        "        fake_A = generator_A(real_B)\n",
        "        fake_B = generator_B(real_A)\n",
        "        \n",
        "        rec_A = generator_A(fake_B)\n",
        "        rec_B = generator_B(fake_A)\n",
        "        \n",
        "        pred_real_A = discriminator_A(real_A)\n",
        "        pred_real_B = discriminator_B(real_B)\n",
        "        \n",
        "        pred_fake_A = discriminator_A(fake_A.detach())\n",
        "        pred_fake_B = discriminator_B(fake_B.detach())\n",
        "        \n",
        "        # The loss function --------------------------------------------------------------------------------\n",
        "        loss_D_real_A = criterion_D(pred_real_A, torch.ones((pred_real_A.shape)))\n",
        "        loss_D_real_B = criterion_D(pred_real_B, torch.ones((pred_real_B.shape)))\n",
        "\n",
        "        loss_D_fake_A = criterion_D(pred_fake_A, torch.zeros((pred_fake_A.shape)))\n",
        "        loss_D_fake_B = criterion_D(pred_fake_B, torch.zeros((pred_fake_B.shape)))\n",
        "        \n",
        "        loss_D_A = (loss_D_real_A + loss_D_fake_A) * 0.5\n",
        "        loss_D_B = (loss_D_real_B + loss_D_fake_B) * 0.5\n",
        "        \n",
        "        loss_G_A = criterion_G(discriminator_A(fake_A), torch.ones((pred_fake_A.shape)))\n",
        "        loss_G_B = criterion_G(discriminator_B(fake_B), torch.ones((pred_fake_A.shape)))\n",
        "        \n",
        "        cycle_A = criterion_cycle(real_A, rec_A)\n",
        "        cycle_B = criterion_cycle(real_B, rec_B)\n",
        "        cycle = cycle_A + cycle_B\n",
        "        \n",
        "        loss_d = (loss_D_A + loss_D_B)\n",
        "        loss_g = (loss_G_A + loss_G_B) + cycle\n",
        "        # ---------------------------------------------------------------------------------------------------\n",
        "\n",
        "        optimizer_g.zero_grad()\n",
        "        loss_g.backward()\n",
        "        optimizer_g.step()\n",
        "\n",
        "        optimizer_d.zero_grad()\n",
        "        loss_d.backward()\n",
        "        optimizer_d.step()\n",
        "\n",
        "        # Store values --------------------------------------------------------------------------------------\n",
        "        losses_g += [loss_g.item()]\n",
        "        losses_d += [loss_d.item()]\n",
        "        # ---------------------------------------------------------------------------------------------------\n",
        "\n",
        "        # Print statistics\n",
        "        if i % 500 == 0:\n",
        "            samples_A += [fake_A.detach()]\n",
        "            samples_B += [fake_B.detach()]\n",
        "            print('step', i, 'loss_g', loss_g.item(), 'loss_d', loss_d.item())"
      ],
      "execution_count": 10,
      "outputs": [
        {
          "output_type": "stream",
          "text": [
            "step 0 loss_g 1.2163071632385254 loss_d 0.545628547668457\n",
            "step 500 loss_g 0.582534670829773 loss_d 0.47999322414398193\n",
            "step 1000 loss_g 0.5537616014480591 loss_d 0.49616140127182007\n",
            "step 1500 loss_g 0.5060210227966309 loss_d 0.498257040977478\n",
            "step 2000 loss_g 0.5062006115913391 loss_d 0.4968374967575073\n",
            "step 2500 loss_g 0.504628598690033 loss_d 0.4954349398612976\n",
            "step 3000 loss_g 0.4963374435901642 loss_d 0.4998437166213989\n",
            "step 3500 loss_g 0.5005434155464172 loss_d 0.5000503063201904\n",
            "step 4000 loss_g 0.5023040771484375 loss_d 0.4990973174571991\n",
            "step 4500 loss_g 0.49856632947921753 loss_d 0.5002176761627197\n",
            "step 5000 loss_g 0.5005705952644348 loss_d 0.5004980564117432\n",
            "step 5500 loss_g 0.4991398751735687 loss_d 0.5004042387008667\n",
            "step 6000 loss_g 0.5002163648605347 loss_d 0.5002371072769165\n",
            "step 6500 loss_g 0.500056803226471 loss_d 0.500011146068573\n",
            "step 7000 loss_g 0.500528872013092 loss_d 0.4998353123664856\n",
            "step 7500 loss_g 0.49997788667678833 loss_d 0.4999917149543762\n",
            "step 8000 loss_g 0.49943798780441284 loss_d 0.5002895593643188\n"
          ],
          "name": "stdout"
        }
      ]
    },
    {
      "cell_type": "code",
      "metadata": {
        "scrolled": false,
        "colab_type": "code",
        "outputId": "7df52fa3-ee4e-4925-ebbf-19184ef16ee6",
        "id": "CEZdT4e633EA",
        "colab": {
          "base_uri": "https://localhost:8080/",
          "height": 53
        }
      },
      "source": [
        "'''def set_requires_grad(nets, requires_grad=False):\n",
        "        \"\"\"Set requies_grad=Fasle for all the networks to avoid unnecessary computations\n",
        "        Parameters:\n",
        "            nets (network list)   -- a list of networks\n",
        "            requires_grad (bool)  -- whether the networks require gradients or not\n",
        "        \"\"\"\n",
        "        if not isinstance(nets, list):\n",
        "            nets = [nets]\n",
        "        for net in nets:\n",
        "            if net is not None:\n",
        "                for param in net.parameters():\n",
        "                    param.requires_grad = requires_grad\n",
        "\n",
        "# Initialize the networks\n",
        "generator_A = Generator()\n",
        "generator_B = Generator()\n",
        "discriminator_A = Discriminator()\n",
        "discriminator_B = Discriminator()\n",
        "\n",
        "# Initialize the optimizers\n",
        "optimizer_g = optim.Adam(itertools.chain(generator_A.parameters(),\n",
        "                                         generator_B.parameters()), lr=0.002, betas=(0.5, 0.999))\n",
        "optimizer_d = optim.Adam(itertools.chain(discriminator_A.parameters(),\n",
        "                                         discriminator_B.parameters()), lr=0.002, betas=(0.5, 0.999))\n",
        "\n",
        "# Store values\n",
        "samples_A = []\n",
        "samples_B = []\n",
        "\n",
        "losses_g = []\n",
        "losses_d = []\n",
        "\n",
        "criterion_D = nn.MSELoss()\n",
        "criterion_G = nn.MSELoss()\n",
        "criterion_cycle = nn.L1Loss()\n",
        "criterion_L2 = nn.MSELoss()\n",
        "criterionIdt = nn.L1Loss()\n",
        "\n",
        "for epoch in range(1):\n",
        "    for i, (real_A, real_B) in enumerate(zip(dataloader_A, dataloader_B)):\n",
        "        # Set gradients to zero\n",
        "        optimizer_d.zero_grad()\n",
        "        optimizer_g.zero_grad()\n",
        "\n",
        "        # Forward\n",
        "        fake_A = generator_A(real_B)\n",
        "        fake_B = generator_B(real_A)\n",
        "        \n",
        "        rec_A = generator_A(fake_B)\n",
        "        rec_B = generator_B(fake_A)\n",
        "        \n",
        "        pred_real_A = discriminator_A(real_A)\n",
        "        pred_real_B = discriminator_B(real_B)\n",
        "        \n",
        "        pred_fake_A = discriminator_A(fake_A.detach())\n",
        "        pred_fake_B = discriminator_B(fake_B.detach())\n",
        "        \n",
        "        # The loss function --------------------------------------------------------------------------------\n",
        "        loss_D_real_A = criterion_D(pred_real_A, torch.ones((pred_real_A.shape)))\n",
        "        loss_D_real_B = criterion_D(pred_real_B, torch.ones((pred_real_B.shape)))\n",
        "\n",
        "        loss_D_fake_A = criterion_D(pred_fake_A, torch.zeros((pred_fake_A.shape)))\n",
        "        loss_D_fake_B = criterion_D(pred_fake_B, torch.zeros((pred_fake_B.shape)))\n",
        "        \n",
        "        loss_D_A = (loss_D_real_A + loss_D_fake_A) * 0.5\n",
        "        loss_D_B = (loss_D_real_B + loss_D_fake_B) * 0.5\n",
        "        \n",
        "        loss_G_A = criterion_G(discriminator_A(fake_A), torch.ones((pred_fake_A.shape)))\n",
        "        loss_G_B = criterion_G(discriminator_B(fake_B), torch.ones((pred_fake_A.shape)))\n",
        "        \n",
        "        lambda_A = 10.0\n",
        "        lambda_B = 10.0\n",
        "        lambda_idt = 0.5\n",
        "\n",
        "        cycle_A = criterion_cycle(real_A, rec_A) * lambda_A\n",
        "        cycle_B = criterion_cycle(real_B, rec_B) * lambda_B\n",
        "        cycle = cycle_A + cycle_B\n",
        "\n",
        "        idt_A = generator_A(real_B)\n",
        "        idt_B = generator_B(real_A)\n",
        "        idt_A = criterionIdt(idt_A, real_B) * lambda_B * lambda_idt\n",
        "        idt_B = criterionIdt(idt_B, real_A) * lambda_A * lambda_idt\n",
        "        idt = idt_A + idt_B\n",
        "        \n",
        "        loss_d = (loss_D_A + loss_D_B)\n",
        "        loss_g = (loss_G_A + loss_G_B) + cycle + idt\n",
        "        # ---------------------------------------------------------------------------------------------------\n",
        "\n",
        "        set_requires_grad([discriminator_A, discriminator_B], False)  # Ds require no gradients when optimizing Gs\n",
        "        optimizer_g.zero_grad()\n",
        "        loss_g.backward()\n",
        "        optimizer_g.step()\n",
        "\n",
        "        set_requires_grad([discriminator_A, discriminator_B], True)  # Ds require no gradients when optimizing Gs\n",
        "        optimizer_d.zero_grad()\n",
        "        # Backward\n",
        "        \n",
        "        loss_d.backward()\n",
        "\n",
        "        # Optimization step\n",
        "        \n",
        "        optimizer_d.step()\n",
        "\n",
        "        # Store values --------------------------------------------------------------------------------------\n",
        "        losses_g += [loss_g.item()]\n",
        "        losses_d += [loss_d.item()]\n",
        "        # ---------------------------------------------------------------------------------------------------\n",
        "\n",
        "        # Print statistics\n",
        "        if i % 500 == 0:\n",
        "            samples_A += [fake_A.detach()]\n",
        "            samples_B += [fake_B.detach()]\n",
        "            print('step', i, 'loss_g', loss_g.item(), 'loss_d', loss_d.item())'''"
      ],
      "execution_count": 11,
      "outputs": [
        {
          "output_type": "execute_result",
          "data": {
            "text/plain": [
              "'def set_requires_grad(nets, requires_grad=False):\\n        \"\"\"Set requies_grad=Fasle for all the networks to avoid unnecessary computations\\n        Parameters:\\n            nets (network list)   -- a list of networks\\n            requires_grad (bool)  -- whether the networks require gradients or not\\n        \"\"\"\\n        if not isinstance(nets, list):\\n            nets = [nets]\\n        for net in nets:\\n            if net is not None:\\n                for param in net.parameters():\\n                    param.requires_grad = requires_grad\\n\\n# Initialize the networks\\ngenerator_A = Generator()\\ngenerator_B = Generator()\\ndiscriminator_A = Discriminator()\\ndiscriminator_B = Discriminator()\\n\\n# Initialize the optimizers\\noptimizer_g = optim.Adam(itertools.chain(generator_A.parameters(),\\n                                         generator_B.parameters()), lr=0.002, betas=(0.5, 0.999))\\noptimizer_d = optim.Adam(itertools.chain(discriminator_A.parameters(),\\n                                         discriminator_B.parameters()), lr=0.002, betas=(0.5, 0.999))\\n\\n# Store values\\nsamples_A = []\\nsamples_B = []\\n\\nlosses_g = []\\nlosses_d = []\\n\\ncriterion_D = nn.MSELoss()\\ncriterion_G = nn.MSELoss()\\ncriterion_cycle = nn.L1Loss()\\ncriterion_L2 = nn.MSELoss()\\ncriterionIdt = nn.L1Loss()\\n\\nfor epoch in range(1):\\n    for i, (real_A, real_B) in enumerate(zip(dataloader_A, dataloader_B)):\\n        # Set gradients to zero\\n        optimizer_d.zero_grad()\\n        optimizer_g.zero_grad()\\n\\n        # Forward\\n        fake_A = generator_A(real_B)\\n        fake_B = generator_B(real_A)\\n        \\n        rec_A = generator_A(fake_B)\\n        rec_B = generator_B(fake_A)\\n        \\n        pred_real_A = discriminator_A(real_A)\\n        pred_real_B = discriminator_B(real_B)\\n        \\n        pred_fake_A = discriminator_A(fake_A.detach())\\n        pred_fake_B = discriminator_B(fake_B.detach())\\n        \\n        # The loss function --------------------------------------------------------------------------------\\n        loss_D_real_A = criterion_D(pred_real_A, torch.ones((pred_real_A.shape)))\\n        loss_D_real_B = criterion_D(pred_real_B, torch.ones((pred_real_B.shape)))\\n\\n        loss_D_fake_A = criterion_D(pred_fake_A, torch.zeros((pred_fake_A.shape)))\\n        loss_D_fake_B = criterion_D(pred_fake_B, torch.zeros((pred_fake_B.shape)))\\n        \\n        loss_D_A = (loss_D_real_A + loss_D_fake_A) * 0.5\\n        loss_D_B = (loss_D_real_B + loss_D_fake_B) * 0.5\\n        \\n        loss_G_A = criterion_G(discriminator_A(fake_A), torch.ones((pred_fake_A.shape)))\\n        loss_G_B = criterion_G(discriminator_B(fake_B), torch.ones((pred_fake_A.shape)))\\n        \\n        lambda_A = 10.0\\n        lambda_B = 10.0\\n        lambda_idt = 0.5\\n\\n        cycle_A = criterion_cycle(real_A, rec_A) * lambda_A\\n        cycle_B = criterion_cycle(real_B, rec_B) * lambda_B\\n        cycle = cycle_A + cycle_B\\n\\n        idt_A = generator_A(real_B)\\n        idt_B = generator_B(real_A)\\n        idt_A = criterionIdt(idt_A, real_B) * lambda_B * lambda_idt\\n        idt_B = criterionIdt(idt_B, real_A) * lambda_A * lambda_idt\\n        idt = idt_A + idt_B\\n        \\n        loss_d = (loss_D_A + loss_D_B)\\n        loss_g = (loss_G_A + loss_G_B) + cycle + idt\\n        # ---------------------------------------------------------------------------------------------------\\n\\n        set_requires_grad([discriminator_A, discriminator_B], False)  # Ds require no gradients when optimizing Gs\\n        optimizer_g.zero_grad()\\n        loss_g.backward()\\n        optimizer_g.step()\\n\\n        set_requires_grad([discriminator_A, discriminator_B], True)  # Ds require no gradients when optimizing Gs\\n        optimizer_d.zero_grad()\\n        # Backward\\n        \\n        loss_d.backward()\\n\\n        # Optimization step\\n        \\n        optimizer_d.step()\\n\\n        # Store values --------------------------------------------------------------------------------------\\n        losses_g += [loss_g.item()]\\n        losses_d += [loss_d.item()]\\n        # ---------------------------------------------------------------------------------------------------\\n\\n        # Print statistics\\n        if i % 500 == 0:\\n            samples_A += [fake_A.detach()]\\n            samples_B += [fake_B.detach()]\\n            print(\\'step\\', i, \\'loss_g\\', loss_g.item(), \\'loss_d\\', loss_d.item())'"
            ]
          },
          "metadata": {
            "tags": []
          },
          "execution_count": 11
        }
      ]
    },
    {
      "cell_type": "code",
      "metadata": {
        "id": "Fv3xhvVwj-zu",
        "colab_type": "code",
        "outputId": "c486abf3-00b1-4c55-a9eb-bd56d13c527f",
        "colab": {
          "base_uri": "https://localhost:8080/",
          "height": 1000
        }
      },
      "source": [
        "# Some generated images\n",
        "visualize_img_batch(real_A.detach()[:64])\n",
        "visualize_img_batch(fake_B.detach()[:64])\n",
        "plot_hist(fake_B.detach())\n",
        "\n",
        "visualize_img_batch(real_B.detach()[:64])\n",
        "visualize_img_batch(fake_A.detach()[:64])\n",
        "plot_hist(fake_A.detach())"
      ],
      "execution_count": 12,
      "outputs": [
        {
          "output_type": "display_data",
          "data": {
            "image/png": "[encoded data removed]",
            "text/plain": [
              "<Figure size 432x288 with 1 Axes>"
            ]
          },
          "metadata": {
            "tags": [],
            "needs_background": "light"
          }
        },
        {
          "output_type": "display_data",
          "data": {
            "image/png": "[encoded data removed]",
            "text/plain": [
              "<Figure size 432x288 with 1 Axes>"
            ]
          },
          "metadata": {
            "tags": [],
            "needs_background": "light"
          }
        },
        {
          "output_type": "stream",
          "text": [
            "Count: tensor([29, 34, 34, 31, 37, 28, 28, 35]) Ratio in this batch: tensor([0.1133, 0.1328, 0.1328, 0.1211, 0.1445, 0.1094, 0.1094, 0.1367])\n"
          ],
          "name": "stdout"
        },
        {
          "output_type": "display_data",
          "data": {
            "image/png": "[encoded data removed]",
            "text/plain": [
              "<Figure size 432x288 with 1 Axes>"
            ]
          },
          "metadata": {
            "tags": [],
            "needs_background": "light"
          }
        },
        {
          "output_type": "display_data",
          "data": {
            "image/png": "[encoded data removed]",
            "text/plain": [
              "<Figure size 432x288 with 1 Axes>"
            ]
          },
          "metadata": {
            "tags": [],
            "needs_background": "light"
          }
        },
        {
          "output_type": "display_data",
          "data": {
            "image/png": "[encoded data removed]",
            "text/plain": [
              "<Figure size 432x288 with 1 Axes>"
            ]
          },
          "metadata": {
            "tags": [],
            "needs_background": "light"
          }
        },
        {
          "output_type": "stream",
          "text": [
            "Count: tensor([35, 33, 27,  8, 16,  8, 24, 37, 35, 33]) Ratio in this batch: tensor([0.1367, 0.1289, 0.1055, 0.0312, 0.0625, 0.0312, 0.0938, 0.1445, 0.1367,\n",
            "        0.1289])\n"
          ],
          "name": "stdout"
        },
        {
          "output_type": "display_data",
          "data": {
            "image/png": "[encoded data removed]",
            "text/plain": [
              "<Figure size 432x288 with 1 Axes>"
            ]
          },
          "metadata": {
            "tags": [],
            "needs_background": "light"
          }
        }
      ]
    },
    {
      "cell_type": "code",
      "metadata": {
        "id": "1mCWRFbLj-zy",
        "colab_type": "code",
        "outputId": "3a071609-9fcf-4fd5-ae1b-7dfe7da980ab",
        "colab": {
          "base_uri": "https://localhost:8080/",
          "height": 403
        }
      },
      "source": [
        "plt.figure(figsize=(10,6))\n",
        "plt.title('Losses over iterations')\n",
        "plt.xlabel('Training iterations')\n",
        "plt.ylabel('Loss')\n",
        "plt.plot(losses_g)\n",
        "plt.plot(losses_d)\n",
        "plt.legend(['G', 'D'])\n",
        "plt.show()"
      ],
      "execution_count": 13,
      "outputs": [
        {
          "output_type": "display_data",
          "data": {
            "image/png": "[encoded data removed]",
            "text/plain": [
              "<Figure size 720x432 with 1 Axes>"
            ]
          },
          "metadata": {
            "tags": [],
            "needs_background": "light"
          }
        }
      ]
    },
    {
      "cell_type": "code",
      "metadata": {
        "scrolled": false,
        "id": "r26y7Q08j-z0",
        "colab_type": "code",
        "outputId": "706d65bf-96fa-42e1-deb8-dc70d1996ebc",
        "colab": {
          "base_uri": "https://localhost:8080/",
          "height": 1000
        }
      },
      "source": [
        "for img in samples_A:\n",
        "    visualize_img_batch(img[:64])"
      ],
      "execution_count": 14,
      "outputs": [
        {
          "output_type": "display_data",
          "data": {
            "image/png": "[encoded data removed]",
            "text/plain": [
              "<Figure size 432x288 with 1 Axes>"
            ]
          },
          "metadata": {
            "tags": [],
            "needs_background": "light"
          }
        },
        {
          "output_type": "display_data",
          "data": {
            "image/png": "[encoded data removed]",
            "text/plain": [
              "<Figure size 432x288 with 1 Axes>"
            ]
          },
          "metadata": {
            "tags": [],
            "needs_background": "light"
          }
        },
        {
          "output_type": "display_data",
          "data": {
            "image/png": "[encoded data removed]",
            "text/plain": [
              "<Figure size 432x288 with 1 Axes>"
            ]
          },
          "metadata": {
            "tags": [],
            "needs_background": "light"
          }
        },
        {
          "output_type": "display_data",
          "data": {
            "image/png": "[encoded data removed]",
            "text/plain": [
              "<Figure size 432x288 with 1 Axes>"
            ]
          },
          "metadata": {
            "tags": [],
            "needs_background": "light"
          }
        },
        {
          "output_type": "display_data",
          "data": {
            "image/png": "[encoded data removed]",
            "text/plain": [
              "<Figure size 432x288 with 1 Axes>"
            ]
          },
          "metadata": {
            "tags": [],
            "needs_background": "light"
          }
        },
        {
          "output_type": "display_data",
          "data": {
            "image/png": "[encoded data removed]",
            "text/plain": [
              "<Figure size 432x288 with 1 Axes>"
            ]
          },
          "metadata": {
            "tags": [],
            "needs_background": "light"
          }
        },
        {
          "output_type": "display_data",
          "data": {
            "image/png": "[encoded data removed]",
            "text/plain": [
              "<Figure size 432x288 with 1 Axes>"
            ]
          },
          "metadata": {
            "tags": [],
            "needs_background": "light"
          }
        },
        {
          "output_type": "display_data",
          "data": {
            "image/png": "[encoded data removed]",
            "text/plain": [
              "<Figure size 432x288 with 1 Axes>"
            ]
          },
          "metadata": {
            "tags": [],
            "needs_background": "light"
          }
        },
        {
          "output_type": "display_data",
          "data": {
            "image/png": "[encoded data removed]",
            "text/plain": [
              "<Figure size 432x288 with 1 Axes>"
            ]
          },
          "metadata": {
            "tags": [],
            "needs_background": "light"
          }
        },
        {
          "output_type": "display_data",
          "data": {
            "image/png": "[encoded data removed]",
            "text/plain": [
              "<Figure size 432x288 with 1 Axes>"
            ]
          },
          "metadata": {
            "tags": [],
            "needs_background": "light"
          }
        },
        {
          "output_type": "display_data",
          "data": {
            "image/png": "[encoded data removed]",
            "text/plain": [
              "<Figure size 432x288 with 1 Axes>"
            ]
          },
          "metadata": {
            "tags": [],
            "needs_background": "light"
          }
        },
        {
          "output_type": "display_data",
          "data": {
            "image/png": "[encoded data removed]",
            "text/plain": [
              "<Figure size 432x288 with 1 Axes>"
            ]
          },
          "metadata": {
            "tags": [],
            "needs_background": "light"
          }
        },
        {
          "output_type": "display_data",
          "data": {
            "image/png": "[encoded data removed]",
            "text/plain": [
              "<Figure size 432x288 with 1 Axes>"
            ]
          },
          "metadata": {
            "tags": [],
            "needs_background": "light"
          }
        },
        {
          "output_type": "display_data",
          "data": {
            "image/png": "[encoded data removed]",
            "text/plain": [
              "<Figure size 432x288 with 1 Axes>"
            ]
          },
          "metadata": {
            "tags": [],
            "needs_background": "light"
          }
        },
        {
          "output_type": "display_data",
          "data": {
            "image/png": "[encoded data removed]",
            "text/plain": [
              "<Figure size 432x288 with 1 Axes>"
            ]
          },
          "metadata": {
            "tags": [],
            "needs_background": "light"
          }
        },
        {
          "output_type": "display_data",
          "data": {
            "image/png": "[encoded data removed]",
            "text/plain": [
              "<Figure size 432x288 with 1 Axes>"
            ]
          },
          "metadata": {
            "tags": [],
            "needs_background": "light"
          }
        },
        {
          "output_type": "display_data",
          "data": {
            "image/png": "[encoded data removed]",
            "text/plain": [
              "<Figure size 432x288 with 1 Axes>"
            ]
          },
          "metadata": {
            "tags": [],
            "needs_background": "light"
          }
        }
      ]
    },
    {
      "cell_type": "code",
      "metadata": {
        "id": "YQ6rB5Cfj-z2",
        "colab_type": "code",
        "colab": {}
      },
      "source": [
        ""
      ],
      "execution_count": 0,
      "outputs": []
    }
  ]
}