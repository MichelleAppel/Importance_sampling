{
 "cells": [
  {
   "cell_type": "markdown",
   "metadata": {
    "colab_type": "text",
    "id": "oValuDnTk-gO"
   },
   "source": [
    "# Toy example estimation of Radon-Nikodym derivative"
   ]
  },
  {
   "cell_type": "markdown",
   "metadata": {
    "colab_type": "text",
    "id": "vP2GPY2tk-gP"
   },
   "source": [
    "Equation (5) of the paper by Binkowski et al. explains that the Radon-Nikodym derivative $\\frac{d \\mathbb{Q}_y}{ \\mathbb{P}_y^G}$ of the two domains exist under the assumptions they state. This derivative can also be seen as the ratio between the two distributions of the domains, and can be used to express the compensation for imbalance in the domains:\n",
    "\n",
    "$\\mathbb{E}_{Y \\sim \\mathbb{Q}_y}[D(Y)] = \\mathbb{E}_{X \\sim \\mathbb{P}_x}[D(G(X)) \\frac{d \\mathbb{Q}_y}{ d\\mathbb{P}_y^G}(G(X))]$\n",
    "\n",
    "This expresses compensation for imbalance between the discriminator outputs, caused by the imbalance in the domain distributions. However, it does not necessarily have to be used for the imbalance in the discriminator outputs. It can be applied to any imbalance caused by the different domain distributions.\n",
    "\n",
    "--\n",
    "\n",
    "In other words, we are trying to study the situation where we don't deal with a discriminator but with any function, let it be $f$. This $f$ can be any function, e.g. identity, mean.... We try to compensate for imbalances in the two domains over which we compute the function:\n",
    "\n",
    "$\\mathbb{E}_{Y \\sim \\mathbb{Q}_y}[f(Y)] = \\mathbb{E}_{X \\sim \\mathbb{P}_x}[f(G(X)) \\frac{d \\mathbb{Q}_y}{ d\\mathbb{P}_y^G}(G(X))]$\n",
    "\n",
    "\n",
    "--\n",
    "\n",
    "The following toy example shows how we can use the Radon-Nikodym derivative for compensating the imbalance for the mean of the domains using $\\bar{Y} = \\bar{X}\\frac{d \\mathbb{Q}_y}{d \\mathbb{P}_x}$.\n",
    "\n",
    "Let $X = [1, 1, 1, 1, 1, 1, 1, 0, 0]$, with mean $\\bar{X} = 0.8$ and <br />\n",
    "Let $Y = [1, 1, 0, 0, 0, 0, 0, 0, 0]$, with mean $\\bar{Y} = 0.2$\n",
    "\n",
    "Then $[1, 1, 0, 0, 0, 0, 0, 0, 0] = [1, 1, 1, 1, 1, 1, 1, 0, 0] \\cdot \\frac{d \\mathbb{Q}_y}{d \\mathbb{P}_x}(X)$, and <br />\n",
    "$\\frac{d \\mathbb{Q}_y}{d \\mathbb{P}_x}(X) = [0.25, 0.25, 0.25, 0.25, 0.25, 0.25, 0.25, 4, 4]$\n",
    "\n",
    "This can be interpreted as the ratio between means of the domains for each of the samples. In this example the ratio can be calculated. However, in more complex situations, for example with images, the Radon-Nykodym derivative $\\frac{d \\mathbb{Q}_y}{d \\mathbb{P}_x}$ is unknown and we may try to estimate it using a neural network $W$. This leads to the objective function\n",
    "\n",
    "$\\inf_{W \\in \\mathcal{W}} (\\mathbb{E}_{X \\sim \\mathbb{P}_x} [D(G(X)) \\cdot W(X)] - \\mathbb{E}_{Y \\sim \\mathbb{Q}_y}[D(Y)])^2$\n",
    "\n",
    "used by Binkowski et al. for compensation of distributions in the domains, using the discriminator output. Similarly, we can use such a network in our toy example."
   ]
  },
  {
   "cell_type": "code",
   "execution_count": 1,
   "metadata": {
    "colab": {},
    "colab_type": "code",
    "id": "jFffV8slk-gP"
   },
   "outputs": [],
   "source": [
    "import torch\n",
    "import torch.nn as nn\n",
    "import torch.nn.functional as F\n",
    "import torch.optim as optim\n",
    "from torch.utils.data import Dataset, DataLoader\n",
    "from torchvision.utils import make_grid\n",
    "\n",
    "import itertools\n",
    "\n",
    "import matplotlib.pyplot as plt"
   ]
  },
  {
   "cell_type": "code",
   "execution_count": 2,
   "metadata": {
    "colab": {},
    "colab_type": "code",
    "id": "InJqEfB_k-gU"
   },
   "outputs": [],
   "source": [
    "def visualize_img_batch(batch):\n",
    "    '''Visualizes image batch\n",
    "    \n",
    "    Parameters:\n",
    "    batch (Tensor): An image batch\n",
    "    '''\n",
    "    grid = make_grid(batch.unsqueeze(1).unsqueeze(1).cpu(), nrow=8, padding=1, normalize=False, range=None, scale_each=False, pad_value=0.5)\n",
    "    plt.imshow(grid.permute(1,2,0))\n",
    "    plt.show()"
   ]
  },
  {
   "cell_type": "code",
   "execution_count": 3,
   "metadata": {
    "colab": {},
    "colab_type": "code",
    "id": "6TPGbTrok-gW"
   },
   "outputs": [],
   "source": [
    "def binary_data(size=(2**21, 1), ratio=0.5):\n",
    "    \n",
    "    idx = torch.randperm(size[0])[:int(ratio*size[0])] # Randomly choose indices according to the ratio\n",
    "\n",
    "    image_batch = torch.zeros(size)\n",
    "    image_batch[idx] = 1\n",
    "    \n",
    "    return image_batch.clamp(0, 1).cuda()"
   ]
  },
  {
   "cell_type": "code",
   "execution_count": 4,
   "metadata": {
    "colab": {},
    "colab_type": "code",
    "id": "r2kQeQqIk-gZ"
   },
   "outputs": [],
   "source": [
    "class ColorDataset(Dataset):\n",
    "    '''The dataloader for the binary data\n",
    "    '''\n",
    "    def __init__(self, ratio=0.5):\n",
    "\n",
    "        self.ratio = ratio\n",
    "        \n",
    "        self.dataset = binary_data(ratio=self.ratio)\n",
    "        \n",
    "        self.example_imgs = self.example()\n",
    "        \n",
    "    def example(self):\n",
    "        '''\n",
    "        Returns an example from each mode in the domain\n",
    "        \n",
    "        '''\n",
    "        example_imgs = torch.zeros(size=(2, 1))\n",
    "        example_imgs[1] = 1\n",
    "        \n",
    "        return example_imgs\n",
    "\n",
    "    def __len__(self):\n",
    "        return len(self.dataset)\n",
    "    \n",
    "    def __getitem__(self, idx):      \n",
    "        return self.dataset[idx]"
   ]
  },
  {
   "cell_type": "code",
   "execution_count": 5,
   "metadata": {
    "colab": {
     "base_uri": "https://localhost:8080/",
     "height": 488
    },
    "colab_type": "code",
    "id": "CbbBXC3zk-gb",
    "outputId": "45b7b201-fcc8-449f-c304-ed78b6449fa5"
   },
   "outputs": [
    {
     "data": {
      "image/png": "[encoded data removed]",
      "text/plain": [
       "<Figure size 432x288 with 1 Axes>"
      ]
     },
     "metadata": {
      "needs_background": "light"
     },
     "output_type": "display_data"
    },
    {
     "data": {
      "image/png": "[encoded data removed]",
      "text/plain": [
       "<Figure size 432x288 with 1 Axes>"
      ]
     },
     "metadata": {
      "needs_background": "light"
     },
     "output_type": "display_data"
    }
   ],
   "source": [
    "batch_size = 256\n",
    "\n",
    "# Settings for domain A (red)\n",
    "ratio_A = 0.2\n",
    "dataset_A = ColorDataset(ratio=ratio_A)\n",
    "dataloader_A = DataLoader(dataset_A, batch_size, shuffle=True)\n",
    "\n",
    "# Settings for domain B (green)\n",
    "ratio_B = 0.5\n",
    "dataset_B = ColorDataset(ratio=ratio_B)\n",
    "dataloader_B = DataLoader(dataset_B, batch_size, shuffle=True)\n",
    "\n",
    "visualize_img_batch(dataset_A.example_imgs)\n",
    "visualize_img_batch(dataset_B.example_imgs)"
   ]
  },
  {
   "cell_type": "code",
   "execution_count": 6,
   "metadata": {
    "colab": {
     "base_uri": "https://localhost:8080/",
     "height": 1000
    },
    "colab_type": "code",
    "id": "0sgv5FnZk-gf",
    "outputId": "4148f45c-5dbd-4ba5-c199-020eae740c90"
   },
   "outputs": [
    {
     "name": "stdout",
     "output_type": "stream",
     "text": [
      "256\n"
     ]
    },
    {
     "data": {
      "image/png": "[encoded data removed]",
      "text/plain": [
       "<Figure size 432x288 with 1 Axes>"
      ]
     },
     "metadata": {
      "needs_background": "light"
     },
     "output_type": "display_data"
    },
    {
     "data": {
      "image/png": "[encoded data removed]",
      "text/plain": [
       "<Figure size 432x288 with 1 Axes>"
      ]
     },
     "metadata": {
      "needs_background": "light"
     },
     "output_type": "display_data"
    },
    {
     "data": {
      "image/png": "[encoded data removed]",
      "text/plain": [
       "<Figure size 432x288 with 1 Axes>"
      ]
     },
     "metadata": {
      "needs_background": "light"
     },
     "output_type": "display_data"
    },
    {
     "data": {
      "image/png": "[encoded data removed]",
      "text/plain": [
       "<Figure size 432x288 with 1 Axes>"
      ]
     },
     "metadata": {
      "needs_background": "light"
     },
     "output_type": "display_data"
    }
   ],
   "source": [
    "import cv2\n",
    "\n",
    "def plot_hist(data):\n",
    "    data = data.squeeze().cpu()\n",
    "    plt.hist(data[data==1], weights=torch.ones(len(data[data==1]))/len(data), \n",
    "             color='black', bins=10, range= (0, 1))\n",
    "    plt.hist(data[data==0], weights=torch.ones(len(data[data==0]))/len(data), \n",
    "             color='white', bins=10, range= (0, 1))\n",
    "    plt.gca().set_facecolor('xkcd:gray')\n",
    "    x_unique_count = torch.stack([(data==x_u).sum() for x_u in data.unique()])\n",
    "    plt.show()\n",
    "\n",
    "for i, (data_A, data_B) in enumerate(zip(dataloader_A, dataloader_B)):\n",
    "    print(len(data_A))\n",
    "    plot_hist(data_A)\n",
    "    plot_hist(data_B)\n",
    "    \n",
    "    visualize_img_batch(data_A[:64])\n",
    "    visualize_img_batch(data_B[:64])\n",
    "    break"
   ]
  },
  {
   "cell_type": "code",
   "execution_count": 7,
   "metadata": {
    "colab": {},
    "colab_type": "code",
    "id": "UIgeSM6Kk-gi"
   },
   "outputs": [],
   "source": [
    "class WeightNet(nn.Module):\n",
    "    '''A simple network that predicts the importances of the samples'''\n",
    "\n",
    "    def __init__(self):\n",
    "        super(WeightNet, self).__init__()\n",
    "        self.fc1 = nn.Linear(1, 1)\n",
    "        self.fc2 = nn.Linear(1, 1)\n",
    "        self.softmax = nn.Softmax(0)\n",
    "        \n",
    "    def forward(self, x):\n",
    "        h1 = torch.sigmoid(self.fc1(x))\n",
    "        out = self.fc2(h1)\n",
    "        return self.softmax(out)"
   ]
  },
  {
   "cell_type": "code",
   "execution_count": null,
   "metadata": {
    "colab": {
     "base_uri": "https://localhost:8080/",
     "height": 293
    },
    "colab_type": "code",
    "id": "KV18Gu-Xk-gl",
    "outputId": "d6b2c3ab-2594-4d8d-dc1b-0bb7b8910c55"
   },
   "outputs": [
    {
     "name": "stdout",
     "output_type": "stream",
     "text": [
      "step 0 loss_w:  0.12047883868217468\n",
      "step 500 loss_w:  0.060879532247781754\n",
      "step 1000 loss_w:  0.04633132368326187\n",
      "step 1500 loss_w:  0.0126590421423316\n",
      "step 2000 loss_w:  0.0018530245870351791\n",
      "step 2500 loss_w:  0.0013636902440339327\n",
      "step 3000 loss_w:  0.001618767506442964\n",
      "step 3500 loss_w:  0.001971201738342643\n",
      "step 4000 loss_w:  0.00010178992670262232\n",
      "step 4500 loss_w:  0.0009424148593097925\n",
      "step 5000 loss_w:  0.004586772993206978\n",
      "step 5500 loss_w:  0.0029129774775356054\n",
      "step 6000 loss_w:  0.000613707525189966\n",
      "step 6500 loss_w:  0.00029594023362733424\n",
      "step 7000 loss_w:  0.0008546036551706493\n",
      "step 7500 loss_w:  2.672260961844586e-05\n"
     ]
    }
   ],
   "source": [
    "# Initialize the networks\n",
    "weight_network = WeightNet().cuda()\n",
    "\n",
    "# Initialize the optimizers\n",
    "lr = 0.001\n",
    "optimizer_w = optim.Adam(weight_network.parameters(), lr=lr)\n",
    "\n",
    "losses_w = []\n",
    "\n",
    "mean_A = []\n",
    "mean_B = []\n",
    "\n",
    "Lminusses = []\n",
    "Lplusses = []\n",
    "\n",
    "example_importances_A = []\n",
    "example_importances_B = []\n",
    "\n",
    "def weight_normalization(w):\n",
    "    return w\n",
    "#     return 0.5*(1 + w)\n",
    "\n",
    "def f(x, w):\n",
    "    return x.mean() * w\n",
    "\n",
    "for epoch in range(1):\n",
    "    for i, (real_A, real_B) in enumerate(zip(dataloader_A, dataloader_B)):\n",
    "\n",
    "        # The weighting process\n",
    "        w = weight_network(real_A)\n",
    "    \n",
    "        # The loss function --------------------------------------------------------------------------------\n",
    "        \n",
    "        Lmin = (real_A * w).sum()\n",
    "        Lplus = real_B.mean()\n",
    "        \n",
    "        loss_w = (Lmin - Lplus)**2\n",
    "        \n",
    "        mean_A += [real_A.mean()]\n",
    "        mean_B += [real_B.mean()]\n",
    "\n",
    "        # ---------------------------------------------------------------------------------------------------\n",
    "\n",
    "        # Backward\n",
    "        optimizer_w.zero_grad()\n",
    "        loss_w.backward()\n",
    "        optimizer_w.step()   \n",
    "\n",
    "        # Store values --------------------------------------------------------------------------------------\n",
    "        Lminusses += [Lmin.item()]\n",
    "        Lplusses += [Lplus.item()]\n",
    "        \n",
    "        losses_w += [loss_w.item()]\n",
    "        \n",
    "        w_a = weight_normalization(weight_network(dataset_A.example_imgs.cuda()))\n",
    "        example_importances_A += [(w_a[0].item(), w_a[1].item())] # Store examples in a list\n",
    "\n",
    "        # ---------------------------------------------------------------------------------------------------\n",
    "\n",
    "        # Print statistics\n",
    "        if i % 500 == 0:\n",
    "            print('step', i, 'loss_w: ', loss_w.item())\n",
    "            \n",
    "        if i % 10000 == 0 and i != 0:\n",
    "            break"
   ]
  },
  {
   "cell_type": "code",
   "execution_count": null,
   "metadata": {
    "colab": {
     "base_uri": "https://localhost:8080/",
     "height": 403
    },
    "colab_type": "code",
    "id": "Bx6S16dbk-go",
    "outputId": "f76ed3e7-4fad-4a62-bf48-1cd11a83f41a"
   },
   "outputs": [],
   "source": [
    "plt.figure(figsize=(10,6))\n",
    "plt.title('Losses over iterations')\n",
    "plt.xlabel('Training iterations')\n",
    "plt.ylabel('Loss')\n",
    "# plt.yscale('symlog')\n",
    "plt.plot(losses_w)\n",
    "plt.legend(['W'])\n",
    "plt.show()"
   ]
  },
  {
   "cell_type": "code",
   "execution_count": null,
   "metadata": {
    "colab": {
     "base_uri": "https://localhost:8080/",
     "height": 403
    },
    "colab_type": "code",
    "id": "llvZ7ah0k-gq",
    "outputId": "35198418-1cf7-44e0-b954-feebd51d98a0"
   },
   "outputs": [],
   "source": [
    "plt.figure(figsize=(10,6))\n",
    "plt.title('Losses over iterations')\n",
    "plt.xlabel('Training iterations')\n",
    "plt.ylabel('Loss')\n",
    "plt.plot(Lminusses)\n",
    "plt.plot(Lplusses)\n",
    "plt.legend(['Lmin', 'Lplus'])\n",
    "plt.show()"
   ]
  },
  {
   "cell_type": "code",
   "execution_count": null,
   "metadata": {
    "colab": {
     "base_uri": "https://localhost:8080/",
     "height": 823
    },
    "colab_type": "code",
    "id": "GUiituvrk-gs",
    "outputId": "94f49428-00e7-4682-ba61-29996077263c"
   },
   "outputs": [],
   "source": [
    "plt.figure(figsize=(10,6))\n",
    "plt.title('Assigned importances for the toy example images over the course of training')\n",
    "plt.plot(example_importances_A)\n",
    "plt.legend(['Img A with value {} (p={})'.format(0, ratio_A), \n",
    "            'Img A with value {} (p={})'.format(1, 1-ratio_A)])\n",
    "plt.ylabel('Assigned importance')\n",
    "plt.xlabel('Training iterations')\n",
    "plt.show()\n",
    "\n",
    "import numpy as np\n",
    "plt.figure(figsize=(10,6))\n",
    "plt.title('Ratio between assigned importances for the toy example images over the course of training')\n",
    "ratio = list(np.array(example_importances_B) / np.array(example_importances_A))\n",
    "plt.plot(ratio)\n",
    "plt.legend(['Ratio 0', \n",
    "            'Ratio 1'])\n",
    "plt.ylabel('Assigned importance')\n",
    "plt.xlabel('Training iterations')\n",
    "plt.show()\n",
    "print(\"Ratio between assigned importances at iteration 8000: \" + str(ratio[8000]))\n",
    "print(\"Actual ratio: \" + str(ratio_A/ratio_B))"
   ]
  },
  {
   "cell_type": "code",
   "execution_count": null,
   "metadata": {},
   "outputs": [],
   "source": [
    "weights = weight_network(torch.linspace(0, 1, batch_size).view(-1,1).cuda()).cpu().detach().numpy()\n",
    "plt.figure(figsize=(10,6))\n",
    "plt.title('Assigned importances for image values')\n",
    "plt.plot(torch.linspace(0, 1, batch_size), weights)\n",
    "plt.ylabel('Assigned importance')\n",
    "plt.xlabel('Image value')\n",
    "plt.show()"
   ]
  },
  {
   "cell_type": "code",
   "execution_count": null,
   "metadata": {
    "colab": {
     "base_uri": "https://localhost:8080/",
     "height": 403
    },
    "colab_type": "code",
    "id": "Y505LXhMk-gv",
    "outputId": "6f26b20e-631c-4929-e0d6-f34de1cf2e6e"
   },
   "outputs": [],
   "source": [
    "plt.figure(figsize=(10,6))\n",
    "plt.title('Losses over iterations')\n",
    "plt.xlabel('Training iterations')\n",
    "plt.ylabel('Mean')\n",
    "plt.plot(mean_A)\n",
    "plt.plot(mean_B)\n",
    "plt.legend(['mean_A', 'mean_B'])\n",
    "plt.show()"
   ]
  },
  {
   "cell_type": "code",
   "execution_count": null,
   "metadata": {
    "colab": {},
    "colab_type": "code",
    "id": "KTKpJq7Ek-gx"
   },
   "outputs": [],
   "source": []
  }
 ],
 "metadata": {
  "accelerator": "GPU",
  "colab": {
   "name": "Toy_example_estimation_of_Radon-Nikodym_derivative.ipynb",
   "provenance": []
  },
  "kernelspec": {
   "display_name": "Python 3",
   "language": "python",
   "name": "python3"
  },
  "language_info": {
   "codemirror_mode": {
    "name": "ipython",
    "version": 3
   },
   "file_extension": ".py",
   "mimetype": "text/x-python",
   "name": "python",
   "nbconvert_exporter": "python",
   "pygments_lexer": "ipython3",
   "version": "3.7.5"
  }
 },
 "nbformat": 4,
 "nbformat_minor": 1
}
