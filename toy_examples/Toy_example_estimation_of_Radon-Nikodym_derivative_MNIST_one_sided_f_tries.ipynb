{
  "nbformat": 4,
  "nbformat_minor": 0,
  "metadata": {
    "kernelspec": {
      "display_name": "Python 3",
      "language": "python",
      "name": "python3"
    },
    "language_info": {
      "codemirror_mode": {
        "name": "ipython",
        "version": 3
      },
      "file_extension": ".py",
      "mimetype": "text/x-python",
      "name": "python",
      "nbconvert_exporter": "python",
      "pygments_lexer": "ipython3",
      "version": "3.7.5"
    },
    "colab": {
      "name": "Toy_example_estimation_of_Radon-Nikodym_derivative_MNIST_one_sided_f_tries.ipynb",
      "provenance": [],
      "include_colab_link": true
    },
    "accelerator": "GPU",
    "widgets": {
      "application/vnd.jupyter.widget-state+json": {
        "b33198ca1849418db67625cef66bb1a2": {
          "model_module": "@jupyter-widgets/controls",
          "model_name": "HBoxModel",
          "state": {
            "_view_name": "HBoxView",
            "_dom_classes": [],
            "_model_name": "HBoxModel",
            "_view_module": "@jupyter-widgets/controls",
            "_model_module_version": "1.5.0",
            "_view_count": null,
            "_view_module_version": "1.5.0",
            "box_style": "",
            "layout": "IPY_MODEL_432752acc11d475c8553eef31093fdf8",
            "_model_module": "@jupyter-widgets/controls",
            "children": [
              "IPY_MODEL_454c3616f9a44b73b861bc51b26d0dfa",
              "IPY_MODEL_7e9b360d5c6c48858a6327e196affc34"
            ]
          }
        },
        "432752acc11d475c8553eef31093fdf8": {
          "model_module": "@jupyter-widgets/base",
          "model_name": "LayoutModel",
          "state": {
            "_view_name": "LayoutView",
            "grid_template_rows": null,
            "right": null,
            "justify_content": null,
            "_view_module": "@jupyter-widgets/base",
            "overflow": null,
            "_model_module_version": "1.2.0",
            "_view_count": null,
            "flex_flow": null,
            "width": null,
            "min_width": null,
            "border": null,
            "align_items": null,
            "bottom": null,
            "_model_module": "@jupyter-widgets/base",
            "top": null,
            "grid_column": null,
            "overflow_y": null,
            "overflow_x": null,
            "grid_auto_flow": null,
            "grid_area": null,
            "grid_template_columns": null,
            "flex": null,
            "_model_name": "LayoutModel",
            "justify_items": null,
            "grid_row": null,
            "max_height": null,
            "align_content": null,
            "visibility": null,
            "align_self": null,
            "height": null,
            "min_height": null,
            "padding": null,
            "grid_auto_rows": null,
            "grid_gap": null,
            "max_width": null,
            "order": null,
            "_view_module_version": "1.2.0",
            "grid_template_areas": null,
            "object_position": null,
            "object_fit": null,
            "grid_auto_columns": null,
            "margin": null,
            "display": null,
            "left": null
          }
        },
        "454c3616f9a44b73b861bc51b26d0dfa": {
          "model_module": "@jupyter-widgets/controls",
          "model_name": "FloatProgressModel",
          "state": {
            "_view_name": "ProgressView",
            "style": "IPY_MODEL_fae754c6b532479b998f1bc127308f04",
            "_dom_classes": [],
            "description": "",
            "_model_name": "FloatProgressModel",
            "bar_style": "info",
            "max": 1,
            "_view_module": "@jupyter-widgets/controls",
            "_model_module_version": "1.5.0",
            "value": 1,
            "_view_count": null,
            "_view_module_version": "1.5.0",
            "orientation": "horizontal",
            "min": 0,
            "description_tooltip": null,
            "_model_module": "@jupyter-widgets/controls",
            "layout": "IPY_MODEL_a4875c5d972d415383730eb631b4fada"
          }
        },
        "7e9b360d5c6c48858a6327e196affc34": {
          "model_module": "@jupyter-widgets/controls",
          "model_name": "HTMLModel",
          "state": {
            "_view_name": "HTMLView",
            "style": "IPY_MODEL_f28de67f722a4bf7b193c6e71bf9d74a",
            "_dom_classes": [],
            "description": "",
            "_model_name": "HTMLModel",
            "placeholder": "​",
            "_view_module": "@jupyter-widgets/controls",
            "_model_module_version": "1.5.0",
            "value": " 9920512/? [00:20&lt;00:00, 1338348.21it/s]",
            "_view_count": null,
            "_view_module_version": "1.5.0",
            "description_tooltip": null,
            "_model_module": "@jupyter-widgets/controls",
            "layout": "IPY_MODEL_1d193de5018b456390341ee7a481dcf2"
          }
        },
        "fae754c6b532479b998f1bc127308f04": {
          "model_module": "@jupyter-widgets/controls",
          "model_name": "ProgressStyleModel",
          "state": {
            "_view_name": "StyleView",
            "_model_name": "ProgressStyleModel",
            "description_width": "initial",
            "_view_module": "@jupyter-widgets/base",
            "_model_module_version": "1.5.0",
            "_view_count": null,
            "_view_module_version": "1.2.0",
            "bar_color": null,
            "_model_module": "@jupyter-widgets/controls"
          }
        },
        "a4875c5d972d415383730eb631b4fada": {
          "model_module": "@jupyter-widgets/base",
          "model_name": "LayoutModel",
          "state": {
            "_view_name": "LayoutView",
            "grid_template_rows": null,
            "right": null,
            "justify_content": null,
            "_view_module": "@jupyter-widgets/base",
            "overflow": null,
            "_model_module_version": "1.2.0",
            "_view_count": null,
            "flex_flow": null,
            "width": null,
            "min_width": null,
            "border": null,
            "align_items": null,
            "bottom": null,
            "_model_module": "@jupyter-widgets/base",
            "top": null,
            "grid_column": null,
            "overflow_y": null,
            "overflow_x": null,
            "grid_auto_flow": null,
            "grid_area": null,
            "grid_template_columns": null,
            "flex": null,
            "_model_name": "LayoutModel",
            "justify_items": null,
            "grid_row": null,
            "max_height": null,
            "align_content": null,
            "visibility": null,
            "align_self": null,
            "height": null,
            "min_height": null,
            "padding": null,
            "grid_auto_rows": null,
            "grid_gap": null,
            "max_width": null,
            "order": null,
            "_view_module_version": "1.2.0",
            "grid_template_areas": null,
            "object_position": null,
            "object_fit": null,
            "grid_auto_columns": null,
            "margin": null,
            "display": null,
            "left": null
          }
        },
        "f28de67f722a4bf7b193c6e71bf9d74a": {
          "model_module": "@jupyter-widgets/controls",
          "model_name": "DescriptionStyleModel",
          "state": {
            "_view_name": "StyleView",
            "_model_name": "DescriptionStyleModel",
            "description_width": "",
            "_view_module": "@jupyter-widgets/base",
            "_model_module_version": "1.5.0",
            "_view_count": null,
            "_view_module_version": "1.2.0",
            "_model_module": "@jupyter-widgets/controls"
          }
        },
        "1d193de5018b456390341ee7a481dcf2": {
          "model_module": "@jupyter-widgets/base",
          "model_name": "LayoutModel",
          "state": {
            "_view_name": "LayoutView",
            "grid_template_rows": null,
            "right": null,
            "justify_content": null,
            "_view_module": "@jupyter-widgets/base",
            "overflow": null,
            "_model_module_version": "1.2.0",
            "_view_count": null,
            "flex_flow": null,
            "width": null,
            "min_width": null,
            "border": null,
            "align_items": null,
            "bottom": null,
            "_model_module": "@jupyter-widgets/base",
            "top": null,
            "grid_column": null,
            "overflow_y": null,
            "overflow_x": null,
            "grid_auto_flow": null,
            "grid_area": null,
            "grid_template_columns": null,
            "flex": null,
            "_model_name": "LayoutModel",
            "justify_items": null,
            "grid_row": null,
            "max_height": null,
            "align_content": null,
            "visibility": null,
            "align_self": null,
            "height": null,
            "min_height": null,
            "padding": null,
            "grid_auto_rows": null,
            "grid_gap": null,
            "max_width": null,
            "order": null,
            "_view_module_version": "1.2.0",
            "grid_template_areas": null,
            "object_position": null,
            "object_fit": null,
            "grid_auto_columns": null,
            "margin": null,
            "display": null,
            "left": null
          }
        },
        "5bee64898f464cbf97eced64b6426208": {
          "model_module": "@jupyter-widgets/controls",
          "model_name": "HBoxModel",
          "state": {
            "_view_name": "HBoxView",
            "_dom_classes": [],
            "_model_name": "HBoxModel",
            "_view_module": "@jupyter-widgets/controls",
            "_model_module_version": "1.5.0",
            "_view_count": null,
            "_view_module_version": "1.5.0",
            "box_style": "",
            "layout": "IPY_MODEL_15961ff8928c4ccda8de12727a57e1c7",
            "_model_module": "@jupyter-widgets/controls",
            "children": [
              "IPY_MODEL_0bd5c377421a4a428395b9a255bb2022",
              "IPY_MODEL_de32692416e24d979d2304b9d467af8b"
            ]
          }
        },
        "15961ff8928c4ccda8de12727a57e1c7": {
          "model_module": "@jupyter-widgets/base",
          "model_name": "LayoutModel",
          "state": {
            "_view_name": "LayoutView",
            "grid_template_rows": null,
            "right": null,
            "justify_content": null,
            "_view_module": "@jupyter-widgets/base",
            "overflow": null,
            "_model_module_version": "1.2.0",
            "_view_count": null,
            "flex_flow": null,
            "width": null,
            "min_width": null,
            "border": null,
            "align_items": null,
            "bottom": null,
            "_model_module": "@jupyter-widgets/base",
            "top": null,
            "grid_column": null,
            "overflow_y": null,
            "overflow_x": null,
            "grid_auto_flow": null,
            "grid_area": null,
            "grid_template_columns": null,
            "flex": null,
            "_model_name": "LayoutModel",
            "justify_items": null,
            "grid_row": null,
            "max_height": null,
            "align_content": null,
            "visibility": null,
            "align_self": null,
            "height": null,
            "min_height": null,
            "padding": null,
            "grid_auto_rows": null,
            "grid_gap": null,
            "max_width": null,
            "order": null,
            "_view_module_version": "1.2.0",
            "grid_template_areas": null,
            "object_position": null,
            "object_fit": null,
            "grid_auto_columns": null,
            "margin": null,
            "display": null,
            "left": null
          }
        },
        "0bd5c377421a4a428395b9a255bb2022": {
          "model_module": "@jupyter-widgets/controls",
          "model_name": "FloatProgressModel",
          "state": {
            "_view_name": "ProgressView",
            "style": "IPY_MODEL_2b9ecc9eaf934952ba64f6960f9db523",
            "_dom_classes": [],
            "description": "",
            "_model_name": "FloatProgressModel",
            "bar_style": "success",
            "max": 1,
            "_view_module": "@jupyter-widgets/controls",
            "_model_module_version": "1.5.0",
            "value": 1,
            "_view_count": null,
            "_view_module_version": "1.5.0",
            "orientation": "horizontal",
            "min": 0,
            "description_tooltip": null,
            "_model_module": "@jupyter-widgets/controls",
            "layout": "IPY_MODEL_30834c5ee062439e91f1ce1891ec38fd"
          }
        },
        "de32692416e24d979d2304b9d467af8b": {
          "model_module": "@jupyter-widgets/controls",
          "model_name": "HTMLModel",
          "state": {
            "_view_name": "HTMLView",
            "style": "IPY_MODEL_414c554046314077b24f1b2552bfef2c",
            "_dom_classes": [],
            "description": "",
            "_model_name": "HTMLModel",
            "placeholder": "​",
            "_view_module": "@jupyter-widgets/controls",
            "_model_module_version": "1.5.0",
            "value": " 32768/? [00:00&lt;00:00, 115493.66it/s]",
            "_view_count": null,
            "_view_module_version": "1.5.0",
            "description_tooltip": null,
            "_model_module": "@jupyter-widgets/controls",
            "layout": "IPY_MODEL_b5b9d94371864769b0e43226a80cdaab"
          }
        },
        "2b9ecc9eaf934952ba64f6960f9db523": {
          "model_module": "@jupyter-widgets/controls",
          "model_name": "ProgressStyleModel",
          "state": {
            "_view_name": "StyleView",
            "_model_name": "ProgressStyleModel",
            "description_width": "initial",
            "_view_module": "@jupyter-widgets/base",
            "_model_module_version": "1.5.0",
            "_view_count": null,
            "_view_module_version": "1.2.0",
            "bar_color": null,
            "_model_module": "@jupyter-widgets/controls"
          }
        },
        "30834c5ee062439e91f1ce1891ec38fd": {
          "model_module": "@jupyter-widgets/base",
          "model_name": "LayoutModel",
          "state": {
            "_view_name": "LayoutView",
            "grid_template_rows": null,
            "right": null,
            "justify_content": null,
            "_view_module": "@jupyter-widgets/base",
            "overflow": null,
            "_model_module_version": "1.2.0",
            "_view_count": null,
            "flex_flow": null,
            "width": null,
            "min_width": null,
            "border": null,
            "align_items": null,
            "bottom": null,
            "_model_module": "@jupyter-widgets/base",
            "top": null,
            "grid_column": null,
            "overflow_y": null,
            "overflow_x": null,
            "grid_auto_flow": null,
            "grid_area": null,
            "grid_template_columns": null,
            "flex": null,
            "_model_name": "LayoutModel",
            "justify_items": null,
            "grid_row": null,
            "max_height": null,
            "align_content": null,
            "visibility": null,
            "align_self": null,
            "height": null,
            "min_height": null,
            "padding": null,
            "grid_auto_rows": null,
            "grid_gap": null,
            "max_width": null,
            "order": null,
            "_view_module_version": "1.2.0",
            "grid_template_areas": null,
            "object_position": null,
            "object_fit": null,
            "grid_auto_columns": null,
            "margin": null,
            "display": null,
            "left": null
          }
        },
        "414c554046314077b24f1b2552bfef2c": {
          "model_module": "@jupyter-widgets/controls",
          "model_name": "DescriptionStyleModel",
          "state": {
            "_view_name": "StyleView",
            "_model_name": "DescriptionStyleModel",
            "description_width": "",
            "_view_module": "@jupyter-widgets/base",
            "_model_module_version": "1.5.0",
            "_view_count": null,
            "_view_module_version": "1.2.0",
            "_model_module": "@jupyter-widgets/controls"
          }
        },
        "b5b9d94371864769b0e43226a80cdaab": {
          "model_module": "@jupyter-widgets/base",
          "model_name": "LayoutModel",
          "state": {
            "_view_name": "LayoutView",
            "grid_template_rows": null,
            "right": null,
            "justify_content": null,
            "_view_module": "@jupyter-widgets/base",
            "overflow": null,
            "_model_module_version": "1.2.0",
            "_view_count": null,
            "flex_flow": null,
            "width": null,
            "min_width": null,
            "border": null,
            "align_items": null,
            "bottom": null,
            "_model_module": "@jupyter-widgets/base",
            "top": null,
            "grid_column": null,
            "overflow_y": null,
            "overflow_x": null,
            "grid_auto_flow": null,
            "grid_area": null,
            "grid_template_columns": null,
            "flex": null,
            "_model_name": "LayoutModel",
            "justify_items": null,
            "grid_row": null,
            "max_height": null,
            "align_content": null,
            "visibility": null,
            "align_self": null,
            "height": null,
            "min_height": null,
            "padding": null,
            "grid_auto_rows": null,
            "grid_gap": null,
            "max_width": null,
            "order": null,
            "_view_module_version": "1.2.0",
            "grid_template_areas": null,
            "object_position": null,
            "object_fit": null,
            "grid_auto_columns": null,
            "margin": null,
            "display": null,
            "left": null
          }
        },
        "00424d01acc84d579098b11fd0ca13e7": {
          "model_module": "@jupyter-widgets/controls",
          "model_name": "HBoxModel",
          "state": {
            "_view_name": "HBoxView",
            "_dom_classes": [],
            "_model_name": "HBoxModel",
            "_view_module": "@jupyter-widgets/controls",
            "_model_module_version": "1.5.0",
            "_view_count": null,
            "_view_module_version": "1.5.0",
            "box_style": "",
            "layout": "IPY_MODEL_753f8b91acc04421af1b1a9b7a7d00b8",
            "_model_module": "@jupyter-widgets/controls",
            "children": [
              "IPY_MODEL_6b9f2ec2db9b4c21b5690f9f34a6a432",
              "IPY_MODEL_f64ad4a61e9343f3b6841370d9d36dbe"
            ]
          }
        },
        "753f8b91acc04421af1b1a9b7a7d00b8": {
          "model_module": "@jupyter-widgets/base",
          "model_name": "LayoutModel",
          "state": {
            "_view_name": "LayoutView",
            "grid_template_rows": null,
            "right": null,
            "justify_content": null,
            "_view_module": "@jupyter-widgets/base",
            "overflow": null,
            "_model_module_version": "1.2.0",
            "_view_count": null,
            "flex_flow": null,
            "width": null,
            "min_width": null,
            "border": null,
            "align_items": null,
            "bottom": null,
            "_model_module": "@jupyter-widgets/base",
            "top": null,
            "grid_column": null,
            "overflow_y": null,
            "overflow_x": null,
            "grid_auto_flow": null,
            "grid_area": null,
            "grid_template_columns": null,
            "flex": null,
            "_model_name": "LayoutModel",
            "justify_items": null,
            "grid_row": null,
            "max_height": null,
            "align_content": null,
            "visibility": null,
            "align_self": null,
            "height": null,
            "min_height": null,
            "padding": null,
            "grid_auto_rows": null,
            "grid_gap": null,
            "max_width": null,
            "order": null,
            "_view_module_version": "1.2.0",
            "grid_template_areas": null,
            "object_position": null,
            "object_fit": null,
            "grid_auto_columns": null,
            "margin": null,
            "display": null,
            "left": null
          }
        },
        "6b9f2ec2db9b4c21b5690f9f34a6a432": {
          "model_module": "@jupyter-widgets/controls",
          "model_name": "FloatProgressModel",
          "state": {
            "_view_name": "ProgressView",
            "style": "IPY_MODEL_ec651e6005a649b5b0923a13392a74e5",
            "_dom_classes": [],
            "description": "",
            "_model_name": "FloatProgressModel",
            "bar_style": "info",
            "max": 1,
            "_view_module": "@jupyter-widgets/controls",
            "_model_module_version": "1.5.0",
            "value": 1,
            "_view_count": null,
            "_view_module_version": "1.5.0",
            "orientation": "horizontal",
            "min": 0,
            "description_tooltip": null,
            "_model_module": "@jupyter-widgets/controls",
            "layout": "IPY_MODEL_d72a361ab2b142bdbd8336eb25506052"
          }
        },
        "f64ad4a61e9343f3b6841370d9d36dbe": {
          "model_module": "@jupyter-widgets/controls",
          "model_name": "HTMLModel",
          "state": {
            "_view_name": "HTMLView",
            "style": "IPY_MODEL_98ba2e8d841242ccb7d9de54e4f66b1f",
            "_dom_classes": [],
            "description": "",
            "_model_name": "HTMLModel",
            "placeholder": "​",
            "_view_module": "@jupyter-widgets/controls",
            "_model_module_version": "1.5.0",
            "value": " 1654784/? [00:16&lt;00:00, 232034.52it/s]",
            "_view_count": null,
            "_view_module_version": "1.5.0",
            "description_tooltip": null,
            "_model_module": "@jupyter-widgets/controls",
            "layout": "IPY_MODEL_165263cdc4bf4609ae72f2b9e1826872"
          }
        },
        "ec651e6005a649b5b0923a13392a74e5": {
          "model_module": "@jupyter-widgets/controls",
          "model_name": "ProgressStyleModel",
          "state": {
            "_view_name": "StyleView",
            "_model_name": "ProgressStyleModel",
            "description_width": "initial",
            "_view_module": "@jupyter-widgets/base",
            "_model_module_version": "1.5.0",
            "_view_count": null,
            "_view_module_version": "1.2.0",
            "bar_color": null,
            "_model_module": "@jupyter-widgets/controls"
          }
        },
        "d72a361ab2b142bdbd8336eb25506052": {
          "model_module": "@jupyter-widgets/base",
          "model_name": "LayoutModel",
          "state": {
            "_view_name": "LayoutView",
            "grid_template_rows": null,
            "right": null,
            "justify_content": null,
            "_view_module": "@jupyter-widgets/base",
            "overflow": null,
            "_model_module_version": "1.2.0",
            "_view_count": null,
            "flex_flow": null,
            "width": null,
            "min_width": null,
            "border": null,
            "align_items": null,
            "bottom": null,
            "_model_module": "@jupyter-widgets/base",
            "top": null,
            "grid_column": null,
            "overflow_y": null,
            "overflow_x": null,
            "grid_auto_flow": null,
            "grid_area": null,
            "grid_template_columns": null,
            "flex": null,
            "_model_name": "LayoutModel",
            "justify_items": null,
            "grid_row": null,
            "max_height": null,
            "align_content": null,
            "visibility": null,
            "align_self": null,
            "height": null,
            "min_height": null,
            "padding": null,
            "grid_auto_rows": null,
            "grid_gap": null,
            "max_width": null,
            "order": null,
            "_view_module_version": "1.2.0",
            "grid_template_areas": null,
            "object_position": null,
            "object_fit": null,
            "grid_auto_columns": null,
            "margin": null,
            "display": null,
            "left": null
          }
        },
        "98ba2e8d841242ccb7d9de54e4f66b1f": {
          "model_module": "@jupyter-widgets/controls",
          "model_name": "DescriptionStyleModel",
          "state": {
            "_view_name": "StyleView",
            "_model_name": "DescriptionStyleModel",
            "description_width": "",
            "_view_module": "@jupyter-widgets/base",
            "_model_module_version": "1.5.0",
            "_view_count": null,
            "_view_module_version": "1.2.0",
            "_model_module": "@jupyter-widgets/controls"
          }
        },
        "165263cdc4bf4609ae72f2b9e1826872": {
          "model_module": "@jupyter-widgets/base",
          "model_name": "LayoutModel",
          "state": {
            "_view_name": "LayoutView",
            "grid_template_rows": null,
            "right": null,
            "justify_content": null,
            "_view_module": "@jupyter-widgets/base",
            "overflow": null,
            "_model_module_version": "1.2.0",
            "_view_count": null,
            "flex_flow": null,
            "width": null,
            "min_width": null,
            "border": null,
            "align_items": null,
            "bottom": null,
            "_model_module": "@jupyter-widgets/base",
            "top": null,
            "grid_column": null,
            "overflow_y": null,
            "overflow_x": null,
            "grid_auto_flow": null,
            "grid_area": null,
            "grid_template_columns": null,
            "flex": null,
            "_model_name": "LayoutModel",
            "justify_items": null,
            "grid_row": null,
            "max_height": null,
            "align_content": null,
            "visibility": null,
            "align_self": null,
            "height": null,
            "min_height": null,
            "padding": null,
            "grid_auto_rows": null,
            "grid_gap": null,
            "max_width": null,
            "order": null,
            "_view_module_version": "1.2.0",
            "grid_template_areas": null,
            "object_position": null,
            "object_fit": null,
            "grid_auto_columns": null,
            "margin": null,
            "display": null,
            "left": null
          }
        },
        "2a28986345084e7e939048158edeebdf": {
          "model_module": "@jupyter-widgets/controls",
          "model_name": "HBoxModel",
          "state": {
            "_view_name": "HBoxView",
            "_dom_classes": [],
            "_model_name": "HBoxModel",
            "_view_module": "@jupyter-widgets/controls",
            "_model_module_version": "1.5.0",
            "_view_count": null,
            "_view_module_version": "1.5.0",
            "box_style": "",
            "layout": "IPY_MODEL_378a52b491fd4f64a61c395bd9066a28",
            "_model_module": "@jupyter-widgets/controls",
            "children": [
              "IPY_MODEL_d799751882f54c5eb7bb16ffe39e8cba",
              "IPY_MODEL_f0b6f13216aa4ce2bc620e429f852d0d"
            ]
          }
        },
        "378a52b491fd4f64a61c395bd9066a28": {
          "model_module": "@jupyter-widgets/base",
          "model_name": "LayoutModel",
          "state": {
            "_view_name": "LayoutView",
            "grid_template_rows": null,
            "right": null,
            "justify_content": null,
            "_view_module": "@jupyter-widgets/base",
            "overflow": null,
            "_model_module_version": "1.2.0",
            "_view_count": null,
            "flex_flow": null,
            "width": null,
            "min_width": null,
            "border": null,
            "align_items": null,
            "bottom": null,
            "_model_module": "@jupyter-widgets/base",
            "top": null,
            "grid_column": null,
            "overflow_y": null,
            "overflow_x": null,
            "grid_auto_flow": null,
            "grid_area": null,
            "grid_template_columns": null,
            "flex": null,
            "_model_name": "LayoutModel",
            "justify_items": null,
            "grid_row": null,
            "max_height": null,
            "align_content": null,
            "visibility": null,
            "align_self": null,
            "height": null,
            "min_height": null,
            "padding": null,
            "grid_auto_rows": null,
            "grid_gap": null,
            "max_width": null,
            "order": null,
            "_view_module_version": "1.2.0",
            "grid_template_areas": null,
            "object_position": null,
            "object_fit": null,
            "grid_auto_columns": null,
            "margin": null,
            "display": null,
            "left": null
          }
        },
        "d799751882f54c5eb7bb16ffe39e8cba": {
          "model_module": "@jupyter-widgets/controls",
          "model_name": "FloatProgressModel",
          "state": {
            "_view_name": "ProgressView",
            "style": "IPY_MODEL_f70816b95f634ad19349c66d1ad9e4ea",
            "_dom_classes": [],
            "description": "  0%",
            "_model_name": "FloatProgressModel",
            "bar_style": "info",
            "max": 1,
            "_view_module": "@jupyter-widgets/controls",
            "_model_module_version": "1.5.0",
            "value": 0,
            "_view_count": null,
            "_view_module_version": "1.5.0",
            "orientation": "horizontal",
            "min": 0,
            "description_tooltip": null,
            "_model_module": "@jupyter-widgets/controls",
            "layout": "IPY_MODEL_81f2094b12e6494497ba6f4ff0786c11"
          }
        },
        "f0b6f13216aa4ce2bc620e429f852d0d": {
          "model_module": "@jupyter-widgets/controls",
          "model_name": "HTMLModel",
          "state": {
            "_view_name": "HTMLView",
            "style": "IPY_MODEL_a13aa9942d644254a44cfe186fe92590",
            "_dom_classes": [],
            "description": "",
            "_model_name": "HTMLModel",
            "placeholder": "​",
            "_view_module": "@jupyter-widgets/controls",
            "_model_module_version": "1.5.0",
            "value": " 0/4542 [00:00&lt;?, ?it/s]",
            "_view_count": null,
            "_view_module_version": "1.5.0",
            "description_tooltip": null,
            "_model_module": "@jupyter-widgets/controls",
            "layout": "IPY_MODEL_7b87345ebb8b4fd28716fcec9ec943d0"
          }
        },
        "f70816b95f634ad19349c66d1ad9e4ea": {
          "model_module": "@jupyter-widgets/controls",
          "model_name": "ProgressStyleModel",
          "state": {
            "_view_name": "StyleView",
            "_model_name": "ProgressStyleModel",
            "description_width": "initial",
            "_view_module": "@jupyter-widgets/base",
            "_model_module_version": "1.5.0",
            "_view_count": null,
            "_view_module_version": "1.2.0",
            "bar_color": null,
            "_model_module": "@jupyter-widgets/controls"
          }
        },
        "81f2094b12e6494497ba6f4ff0786c11": {
          "model_module": "@jupyter-widgets/base",
          "model_name": "LayoutModel",
          "state": {
            "_view_name": "LayoutView",
            "grid_template_rows": null,
            "right": null,
            "justify_content": null,
            "_view_module": "@jupyter-widgets/base",
            "overflow": null,
            "_model_module_version": "1.2.0",
            "_view_count": null,
            "flex_flow": null,
            "width": null,
            "min_width": null,
            "border": null,
            "align_items": null,
            "bottom": null,
            "_model_module": "@jupyter-widgets/base",
            "top": null,
            "grid_column": null,
            "overflow_y": null,
            "overflow_x": null,
            "grid_auto_flow": null,
            "grid_area": null,
            "grid_template_columns": null,
            "flex": null,
            "_model_name": "LayoutModel",
            "justify_items": null,
            "grid_row": null,
            "max_height": null,
            "align_content": null,
            "visibility": null,
            "align_self": null,
            "height": null,
            "min_height": null,
            "padding": null,
            "grid_auto_rows": null,
            "grid_gap": null,
            "max_width": null,
            "order": null,
            "_view_module_version": "1.2.0",
            "grid_template_areas": null,
            "object_position": null,
            "object_fit": null,
            "grid_auto_columns": null,
            "margin": null,
            "display": null,
            "left": null
          }
        },
        "a13aa9942d644254a44cfe186fe92590": {
          "model_module": "@jupyter-widgets/controls",
          "model_name": "DescriptionStyleModel",
          "state": {
            "_view_name": "StyleView",
            "_model_name": "DescriptionStyleModel",
            "description_width": "",
            "_view_module": "@jupyter-widgets/base",
            "_model_module_version": "1.5.0",
            "_view_count": null,
            "_view_module_version": "1.2.0",
            "_model_module": "@jupyter-widgets/controls"
          }
        },
        "7b87345ebb8b4fd28716fcec9ec943d0": {
          "model_module": "@jupyter-widgets/base",
          "model_name": "LayoutModel",
          "state": {
            "_view_name": "LayoutView",
            "grid_template_rows": null,
            "right": null,
            "justify_content": null,
            "_view_module": "@jupyter-widgets/base",
            "overflow": null,
            "_model_module_version": "1.2.0",
            "_view_count": null,
            "flex_flow": null,
            "width": null,
            "min_width": null,
            "border": null,
            "align_items": null,
            "bottom": null,
            "_model_module": "@jupyter-widgets/base",
            "top": null,
            "grid_column": null,
            "overflow_y": null,
            "overflow_x": null,
            "grid_auto_flow": null,
            "grid_area": null,
            "grid_template_columns": null,
            "flex": null,
            "_model_name": "LayoutModel",
            "justify_items": null,
            "grid_row": null,
            "max_height": null,
            "align_content": null,
            "visibility": null,
            "align_self": null,
            "height": null,
            "min_height": null,
            "padding": null,
            "grid_auto_rows": null,
            "grid_gap": null,
            "max_width": null,
            "order": null,
            "_view_module_version": "1.2.0",
            "grid_template_areas": null,
            "object_position": null,
            "object_fit": null,
            "grid_auto_columns": null,
            "margin": null,
            "display": null,
            "left": null
          }
        }
      }
    }
  },
  "cells": [
    {
      "cell_type": "markdown",
      "metadata": {
        "id": "view-in-github",
        "colab_type": "text"
      },
      "source": [
        "<a href=\"https://colab.research.google.com/github/MichelleAppel/Importance_sampling/blob/master/toy_examples/Toy_example_estimation_of_Radon-Nikodym_derivative_MNIST_one_sided_f_tries.ipynb\" target=\"_parent\"><img src=\"https://colab.research.google.com/assets/colab-badge.svg\" alt=\"Open In Colab\"/></a>"
      ]
    },
    {
      "cell_type": "markdown",
      "metadata": {
        "id": "6J5y6SbAJaMS",
        "colab_type": "text"
      },
      "source": [
        "# Toy example estimation of Radon-Nikodym derivative for MNIST dataset (one sided)"
      ]
    },
    {
      "cell_type": "markdown",
      "metadata": {
        "id": "LUEg3hsSJaMT",
        "colab_type": "text"
      },
      "source": [
        "Equation (5) of the paper by Binkowski et al. explains that the Radon-Nikodym derivative $\\frac{d \\mathbb{Q}_y}{ \\mathbb{P}_y^G}$ of the two domains exist under the assumptions they state. This derivative can also be seen as the ratio between the two distributions of the domains, and can be used to express the compensation for imbalance in the domains:\n",
        "\n",
        "$\\mathbb{E}_{Y \\sim \\mathbb{Q}_y}[D(Y)] = \\mathbb{E}_{X \\sim \\mathbb{P}_x}[D(G(X)) \\frac{d \\mathbb{Q}_y}{ d\\mathbb{P}_y^G}(G(X))]$\n",
        "\n",
        "This expresses compensation for imbalance between the discriminator outputs, caused by the imbalance in the domain distributions. However, it does not necessarily have to be used for the imbalance in the discriminator outputs. It can be applied to any imbalance caused by the different domain distributions.\n",
        "\n",
        "--\n",
        "\n",
        "In other words, we are trying to study the situation where we don't deal with a discriminator but with any function, let it be $f$. This $f$ can be any function, e.g. identity, mean.... We try to compensate for imbalances in the two domains over which we compute the function:\n",
        "\n",
        "$\\mathbb{E}_{Y \\sim \\mathbb{Q}_y}[f(Y)] = \\mathbb{E}_{X \\sim \\mathbb{P}_x}[f(G(X)) \\frac{d \\mathbb{Q}_y}{ d\\mathbb{P}_y^G}(G(X))]$\n",
        "\n",
        "Possible functions $f$ for MNIST:\n",
        "* use the label\n",
        "* pre-trained classifier\n",
        "\n",
        "In this toy example we use try different possibilities for $f$:\n",
        "\n",
        "0.   $f$ = real value for the label of the image (Like in Toy_example_estimation_of_Radon-Nikodym_derivative_MNIST_one_sided.ipynb : https://colab.research.google.com/drive/1REZfm-gHmH0_ozOROrofkCpM5eh0u2pI#scrollTo=FRC7j9BYJaM1)\n",
        "1.   $f$ = mean of the pixel value over the whole image\n",
        "2.   $f$ = image itself, that is weighted by the image's weight (and, after the weighting, an operation like a sum is applid over the whole batch)\n",
        "3.   $f$ = fixed (not trained) randomly initialized neural network\n",
        "4.   $f$ = fixed (not trained) randomly initialized neural network, with possibility to use hidden variables as $f$. $f$ can also be a tensor instead of a single value  \n",
        "\n",
        "\n",
        "\n",
        "--\n",
        "\n",
        "This toy example uses a simplified version of MNIST.\n",
        "\n",
        "The dataset only has zeroes and ones, and the percentage of zeros/ones is specified by the user\n",
        "\n",
        "--\n",
        "\n",
        "The following toy example shows how we can use the Radon-Nikodym derivative for compensating the imbalance for the mean of the domains using $\\bar{Y} = \\bar{X}\\frac{d \\mathbb{Q}_y}{d \\mathbb{P}_x}$.\n",
        "\n",
        "\n",
        "Let $X = [1, 1, 1, 1, 1, 1, 1, 0, 0]$, with mean $\\bar{X} = 0.8$ and <br />\n",
        "Let $Y = [1, 1, 0, 0, 0, 0, 0, 0, 0]$, with mean $\\bar{Y} = 0.2$\n",
        "\n",
        "Then $[1, 1, 0, 0, 0, 0, 0, 0, 0] = [1, 1, 1, 1, 1, 1, 1, 0, 0] \\cdot \\frac{d \\mathbb{Q}_y}{d \\mathbb{P}_x}(X)$, and <br />\n",
        "$\\frac{d \\mathbb{Q}_y}{d \\mathbb{P}_x}(X) = [0.25, 0.25, 0.25, 0.25, 0.25, 0.25, 0.25, 4, 4]$\n",
        "\n",
        "This can be interpreted as the ratio between means of the domains for each of the samples. In this example the ratio can be calculated. However, in more complex situations, for example with images, the Radon-Nykodym derivative $\\frac{d \\mathbb{Q}_y}{d \\mathbb{P}_x}$ is unknown and we may try to estimate it using a neural network $W$. This leads to the objective function\n",
        "\n",
        "$\\inf_{W \\in \\mathcal{W}} (\\mathbb{E}_{X \\sim \\mathbb{P}_x} [D(G(X)) \\cdot W(X)] - \\mathbb{E}_{Y \\sim \\mathbb{Q}_y}[D(Y)])^2$\n",
        "\n",
        "used by Binkowski et al. for compensation of distributions in the domains, using the discriminator output. Similarly, we can use such a network in our toy example."
      ]
    },
    {
      "cell_type": "markdown",
      "metadata": {
        "id": "dnCHtiikgzkl",
        "colab_type": "text"
      },
      "source": [
        "### Initializations"
      ]
    },
    {
      "cell_type": "code",
      "metadata": {
        "id": "siUNmu07JaMT",
        "colab_type": "code",
        "colab": {}
      },
      "source": [
        "import torch\n",
        "import torch.nn as nn\n",
        "import torch.nn.functional as F\n",
        "import torch.optim as optim\n",
        "from torch.utils.data import Dataset, DataLoader\n",
        "from torchvision.utils import make_grid\n",
        "import torchvision\n",
        "import numpy as np\n",
        "\n",
        "import itertools\n",
        "\n",
        "import matplotlib.pyplot as plt"
      ],
      "execution_count": 1,
      "outputs": []
    },
    {
      "cell_type": "code",
      "metadata": {
        "id": "FrWt3LBZJaMX",
        "colab_type": "code",
        "colab": {}
      },
      "source": [
        "def visualize_img_batch(batch):\n",
        "    '''Visualizes image batch\n",
        "    \n",
        "    Parameters:\n",
        "    batch (Tensor): An image batch\n",
        "    '''\n",
        "    grid = make_grid(batch.unsqueeze(1).unsqueeze(1).cpu(), nrow=8, padding=1, normalize=False, range=None, scale_each=False, pad_value=0.5)\n",
        "    plt.imshow(grid.permute(1,2,0))\n",
        "    plt.show()"
      ],
      "execution_count": 2,
      "outputs": []
    },
    {
      "cell_type": "code",
      "metadata": {
        "id": "S4mfJzmXJaMa",
        "colab_type": "code",
        "colab": {
          "base_uri": "https://localhost:8080/",
          "height": 53
        },
        "outputId": "864765d0-4ff8-4bbc-b8bb-29b029c079fd"
      },
      "source": [
        "'''def binary_data(size=(2**21, 1), ratio=0.5):\n",
        "    \n",
        "    idx = torch.randperm(size[0])[:int(ratio*size[0])] # Randomly choose indices according to the ratio\n",
        "\n",
        "    print(idx)\n",
        "    print(idx.shape)\n",
        "    image_batch = torch.zeros(size)\n",
        "    image_batch[idx] = 1\n",
        "    \n",
        "    return image_batch.clamp(0, 1).cuda().detach()'''\n"
      ],
      "execution_count": 3,
      "outputs": [
        {
          "output_type": "execute_result",
          "data": {
            "application/vnd.google.colaboratory.intrinsic+json": {
              "type": "string"
            },
            "text/plain": [
              "'def binary_data(size=(2**21, 1), ratio=0.5):\\n    \\n    idx = torch.randperm(size[0])[:int(ratio*size[0])] # Randomly choose indices according to the ratio\\n\\n    print(idx)\\n    print(idx.shape)\\n    image_batch = torch.zeros(size)\\n    image_batch[idx] = 1\\n    \\n    return image_batch.clamp(0, 1).cuda().detach()'"
            ]
          },
          "metadata": {
            "tags": []
          },
          "execution_count": 3
        }
      ]
    },
    {
      "cell_type": "code",
      "metadata": {
        "id": "cYv7UIwcJaMc",
        "colab_type": "code",
        "colab": {
          "base_uri": "https://localhost:8080/",
          "height": 53
        },
        "outputId": "6e501eb5-d31e-489e-f3d3-3d7897a11e81"
      },
      "source": [
        "'''class ColorDataset(Dataset):\n",
        "    ''The dataloader for the binary data\n",
        "    '\n",
        "    def __init__(self, ratio=0.5):\n",
        "\n",
        "        self.ratio = ratio\n",
        "        \n",
        "        self.dataset = binary_data(ratio=self.ratio)\n",
        "        \n",
        "        self.example_imgs = self.example()\n",
        "        \n",
        "    def example(self):\n",
        "        '\n",
        "        Returns an example from each mode in the domain\n",
        "        \n",
        "        ''\n",
        "        example_imgs = torch.zeros(size=(2, 1))\n",
        "        example_imgs[1] = 1\n",
        "        \n",
        "        return example_imgs\n",
        "\n",
        "    def __len__(self):\n",
        "        return len(self.dataset)\n",
        "    \n",
        "    def __getitem__(self, idx):      \n",
        "        return self.dataset[idx]'''"
      ],
      "execution_count": 4,
      "outputs": [
        {
          "output_type": "execute_result",
          "data": {
            "application/vnd.google.colaboratory.intrinsic+json": {
              "type": "string"
            },
            "text/plain": [
              "\"class ColorDataset(Dataset):\\n    ''The dataloader for the binary data\\n    '\\n    def __init__(self, ratio=0.5):\\n\\n        self.ratio = ratio\\n        \\n        self.dataset = binary_data(ratio=self.ratio)\\n        \\n        self.example_imgs = self.example()\\n        \\n    def example(self):\\n        '\\n        Returns an example from each mode in the domain\\n        \\n        ''\\n        example_imgs = torch.zeros(size=(2, 1))\\n        example_imgs[1] = 1\\n        \\n        return example_imgs\\n\\n    def __len__(self):\\n        return len(self.dataset)\\n    \\n    def __getitem__(self, idx):      \\n        return self.dataset[idx]\""
            ]
          },
          "metadata": {
            "tags": []
          },
          "execution_count": 4
        }
      ]
    },
    {
      "cell_type": "code",
      "metadata": {
        "colab_type": "code",
        "id": "ByE-gIdSEtFH",
        "colab": {}
      },
      "source": [
        "def visualize_MNIST_img_batch(batch):\n",
        "    '''Visualizes image batch for MNIST\n",
        "    \n",
        "    Parameters:\n",
        "    batch (Tensor): An image batch\n",
        "    '''\n",
        "    fig = plt.figure()\n",
        "    for i in range(batch.shape[0]):\n",
        "      plt.subplot(1,2,i+1)\n",
        "      plt.tight_layout()\n",
        "      plt.imshow(batch[i], cmap='gray', interpolation='none')\n",
        "      plt.title(\"Ground Truth: {}\".format(i))\n",
        "      plt.xticks([])\n",
        "      plt.yticks([])"
      ],
      "execution_count": 5,
      "outputs": []
    },
    {
      "cell_type": "code",
      "metadata": {
        "colab_type": "code",
        "id": "HIx0JMDXtEC3",
        "colab": {
          "base_uri": "https://localhost:8080/",
          "height": 53
        },
        "outputId": "2f3f01d4-365a-4068-f9b3-314a4d125362"
      },
      "source": [
        "def MNIST_binary_data(ratio=0.5):\n",
        "    # ratio: percentage of zeroes\n",
        "    #returns (data, labels) for MNIST with only zeroes and ones, with the given ratio\n",
        "\n",
        "    MNIST = torchvision.datasets.MNIST('/files/', train=True, download=True,\n",
        "                             transform=torchvision.transforms.Compose([\n",
        "                               torchvision.transforms.ToTensor(),\n",
        "                               torchvision.transforms.Normalize(\n",
        "                                 (0.1307,), (0.3081,))\n",
        "                             ]))\n",
        "    \n",
        "    idxm0 = MNIST.train_labels==0\n",
        "    idxm1 = MNIST.train_labels==1 \n",
        "    dim = len(idxm0)  \n",
        "\n",
        "    n0 = torch.sum(idxm0)\n",
        "    n1 = torch.sum(idxm1)\n",
        "    tot = n0 + n1\n",
        "\n",
        "    if ratio < n0.item()/tot.item():\n",
        "      if ratio == 1:\n",
        "        size = n0\n",
        "      else:\n",
        "        size = int(n1/(1-ratio))\n",
        "      idx0 = np.where(idxm0)[0]\n",
        "      idx0 = idx0[:int(size*ratio)]\n",
        "      idx1 = np.where(idxm1)[0]\n",
        "      #idx0 = [True if i in indices else False for i in range(len(idx0))]\n",
        "    else:\n",
        "      if ratio == 1:\n",
        "        size = n1\n",
        "      else:\n",
        "        size = int(n0/ratio)\n",
        "      idx0 = np.where(idxm0)[0]\n",
        "      idx1 = np.where(idxm1)[0]\n",
        "      idx1 = idx1[:int(size*(1-ratio))]\n",
        "      #idx1 = [True if i in indices else False for i in range(len(idx1))]\n",
        "\n",
        "    idx = idx0.tolist() + idx1.tolist()\n",
        "    idxm = torch.tensor( [True if i in idx else False for i in range(dim)] )\n",
        "\n",
        "    #labels = MNIST.train_labels[idxm]\n",
        "    #data = MNIST.train_data[idxm]\n",
        "\n",
        "    MNIST.targets = MNIST.train_labels[idx]\n",
        "    MNIST.data = MNIST.train_data[idx]\n",
        "\n",
        "    return MNIST \n",
        "\n",
        "'''# TEST\n",
        "res = MNIST_binary_data(0.2)\n",
        "#print(res)\n",
        "#print(res.targets) #labels\n",
        "#print(res.data) #data\n",
        "\n",
        "ones = res.targets.sum().item()\n",
        "tot = res.targets.shape[0]\n",
        "print('zeroes =' + str(tot-ones))\n",
        "print('ones =' + str(ones))\n",
        "print('ratio =' + str((tot-ones)/tot))'''"
      ],
      "execution_count": 6,
      "outputs": [
        {
          "output_type": "execute_result",
          "data": {
            "application/vnd.google.colaboratory.intrinsic+json": {
              "type": "string"
            },
            "text/plain": [
              "\"# TEST\\nres = MNIST_binary_data(0.2)\\n#print(res)\\n#print(res.targets) #labels\\n#print(res.data) #data\\n\\nones = res.targets.sum().item()\\ntot = res.targets.shape[0]\\nprint('zeroes =' + str(tot-ones))\\nprint('ones =' + str(ones))\\nprint('ratio =' + str((tot-ones)/tot))\""
            ]
          },
          "metadata": {
            "tags": []
          },
          "execution_count": 6
        }
      ]
    },
    {
      "cell_type": "code",
      "metadata": {
        "colab_type": "code",
        "id": "_RwJIr7Gs0On",
        "colab": {
          "base_uri": "https://localhost:8080/",
          "height": 53
        },
        "outputId": "dc647b9f-0244-4c04-826b-2887c08a8a8b"
      },
      "source": [
        "class MNISTDataset(Dataset):\n",
        "    '''The dataset for the MNIST binary data\n",
        "    '''\n",
        "    def __init__(self, ratio=0.5):\n",
        "\n",
        "        self.ratio = ratio\n",
        "        \n",
        "        self.dataset = MNIST_binary_data(ratio=self.ratio)\n",
        "        \n",
        "        self.example_imgs = self.example()\n",
        "        \n",
        "    def example(self):\n",
        "        '''\n",
        "        Returns an example from each digit in the domain\n",
        "        \n",
        "        '''\n",
        "        labels = self.dataset.targets\n",
        "        data = self.dataset.data\n",
        "        img0 = data[labels==0][0].unsqueeze(0)\n",
        "        img1 = data[labels==1][0].unsqueeze(0)\n",
        "        ex = torch.cat((img0, img1), 0)\n",
        "              \n",
        "        return ex\n",
        "\n",
        "    def __len__(self):\n",
        "        return len(self.dataset)\n",
        "    \n",
        "    def __getitem__(self, idx):      \n",
        "        return self.dataset[idx]\n",
        "\n",
        "'''# TEST\n",
        "dataset = MNISTDataset()\n",
        "\n",
        "fig = plt.figure()\n",
        "for i in range(2):\n",
        "  plt.subplot(1,2,i+1)\n",
        "  plt.tight_layout()\n",
        "  plt.imshow(dataset.example_imgs[i].cpu(), cmap='gray', interpolation='none')\n",
        "  plt.title(\"Ground Truth: {}\".format(i))\n",
        "  plt.xticks([])\n",
        "  plt.yticks([])'''"
      ],
      "execution_count": 7,
      "outputs": [
        {
          "output_type": "execute_result",
          "data": {
            "application/vnd.google.colaboratory.intrinsic+json": {
              "type": "string"
            },
            "text/plain": [
              "'# TEST\\ndataset = MNISTDataset()\\n\\nfig = plt.figure()\\nfor i in range(2):\\n  plt.subplot(1,2,i+1)\\n  plt.tight_layout()\\n  plt.imshow(dataset.example_imgs[i].cpu(), cmap=\\'gray\\', interpolation=\\'none\\')\\n  plt.title(\"Ground Truth: {}\".format(i))\\n  plt.xticks([])\\n  plt.yticks([])'"
            ]
          },
          "metadata": {
            "tags": []
          },
          "execution_count": 7
        }
      ]
    },
    {
      "cell_type": "code",
      "metadata": {
        "id": "prbVAeT_JaMf",
        "colab_type": "code",
        "colab": {
          "base_uri": "https://localhost:8080/",
          "height": 873,
          "referenced_widgets": [
            "b33198ca1849418db67625cef66bb1a2",
            "432752acc11d475c8553eef31093fdf8",
            "454c3616f9a44b73b861bc51b26d0dfa",
            "7e9b360d5c6c48858a6327e196affc34",
            "fae754c6b532479b998f1bc127308f04",
            "a4875c5d972d415383730eb631b4fada",
            "f28de67f722a4bf7b193c6e71bf9d74a",
            "1d193de5018b456390341ee7a481dcf2",
            "5bee64898f464cbf97eced64b6426208",
            "15961ff8928c4ccda8de12727a57e1c7",
            "0bd5c377421a4a428395b9a255bb2022",
            "de32692416e24d979d2304b9d467af8b",
            "2b9ecc9eaf934952ba64f6960f9db523",
            "30834c5ee062439e91f1ce1891ec38fd",
            "414c554046314077b24f1b2552bfef2c",
            "b5b9d94371864769b0e43226a80cdaab",
            "00424d01acc84d579098b11fd0ca13e7",
            "753f8b91acc04421af1b1a9b7a7d00b8",
            "6b9f2ec2db9b4c21b5690f9f34a6a432",
            "f64ad4a61e9343f3b6841370d9d36dbe",
            "ec651e6005a649b5b0923a13392a74e5",
            "d72a361ab2b142bdbd8336eb25506052",
            "98ba2e8d841242ccb7d9de54e4f66b1f",
            "165263cdc4bf4609ae72f2b9e1826872",
            "2a28986345084e7e939048158edeebdf",
            "378a52b491fd4f64a61c395bd9066a28",
            "d799751882f54c5eb7bb16ffe39e8cba",
            "f0b6f13216aa4ce2bc620e429f852d0d",
            "f70816b95f634ad19349c66d1ad9e4ea",
            "81f2094b12e6494497ba6f4ff0786c11",
            "a13aa9942d644254a44cfe186fe92590",
            "7b87345ebb8b4fd28716fcec9ec943d0"
          ]
        },
        "outputId": "75b82cb4-52fb-4238-b9ec-41ac3978b92d"
      },
      "source": [
        "# Settings for domain A (red)\n",
        "ratio_A = 0.2\n",
        "dataset_A = MNISTDataset(ratio=ratio_A)\n",
        "dataloader_A = DataLoader(dataset_A, batch_size=256, shuffle=True)\n",
        "\n",
        "# Settings for domain B (green)\n",
        "ratio_B = 0.8\n",
        "dataset_B = MNISTDataset(ratio=ratio_B)\n",
        "dataloader_B = DataLoader(dataset_B, batch_size=256, shuffle=True)\n",
        "\n",
        "visualize_MNIST_img_batch(dataset_A.example_imgs.cpu())\n",
        "visualize_MNIST_img_batch(dataset_B.example_imgs.cpu())"
      ],
      "execution_count": 8,
      "outputs": [
        {
          "output_type": "stream",
          "text": [
            "Downloading http://yann.lecun.com/exdb/mnist/train-images-idx3-ubyte.gz to /files/MNIST/raw/train-images-idx3-ubyte.gz\n"
          ],
          "name": "stdout"
        },
        {
          "output_type": "display_data",
          "data": {
            "application/vnd.jupyter.widget-view+json": {
              "model_id": "b33198ca1849418db67625cef66bb1a2",
              "version_minor": 0,
              "version_major": 2
            },
            "text/plain": [
              "HBox(children=(FloatProgress(value=1.0, bar_style='info', max=1.0), HTML(value='')))"
            ]
          },
          "metadata": {
            "tags": []
          }
        },
        {
          "output_type": "stream",
          "text": [
            "Extracting /files/MNIST/raw/train-images-idx3-ubyte.gz to /files/MNIST/raw\n",
            "Downloading http://yann.lecun.com/exdb/mnist/train-labels-idx1-ubyte.gz to /files/MNIST/raw/train-labels-idx1-ubyte.gz\n"
          ],
          "name": "stdout"
        },
        {
          "output_type": "display_data",
          "data": {
            "application/vnd.jupyter.widget-view+json": {
              "model_id": "5bee64898f464cbf97eced64b6426208",
              "version_minor": 0,
              "version_major": 2
            },
            "text/plain": [
              "HBox(children=(FloatProgress(value=1.0, bar_style='info', max=1.0), HTML(value='')))"
            ]
          },
          "metadata": {
            "tags": []
          }
        },
        {
          "output_type": "stream",
          "text": [
            "Extracting /files/MNIST/raw/train-labels-idx1-ubyte.gz to /files/MNIST/raw\n",
            "Downloading http://yann.lecun.com/exdb/mnist/t10k-images-idx3-ubyte.gz to /files/MNIST/raw/t10k-images-idx3-ubyte.gz\n",
            "\n"
          ],
          "name": "stdout"
        },
        {
          "output_type": "display_data",
          "data": {
            "application/vnd.jupyter.widget-view+json": {
              "model_id": "00424d01acc84d579098b11fd0ca13e7",
              "version_minor": 0,
              "version_major": 2
            },
            "text/plain": [
              "HBox(children=(FloatProgress(value=1.0, bar_style='info', max=1.0), HTML(value='')))"
            ]
          },
          "metadata": {
            "tags": []
          }
        },
        {
          "output_type": "stream",
          "text": [
            "Extracting /files/MNIST/raw/t10k-images-idx3-ubyte.gz to /files/MNIST/raw\n",
            "Downloading http://yann.lecun.com/exdb/mnist/t10k-labels-idx1-ubyte.gz to /files/MNIST/raw/t10k-labels-idx1-ubyte.gz\n"
          ],
          "name": "stdout"
        },
        {
          "output_type": "display_data",
          "data": {
            "application/vnd.jupyter.widget-view+json": {
              "model_id": "2a28986345084e7e939048158edeebdf",
              "version_minor": 0,
              "version_major": 2
            },
            "text/plain": [
              "HBox(children=(FloatProgress(value=1.0, bar_style='info', max=1.0), HTML(value='')))"
            ]
          },
          "metadata": {
            "tags": []
          }
        },
        {
          "output_type": "stream",
          "text": [
            "Extracting /files/MNIST/raw/t10k-labels-idx1-ubyte.gz to /files/MNIST/raw\n",
            "Processing...\n",
            "Done!\n"
          ],
          "name": "stdout"
        },
        {
          "output_type": "stream",
          "text": [
            "/usr/local/lib/python3.6/dist-packages/torchvision/datasets/mnist.py:469: UserWarning: The given NumPy array is not writeable, and PyTorch does not support non-writeable tensors. This means you can write to the underlying (supposedly non-writeable) NumPy array using the tensor. You may want to copy the array to protect its data or make it writeable before converting it to a tensor. This type of warning will be suppressed for the rest of this program. (Triggered internally at  /pytorch/torch/csrc/utils/tensor_numpy.cpp:141.)\n",
            "  return torch.from_numpy(parsed.astype(m[2], copy=False)).view(*s)\n",
            "/usr/local/lib/python3.6/dist-packages/torchvision/datasets/mnist.py:45: UserWarning: train_labels has been renamed targets\n",
            "  warnings.warn(\"train_labels has been renamed targets\")\n",
            "/usr/local/lib/python3.6/dist-packages/torchvision/datasets/mnist.py:55: UserWarning: train_data has been renamed data\n",
            "  warnings.warn(\"train_data has been renamed data\")\n"
          ],
          "name": "stderr"
        },
        {
          "output_type": "display_data",
          "data": {
            "image/png": "[encoded data removed]",
            "text/plain": [
              "<Figure size 432x288 with 2 Axes>"
            ]
          },
          "metadata": {
            "tags": []
          }
        },
        {
          "output_type": "display_data",
          "data": {
            "image/png": "[encoded data removed]",
            "text/plain": [
              "<Figure size 432x288 with 2 Axes>"
            ]
          },
          "metadata": {
            "tags": []
          }
        }
      ]
    },
    {
      "cell_type": "code",
      "metadata": {
        "id": "hlPSWnigJaMi",
        "colab_type": "code",
        "colab": {
          "base_uri": "https://localhost:8080/",
          "height": 1000
        },
        "outputId": "262bc3ae-b8db-425c-9553-437cd09cb2f8"
      },
      "source": [
        "import cv2\n",
        "\n",
        "def plot_hist(data):\n",
        "    data = data.squeeze().cpu()\n",
        "    plt.hist(data[data==1], weights=torch.ones(len(data[data==1]))/len(data), \n",
        "             color='black', bins=10, range= (0, 1))\n",
        "    plt.hist(data[data==0], weights=torch.ones(len(data[data==0]))/len(data), \n",
        "             color='white', bins=10, range= (0, 1))\n",
        "    plt.legend(['Imgs for label {}'.format(1), \n",
        "                'Imgs for label {}'.format(0)])\n",
        "    plt.gca().set_facecolor('xkcd:gray')\n",
        "    x_unique_count = torch.stack([(data==x_u).sum() for x_u in data.unique()])\n",
        "    plt.show()\n",
        "\n",
        "for i, (data_A, data_B) in enumerate(zip(dataloader_A, dataloader_B)):\n",
        "    labs_A = data_A[1].double()\n",
        "    labs_B = data_B[1].double()\n",
        "\n",
        "    plot_hist(labs_A)\n",
        "    plot_hist(labs_B)\n",
        "    \n",
        "    visualize_img_batch(torch.tensor(labs_A[:64]).unsqueeze(1).cuda())\n",
        "    visualize_img_batch(torch.tensor(labs_B[:64]).unsqueeze(1).cuda())\n",
        "    break"
      ],
      "execution_count": 9,
      "outputs": [
        {
          "output_type": "display_data",
          "data": {
            "image/png": "[encoded data removed]",
            "text/plain": [
              "<Figure size 432x288 with 1 Axes>"
            ]
          },
          "metadata": {
            "tags": [],
            "needs_background": "light"
          }
        },
        {
          "output_type": "display_data",
          "data": {
            "image/png": "[encoded data removed]",
            "text/plain": [
              "<Figure size 432x288 with 1 Axes>"
            ]
          },
          "metadata": {
            "tags": [],
            "needs_background": "light"
          }
        },
        {
          "output_type": "stream",
          "text": [
            "/usr/local/lib/python3.6/dist-packages/ipykernel_launcher.py:22: UserWarning: To copy construct from a tensor, it is recommended to use sourceTensor.clone().detach() or sourceTensor.clone().detach().requires_grad_(True), rather than torch.tensor(sourceTensor).\n"
          ],
          "name": "stderr"
        },
        {
          "output_type": "display_data",
          "data": {
            "image/png": "[encoded data removed]",
            "text/plain": [
              "<Figure size 432x288 with 1 Axes>"
            ]
          },
          "metadata": {
            "tags": [],
            "needs_background": "light"
          }
        },
        {
          "output_type": "stream",
          "text": [
            "/usr/local/lib/python3.6/dist-packages/ipykernel_launcher.py:23: UserWarning: To copy construct from a tensor, it is recommended to use sourceTensor.clone().detach() or sourceTensor.clone().detach().requires_grad_(True), rather than torch.tensor(sourceTensor).\n"
          ],
          "name": "stderr"
        },
        {
          "output_type": "display_data",
          "data": {
            "image/png": "[encoded data removed]",
            "text/plain": [
              "<Figure size 432x288 with 1 Axes>"
            ]
          },
          "metadata": {
            "tags": [],
            "needs_background": "light"
          }
        }
      ]
    },
    {
      "cell_type": "code",
      "metadata": {
        "id": "Xzr1OIyoJaMl",
        "colab_type": "code",
        "colab": {}
      },
      "source": [
        "class WeightNet(nn.Module):\n",
        "    '''A simple network that predicts the importances of the samples'''\n",
        "\n",
        "    def __init__(self):\n",
        "        super(WeightNet, self).__init__()\n",
        "#        self.fc1 = nn.Linear(1, 1)\n",
        "#        self.fc2 = nn.Linear(1, 1)\n",
        "        self.softmax = nn.Softmax(dim=0)\n",
        "\n",
        "        self.conv1 = nn.Conv2d(1, 10, kernel_size=5)\n",
        "        self.conv2 = nn.Conv2d(10, 20, kernel_size=5)\n",
        "        self.fc1 = nn.Linear(320, 40)\n",
        "        self.fc2 = nn.Linear(40, 1)\n",
        "        \n",
        "    def forward(self, x):\n",
        "        x = torch.sigmoid(F.max_pool2d(self.conv1(x), 2))\n",
        "        x = torch.sigmoid(F.max_pool2d(self.conv2(x), 2))\n",
        "        x = x.view(-1, 320)\n",
        "        x = torch.sigmoid(self.fc1(x))\n",
        "        x = self.fc2(x)\n",
        "        return self.softmax(x)\n",
        "\n",
        "#        h1 = torch.sigmoid(self.fc1(x))\n",
        "#        out = self.fc2(h1)\n",
        "#        return self.softmax(out)\n",
        "#         return out"
      ],
      "execution_count": 10,
      "outputs": []
    },
    {
      "cell_type": "markdown",
      "metadata": {
        "id": "fdKLeyC-gW1T",
        "colab_type": "text"
      },
      "source": [
        "### Different functions for f"
      ]
    },
    {
      "cell_type": "code",
      "metadata": {
        "id": "Ir9JAHeIP0UM",
        "colab_type": "code",
        "colab": {}
      },
      "source": [
        "def f_0(labels_A, labels_B, w):\n",
        "   '''f = label of the image '''\n",
        "\n",
        "   L_A  = (labels_A.view(-1) * weight_normalization(w).view(-1)).sum()\n",
        "   L_B = (labels_B.float()).mean()\n",
        "\n",
        "   return L_A, L_B"
      ],
      "execution_count": 11,
      "outputs": []
    },
    {
      "cell_type": "code",
      "metadata": {
        "id": "m730JSP6F2f8",
        "colab_type": "code",
        "colab": {}
      },
      "source": [
        "def f_1(real_A, real_B, w):\n",
        "   '''f = mean of each image '''\n",
        "\n",
        "   L_A  = (torch.mean(real_A, dim=[2,3]).view(-1) * weight_normalization(w).view(-1)).sum()\n",
        "   L_B = (torch.mean(real_B, dim=[2,3])).mean()\n",
        "\n",
        "   return L_A, L_B"
      ],
      "execution_count": 12,
      "outputs": []
    },
    {
      "cell_type": "code",
      "metadata": {
        "id": "kqc3yOaWGjn2",
        "colab_type": "code",
        "colab": {}
      },
      "source": [
        "def f_2(real_A, real_B, w):\n",
        "   '''f = image itself; each image is weighted, and the sum across all images is computed '''\n",
        "\n",
        "   L_A  = (real_A * weight_normalization(w).repeat(28,28,1,1).permute(2,3,0,1)).sum()\n",
        "   L_B = (real_B).mean()\n",
        "\n",
        "   return L_A, L_B"
      ],
      "execution_count": 13,
      "outputs": []
    },
    {
      "cell_type": "code",
      "metadata": {
        "id": "DoSZF7pKAUlg",
        "colab_type": "code",
        "colab": {}
      },
      "source": [
        "class f_Net_2cl2fcl(nn.Module):\n",
        "    ''' NN with 2 convolutional layers and fully connected layers'''\n",
        "\n",
        "    def __init__(self):\n",
        "        super(f_Net_2cl2fcl, self).__init__()\n",
        "        self.softmax = nn.Softmax(dim=0)\n",
        "\n",
        "        self.conv1 = nn.Conv2d(1, 4, kernel_size=5, stride = 2)\n",
        "        self.conv2 = nn.Conv2d(4, 8, kernel_size=5, stride = 2)\n",
        "        self.fc1 = nn.Linear(128, 36)\n",
        "        self.fc2 = nn.Linear(36, 1)\n",
        "\n",
        "        # randomly initialize the network\n",
        "        nn.init.uniform_(self.conv1.weight)\n",
        "        nn.init.uniform_(self.conv2.weight)\n",
        "        nn.init.uniform_(self.fc1.weight)\n",
        "        nn.init.uniform_(self.fc2.weight)\n",
        "\n",
        "        # freezes the network (does not update the weights in Grad Desc.)\n",
        "        for param in self.parameters():\n",
        "           param.requires_grad = False\n",
        "        \n",
        "    def forward(self, x):\n",
        "        cl1 = torch.sigmoid(self.conv1(x))\n",
        "        cl2 = torch.sigmoid(self.conv2(cl1))\n",
        "        cl2 = cl2.view(-1, 128)\n",
        "        fc1 = torch.sigmoid(self.fc1(cl2))\n",
        "        fc2 = self.fc2(fc1)\n",
        "        fc2 = fc2.squeeze()\n",
        "\n",
        "        # outputs a dictionary\n",
        "        out = {}\n",
        "        out['cl1'] = cl1.view(-1, 576) # hidden variables\n",
        "        out['cl2'] = cl2 # hidden variables\n",
        "        out['fc1'] = fc1 # hidden variables\n",
        "        out['out'] = fc2 # output\n",
        "        \n",
        "        return out"
      ],
      "execution_count": 14,
      "outputs": []
    },
    {
      "cell_type": "code",
      "metadata": {
        "colab_type": "code",
        "id": "5WlmXFvi4Yxv",
        "colab": {}
      },
      "source": [
        "class f_Net_1cl1fcl(nn.Module):\n",
        "    ''' NN with 1 convolutional layer and 1 fully connected layer'''\n",
        "\n",
        "    def __init__(self):\n",
        "        super(f_Net_1cl1fcl, self).__init__()\n",
        "\n",
        "        self.conv1 = nn.Conv2d(1, 4, kernel_size=5, stride = 4)\n",
        "        self.fc2 = nn.Linear(144, 1)\n",
        "\n",
        "        # randomly initialize the network\n",
        "        nn.init.uniform_(self.conv1.weight)\n",
        "        nn.init.uniform_(self.fc2.weight)\n",
        "\n",
        "        # freezes the network (does not update the weights in Grad Desc.)\n",
        "        for param in self.parameters():\n",
        "           param.requires_grad = False\n",
        "        \n",
        "    def forward(self, x):\n",
        "        cl1 = torch.sigmoid(self.conv1(x))\n",
        "        cl1 = cl1.view(-1, 144)\n",
        "        fc2 = torch.sigmoid(self.fc2(cl1))\n",
        "        fc2 = fc2.squeeze()\n",
        "\n",
        "        # outputs a dictionary\n",
        "        out = {}\n",
        "        out['cl1'] = cl1 # hidden variables\n",
        "        out['out'] = fc2 # output\n",
        "        \n",
        "        return out"
      ],
      "execution_count": 15,
      "outputs": []
    },
    {
      "cell_type": "code",
      "metadata": {
        "colab_type": "code",
        "id": "GBpX05Qj0YDJ",
        "colab": {}
      },
      "source": [
        "class f_Net_4fcl(nn.Module):\n",
        "    ''' NN with 4 fully connected layers'''\n",
        "\n",
        "    def __init__(self):\n",
        "        super(f_Net_4fcl, self).__init__()\n",
        "\n",
        "        self.fc1 = nn.Linear(784, 392)\n",
        "        self.fc2 = nn.Linear(392, 128)\n",
        "        self.fc3 = nn.Linear(128, 36)\n",
        "        self.fc4 = nn.Linear(36, 1)\n",
        "\n",
        "        # randomly initialize the network\n",
        "        nn.init.uniform_(self.fc1.weight)\n",
        "        nn.init.uniform_(self.fc2.weight)\n",
        "        nn.init.uniform_(self.fc3.weight)\n",
        "        nn.init.uniform_(self.fc4.weight)\n",
        "\n",
        "        # freezes the network (does not update the weights in Grad Desc.)\n",
        "        for param in self.parameters():\n",
        "           param.requires_grad = False\n",
        "        \n",
        "    def forward(self, x):\n",
        "        x = x.view(-1, 784)\n",
        "        fc1 = torch.sigmoid(self.fc1(x))\n",
        "        fc2 = torch.sigmoid(self.fc2(fc1))\n",
        "        fc3 = torch.sigmoid(self.fc3(fc2))\n",
        "        fc4 = torch.sigmoid(self.fc4(fc3))\n",
        "        fc4 = fc4.squeeze()\n",
        "\n",
        "        # outputs a dictionary\n",
        "        out = {}\n",
        "        out['fc1'] = fc1 # hidden variables\n",
        "        out['fc2'] = fc2 # hidden variables\n",
        "        out['fc3'] = fc3 # hidden variables\n",
        "        out['out'] = fc4 # output\n",
        "        \n",
        "        return out"
      ],
      "execution_count": 16,
      "outputs": []
    },
    {
      "cell_type": "code",
      "metadata": {
        "colab_type": "code",
        "id": "wh5uX7Pv36UR",
        "colab": {}
      },
      "source": [
        "class f_Net_3fcl(nn.Module):\n",
        "    ''' NN with 3 fully connected layers'''\n",
        "\n",
        "    def __init__(self):\n",
        "        super(f_Net_3fcl, self).__init__()\n",
        "\n",
        "        self.fc1 = nn.Linear(784, 392)\n",
        "        self.fc2 = nn.Linear(392, 36)\n",
        "        self.fc4 = nn.Linear(36, 1)\n",
        "\n",
        "        # randomly initialize the network\n",
        "        nn.init.uniform_(self.fc1.weight)\n",
        "        nn.init.uniform_(self.fc2.weight)\n",
        "        nn.init.uniform_(self.fc4.weight)\n",
        "\n",
        "        # freezes the network (does not update the weights in Grad Desc.)\n",
        "        for param in self.parameters():\n",
        "           param.requires_grad = False\n",
        "        \n",
        "    def forward(self, x):\n",
        "        x = x.view(-1, 784)\n",
        "        fc1 = torch.sigmoid(self.fc1(x))\n",
        "        fc2 = torch.sigmoid(self.fc2(fc1))\n",
        "        fc3 = torch.sigmoid(self.fc4(fc2))\n",
        "        fc3 = fc3.squeeze()\n",
        "\n",
        "        # outputs a dictionary\n",
        "        out = {}\n",
        "        out['fc1'] = fc1 # hidden variables\n",
        "        out['fc2'] = fc2 # hidden variables\n",
        "        out['out'] = fc3 # output\n",
        "\n",
        "        return out"
      ],
      "execution_count": 17,
      "outputs": []
    },
    {
      "cell_type": "code",
      "metadata": {
        "id": "F9PtHER_3UxF",
        "colab_type": "code",
        "colab": {}
      },
      "source": [
        "class f_Net_2fcl(nn.Module):\n",
        "    ''' NN with 2 fully connected layers'''\n",
        "\n",
        "    def __init__(self):\n",
        "        super(f_Net_2fcl, self).__init__()\n",
        "\n",
        "        self.fc1 = nn.Linear(784, 36)\n",
        "        self.fc4 = nn.Linear(36, 1)\n",
        "\n",
        "        # randomly initialize the network\n",
        "        nn.init.uniform_(self.fc1.weight)\n",
        "        nn.init.uniform_(self.fc4.weight)\n",
        "\n",
        "        # freezes the network (does not update the weights in Grad Desc.)\n",
        "        for param in self.parameters():\n",
        "           param.requires_grad = False\n",
        "        \n",
        "    def forward(self, x):\n",
        "        x = x.view(-1, 784)\n",
        "        fc1 = torch.sigmoid(self.fc1(x))\n",
        "        fc2 = torch.sigmoid(self.fc4(fc1))\n",
        "        fc2 = fc2.squeeze()\n",
        "\n",
        "        # outputs a dictionary\n",
        "        out = {}\n",
        "        out['fc1'] = fc1 # hidden variables\n",
        "        out['out'] = fc2 # output\n",
        "        \n",
        "        return out"
      ],
      "execution_count": 18,
      "outputs": []
    },
    {
      "cell_type": "code",
      "metadata": {
        "colab_type": "code",
        "id": "j8D5qMMvztu3",
        "colab": {}
      },
      "source": [
        "class f_Net_1fcl(nn.Module):\n",
        "    ''' NN with 1 fully connected layer'''\n",
        "\n",
        "    def __init__(self):\n",
        "        super(f_Net_1fcl, self).__init__()\n",
        "\n",
        "        self.fc1 = nn.Linear(784, 1)\n",
        "\n",
        "        # randomly initialize the network\n",
        "        nn.init.uniform_(self.fc1.weight)\n",
        "\n",
        "        # freezes the network (does not update the weights in Grad Desc.)\n",
        "        for param in self.parameters():\n",
        "           param.requires_grad = False\n",
        "        \n",
        "    def forward(self, x):\n",
        "        x = x.view(-1, 784)\n",
        "        x = torch.sigmoid(self.fc1(x))\n",
        "        x = x.squeeze()\n",
        "\n",
        "        # outputs a dictionary\n",
        "        out = {}\n",
        "        out['out'] = x # output\n",
        "        \n",
        "        return out"
      ],
      "execution_count": 19,
      "outputs": []
    },
    {
      "cell_type": "code",
      "metadata": {
        "id": "gWBMdehBHJw4",
        "colab_type": "code",
        "colab": {}
      },
      "source": [
        "def f_3(real_A, real_b, w):\n",
        "   '''f = output of a fixed (not-trained and randomly initialized) NN for the image'''\n",
        "   \n",
        "   ''' Architectures that work: '''\n",
        "   #f=f_Net_1fcl().cuda() # 1 fcl\n",
        "   #f=f_Net_2fcl().cuda() # 2 fcl\n",
        "\n",
        "   ''' Architectures that do not work: '''\n",
        "   #f=f_Net_1cl1fcl().cuda() # 1 cl 1 fcl  \n",
        "   f=f_Net_3fcl().cuda() # 3 fcl\n",
        "   #f=f_Net_4fcl().cuda() # 4 fcl\n",
        "   #f=f_Net_2cl2fcl().cuda() # 2 cl 2 fcl\n",
        "   \n",
        "   \n",
        "   L_A  = (f(real_A)['out'].detach().view(-1) * weight_normalization(w).view(-1)).sum()\n",
        "   L_B = (f(real_B)['out'].detach()).mean()\n",
        "\n",
        "   return L_A, L_B"
      ],
      "execution_count": 20,
      "outputs": []
    },
    {
      "cell_type": "code",
      "metadata": {
        "colab_type": "code",
        "id": "CbjruuOQhFx9",
        "colab": {}
      },
      "source": [
        "def f_4(real_A, real_b, w):\n",
        "   '''f = hidden values of a fixed (not-trained and randomly initialized) NN for the image'''\n",
        "   \n",
        "   ''' Architectures that work: '''\n",
        "   #f=f_Net_1fcl().cuda() # 1 fcl\n",
        "   #f=f_Net_2fcl().cuda() # 2 fcl\n",
        "\n",
        "   ''' Architectures that do not always work: '''\n",
        "   f=f_Net_3fcl().cuda() # 3 fcl : works for f = fc1 or fc2, doesn't work for f = out\n",
        "   #f=f_Net_4fcl().cuda() # 4 fcl : works for f = fc1 or fc2, doesn't work for f = fc3 or out\n",
        "   #f=f_Net_1cl1fcl().cuda() # 1 cl 1 fcl : works for f = cl1, doesn't work for f = out   \n",
        "   #f=f_Net_2cl2fcl().cuda() # 2 cl 2 fcl : works for f = cl1 or cl2, doesn't work for f = fc1 or out\n",
        "\n",
        "   ''' Choose which part of the NN to use as f (output or any hidden variable) by selecting the correct entry in the dictionary output of the NN '''\n",
        "   f_A = f(real_A)['fc1']\n",
        "   if len(list(f_A.shape)) == 1:\n",
        "     weights = weight_normalization(w).view(-1)\n",
        "   else:\n",
        "     dim = torch.cat([torch.tensor([1]), torch.tensor(f_A.shape[1:]).long()], dim = 0)\n",
        "     weights = weight_normalization(w).repeat(tuple(dim))\n",
        "   f_B = f(real_B)['fc1']\n",
        "   \n",
        "   L_A  = (f_A.detach() * weights).sum(dim = 0) # if f is a hidden variable, L_A and L_B are tensors, hence the sum(dim = 0)\n",
        "   L_B = (f_B.detach()).mean(dim = 0)\n",
        "\n",
        "   return L_A, L_B"
      ],
      "execution_count": 21,
      "outputs": []
    },
    {
      "cell_type": "markdown",
      "metadata": {
        "id": "91qakA8cgoKn",
        "colab_type": "text"
      },
      "source": [
        "### Training"
      ]
    },
    {
      "cell_type": "code",
      "metadata": {
        "id": "mzq2m9j-JaMp",
        "colab_type": "code",
        "colab": {
          "base_uri": "https://localhost:8080/",
          "height": 33
        },
        "outputId": "6e5b5397-05c6-4e3e-e2d9-8fd6456c6936"
      },
      "source": [
        "# Initialize the networks\n",
        "weight_network = WeightNet().cuda()\n",
        "\n",
        "# Initialize the optimizers\n",
        "lr = 0.01\n",
        "optimizer_w = optim.Adam(weight_network.parameters(), lr=lr)\n",
        "\n",
        "losses_w = []\n",
        "\n",
        "mean_A = []\n",
        "mean_B = []\n",
        "\n",
        "L_As = []\n",
        "L_Bs = []\n",
        "\n",
        "example_importances_A = []\n",
        "example_importances_B = []\n",
        "\n",
        "def weight_normalization(w):\n",
        "    return w\n",
        "#     return 0.5*(1 + w)\n",
        "\n",
        "for epoch in range(1):\n",
        "    for i, (batch_A, batch_B) in enumerate(zip(dataloader_A, dataloader_B)):\n",
        "\n",
        "        real_A = batch_A[0].cuda()\n",
        "        real_B = batch_B[0].cuda()\n",
        "        labels_A = batch_A[1].cuda()\n",
        "        labels_B = batch_B[1].cuda()\n",
        "\n",
        "        # The weighting process\n",
        "        w = weight_network(real_A)\n",
        "    \n",
        "        # The loss function --------------------------------------------------------------------------------\n",
        "        \n",
        "        # Using f as objective function\n",
        "        #L_A, L_B = f_0(labels_A, labels_B, w)\n",
        "        #L_A, L_B = f_1(real_A, real_B, w)\n",
        "        #L_A, L_B = f_2(real_A, real_B, w)\n",
        "        #L_A, L_B = f_3(real_A, real_B, w)\n",
        "        L_A, L_B = f_4(real_A, real_B, w)\n",
        "        \n",
        "        loss_w = ((L_A - L_B)**2).sum() # if f is a hidden variable, L_A and L_B are tensors, hence the sum() after the square\n",
        "        \n",
        "        mean_A += [real_A.mean()]\n",
        "        mean_B += [real_B.mean()]\n",
        "\n",
        "        # ---------------------------------------------------------------------------------------------------\n",
        "\n",
        "        # Backward\n",
        "        optimizer_w.zero_grad()\n",
        "        loss_w.backward()\n",
        "        optimizer_w.step()   \n",
        "\n",
        "        # Store values --------------------------------------------------------------------------------------\n",
        "        L_As += [L_A.sum().item()] # if f is a hidden variable, L_A and L_B are tensors, hence the sum()\n",
        "        L_Bs += [L_B.sum().item()]\n",
        "        \n",
        "        losses_w += [loss_w.item()]\n",
        "        \n",
        "        w_a = weight_normalization((weight_network(dataset_A.example_imgs.float().unsqueeze(1).cuda())))\n",
        "        example_importances_A += [(w_a[0].item(), w_a[1].item())] # Store examples in a list\n",
        "\n",
        "        # ---------------------------------------------------------------------------------------------------\n",
        "\n",
        "        # Print statistics\n",
        "        if i % 500 == 0:\n",
        "            print('step', i, 'loss_w: ', loss_w.item())\n",
        "            \n",
        "        if i % 5000 == 0 and i != 0:\n",
        "            break"
      ],
      "execution_count": 22,
      "outputs": [
        {
          "output_type": "stream",
          "text": [
            "step 0 loss_w:  97.53141784667969\n"
          ],
          "name": "stdout"
        }
      ]
    },
    {
      "cell_type": "markdown",
      "metadata": {
        "id": "Ca1lkKpLRuFG",
        "colab_type": "text"
      },
      "source": [
        "###Results"
      ]
    },
    {
      "cell_type": "markdown",
      "metadata": {
        "id": "lMaddksAZudR",
        "colab_type": "text"
      },
      "source": [
        "####Average & variance of assigned weights, for each number, in the batches"
      ]
    },
    {
      "cell_type": "code",
      "metadata": {
        "id": "pg4UL43FOX3L",
        "colab_type": "code",
        "colab": {
          "base_uri": "https://localhost:8080/",
          "height": 50
        },
        "outputId": "a382fe00-7383-4240-fde8-48ec7f60a52d"
      },
      "source": [
        "# compute the average weight/importance assigned to images in the batches, and the variance\n",
        "\n",
        "import collections\n",
        "\n",
        "def compute_average_prob():\n",
        "    weights_total = collections.defaultdict(list)\n",
        "    weights_mean = collections.defaultdict(float)\n",
        "    weights_var = collections.defaultdict(float)\n",
        "    \n",
        "    for i, (batch_A, batch_B) in enumerate(zip(dataloader_A, dataloader_B)):\n",
        "\n",
        "        real_A = batch_A[0].cuda()\n",
        "        labels_A = batch_A[1].cuda()\n",
        "        weights_batch = weight_network(real_A)\n",
        "\n",
        "        possible_labels = torch.unique(labels_A)\n",
        "        for l in possible_labels:\n",
        "            indices_with_label_l = labels_A == l.item()\n",
        "            weights_total[l.item()].append(weights_batch[indices_with_label_l])\n",
        "        \n",
        "    for key in weights_total.keys():\n",
        "        weights_mean[key] = weights_total[key][0].mean().item()\n",
        "        weights_var[key] = weights_total[key][0].var().item()\n",
        "\n",
        "    return weights_mean, weights_var\n",
        "\n",
        "# print stats\n",
        "mean, var = compute_average_prob()\n",
        "\n",
        "print(\"Means: \", mean)\n",
        "print(\"Variance: \", var)"
      ],
      "execution_count": 34,
      "outputs": [
        {
          "output_type": "stream",
          "text": [
            "Means:  defaultdict(<class 'float'>, {0: 0.016335126012563705, 1: 0.0016046069795265794})\n",
            "Variance:  defaultdict(<class 'float'>, {0: 1.5879104466876015e-05, 1: 2.593324950339593e-07})\n"
          ],
          "name": "stdout"
        }
      ]
    },
    {
      "cell_type": "markdown",
      "metadata": {
        "id": "5Dipc2xeaHKv",
        "colab_type": "text"
      },
      "source": [
        "####Loss"
      ]
    },
    {
      "cell_type": "code",
      "metadata": {
        "id": "odfL4hdUJaMr",
        "colab_type": "code",
        "colab": {
          "base_uri": "https://localhost:8080/",
          "height": 403
        },
        "outputId": "abc77108-f709-4b0f-c3ff-249a499b06a0"
      },
      "source": [
        "plt.figure(figsize=(10,6))\n",
        "plt.title('Losses over iterations')\n",
        "plt.xlabel('Training iterations')\n",
        "plt.ylabel('Loss')\n",
        "# plt.yscale('symlog')\n",
        "plt.plot(losses_w)\n",
        "plt.legend(['W'])\n",
        "plt.show()"
      ],
      "execution_count": 24,
      "outputs": [
        {
          "output_type": "display_data",
          "data": {
            "image/png": "[encoded data removed]",
            "text/plain": [
              "<Figure size 720x432 with 1 Axes>"
            ]
          },
          "metadata": {
            "tags": [],
            "needs_background": "light"
          }
        }
      ]
    },
    {
      "cell_type": "code",
      "metadata": {
        "id": "PJuq-bwQJaMt",
        "colab_type": "code",
        "colab": {
          "base_uri": "https://localhost:8080/",
          "height": 403
        },
        "outputId": "25f7eb6c-2f8d-45a5-a2ab-b651ab32ad5b"
      },
      "source": [
        "plt.figure(figsize=(10,6))\n",
        "plt.title('Losses over iterations')\n",
        "plt.xlabel('Training iterations')\n",
        "plt.ylabel('Loss')\n",
        "plt.plot(L_As)\n",
        "plt.plot(L_Bs)\n",
        "plt.legend(['L_A', 'L_B'])\n",
        "plt.show()"
      ],
      "execution_count": 25,
      "outputs": [
        {
          "output_type": "display_data",
          "data": {
            "image/png": "[encoded data removed]",
            "text/plain": [
              "<Figure size 720x432 with 1 Axes>"
            ]
          },
          "metadata": {
            "tags": [],
            "needs_background": "light"
          }
        }
      ]
    },
    {
      "cell_type": "markdown",
      "metadata": {
        "id": "bXUvxGkAaM1N",
        "colab_type": "text"
      },
      "source": [
        "####Assigned importances for the example images over the course of training"
      ]
    },
    {
      "cell_type": "code",
      "metadata": {
        "id": "Y_mNJOz7JaMw",
        "colab_type": "code",
        "colab": {
          "base_uri": "https://localhost:8080/",
          "height": 420
        },
        "outputId": "640f84e8-021a-458f-d60a-253dc3f4e258"
      },
      "source": [
        "plt.figure(figsize=(10,6))\n",
        "plt.title('Assigned importances for the toy example images over the course of training')\n",
        "plt.plot(example_importances_A)\n",
        "plt.legend(['Img A with value {} (p={})'.format(0, ratio_A), \n",
        "            'Img A with value {} (p={})'.format(1, 1-ratio_A)])\n",
        "plt.ylabel('Assigned importance')\n",
        "plt.xlabel('Training iterations')\n",
        "plt.show()\n",
        "\n",
        "example_importances_A[-1]"
      ],
      "execution_count": 26,
      "outputs": [
        {
          "output_type": "display_data",
          "data": {
            "image/png": "[encoded data removed]",
            "text/plain": [
              "<Figure size 720x432 with 1 Axes>"
            ]
          },
          "metadata": {
            "tags": [],
            "needs_background": "light"
          }
        },
        {
          "output_type": "execute_result",
          "data": {
            "text/plain": [
              "(0.6961383819580078, 0.30386167764663696)"
            ]
          },
          "metadata": {
            "tags": []
          },
          "execution_count": 26
        }
      ]
    },
    {
      "cell_type": "markdown",
      "metadata": {
        "colab_type": "text",
        "id": "wTC1zgt8af52"
      },
      "source": [
        "####Assigned importances for the linear combination of the example images"
      ]
    },
    {
      "cell_type": "code",
      "metadata": {
        "id": "PaxHb0AEJaMy",
        "colab_type": "code",
        "colab": {
          "base_uri": "https://localhost:8080/",
          "height": 403
        },
        "outputId": "86dacadd-3b54-4987-8995-5d1b6fd4d8d6"
      },
      "source": [
        "lambd = torch.linspace(0, 1, 64).repeat(28,28,1,1).permute(3,2,0,1)\n",
        "lin_comb = lambd * dataset_A.example_imgs[0] + (1-lambd) * dataset_A.example_imgs[1]\n",
        "\n",
        "weights = weight_network(lin_comb.cuda()).cpu().detach().numpy()\n",
        "plt.figure(figsize=(10,6))\n",
        "plt.title('Assigned importances for linear combination between images of 0 and 1 [lambda * 0 + (1-lambda * 1)]')\n",
        "plt.plot(torch.linspace(0, 1, 64), weights)\n",
        "plt.ylabel('Assigned importance')\n",
        "plt.xlabel('Lambda value')\n",
        "plt.show()"
      ],
      "execution_count": 27,
      "outputs": [
        {
          "output_type": "display_data",
          "data": {
            "image/png": "[encoded data removed]",
            "text/plain": [
              "<Figure size 720x432 with 1 Axes>"
            ]
          },
          "metadata": {
            "tags": [],
            "needs_background": "light"
          }
        }
      ]
    },
    {
      "cell_type": "markdown",
      "metadata": {
        "colab_type": "text",
        "id": "4PCbd8gEatbJ"
      },
      "source": [
        "Other"
      ]
    },
    {
      "cell_type": "code",
      "metadata": {
        "id": "FRC7j9BYJaM1",
        "colab_type": "code",
        "colab": {
          "base_uri": "https://localhost:8080/",
          "height": 33
        },
        "outputId": "ed720cdd-6043-4e54-eccb-e5955e387329"
      },
      "source": [
        "a = example_importances_A[-1][0]\n",
        "b = example_importances_A[-1][1]\n",
        "a, b"
      ],
      "execution_count": 28,
      "outputs": [
        {
          "output_type": "execute_result",
          "data": {
            "text/plain": [
              "(0.6961383819580078, 0.30386167764663696)"
            ]
          },
          "metadata": {
            "tags": []
          },
          "execution_count": 28
        }
      ]
    },
    {
      "cell_type": "code",
      "metadata": {
        "id": "8rTofkmfJaM3",
        "colab_type": "code",
        "colab": {
          "base_uri": "https://localhost:8080/",
          "height": 33
        },
        "outputId": "815b3347-02dc-44db-febc-1af6d7a26181"
      },
      "source": [
        "# We find that the ratio is equal\n",
        "a/b, ratio_A**2/ratio_B**2"
      ],
      "execution_count": 29,
      "outputs": [
        {
          "output_type": "execute_result",
          "data": {
            "text/plain": [
              "(2.290971297695369, 0.0625)"
            ]
          },
          "metadata": {
            "tags": []
          },
          "execution_count": 29
        }
      ]
    },
    {
      "cell_type": "code",
      "metadata": {
        "id": "cgqHEBQZJaM5",
        "colab_type": "code",
        "colab": {
          "base_uri": "https://localhost:8080/",
          "height": 50
        },
        "outputId": "20285cde-ac16-4838-ed01-631ac73cfa70"
      },
      "source": [
        "print(ratio_A/ratio_B)\n",
        "print(ratio_B/ratio_A)"
      ],
      "execution_count": 30,
      "outputs": [
        {
          "output_type": "stream",
          "text": [
            "0.25\n",
            "4.0\n"
          ],
          "name": "stdout"
        }
      ]
    },
    {
      "cell_type": "code",
      "metadata": {
        "id": "M3wuEfOwJaM7",
        "colab_type": "code",
        "colab": {
          "base_uri": "https://localhost:8080/",
          "height": 403
        },
        "outputId": "4ffef85b-6d44-4305-e4e4-dd598fa73c6a"
      },
      "source": [
        "plt.figure(figsize=(10,6))\n",
        "plt.title('Losses over iterations')\n",
        "plt.xlabel('Training iterations')\n",
        "plt.ylabel('Mean')\n",
        "plt.plot(mean_A)\n",
        "plt.plot(mean_B)\n",
        "plt.legend(['mean_A', 'mean_B'])\n",
        "plt.show()"
      ],
      "execution_count": 31,
      "outputs": [
        {
          "output_type": "display_data",
          "data": {
            "image/png": "[encoded data removed]",
            "text/plain": [
              "<Figure size 720x432 with 1 Axes>"
            ]
          },
          "metadata": {
            "tags": [],
            "needs_background": "light"
          }
        }
      ]
    },
    {
      "cell_type": "code",
      "metadata": {
        "id": "ClMr5mFnJaM-",
        "colab_type": "code",
        "colab": {}
      },
      "source": [
        ""
      ],
      "execution_count": 31,
      "outputs": []
    }
  ]
}