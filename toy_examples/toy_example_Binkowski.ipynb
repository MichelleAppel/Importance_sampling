{
 "cells": [
  {
   "cell_type": "markdown",
   "metadata": {},
   "source": [
    "# Binkowski: toy example\n",
    "This is an toy example that demonstrates Binkowski's method."
   ]
  },
  {
   "cell_type": "code",
   "execution_count": 1,
   "metadata": {},
   "outputs": [],
   "source": [
    "import torch\n",
    "import torch.nn as nn\n",
    "import torch.nn.functional as F\n",
    "import torch.optim as optim\n",
    "from torch.utils.data import Dataset, DataLoader\n",
    "from torchvision.utils import make_grid\n",
    "\n",
    "import itertools\n",
    "\n",
    "import matplotlib.pyplot as plt"
   ]
  },
  {
   "cell_type": "markdown",
   "metadata": {},
   "source": [
    "### Functions for generation and visualization of the image batches"
   ]
  },
  {
   "cell_type": "code",
   "execution_count": 2,
   "metadata": {},
   "outputs": [],
   "source": [
    "def visualize_img_batch(batch):\n",
    "    '''Visualizes image batch\n",
    "    \n",
    "    Parameters:\n",
    "    batch (Tensor): An image batch\n",
    "    '''\n",
    "    grid = make_grid(batch.cpu(), nrow=8, padding=1, normalize=False, range=None, scale_each=False, pad_value=0)\n",
    "    plt.imshow(grid.permute(1,2,0))\n",
    "    plt.show()"
   ]
  },
  {
   "cell_type": "code",
   "execution_count": 11,
   "metadata": {},
   "outputs": [],
   "source": [
    "def random_image_data(size=(2**21, 3, 1, 1), ratio=0.5, offset=0.2, color=0, std=0):\n",
    "    '''Generates a random image batch \n",
    "    consisting of two modes (dark and light images)\n",
    "    \n",
    "    Parameters:\n",
    "    size (tuple): The dimensions of the image batch (batch_size, channels, width, length)\n",
    "    ratio (float): The ratio of light to dark images\n",
    "    offset (float): The brightness of the images relative to black and bright\n",
    "    color (int): Red = 0, green = 1, blue = 2\n",
    "    std (float): the standard deviation of the noise in the data set\n",
    "    \n",
    "    Returns:\n",
    "    image_batch (Tensor): The generated image batch\n",
    "    \n",
    "    '''\n",
    "    idx = torch.randperm(size[0])[:int(ratio*size[0])] # Randomly choose indices according to the ratio\n",
    "    \n",
    "    m = torch.distributions.normal.Normal(torch.Tensor([0]), torch.ones((int(torch.prod(torch.Tensor(size)))))*std)\n",
    "    \n",
    "    image_batch = torch.zeros(size)\n",
    "    image_batch[:, color] += offset # light color\n",
    "    image_batch[idx, color] = 1 - offset # dark color \n",
    "    \n",
    "    image_batch += m.sample().view(size)\n",
    "    return image_batch.clamp(0, 1).cuda()"
   ]
  },
  {
   "cell_type": "markdown",
   "metadata": {},
   "source": [
    "### The dataset class"
   ]
  },
  {
   "cell_type": "code",
   "execution_count": 4,
   "metadata": {},
   "outputs": [],
   "source": [
    "class ColorDataset(Dataset):\n",
    "    '''The dataloader for the color images\n",
    "    '''\n",
    "    def __init__(self, ratio=0.5, offset=0.2, color=0, std=0):\n",
    "        '''  \n",
    "        Parameters:\n",
    "        ratio (float): The ratio of light to dark images\n",
    "        offset (float): The brightness of the images relative to black and bright\n",
    "        color (int): Red = 0, green = 1, blue = 2\n",
    "        std (float): the standard deviation of the noise in the data set\n",
    "        '''\n",
    "        self.offset = offset\n",
    "        self.ratio = ratio\n",
    "        self.color = color\n",
    "        self.std = std\n",
    "        \n",
    "        self.dataset = random_image_data(ratio=self.ratio, \n",
    "                                         offset=self.offset, \n",
    "                                         color=self.color,\n",
    "                                         std=self.std)\n",
    "        self.example_imgs = self.example()\n",
    "        \n",
    "    def example(self):\n",
    "        '''\n",
    "        Returns an example from each mode in the domain\n",
    "        \n",
    "        '''\n",
    "        example_imgs = torch.zeros(size=(2, 3, 1, 1))\n",
    "\n",
    "        example_imgs[0, self.color] += self.offset # light color\n",
    "        example_imgs[1, self.color] = 1 - self.offset # dark color\n",
    "        return example_imgs\n",
    "\n",
    "    def __len__(self):\n",
    "        return len(self.dataset)\n",
    "    \n",
    "    def __getitem__(self, idx):      \n",
    "        return self.dataset[idx]"
   ]
  },
  {
   "cell_type": "markdown",
   "metadata": {},
   "source": [
    "### The networks"
   ]
  },
  {
   "cell_type": "code",
   "execution_count": 5,
   "metadata": {},
   "outputs": [],
   "source": [
    "class WeightNet(nn.Module):\n",
    "    '''A simple network that predicts the importances of the samples'''\n",
    "\n",
    "    def __init__(self):\n",
    "        super(WeightNet, self).__init__()\n",
    "        self.fc1 = nn.Linear(3, 1)\n",
    "        self.fc2 = nn.Linear(1, 1)\n",
    "        \n",
    "    def forward(self, x):\n",
    "        h1 = torch.sigmoid(self.fc1(x.view(-1, 3)))\n",
    "        out = self.fc2(h1)\n",
    "        return out"
   ]
  },
  {
   "cell_type": "code",
   "execution_count": 6,
   "metadata": {},
   "outputs": [],
   "source": [
    "class TrivialWeightNet(nn.Module):\n",
    "    '''A trivial network that predicts the importances of the samples'''\n",
    "\n",
    "    def __init__(self):\n",
    "        super(TrivialWeightNet, self).__init__()\n",
    "        self.fc1 = nn.Linear(1, 1)\n",
    "        \n",
    "    def forward(self, x):\n",
    "        return torch.ones((x.shape[0], 1)).cuda()"
   ]
  },
  {
   "cell_type": "code",
   "execution_count": 7,
   "metadata": {},
   "outputs": [],
   "source": [
    "class Discriminator(nn.Module):\n",
    "    '''A simple joint discriminator network'''\n",
    "\n",
    "    def __init__(self):\n",
    "        super(Discriminator, self).__init__()\n",
    "        self.fc1_A = nn.Linear(3, 3)\n",
    "        self.fc1_B = nn.Linear(3, 3)\n",
    "        self.fc2   = nn.Linear(6, 6)\n",
    "        self.fc3   = nn.Linear(6, 1)\n",
    "        self.dropout = nn.Dropout(1/6)\n",
    "        \n",
    "    def forward(self, x, y):\n",
    "        h1_A = torch.sigmoid(self.fc1_A(x.view(-1, 3)))\n",
    "        h1_B = torch.sigmoid(self.fc1_B(y.view(-1, 3)))\n",
    "        \n",
    "        h1_AB = torch.cat((h1_A, h1_B), 1)\n",
    "#         h1_AB = self.dropout(h1_AB)\n",
    "        \n",
    "        h2 = torch.sigmoid(self.fc2(h1_AB))\n",
    "#         h2 = self.dropout(h2)\n",
    "        \n",
    "        out = self.fc3(h2)\n",
    "#         out = torch.tanh(out)\n",
    "        return out\n",
    "    \n",
    "# TODO: What is the best final activation function? It makes sense to me to use tanh as an activation function\n",
    "#       for this joint discriminator, because it is centered around 0 and will return values in the range (-1, 1)\n",
    "#       depending on which of the inputs is evaluated as real. Trying this isolated from the Generator network\n",
    "#       resulted in discriminator values converging to (-1, 1) as desired. However, when involving the G\n",
    "#       into the training process, the values seem to collapse into the same. I don't know if then the signal \n",
    "#       for gradient descent gets too weak (vanishing gradients because of tanh) or if the Discriminator wants\n",
    "#       to be pushed towards other values, possibly not centered around 0 or larger than (-1, 1). Using no final\n",
    "#       activation function sometimes results in exploding values (-inf, inf), and sometimes in collapsing values.\n",
    "#       To avoid the exploding values we can use activation penalty in the loss function.\n",
    "\n",
    "# TODO: Should we add noise to the input image to increase variance? Sometimes all losses collapse to 0,\n",
    "#       meaning the weights are no more updated. To avoid this I tried adding noise in the input, it \n",
    "#       does not seem to help.\n",
    "\n",
    "# TODO: Should we add dropout?"
   ]
  },
  {
   "cell_type": "code",
   "execution_count": 8,
   "metadata": {},
   "outputs": [],
   "source": [
    "class Generator(nn.Module):\n",
    "    '''A simple conditional generator network'''\n",
    "\n",
    "    def __init__(self):\n",
    "        super(Generator, self).__init__()\n",
    "        self.fc1 = nn.Linear(3, 6)\n",
    "        self.fc2 = nn.Linear(6, 3)\n",
    "        \n",
    "    def forward(self, x):\n",
    "        h1 = torch.sigmoid(self.fc1(x.view(-1, x.shape[1])))\n",
    "        out = self.fc2(h1)\n",
    "#         out = torch.sigmoid(out)\n",
    "        return out.unsqueeze(-1).unsqueeze(-1)#.clamp(0, 1)\n",
    "    \n",
    "# TODO: What is the best final activation function? Sigmoid will keep the image in the right range (0, 1),\n",
    "#       however, it might suffer from vanishing gradients and it appears to result in to generation of\n",
    "#       only one mode (mode collapse). Having no final activation function will lead to larger loss signals,\n",
    "#       however, we risk the generator producing values outside the range (0, 1). To solve this we could\n",
    "#       clamp the values between 0 and 1, but this means that the loss signal beyond this range will be unclear."
   ]
  },
  {
   "cell_type": "markdown",
   "metadata": {},
   "source": [
    "### A demonstration of the two domains\n",
    "The idea here is that we create two domains: A red and a green domain. The domains consist of two modes: dark and light images. The big assumption here for our purpose is that the dark and light images have semantic correspondance, so for example: dark red will be translated to dark green.\n",
    "\n",
    "We can adjust the intensity of the images (offset) and the ratio of the modes for the experiment. In the visualiztion you can see the elements of the dataset. In the histogram you can see the modes."
   ]
  },
  {
   "cell_type": "code",
   "execution_count": 14,
   "metadata": {},
   "outputs": [
    {
     "data": {
      "image/png": "[encoded data removed]",
      "text/plain": [
       "<Figure size 432x288 with 1 Axes>"
      ]
     },
     "metadata": {
      "needs_background": "light"
     },
     "output_type": "display_data"
    },
    {
     "data": {
      "image/png": "[encoded data removed]",
      "text/plain": [
       "<Figure size 432x288 with 1 Axes>"
      ]
     },
     "metadata": {
      "needs_background": "light"
     },
     "output_type": "display_data"
    }
   ],
   "source": [
    "# Settings for domain A (red)\n",
    "offset_A = 0.3\n",
    "ratio_A = 0.5\n",
    "color_A = 0\n",
    "std_A = 0.05\n",
    "dataset_A = ColorDataset(offset=offset_A, ratio=ratio_A, color=color_A, std=std_A)\n",
    "dataloader_A = DataLoader(dataset_A, batch_size=64, shuffle=True)\n",
    "\n",
    "# Settings for domain B (green)\n",
    "offset_B = 0.3\n",
    "ratio_B = 0.5\n",
    "color_B = 1\n",
    "std_B = 0.05\n",
    "dataset_B = ColorDataset(offset=offset_B, ratio=ratio_B, color=color_B, std=std_B)\n",
    "dataloader_B = DataLoader(dataset_B, batch_size=64, shuffle=True)\n",
    "\n",
    "visualize_img_batch(dataset_A.example_imgs)\n",
    "visualize_img_batch(dataset_B.example_imgs)"
   ]
  },
  {
   "cell_type": "code",
   "execution_count": 15,
   "metadata": {},
   "outputs": [
    {
     "data": {
      "image/png": "[encoded data removed]",
      "text/plain": [
       "<Figure size 432x288 with 1 Axes>"
      ]
     },
     "metadata": {
      "needs_background": "light"
     },
     "output_type": "display_data"
    },
    {
     "data": {
      "image/png": "[encoded data removed]",
      "text/plain": [
       "<Figure size 432x288 with 1 Axes>"
      ]
     },
     "metadata": {
      "needs_background": "light"
     },
     "output_type": "display_data"
    },
    {
     "data": {
      "image/png": "[encoded data removed]",
      "text/plain": [
       "<Figure size 432x288 with 1 Axes>"
      ]
     },
     "metadata": {
      "needs_background": "light"
     },
     "output_type": "display_data"
    },
    {
     "data": {
      "image/png": "[encoded data removed]",
      "text/plain": [
       "<Figure size 432x288 with 1 Axes>"
      ]
     },
     "metadata": {
      "needs_background": "light"
     },
     "output_type": "display_data"
    }
   ],
   "source": [
    "import cv2\n",
    "\n",
    "def plot_hist(data):\n",
    "    data = data.permute(1,0,2,3).view(3,-1).cpu()\n",
    "    for i, c in enumerate(('r', 'g', 'b')):\n",
    "        plt.hist(data[i], weights=torch.ones(len(data[i]))/len(data[i]), \n",
    "                 color=c, bins=100, range= (0.01, 1))\n",
    "        x_unique_count = torch.stack([(data==x_u).sum() for x_u in data.unique()])\n",
    "    plt.show()\n",
    "\n",
    "for i, (data_A, data_B) in enumerate(zip(dataloader_A, dataloader_B)):\n",
    "#     print('True ratio domain A:', dataloader_A.dataset.ratio)\n",
    "    plot_hist(data_A)\n",
    "#     print('True ratio domain B:', dataloader_B.dataset.ratio)\n",
    "    plot_hist(data_B)\n",
    "    \n",
    "    visualize_img_batch(data_A[:64])\n",
    "    visualize_img_batch(data_B[:64])\n",
    "    break"
   ]
  },
  {
   "cell_type": "markdown",
   "metadata": {},
   "source": [
    "## The training loop"
   ]
  },
  {
   "cell_type": "code",
   "execution_count": 11,
   "metadata": {
    "scrolled": false
   },
   "outputs": [
    {
     "name": "stdout",
     "output_type": "stream",
     "text": [
      "step 0 loss_g:  0.09673953056335449 loss_d:  -1.3710756301879883 loss_w:  0.009358536452054977\n",
      "step 500 loss_g:  93.04605102539062 loss_d:  -93.54833221435547 loss_w:  8657.5673828125\n",
      "step 1000 loss_g:  425.3902587890625 loss_d:  -413.2478942871094 loss_w:  180956.875\n",
      "step 1500 loss_g:  691.0855712890625 loss_d:  -657.740234375 loss_w:  477599.28125\n",
      "step 2000 loss_g:  893.4817504882812 loss_d:  -836.2298583984375 loss_w:  798309.625\n",
      "step 2500 loss_g:  1066.3056640625 loss_d:  -984.7471923828125 loss_w:  1137007.75\n",
      "step 3000 loss_g:  1218.9892578125 loss_d:  -1119.021728515625 loss_w:  1485934.75\n",
      "step 3500 loss_g:  1366.1014404296875 loss_d:  -1247.180419921875 loss_w:  1866233.125\n",
      "step 4000 loss_g:  1510.78564453125 loss_d:  -1368.7923583984375 loss_w:  2282473.25\n",
      "step 4500 loss_g:  1651.336669921875 loss_d:  -1488.4736328125 loss_w:  2726912.75\n",
      "step 5000 loss_g:  1791.179931640625 loss_d:  -1602.18603515625 loss_w:  3208325.5\n",
      "step 5500 loss_g:  1928.8018798828125 loss_d:  -1712.0784912109375 loss_w:  3720276.75\n",
      "step 6000 loss_g:  2064.794677734375 loss_d:  -1818.697998046875 loss_w:  4263377.0\n",
      "step 6500 loss_g:  2198.97802734375 loss_d:  -1921.3209228515625 loss_w:  4835504.5\n",
      "step 7000 loss_g:  2331.5166015625 loss_d:  -2021.3720703125 loss_w:  5435969.5\n",
      "step 7500 loss_g:  2462.70166015625 loss_d:  -2118.876220703125 loss_w:  6064899.5\n",
      "step 8000 loss_g:  2592.7451171875 loss_d:  -2214.125 loss_w:  6722327.0\n",
      "step 8500 loss_g:  2721.591796875 loss_d:  -2307.147216796875 loss_w:  7407062.0\n",
      "step 9000 loss_g:  2848.89794921875 loss_d:  -2398.116455078125 loss_w:  8116219.5\n"
     ]
    },
    {
     "ename": "KeyboardInterrupt",
     "evalue": "",
     "output_type": "error",
     "traceback": [
      "\u001b[0;31m---------------------------------------------------------------------------\u001b[0m",
      "\u001b[0;31mKeyboardInterrupt\u001b[0m                         Traceback (most recent call last)",
      "\u001b[0;32m<ipython-input-11-294b48c80117>\u001b[0m in \u001b[0;36m<module>\u001b[0;34m\u001b[0m\n\u001b[1;32m     45\u001b[0m \u001b[0;34m\u001b[0m\u001b[0m\n\u001b[1;32m     46\u001b[0m         \u001b[0;31m# The weighting process\u001b[0m\u001b[0;34m\u001b[0m\u001b[0;34m\u001b[0m\u001b[0;34m\u001b[0m\u001b[0m\n\u001b[0;32m---> 47\u001b[0;31m         \u001b[0mw\u001b[0m \u001b[0;34m=\u001b[0m \u001b[0;36m0.5\u001b[0m\u001b[0;34m*\u001b[0m\u001b[0;34m(\u001b[0m\u001b[0mtorch\u001b[0m\u001b[0;34m.\u001b[0m\u001b[0msigmoid\u001b[0m\u001b[0;34m(\u001b[0m\u001b[0mweight_network_A\u001b[0m\u001b[0;34m(\u001b[0m\u001b[0mreal_A\u001b[0m\u001b[0;34m)\u001b[0m\u001b[0;34m)\u001b[0m \u001b[0;34m+\u001b[0m \u001b[0mtorch\u001b[0m\u001b[0;34m.\u001b[0m\u001b[0msigmoid\u001b[0m\u001b[0;34m(\u001b[0m\u001b[0;34m-\u001b[0m\u001b[0mweight_network_B\u001b[0m\u001b[0;34m(\u001b[0m\u001b[0mfake_B\u001b[0m\u001b[0;34m.\u001b[0m\u001b[0mdetach\u001b[0m\u001b[0;34m(\u001b[0m\u001b[0;34m)\u001b[0m\u001b[0;34m)\u001b[0m\u001b[0;34m)\u001b[0m\u001b[0;34m)\u001b[0m\u001b[0;34m\u001b[0m\u001b[0;34m\u001b[0m\u001b[0m\n\u001b[0m\u001b[1;32m     48\u001b[0m         \u001b[0mv\u001b[0m \u001b[0;34m=\u001b[0m \u001b[0;36m0.5\u001b[0m\u001b[0;34m*\u001b[0m\u001b[0;34m(\u001b[0m\u001b[0mtorch\u001b[0m\u001b[0;34m.\u001b[0m\u001b[0msigmoid\u001b[0m\u001b[0;34m(\u001b[0m\u001b[0;34m-\u001b[0m\u001b[0mweight_network_A\u001b[0m\u001b[0;34m(\u001b[0m\u001b[0mfake_A\u001b[0m\u001b[0;34m.\u001b[0m\u001b[0mdetach\u001b[0m\u001b[0;34m(\u001b[0m\u001b[0;34m)\u001b[0m\u001b[0;34m)\u001b[0m\u001b[0;34m)\u001b[0m \u001b[0;34m+\u001b[0m \u001b[0mtorch\u001b[0m\u001b[0;34m.\u001b[0m\u001b[0msigmoid\u001b[0m\u001b[0;34m(\u001b[0m\u001b[0mweight_network_B\u001b[0m\u001b[0;34m(\u001b[0m\u001b[0mreal_B\u001b[0m\u001b[0;34m)\u001b[0m\u001b[0;34m)\u001b[0m\u001b[0;34m)\u001b[0m\u001b[0;34m\u001b[0m\u001b[0;34m\u001b[0m\u001b[0m\n\u001b[1;32m     49\u001b[0m \u001b[0;34m\u001b[0m\u001b[0m\n",
      "\u001b[0;32m~/.local/lib/python3.7/site-packages/torch/nn/modules/module.py\u001b[0m in \u001b[0;36m__call__\u001b[0;34m(self, *input, **kwargs)\u001b[0m\n\u001b[1;32m    530\u001b[0m             \u001b[0mresult\u001b[0m \u001b[0;34m=\u001b[0m \u001b[0mself\u001b[0m\u001b[0;34m.\u001b[0m\u001b[0m_slow_forward\u001b[0m\u001b[0;34m(\u001b[0m\u001b[0;34m*\u001b[0m\u001b[0minput\u001b[0m\u001b[0;34m,\u001b[0m \u001b[0;34m**\u001b[0m\u001b[0mkwargs\u001b[0m\u001b[0;34m)\u001b[0m\u001b[0;34m\u001b[0m\u001b[0;34m\u001b[0m\u001b[0m\n\u001b[1;32m    531\u001b[0m         \u001b[0;32melse\u001b[0m\u001b[0;34m:\u001b[0m\u001b[0;34m\u001b[0m\u001b[0;34m\u001b[0m\u001b[0m\n\u001b[0;32m--> 532\u001b[0;31m             \u001b[0mresult\u001b[0m \u001b[0;34m=\u001b[0m \u001b[0mself\u001b[0m\u001b[0;34m.\u001b[0m\u001b[0mforward\u001b[0m\u001b[0;34m(\u001b[0m\u001b[0;34m*\u001b[0m\u001b[0minput\u001b[0m\u001b[0;34m,\u001b[0m \u001b[0;34m**\u001b[0m\u001b[0mkwargs\u001b[0m\u001b[0;34m)\u001b[0m\u001b[0;34m\u001b[0m\u001b[0;34m\u001b[0m\u001b[0m\n\u001b[0m\u001b[1;32m    533\u001b[0m         \u001b[0;32mfor\u001b[0m \u001b[0mhook\u001b[0m \u001b[0;32min\u001b[0m \u001b[0mself\u001b[0m\u001b[0;34m.\u001b[0m\u001b[0m_forward_hooks\u001b[0m\u001b[0;34m.\u001b[0m\u001b[0mvalues\u001b[0m\u001b[0;34m(\u001b[0m\u001b[0;34m)\u001b[0m\u001b[0;34m:\u001b[0m\u001b[0;34m\u001b[0m\u001b[0;34m\u001b[0m\u001b[0m\n\u001b[1;32m    534\u001b[0m             \u001b[0mhook_result\u001b[0m \u001b[0;34m=\u001b[0m \u001b[0mhook\u001b[0m\u001b[0;34m(\u001b[0m\u001b[0mself\u001b[0m\u001b[0;34m,\u001b[0m \u001b[0minput\u001b[0m\u001b[0;34m,\u001b[0m \u001b[0mresult\u001b[0m\u001b[0;34m)\u001b[0m\u001b[0;34m\u001b[0m\u001b[0;34m\u001b[0m\u001b[0m\n",
      "\u001b[0;32m<ipython-input-6-0b64380a6903>\u001b[0m in \u001b[0;36mforward\u001b[0;34m(self, x)\u001b[0m\n\u001b[1;32m      7\u001b[0m \u001b[0;34m\u001b[0m\u001b[0m\n\u001b[1;32m      8\u001b[0m     \u001b[0;32mdef\u001b[0m \u001b[0mforward\u001b[0m\u001b[0;34m(\u001b[0m\u001b[0mself\u001b[0m\u001b[0;34m,\u001b[0m \u001b[0mx\u001b[0m\u001b[0;34m)\u001b[0m\u001b[0;34m:\u001b[0m\u001b[0;34m\u001b[0m\u001b[0;34m\u001b[0m\u001b[0m\n\u001b[0;32m----> 9\u001b[0;31m         \u001b[0;32mreturn\u001b[0m \u001b[0mtorch\u001b[0m\u001b[0;34m.\u001b[0m\u001b[0mones\u001b[0m\u001b[0;34m(\u001b[0m\u001b[0;34m(\u001b[0m\u001b[0mx\u001b[0m\u001b[0;34m.\u001b[0m\u001b[0mshape\u001b[0m\u001b[0;34m[\u001b[0m\u001b[0;36m0\u001b[0m\u001b[0;34m]\u001b[0m\u001b[0;34m,\u001b[0m \u001b[0;36m1\u001b[0m\u001b[0;34m)\u001b[0m\u001b[0;34m)\u001b[0m\u001b[0;34m.\u001b[0m\u001b[0mcuda\u001b[0m\u001b[0;34m(\u001b[0m\u001b[0;34m)\u001b[0m\u001b[0;34m\u001b[0m\u001b[0;34m\u001b[0m\u001b[0m\n\u001b[0m",
      "\u001b[0;31mKeyboardInterrupt\u001b[0m: "
     ]
    }
   ],
   "source": [
    "# Initialize the networks\n",
    "weight_network_A = TrivialWeightNet().cuda()\n",
    "weight_network_B = TrivialWeightNet().cuda()\n",
    "generator_A = Generator().cuda()\n",
    "generator_B = Generator().cuda()\n",
    "discriminator = Discriminator().cuda()\n",
    "\n",
    "# Initialize the optimizers\n",
    "lr = 0.001\n",
    "optimizer_w = optim.Adam(itertools.chain(weight_network_A.parameters(), \n",
    "                                         weight_network_B.parameters()), lr=lr)\n",
    "optimizer_g = optim.Adam(itertools.chain(generator_A.parameters(),\n",
    "                                         generator_B.parameters()), lr=lr)\n",
    "optimizer_d = optim.Adam(discriminator.parameters(), lr=lr)\n",
    "\n",
    "# Store values\n",
    "samples_A = []\n",
    "samples_B = []\n",
    "\n",
    "losses_g = []\n",
    "losses_d = []\n",
    "losses_w = []\n",
    "\n",
    "Lminusses = []\n",
    "Lplusses = []\n",
    "\n",
    "example_importances_A = []\n",
    "example_importances_B = []\n",
    "\n",
    "example_d_real = []\n",
    "example_d_sample = []\n",
    "\n",
    "penalties = []\n",
    "variances = []\n",
    "\n",
    "for epoch in range(1):\n",
    "    for i, (real_A, real_B) in enumerate(zip(dataloader_A, dataloader_B)):\n",
    "\n",
    "        real_A = real_A.detach()\n",
    "        real_B = real_B.detach()\n",
    "        \n",
    "        # Generated images\n",
    "        fake_A = generator_A(real_B)\n",
    "        fake_B = generator_B(real_A)\n",
    "\n",
    "        # The weighting process\n",
    "        w = 0.5*(torch.sigmoid(weight_network_A(real_A)) + torch.sigmoid(-weight_network_B(fake_B.detach())))\n",
    "        v = 0.5*(torch.sigmoid(-weight_network_A(fake_A.detach())) + torch.sigmoid(weight_network_B(real_B)))\n",
    "\n",
    "        w = w.cuda()\n",
    "        v = v.cuda()\n",
    "        # The loss function --------------------------------------------------------------------------------\n",
    "        \n",
    "        # For storing purposes\n",
    "        Lmin  = (discriminator(real_A, fake_B) * 0.5*(1 + w.detach())).sum().detach()\n",
    "        Lplus = (discriminator(fake_A, real_B) * 0.5*(1 + v.detach())).sum().detach()\n",
    "        \n",
    "        activation_penalty_A = (discriminator(fake_A.detach(), real_B)**2 - 1).sum()\n",
    "        activation_penalty_B = (discriminator(real_A, real_B.detach())**2 - 1).sum()\n",
    "        lambda_penalty = 0.01\n",
    "        \n",
    "        var_A = ((fake_A - fake_A.mean())**2).sum()\n",
    "        var_B = ((fake_B - fake_B.mean())**2).sum()\n",
    "        lambda_var = 0#.01\n",
    "        \n",
    "        # The losses that are used for backprop\n",
    "        # Wants to predict D(fake_A, real_B) = -1, D(real_A, fake_B) = 1\n",
    "        loss_d = ((discriminator(fake_A.detach(), real_B)) * 0.5*(1 + v.detach())).sum() - \\\n",
    "                 ((discriminator(real_A, fake_B.detach())) * 0.5*(1 + w.detach())).sum() + \\\n",
    "                 lambda_penalty*(activation_penalty_A + activation_penalty_B)\n",
    "\n",
    "        loss_w = (((discriminator(real_A, fake_B.detach())).detach() * 0.5*(1 + w)).sum() - \\\n",
    "                 ((discriminator(fake_A.detach(), real_B)).detach() * 0.5*(1 + v)).sum())**2\n",
    "        \n",
    "        # Wants to predict D(fake_A, real_B) = 1, D(real_A, fake_B) = -1\n",
    "        loss_g = (discriminator(real_A, fake_B) * 0.5*(1 + w.detach())).sum() - \\\n",
    "                 (discriminator(fake_A, real_B) * 0.5*(1 + v.detach())).sum() - \\\n",
    "                 lambda_var * (var_A + var_B)\n",
    "\n",
    "        # ---------------------------------------------------------------------------------------------------\n",
    "\n",
    "        # Backward\n",
    "        \n",
    "#         optimizer_w.zero_grad()\n",
    "#         loss_w.backward()\n",
    "#         optimizer_w.step()       \n",
    "        \n",
    "        # The generator and discriminator distinct loops\n",
    "#         if i % 6 == 0:\n",
    "#             optimizer_g.zero_grad()\n",
    "#             loss_g.backward()\n",
    "#             optimizer_g.step()\n",
    "#         else:\n",
    "        optimizer_d.zero_grad()\n",
    "        loss_d.backward()\n",
    "        optimizer_d.step()\n",
    "\n",
    "        # Store values --------------------------------------------------------------------------------------\n",
    "        Lminusses += [Lmin.item()]\n",
    "        Lplusses += [Lplus.item()]\n",
    "        \n",
    "        losses_g += [loss_g.item()]\n",
    "        losses_d += [loss_d.item()]\n",
    "        losses_w += [loss_w.item()]\n",
    "        \n",
    "        penalties += [(activation_penalty_A.item(), activation_penalty_B.item())]\n",
    "        variances += [(var_A.item(), var_B.item())]\n",
    "        \n",
    "        w_a = weight_network_A(dataset_A.example_imgs)\n",
    "        w_b = weight_network_B(dataset_B.example_imgs)\n",
    "        example_importances_A += [(w_a[0].item(), w_a[1].item())] # Store examples in a list\n",
    "        example_importances_B += [(w_b[0].item(), w_b[1].item())] # Store examples in a list\n",
    "        \n",
    "        d_r1 = discriminator(dataset_A.example_imgs[0].cuda(), dataset_B.example_imgs[0].cuda())\n",
    "        d_r2 = discriminator(dataset_A.example_imgs[1].cuda(), dataset_B.example_imgs[1].cuda())              \n",
    "        example_d_real += [(d_r1.item(), d_r2.item())] # Store examples in a list\n",
    "\n",
    "        d_a = discriminator(real_A[0], fake_B[0])\n",
    "        d_b = discriminator(fake_A[0], real_B[0])   \n",
    "        example_d_sample += [(d_a.item(), d_b.item())] # Store examples in a list\n",
    "        \n",
    "        # ---------------------------------------------------------------------------------------------------\n",
    "\n",
    "        # Print statistics\n",
    "        if i % 500 == 0:\n",
    "            samples_A += [fake_A.detach().cpu()]\n",
    "            samples_B += [fake_B.detach().cpu()]\n",
    "            print('step', i, 'loss_g: ', loss_g.item(), 'loss_d: ', loss_d.item(), 'loss_w: ', loss_w.item())"
   ]
  },
  {
   "cell_type": "code",
   "execution_count": 12,
   "metadata": {},
   "outputs": [],
   "source": [
    "weight_network_A = weight_network_A.eval().cpu()\n",
    "weight_network_B = weight_network_B.eval().cpu()\n",
    "generator_A = generator_A.eval().cpu()\n",
    "generator_B = generator_B.eval().cpu()\n",
    "discriminator = discriminator.eval().cpu()\n",
    "\n",
    "for i, (real_A, real_B) in enumerate(zip(dataloader_A, dataloader_B)):\n",
    "    # Generated images\n",
    "    fake_A = generator_A(real_B.cpu())\n",
    "    fake_B = generator_B(real_A.cpu())\n",
    "    break"
   ]
  },
  {
   "cell_type": "markdown",
   "metadata": {},
   "source": [
    "### Interpretation"
   ]
  },
  {
   "cell_type": "code",
   "execution_count": 13,
   "metadata": {},
   "outputs": [
    {
     "data": {
      "image/png": "[encoded data removed]",
      "text/plain": [
       "<Figure size 432x288 with 1 Axes>"
      ]
     },
     "metadata": {
      "needs_background": "light"
     },
     "output_type": "display_data"
    },
    {
     "name": "stderr",
     "output_type": "stream",
     "text": [
      "Clipping input data to the valid range for imshow with RGB data ([0..1] for floats or [0..255] for integers).\n"
     ]
    },
    {
     "data": {
      "image/png": "[encoded data removed]",
      "text/plain": [
       "<Figure size 432x288 with 1 Axes>"
      ]
     },
     "metadata": {
      "needs_background": "light"
     },
     "output_type": "display_data"
    },
    {
     "name": "stdout",
     "output_type": "stream",
     "text": [
      "True ratio domain A 0.5\n"
     ]
    },
    {
     "data": {
      "image/png": "[encoded data removed]",
      "text/plain": [
       "<Figure size 432x288 with 1 Axes>"
      ]
     },
     "metadata": {
      "needs_background": "light"
     },
     "output_type": "display_data"
    },
    {
     "name": "stderr",
     "output_type": "stream",
     "text": [
      "Clipping input data to the valid range for imshow with RGB data ([0..1] for floats or [0..255] for integers).\n"
     ]
    },
    {
     "data": {
      "image/png": "[encoded data removed]",
      "text/plain": [
       "<Figure size 432x288 with 1 Axes>"
      ]
     },
     "metadata": {
      "needs_background": "light"
     },
     "output_type": "display_data"
    },
    {
     "name": "stdout",
     "output_type": "stream",
     "text": [
      "True ratio domain B 0.5\n"
     ]
    }
   ],
   "source": [
    "visualize_img_batch(real_A[:64])\n",
    "visualize_img_batch(fake_B.detach()[:64])\n",
    "print('True ratio domain A {}'.format(ratio_A))\n",
    "# plot_hist(real_A)\n",
    "\n",
    "visualize_img_batch(real_B[:64])\n",
    "visualize_img_batch(fake_A.detach()[:64])\n",
    "print('True ratio domain B {}'.format(ratio_B))\n",
    "# plot_hist(real_B)"
   ]
  },
  {
   "cell_type": "code",
   "execution_count": 14,
   "metadata": {},
   "outputs": [
    {
     "data": {
      "image/png": "[encoded data removed]",
      "text/plain": [
       "<Figure size 432x288 with 1 Axes>"
      ]
     },
     "metadata": {
      "needs_background": "light"
     },
     "output_type": "display_data"
    },
    {
     "data": {
      "image/png": "[encoded data removed]",
      "text/plain": [
       "<Figure size 432x288 with 1 Axes>"
      ]
     },
     "metadata": {
      "needs_background": "light"
     },
     "output_type": "display_data"
    },
    {
     "data": {
      "image/png": "[encoded data removed]",
      "text/plain": [
       "<Figure size 432x288 with 1 Axes>"
      ]
     },
     "metadata": {
      "needs_background": "light"
     },
     "output_type": "display_data"
    },
    {
     "data": {
      "image/png": "[encoded data removed]",
      "text/plain": [
       "<Figure size 432x288 with 1 Axes>"
      ]
     },
     "metadata": {
      "needs_background": "light"
     },
     "output_type": "display_data"
    }
   ],
   "source": [
    "plot_hist(real_A)\n",
    "plot_hist(fake_B.detach())\n",
    "\n",
    "plot_hist(real_B)\n",
    "plot_hist(fake_A.detach())"
   ]
  },
  {
   "cell_type": "code",
   "execution_count": 15,
   "metadata": {},
   "outputs": [
    {
     "data": {
      "image/png": "[encoded data removed]",
      "text/plain": [
       "<Figure size 720x432 with 1 Axes>"
      ]
     },
     "metadata": {
      "needs_background": "light"
     },
     "output_type": "display_data"
    }
   ],
   "source": [
    "plt.figure(figsize=(10,6))\n",
    "plt.title('Losses over iterations')\n",
    "plt.xlabel('Training iterations')\n",
    "plt.ylabel('Loss')\n",
    "# plt.yscale('symlog')\n",
    "plt.plot(losses_g)\n",
    "plt.plot(losses_d)\n",
    "plt.legend(['G', 'D'])\n",
    "plt.show()"
   ]
  },
  {
   "cell_type": "code",
   "execution_count": 16,
   "metadata": {},
   "outputs": [
    {
     "data": {
      "image/png": "[encoded data removed]",
      "text/plain": [
       "<Figure size 720x432 with 1 Axes>"
      ]
     },
     "metadata": {
      "needs_background": "light"
     },
     "output_type": "display_data"
    }
   ],
   "source": [
    "plt.figure(figsize=(10,6))\n",
    "plt.title('Losses over iterations')\n",
    "plt.xlabel('Training iterations')\n",
    "plt.ylabel('Loss')\n",
    "# plt.yscale('symlog')\n",
    "plt.plot(losses_w)\n",
    "plt.legend(['W'])\n",
    "plt.show()"
   ]
  },
  {
   "cell_type": "code",
   "execution_count": 17,
   "metadata": {},
   "outputs": [
    {
     "data": {
      "image/png": "[encoded data removed]",
      "text/plain": [
       "<Figure size 720x432 with 1 Axes>"
      ]
     },
     "metadata": {
      "needs_background": "light"
     },
     "output_type": "display_data"
    }
   ],
   "source": [
    "plt.figure(figsize=(10,6))\n",
    "plt.title('Losses over iterations')\n",
    "plt.xlabel('Training iterations')\n",
    "plt.ylabel('Loss')\n",
    "plt.plot(Lminusses)\n",
    "plt.plot(Lplusses)\n",
    "plt.legend(['Lmin', 'Lplus'])\n",
    "plt.show()"
   ]
  },
  {
   "cell_type": "code",
   "execution_count": 18,
   "metadata": {},
   "outputs": [
    {
     "data": {
      "image/png": "[encoded data removed]",
      "text/plain": [
       "<Figure size 720x432 with 1 Axes>"
      ]
     },
     "metadata": {
      "needs_background": "light"
     },
     "output_type": "display_data"
    }
   ],
   "source": [
    "plt.figure(figsize=(10,6))\n",
    "plt.title('Discriminator values')\n",
    "plt.plot(torch.Tensor(example_d_sample)[:, 0])\n",
    "plt.plot(torch.Tensor(example_d_sample)[:, 1])\n",
    "plt.legend(['A is real', 'B is real'])\n",
    "plt.ylabel('Discriminator values')\n",
    "plt.xlabel('Training iterations')\n",
    "plt.show()"
   ]
  },
  {
   "cell_type": "code",
   "execution_count": null,
   "metadata": {},
   "outputs": [],
   "source": [
    "plt.figure(figsize=(10,6))\n",
    "plt.title('Discriminator values for images')\n",
    "plt.plot(torch.Tensor(example_d_real)[:, 0])\n",
    "plt.plot(torch.Tensor(example_d_real)[:, 1])\n",
    "plt.legend(['dark', 'light'])\n",
    "plt.ylabel('Discriminator values')\n",
    "plt.xlabel('Training iterations')\n",
    "plt.show()"
   ]
  },
  {
   "cell_type": "code",
   "execution_count": null,
   "metadata": {},
   "outputs": [],
   "source": [
    "plt.figure(figsize=(10,6))\n",
    "plt.title('Assigned importances for the toy example images over the course of training')\n",
    "plt.plot(example_importances_A)\n",
    "plt.plot(example_importances_B)\n",
    "plt.legend(['Img A with value {} (p={})'.format(offset_A, ratio_A), \n",
    "            'Img A with value {} (p={})'.format(1-offset_A, 1-ratio_A), \n",
    "            'Img B with value {} (p={})'.format(offset_B, ratio_B), \n",
    "            'Img B with value {} (p={})'.format(1-offset_B, 1-ratio_B)])\n",
    "plt.ylabel('Assigned importance')\n",
    "plt.xlabel('Training iterations')\n",
    "plt.show()"
   ]
  },
  {
   "cell_type": "code",
   "execution_count": null,
   "metadata": {},
   "outputs": [],
   "source": [
    "plt.figure(figsize=(10,6))\n",
    "plt.title('Ratio between importances of the same mode')\n",
    "plt.plot(torch.Tensor(example_importances_A)[:, 0]/torch.Tensor(example_importances_B)[:, 0])\n",
    "plt.plot(torch.Tensor(example_importances_A)[:, 1]/torch.Tensor(example_importances_B)[:, 1])\n",
    "plt.legend(['Dark images', 'Light images'])\n",
    "plt.ylabel('Ratio importance')\n",
    "plt.xlabel('Training iterations')\n",
    "plt.show()"
   ]
  },
  {
   "cell_type": "code",
   "execution_count": null,
   "metadata": {},
   "outputs": [],
   "source": [
    "plt.figure(figsize=(10,6))\n",
    "plt.title('Penalties')\n",
    "plt.plot(torch.Tensor(penalties)[:, 0])\n",
    "plt.plot(torch.Tensor(penalties)[:, 1])\n",
    "plt.legend(['A', 'B'])\n",
    "plt.ylabel('Discriminator penalties')\n",
    "plt.xlabel('Training iterations')\n",
    "plt.show()"
   ]
  },
  {
   "cell_type": "code",
   "execution_count": null,
   "metadata": {},
   "outputs": [],
   "source": [
    "plt.figure(figsize=(10,6))\n",
    "plt.title('Variances')\n",
    "plt.plot(torch.Tensor(variances)[:, 0])\n",
    "plt.plot(torch.Tensor(variances)[:, 1])\n",
    "plt.legend(['A', 'B'])\n",
    "plt.ylabel('Generator variance')\n",
    "plt.xlabel('Training iterations')\n",
    "plt.show()"
   ]
  },
  {
   "cell_type": "code",
   "execution_count": null,
   "metadata": {},
   "outputs": [],
   "source": [
    "for img in samples_A:\n",
    "#     visualize_img_batch(img[:64])\n",
    "    plot_hist(img)"
   ]
  },
  {
   "cell_type": "code",
   "execution_count": null,
   "metadata": {},
   "outputs": [],
   "source": [
    "for img in samples_B:\n",
    "#     visualize_img_batch(img[:64])\n",
    "    plot_hist(img)"
   ]
  },
  {
   "cell_type": "code",
   "execution_count": null,
   "metadata": {},
   "outputs": [],
   "source": []
  }
 ],
 "metadata": {
  "kernelspec": {
   "display_name": "Python 3",
   "language": "python",
   "name": "python3"
  },
  "language_info": {
   "codemirror_mode": {
    "name": "ipython",
    "version": 3
   },
   "file_extension": ".py",
   "mimetype": "text/x-python",
   "name": "python",
   "nbconvert_exporter": "python",
   "pygments_lexer": "ipython3",
   "version": "3.7.5"
  }
 },
 "nbformat": 4,
 "nbformat_minor": 2
}
