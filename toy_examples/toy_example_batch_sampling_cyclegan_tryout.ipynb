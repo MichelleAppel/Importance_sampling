{
 "cells": [
  {
   "cell_type": "markdown",
   "metadata": {
    "colab_type": "text",
    "id": "52cjW8XJyxFh"
   },
   "source": [
    "# CycleGAN: toy example\n",
    "This is an toy example that applies importance sampling to CycleGAN.\n",
    "\n",
    "\n",
    "*   Adds the weight network that is trained with G nand D\n",
    "*   Modifies G and D losses by multiplying by w/w*\n",
    "\n"
   ]
  },
  {
   "cell_type": "markdown",
   "metadata": {
    "colab_type": "text",
    "id": "ZMTPNLfctkx-"
   },
   "source": [
    "Old example"
   ]
  },
  {
   "cell_type": "code",
   "execution_count": 1,
   "metadata": {
    "colab": {},
    "colab_type": "code",
    "id": "fnCGmaEmyxFi"
   },
   "outputs": [],
   "source": [
    "import torch\n",
    "import torch.nn as nn\n",
    "import torch.nn.functional as F\n",
    "import torch.optim as optim\n",
    "from torch.utils.data import Dataset, DataLoader\n",
    "from torchvision.utils import make_grid\n",
    "\n",
    "import itertools\n",
    "\n",
    "import matplotlib.pyplot as plt"
   ]
  },
  {
   "cell_type": "markdown",
   "metadata": {
    "colab_type": "text",
    "id": "-DHSK5_-yxFl"
   },
   "source": [
    "### Functions for generation and visualization of the image batches"
   ]
  },
  {
   "cell_type": "code",
   "execution_count": 2,
   "metadata": {
    "colab": {},
    "colab_type": "code",
    "id": "rcpy9PHCyxFm"
   },
   "outputs": [],
   "source": [
    "def visualize_img_batch(batch):\n",
    "    '''Visualizes image batch\n",
    "    \n",
    "    Parameters:\n",
    "    batch (Tensor): An image batch\n",
    "    '''\n",
    "    grid = make_grid(batch, nrow=8, padding=1, normalize=False, range=None, scale_each=False, pad_value=0)\n",
    "    plt.imshow(grid.permute(1,2,0))\n",
    "    plt.show()"
   ]
  },
  {
   "cell_type": "code",
   "execution_count": 3,
   "metadata": {
    "colab": {},
    "colab_type": "code",
    "id": "fZtBjqDMyxFp"
   },
   "outputs": [],
   "source": [
    "def random_image_data(size=(2**21, 3, 1, 1), ratio=0.5, offset=0.2, color=0, std=0):\n",
    "    '''Generates a random image batch \n",
    "    consisting of two modes (dark and light images)\n",
    "    \n",
    "    Parameters:\n",
    "    size (tuple): The dimensions of the image batch (batch_size, channels, width, length)\n",
    "    ratio (float): The ratio of light to dark images\n",
    "    offset (float): The brightness of the images relative to black and bright\n",
    "    color (int): Red = 0, green = 1, blue = 2\n",
    "    std (float): the standard deviation of the noise in the data set\n",
    "    \n",
    "    Returns:\n",
    "    image_batch (Tensor): The generated image batch\n",
    "    \n",
    "    '''\n",
    "    idx = torch.randperm(size[0])[:int(ratio*size[0])] # Randomly choose indices according to the ratio\n",
    "    \n",
    "    m = torch.distributions.normal.Normal(torch.Tensor([0]), torch.ones((int(torch.prod(torch.Tensor(size)))))*std)\n",
    "    \n",
    "    image_batch = torch.zeros(size)\n",
    "    image_batch[:, color] += offset # light color\n",
    "    image_batch[idx, color] = 1 - offset # dark color \n",
    "    \n",
    "    image_batch += m.sample().view(size)\n",
    "    return image_batch.clamp(0, 1).cuda().detach()"
   ]
  },
  {
   "cell_type": "markdown",
   "metadata": {
    "colab_type": "text",
    "id": "xQwz6wIUyxFs"
   },
   "source": [
    "### The dataset class"
   ]
  },
  {
   "cell_type": "code",
   "execution_count": 4,
   "metadata": {
    "colab": {},
    "colab_type": "code",
    "id": "YN-iWRAByxFs"
   },
   "outputs": [],
   "source": [
    "class ColorDataset(Dataset):\n",
    "    '''The dataloader for the color images\n",
    "    '''\n",
    "    def __init__(self, ratio=0.5, offset=0.2, color=0, std=0):\n",
    "        '''  \n",
    "        Parameters:\n",
    "        ratio (float): The ratio of light to dark images\n",
    "        offset (float): The brightness of the images relative to black and bright\n",
    "        color (int): Red = 0, green = 1, blue = 2\n",
    "        std (float): the standard deviation of the noise in the data set\n",
    "        '''\n",
    "        self.offset = offset\n",
    "        self.ratio = ratio\n",
    "        self.color = color\n",
    "        self.std = std\n",
    "        \n",
    "        self.dataset = random_image_data(ratio=self.ratio, \n",
    "                                         offset=self.offset, \n",
    "                                         color=self.color,\n",
    "                                         std=self.std)\n",
    "        self.example_imgs = self.example()\n",
    "        \n",
    "    def example(self):\n",
    "        '''\n",
    "        Returns an example from each mode in the domain\n",
    "        \n",
    "        '''\n",
    "        example_imgs = torch.zeros(size=(2, 3, 1, 1))\n",
    "\n",
    "        example_imgs[0, self.color] += self.offset # light color\n",
    "        example_imgs[1, self.color] = 1 - self.offset # dark color\n",
    "        return example_imgs\n",
    "\n",
    "    def __len__(self):\n",
    "        return len(self.dataset)\n",
    "    \n",
    "    def __getitem__(self, idx):      \n",
    "        return self.dataset[idx]"
   ]
  },
  {
   "cell_type": "markdown",
   "metadata": {
    "colab_type": "text",
    "id": "YLRkmi7tyxFv"
   },
   "source": [
    "### The networks"
   ]
  },
  {
   "cell_type": "code",
   "execution_count": 5,
   "metadata": {
    "colab": {},
    "colab_type": "code",
    "id": "xSUGkSaCyxFw"
   },
   "outputs": [],
   "source": [
    "class Discriminator(nn.Module):\n",
    "    '''A simple joint discriminator network'''\n",
    "\n",
    "    def __init__(self):\n",
    "        super(Discriminator, self).__init__()\n",
    "        self.fc1 = nn.Linear(3, 3)\n",
    "        self.fc2 = nn.Linear(3, 1)\n",
    "        \n",
    "    def forward(self, x):\n",
    "        h1 = torch.sigmoid(self.fc1(x.view(-1, 3)))\n",
    "        out = torch.sigmoid(self.fc2(h1))\n",
    "        return out"
   ]
  },
  {
   "cell_type": "code",
   "execution_count": 6,
   "metadata": {
    "colab": {},
    "colab_type": "code",
    "id": "fsBfxeZkyxFy"
   },
   "outputs": [],
   "source": [
    "class Generator(nn.Module):\n",
    "    '''A simple conditional generator network'''\n",
    "\n",
    "    def __init__(self):\n",
    "        super(Generator, self).__init__()\n",
    "        self.fc1 = nn.Linear(3, 3)\n",
    "        self.fc2 = nn.Linear(3, 3)\n",
    "        \n",
    "    def forward(self, x):\n",
    "        h1 = F.relu(self.fc1(x.view(-1, 3)))\n",
    "        out = torch.sigmoid(self.fc2(h1))\n",
    "        return out.unsqueeze(-1).unsqueeze(-1)"
   ]
  },
  {
   "cell_type": "code",
   "execution_count": 7,
   "metadata": {
    "colab": {},
    "colab_type": "code",
    "id": "fjg7gF1PzoG-"
   },
   "outputs": [],
   "source": [
    "class TrivialWeightNet(nn.Module):\n",
    "    '''A trivial network that predicts the importances of the samples'''\n",
    "\n",
    "    def __init__(self):\n",
    "        super(TrivialWeightNet, self).__init__()\n",
    "        self.fc1 = nn.Linear(1, 1)\n",
    "        \n",
    "    def forward(self, x):\n",
    "        out = torch.ones((x.size()[0], 1))\n",
    "        out /= out.sum()\n",
    "        return out"
   ]
  },
  {
   "cell_type": "code",
   "execution_count": 8,
   "metadata": {
    "colab": {},
    "colab_type": "code",
    "id": "JCGKi5ZERlBp"
   },
   "outputs": [],
   "source": [
    "class WeightNet(nn.Module):\n",
    "    '''A simple network that predicts the importances of the samples'''\n",
    "\n",
    "    def __init__(self):\n",
    "        super(WeightNet, self).__init__()\n",
    "        self.fc1 = nn.Linear(3, 1)\n",
    "        self.fc2 = nn.Linear(1, 1)\n",
    "        self.softmax = nn.Softmax(dim=0)\n",
    "        \n",
    "    def forward(self, x):\n",
    "        h1 = torch.sigmoid(self.fc1(x.view(-1, 3)))\n",
    "        out = self.softmax(self.fc2(h1))\n",
    "        return out"
   ]
  },
  {
   "cell_type": "markdown",
   "metadata": {
    "colab_type": "text",
    "id": "i7z9vE_4yxF1"
   },
   "source": [
    "### A demonstration of the two domains\n",
    "The idea here is that we create two domains: A red and a green domain. The domains consist of two modes: dark and light images. The big assumption here for our purpose is that the dark and light images have semantic correspondance, so for example: dark red will be translated to dark green.\n",
    "\n",
    "We can adjust the intensity of the images (offset) and the ratio of the modes for the experiment. In the visualiztion you can see the elements of the dataset. In the histogram you can see the modes."
   ]
  },
  {
   "cell_type": "code",
   "execution_count": 9,
   "metadata": {
    "colab": {
     "base_uri": "https://localhost:8080/",
     "height": 488
    },
    "colab_type": "code",
    "id": "4jqzuht1yxF2",
    "outputId": "03624f05-128a-471b-ee36-d9afc1d02822"
   },
   "outputs": [
    {
     "data": {
      "image/png": "[encoded data removed]",
      "text/plain": [
       "<Figure size 432x288 with 1 Axes>"
      ]
     },
     "metadata": {
      "needs_background": "light"
     },
     "output_type": "display_data"
    },
    {
     "data": {
      "image/png": "[encoded data removed]",
      "text/plain": [
       "<Figure size 432x288 with 1 Axes>"
      ]
     },
     "metadata": {
      "needs_background": "light"
     },
     "output_type": "display_data"
    }
   ],
   "source": [
    "# Settings for domain A (red)\n",
    "offset_A = 0.25\n",
    "ratio_A = 0.5\n",
    "color_A = 0\n",
    "std_A = 0.01\n",
    "dataset_A = ColorDataset(offset=offset_A, ratio=ratio_A, color=color_A, std=std_A)\n",
    "dataloader_A = DataLoader(dataset_A, batch_size=256, shuffle=True)\n",
    "\n",
    "# Settings for domain B (green)\n",
    "offset_B = 0.25\n",
    "ratio_B = 0.5\n",
    "color_B = 1\n",
    "std_B = 0.01\n",
    "dataset_B = ColorDataset(offset=offset_B, ratio=ratio_B, color=color_B, std=std_B)\n",
    "dataloader_B = DataLoader(dataset_B, batch_size=256, shuffle=True)\n",
    "\n",
    "visualize_img_batch(dataset_A.example_imgs)\n",
    "visualize_img_batch(dataset_B.example_imgs)"
   ]
  },
  {
   "cell_type": "code",
   "execution_count": 10,
   "metadata": {
    "colab": {
     "base_uri": "https://localhost:8080/",
     "height": 577
    },
    "colab_type": "code",
    "id": "79tUblAWyxF5",
    "outputId": "da84fe38-c9e9-4e9b-a072-1acc1f59079f"
   },
   "outputs": [
    {
     "data": {
      "image/png": "[encoded data removed]",
      "text/plain": [
       "<Figure size 432x288 with 1 Axes>"
      ]
     },
     "metadata": {
      "needs_background": "light"
     },
     "output_type": "display_data"
    },
    {
     "data": {
      "image/png": "[encoded data removed]",
      "text/plain": [
       "<Figure size 432x288 with 1 Axes>"
      ]
     },
     "metadata": {
      "needs_background": "light"
     },
     "output_type": "display_data"
    },
    {
     "data": {
      "image/png": "[encoded data removed]",
      "text/plain": [
       "<Figure size 432x288 with 1 Axes>"
      ]
     },
     "metadata": {
      "needs_background": "light"
     },
     "output_type": "display_data"
    },
    {
     "data": {
      "image/png": "[encoded data removed]",
      "text/plain": [
       "<Figure size 432x288 with 1 Axes>"
      ]
     },
     "metadata": {
      "needs_background": "light"
     },
     "output_type": "display_data"
    }
   ],
   "source": [
    "import cv2\n",
    "\n",
    "def plot_hist(data):\n",
    "    data = data.permute(1,0,2,3).view(3,-1).cpu()\n",
    "    for i, c in enumerate(('r', 'g', 'b')):\n",
    "        plt.hist(data[i], weights=torch.ones(len(data[i]))/len(data[i]), \n",
    "                 color=c, bins=100, range= (0, 1))\n",
    "        x_unique_count = torch.stack([(data==x_u).sum() for x_u in data.unique()])\n",
    "    plt.show()\n",
    "\n",
    "for i, (data_A, data_B) in enumerate(zip(dataloader_A, dataloader_B)):\n",
    "#     print('True ratio domain A:', dataloader_A.dataset.ratio)\n",
    "    plot_hist(data_A)\n",
    "#     print('True ratio domain B:', dataloader_B.dataset.ratio)\n",
    "    plot_hist(data_B)\n",
    "    \n",
    "    visualize_img_batch(data_A[:64].cpu())\n",
    "    visualize_img_batch(data_B[:64].cpu())\n",
    "    break"
   ]
  },
  {
   "cell_type": "markdown",
   "metadata": {
    "colab_type": "text",
    "id": "Up6l333KyxF7"
   },
   "source": [
    "## The training loop"
   ]
  },
  {
   "cell_type": "code",
   "execution_count": 12,
   "metadata": {
    "colab": {
     "base_uri": "https://localhost:8080/",
     "height": 293
    },
    "colab_type": "code",
    "id": "k3GHOjm8yxF8",
    "outputId": "59ffe720-ffb0-49a0-f75c-b175e771486d",
    "scrolled": false
   },
   "outputs": [
    {
     "name": "stdout",
     "output_type": "stream",
     "text": [
      "step 0 loss_g 1.0531703233718872 loss_d 0.5593300461769104 loss_w 541.5751953125\n",
      "step 500 loss_g 0.5965633392333984 loss_d 0.4792162775993347 loss_w 0.4330480694770813\n",
      "step 1000 loss_g 0.5482463836669922 loss_d 0.49638617038726807 loss_w 0.02598714642226696\n",
      "step 1500 loss_g 0.5431275367736816 loss_d 0.4997038245201111 loss_w 0.009014725685119629\n",
      "step 2000 loss_g 0.5412435531616211 loss_d 0.5006409883499146 loss_w 0.0008854520274326205\n",
      "step 2500 loss_g 0.5401279330253601 loss_d 0.500487208366394 loss_w 0.0019812998361885548\n",
      "step 3000 loss_g 0.5430786609649658 loss_d 0.49875661730766296 loss_w 0.015294412150979042\n",
      "step 3500 loss_g 0.5573431849479675 loss_d 0.49215608835220337 loss_w 0.7649309039115906\n",
      "step 4000 loss_g 0.5397124290466309 loss_d 0.5133166313171387 loss_w 5.690396308898926\n",
      "step 4500 loss_g 0.5226697325706482 loss_d 0.5204004049301147 loss_w 5.497206211090088\n",
      "step 5000 loss_g 0.629425585269928 loss_d 0.4729568362236023 loss_w 13.823257446289062\n",
      "step 5500 loss_g 0.5562169551849365 loss_d 0.572258710861206 loss_w 11.235272407531738\n",
      "step 6000 loss_g 0.5931837558746338 loss_d 0.4942164123058319 loss_w 0.016088051721453667\n",
      "step 6500 loss_g 0.5809253454208374 loss_d 0.506841778755188 loss_w 8.908292770385742\n",
      "step 7000 loss_g 0.5841730833053589 loss_d 0.5005520582199097 loss_w 2.674211263656616\n",
      "step 7500 loss_g 0.6024082899093628 loss_d 0.48287373781204224 loss_w 1.9676754474639893\n",
      "step 8000 loss_g 0.5920729637145996 loss_d 0.4724844992160797 loss_w 0.26606979966163635\n"
     ]
    }
   ],
   "source": [
    "# Initialize the networks\n",
    "generator_A = Generator().cuda()\n",
    "generator_B = Generator().cuda()\n",
    "discriminator_A = Discriminator().cuda()\n",
    "discriminator_B = Discriminator().cuda()\n",
    "weight_network_A = WeightNet().cuda()\n",
    "weight_network_B = WeightNet().cuda()\n",
    "\n",
    "# Initialize the optimizers\n",
    "optimizer_g = optim.Adam(itertools.chain(generator_A.parameters(),\n",
    "                                         generator_B.parameters()), lr=0.002, betas=(0.5, 0.999))#, lr=0.01)\n",
    "optimizer_d = optim.Adam(itertools.chain(discriminator_A.parameters(),\n",
    "                                         discriminator_B.parameters()), lr=0.002, betas=(0.5, 0.999))#, lr=0.01)\n",
    "optimizer_w = optim.Adam(itertools.chain(weight_network_A.parameters(), \n",
    "                                         weight_network_B.parameters()), lr=0.002, betas=(0.5, 0.999))#, lr=0.01)\n",
    "\n",
    "# Store values\n",
    "samples_A = []\n",
    "samples_B = []\n",
    "\n",
    "losses_g = []\n",
    "losses_d = []\n",
    "losses_w = []\n",
    "\n",
    "Lminusses = []\n",
    "Lplusses = []\n",
    "\n",
    "example_importances_A = []\n",
    "example_importances_B = []\n",
    "\n",
    "criterion_D = nn.MSELoss()\n",
    "criterion_G = nn.MSELoss()\n",
    "criterion_cycle = nn.MSELoss()\n",
    "criterion_L2 = nn.MSELoss()\n",
    "\n",
    "sampled_batch_size = 64 # The amount of images sampled using importance sampling\n",
    "\n",
    "for epoch in range(1):\n",
    "    for i, (data_A, data_B) in enumerate(zip(dataloader_A, dataloader_B)):\n",
    "       \n",
    "        # Set gradients to zero\n",
    "        optimizer_d.zero_grad()\n",
    "        optimizer_g.zero_grad()\n",
    "        optimizer_w.zero_grad()\n",
    "\n",
    "        fake_A = generator_A(data_B)\n",
    "        fake_B = generator_B(data_A)\n",
    "        \n",
    "        # The sampling process ----------------------------------------------------------------------------\n",
    "        # Get the importances for each image in domain A\n",
    "        importances_A = 0.5 * (\n",
    "            torch.sigmoid(weight_network_A(data_A).cuda().squeeze()) + \n",
    "            torch.sigmoid(-weight_network_B(fake_B.detach()).cuda().squeeze()))\n",
    "        \n",
    "        # Get the importances for each image in domain B\n",
    "        importances_B = 0.5 * (\n",
    "            torch.sigmoid(-weight_network_A(fake_A.detach()).cuda().squeeze()) + \n",
    "            torch.sigmoid(weight_network_B(data_B).cuda().squeeze()))\n",
    "        \n",
    "        sampled_idx_A = list( # Sample from batch A according to these importances\n",
    "            torch.utils.data.sampler.WeightedRandomSampler(importances_A, \n",
    "                                                           sampled_batch_size, \n",
    "                                                           replacement=False))\n",
    "\n",
    "        sampled_importances_A = importances_A[sampled_idx_A] # The importances assigned to the smaller batch\n",
    "        real_A = data_A[sampled_idx_A] # The sampled smaller batch A\n",
    "        fake_A = fake_A[sampled_idx_A]\n",
    "\n",
    "        sampled_idx_B = list( # Sample from batch Baccording to these importances\n",
    "            torch.utils.data.sampler.WeightedRandomSampler(importances_B,\n",
    "                                                           sampled_batch_size, \n",
    "                                                           replacement=False))\n",
    "\n",
    "        sampled_importances_B = importances_B[sampled_idx_B] # The importances assigned to the smaller batch\n",
    "        real_B = data_B[sampled_idx_B] # The sampled smaller batch B\n",
    "        fake_B = fake_B[sampled_idx_B]\n",
    "        # --------------------------------------------------------------------------------------------------\n",
    "\n",
    "        # Forward\n",
    "#         fake_A = generator_A(real_B)\n",
    "#         fake_B = generator_B(real_A)\n",
    "        \n",
    "        rec_A = generator_A(fake_B)\n",
    "        rec_B = generator_B(fake_A)\n",
    "        \n",
    "        pred_real_A = discriminator_A(real_A)\n",
    "        pred_real_B = discriminator_B(real_B)\n",
    "        \n",
    "        pred_fake_A = discriminator_A(fake_A.detach())\n",
    "        pred_fake_B = discriminator_B(fake_B.detach())\n",
    "        \n",
    "        # The loss function --------------------------------------------------------------------------------\n",
    "        loss_D_real_A = criterion_D(pred_real_A, torch.ones((pred_real_A.shape)).cuda())\n",
    "        loss_D_real_B = criterion_D(pred_real_B, torch.ones((pred_real_B.shape)).cuda())\n",
    "\n",
    "        loss_D_fake_A = criterion_D(pred_fake_A, torch.zeros((pred_fake_A.shape)).cuda())\n",
    "        loss_D_fake_B = criterion_D(pred_fake_B, torch.zeros((pred_fake_B.shape)).cuda())\n",
    "        \n",
    "        loss_D_A = (((loss_D_real_A + loss_D_fake_A) * 0.5)).cuda()\n",
    "        loss_D_B = (((loss_D_real_B + loss_D_fake_B) * 0.5)).cuda()\n",
    "        \n",
    "        loss_G_A = (criterion_G(discriminator_A(fake_A), torch.ones((pred_fake_A.shape)).cuda()) )\n",
    "        loss_G_B = (criterion_G(discriminator_B(fake_B), torch.ones((pred_fake_A.shape)).cuda()) )\n",
    "        \n",
    "        cycle_A = (criterion_cycle(real_A, rec_A))\n",
    "        cycle_B = (criterion_cycle(real_B, rec_B))\n",
    "        cycle = cycle_A + cycle_B\n",
    "        \n",
    "        loss_d = (loss_D_A + loss_D_B)\n",
    "        loss_g = (loss_G_A + loss_G_B) + cycle\n",
    "\n",
    "        #Loss for the weight network\n",
    "        Lmin  = (loss_G_A.detach() * sampled_importances_A/sampled_importances_A.detach()).sum()\n",
    "        Lplus = (loss_G_B.detach() * sampled_importances_B/sampled_importances_B.detach()).sum()\n",
    "\n",
    "        loss_w = (Lmin - Lplus)**2\n",
    "        # ---------------------------------------------------------------------------------------------------\n",
    "\n",
    "        optimizer_g.zero_grad()\n",
    "        loss_g.backward()\n",
    "        optimizer_g.step()\n",
    "\n",
    "        optimizer_d.zero_grad()\n",
    "        loss_d.backward()\n",
    "        optimizer_d.step()\n",
    "\n",
    "        optimizer_w.zero_grad()\n",
    "        loss_w.backward()\n",
    "        optimizer_w.step()        \n",
    "        \n",
    "        # Store values --------------------------------------------------------------------------------------\n",
    "        losses_g += [loss_g.item()]\n",
    "        losses_d += [loss_d.item()]\n",
    "        losses_w += [loss_w.item()]\n",
    "\n",
    "        Lminusses += [Lmin.item()]\n",
    "        Lplusses += [Lplus.item()]\n",
    "\n",
    "        w_a = weight_network_A(dataset_A.example_imgs.cuda())\n",
    "        w_b = weight_network_B(dataset_B.example_imgs.cuda())\n",
    "        example_importances_A += [(w_a[0].item(), w_a[1].item())] # Store examples in a list\n",
    "        example_importances_B += [(w_b[0].item(), w_b[1].item())] # Store examples in a list\n",
    "        # ---------------------------------------------------------------------------------------------------\n",
    "\n",
    "        # Print statistics\n",
    "        if i % 500 == 0:\n",
    "            samples_A += [fake_A.detach()]\n",
    "            samples_B += [fake_B.detach()]\n",
    "            print('step', i, 'loss_g', loss_g.item(), 'loss_d', loss_d.item(), 'loss_w', loss_w.item())"
   ]
  },
  {
   "cell_type": "code",
   "execution_count": null,
   "metadata": {
    "colab": {
     "base_uri": "https://localhost:8080/",
     "height": 1000
    },
    "colab_type": "code",
    "id": "o1hzA0xoyxF_",
    "outputId": "42606a10-fc85-4cfd-a710-611f1bea3c13"
   },
   "outputs": [],
   "source": [
    "# Some generated images\n",
    "visualize_img_batch(real_A.detach()[:64].cpu())\n",
    "visualize_img_batch(fake_B.detach()[:64].cpu())\n",
    "plot_hist(fake_B.detach().cpu())\n",
    "\n",
    "visualize_img_batch(real_B.detach()[:64].cpu())\n",
    "visualize_img_batch(fake_A.detach()[:64].cpu())\n",
    "plot_hist(fake_A.detach().cpu())"
   ]
  },
  {
   "cell_type": "code",
   "execution_count": null,
   "metadata": {
    "colab": {
     "base_uri": "https://localhost:8080/",
     "height": 403
    },
    "colab_type": "code",
    "id": "GolJG9NuyxGD",
    "outputId": "1566eea1-32c5-4688-b626-2737fcdb225a"
   },
   "outputs": [],
   "source": [
    "plt.figure(figsize=(10,6))\n",
    "plt.title('Losses over iterations')\n",
    "plt.xlabel('Training iterations')\n",
    "plt.ylabel('Loss')\n",
    "plt.plot(losses_g)\n",
    "plt.plot(losses_d)\n",
    "plt.legend(['G', 'D'])\n",
    "plt.show()"
   ]
  },
  {
   "cell_type": "code",
   "execution_count": null,
   "metadata": {
    "colab": {
     "base_uri": "https://localhost:8080/",
     "height": 791
    },
    "colab_type": "code",
    "id": "LwCfbBFh7HzC",
    "outputId": "fcdeb6b1-9150-4a60-94e2-12f96acf1983"
   },
   "outputs": [],
   "source": [
    "plt.figure(figsize=(10,6))\n",
    "plt.title('w loss over iterations')\n",
    "plt.xlabel('Training iterations')\n",
    "plt.ylabel('Loss')\n",
    "plt.plot(losses_w)\n",
    "plt.legend(['W'])\n",
    "plt.show()\n",
    "\n",
    "plt.figure(figsize=(10,6))\n",
    "plt.title('L- and L+ over iterations')\n",
    "plt.xlabel('Training iterations')\n",
    "plt.ylabel('Loss')\n",
    "plt.plot(Lminusses)\n",
    "plt.plot(Lplusses)\n",
    "plt.legend(['Lmin', 'Lplus'])\n",
    "plt.show()"
   ]
  },
  {
   "cell_type": "code",
   "execution_count": null,
   "metadata": {
    "colab": {
     "base_uri": "https://localhost:8080/",
     "height": 403
    },
    "colab_type": "code",
    "id": "4AwNAkYN7VkB",
    "outputId": "3916f9fe-8564-4a4b-b7a1-aa9115688dcf"
   },
   "outputs": [],
   "source": [
    "plt.figure(figsize=(10,6))\n",
    "plt.title('Assigned importances for the toy example images over the course of training')\n",
    "plt.plot(example_importances_A)\n",
    "plt.plot(example_importances_B)\n",
    "plt.legend(['Img A with value {} (p={})'.format(offset_A, ratio_A), \n",
    "            'Img A with value {} (p={})'.format(1-offset_A, 1-ratio_A), \n",
    "            'Img B with value {} (p={})'.format(offset_B, ratio_B), \n",
    "            'Img B with value {} (p={})'.format(1-offset_B, 1-ratio_B)])\n",
    "plt.xlabel('Assigned importance')\n",
    "plt.ylabel('Training iterations')\n",
    "plt.show()"
   ]
  },
  {
   "cell_type": "code",
   "execution_count": null,
   "metadata": {
    "colab": {
     "base_uri": "https://localhost:8080/",
     "height": 1000
    },
    "colab_type": "code",
    "id": "liOsLRu8yxGF",
    "outputId": "7fb3e3bb-f288-4c1d-a560-1123149ee6da",
    "scrolled": false
   },
   "outputs": [],
   "source": [
    "for img in samples_B:\n",
    "    visualize_img_batch(img[:64].cpu())"
   ]
  },
  {
   "cell_type": "code",
   "execution_count": null,
   "metadata": {
    "colab": {},
    "colab_type": "code",
    "id": "NuMaOrA8yxGI"
   },
   "outputs": [],
   "source": []
  }
 ],
 "metadata": {
  "colab": {
   "name": "toy_example_batch_sampling_cyclegan.ipynb",
   "provenance": []
  },
  "kernelspec": {
   "display_name": "Python 3",
   "language": "python",
   "name": "python3"
  },
  "language_info": {
   "codemirror_mode": {
    "name": "ipython",
    "version": 3
   },
   "file_extension": ".py",
   "mimetype": "text/x-python",
   "name": "python",
   "nbconvert_exporter": "python",
   "pygments_lexer": "ipython3",
   "version": "3.7.5"
  }
 },
 "nbformat": 4,
 "nbformat_minor": 1
}
