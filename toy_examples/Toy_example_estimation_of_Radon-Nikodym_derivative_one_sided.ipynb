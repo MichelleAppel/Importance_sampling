{
 "cells": [
  {
   "cell_type": "markdown",
   "metadata": {
    "colab_type": "text",
    "id": "6J5y6SbAJaMS"
   },
   "source": [
    "# Toy example estimation of Radon-Nikodym derivative (one sided)"
   ]
  },
  {
   "cell_type": "markdown",
   "metadata": {
    "colab_type": "text",
    "id": "LUEg3hsSJaMT"
   },
   "source": [
    "Equation (5) of the paper by Binkowski et al. explains that the Radon-Nikodym derivative $\\frac{d \\mathbb{Q}_y}{ \\mathbb{P}_y^G}$ of the two domains exist under the assumptions they state. This derivative can also be seen as the ratio between the two distributions of the domains, and can be used to express the compensation for imbalance in the domains:\n",
    "\n",
    "$\\mathbb{E}_{Y \\sim \\mathbb{Q}_y}[D(Y)] = \\mathbb{E}_{X \\sim \\mathbb{P}_x}[D(G(X)) \\frac{d \\mathbb{Q}_y}{ d\\mathbb{P}_y^G}(G(X))]$\n",
    "\n",
    "This expresses compensation for imbalance between the discriminator outputs, caused by the imbalance in the domain distributions. However, it does not necessarily have to be used for the imbalance in the discriminator outputs. It can be applied to any imbalance caused by the different domain distributions.\n",
    "\n",
    "The following toy example shows how we can use the Radon-Nikodym derivative for compensating the imbalance for the mean of the domains using $\\bar{Y} = \\bar{X}\\frac{d \\mathbb{Q}_y}{d \\mathbb{P}_x}$.\n",
    "\n",
    "\n",
    "Let $X = [1, 1, 1, 1, 1, 1, 1, 0, 0]$, with mean $\\bar{X} = 0.8$ and <br />\n",
    "Let $Y = [1, 1, 0, 0, 0, 0, 0, 0, 0]$, with mean $\\bar{Y} = 0.2$\n",
    "\n",
    "Then $[1, 1, 0, 0, 0, 0, 0, 0, 0] = [1, 1, 1, 1, 1, 1, 1, 0, 0] \\cdot \\frac{d \\mathbb{Q}_y}{d \\mathbb{P}_x}(X)$, and <br />\n",
    "$\\frac{d \\mathbb{Q}_y}{d \\mathbb{P}_x}(X) = [0.25, 0.25, 0.25, 0.25, 0.25, 0.25, 0.25, 4, 4]$\n",
    "\n",
    "This can be interpreted as the ratio between means of the domains for each of the samples. In this example the ratio can be calculated. However, in more complex situations, for example with images, the Radon-Nykodym derivative $\\frac{d \\mathbb{Q}_y}{d \\mathbb{P}_x}$ is unknown and we may try to estimate it using a neural network $W$. This leads to the objective function\n",
    "\n",
    "$\\inf_{W \\in \\mathcal{W}} (\\mathbb{E}_{X \\sim \\mathbb{P}_x} [D(G(X)) \\cdot W(X)] - \\mathbb{E}_{Y \\sim \\mathbb{Q}_y}[D(Y)])^2$\n",
    "\n",
    "used by Binkowski et al. for compensation of distributions in the domains, using the discriminator output. Similarly, we can use such a network in our toy example."
   ]
  },
  {
   "cell_type": "code",
   "execution_count": 6,
   "metadata": {
    "colab": {},
    "colab_type": "code",
    "id": "siUNmu07JaMT"
   },
   "outputs": [],
   "source": [
    "import torch\n",
    "import torch.nn as nn\n",
    "import torch.nn.functional as F\n",
    "import torch.optim as optim\n",
    "from torch.utils.data import Dataset, DataLoader\n",
    "from torchvision.utils import make_grid\n",
    "\n",
    "import itertools\n",
    "\n",
    "import matplotlib.pyplot as plt"
   ]
  },
  {
   "cell_type": "code",
   "execution_count": 7,
   "metadata": {
    "colab": {},
    "colab_type": "code",
    "id": "FrWt3LBZJaMX"
   },
   "outputs": [],
   "source": [
    "def visualize_img_batch(batch):\n",
    "    '''Visualizes image batch\n",
    "    \n",
    "    Parameters:\n",
    "    batch (Tensor): An image batch\n",
    "    '''\n",
    "    grid = make_grid(batch.unsqueeze(1).unsqueeze(1).cpu(), nrow=8, padding=1, normalize=False, range=None, scale_each=False, pad_value=0.5)\n",
    "    plt.imshow(grid.permute(1,2,0))\n",
    "    plt.show()"
   ]
  },
  {
   "cell_type": "code",
   "execution_count": 8,
   "metadata": {
    "colab": {},
    "colab_type": "code",
    "id": "S4mfJzmXJaMa"
   },
   "outputs": [],
   "source": [
    "def binary_data(size=(2**21, 1), ratio=0.5):\n",
    "    \n",
    "    idx = torch.randperm(size[0])[:int(ratio*size[0])] # Randomly choose indices according to the ratio\n",
    "\n",
    "    image_batch = torch.zeros(size)\n",
    "    image_batch[idx] = 1\n",
    "    \n",
    "    return image_batch.clamp(0, 1).cuda().detach()"
   ]
  },
  {
   "cell_type": "code",
   "execution_count": 9,
   "metadata": {
    "colab": {},
    "colab_type": "code",
    "id": "cYv7UIwcJaMc"
   },
   "outputs": [],
   "source": [
    "class ColorDataset(Dataset):\n",
    "    '''The dataloader for the binary data\n",
    "    '''\n",
    "    def __init__(self, ratio=0.5):\n",
    "\n",
    "        self.ratio = ratio\n",
    "        \n",
    "        self.dataset = binary_data(ratio=self.ratio)\n",
    "        \n",
    "        self.example_imgs = self.example()\n",
    "        \n",
    "    def example(self):\n",
    "        '''\n",
    "        Returns an example from each mode in the domain\n",
    "        \n",
    "        '''\n",
    "        example_imgs = torch.zeros(size=(2, 1))\n",
    "        example_imgs[1] = 1\n",
    "        \n",
    "        return example_imgs\n",
    "\n",
    "    def __len__(self):\n",
    "        return len(self.dataset)\n",
    "    \n",
    "    def __getitem__(self, idx):      \n",
    "        return self.dataset[idx]"
   ]
  },
  {
   "cell_type": "code",
   "execution_count": 10,
   "metadata": {
    "colab": {},
    "colab_type": "code",
    "id": "prbVAeT_JaMf",
    "outputId": "47c76e4a-16a6-40a5-f0a4-cb42e495da1e"
   },
   "outputs": [
    {
     "data": {
      "image/png": "[encoded data removed]",
      "text/plain": [
       "<Figure size 432x288 with 1 Axes>"
      ]
     },
     "metadata": {
      "needs_background": "light"
     },
     "output_type": "display_data"
    },
    {
     "data": {
      "image/png": "[encoded data removed]",
      "text/plain": [
       "<Figure size 432x288 with 1 Axes>"
      ]
     },
     "metadata": {
      "needs_background": "light"
     },
     "output_type": "display_data"
    }
   ],
   "source": [
    "# Settings for domain A (red)\n",
    "ratio_A = 0.2\n",
    "dataset_A = ColorDataset(ratio=ratio_A)\n",
    "dataloader_A = DataLoader(dataset_A, batch_size=256, shuffle=True)\n",
    "\n",
    "# Settings for domain B (green)\n",
    "ratio_B = 0.8\n",
    "dataset_B = ColorDataset(ratio=ratio_B)\n",
    "dataloader_B = DataLoader(dataset_B, batch_size=256, shuffle=True)\n",
    "\n",
    "visualize_img_batch(dataset_A.example_imgs)\n",
    "visualize_img_batch(dataset_B.example_imgs)"
   ]
  },
  {
   "cell_type": "code",
   "execution_count": 11,
   "metadata": {
    "colab": {},
    "colab_type": "code",
    "id": "hlPSWnigJaMi",
    "outputId": "cfc6efd4-44b2-4ada-8e6a-7d386b1ff9eb"
   },
   "outputs": [
    {
     "name": "stdout",
     "output_type": "stream",
     "text": [
      "256\n"
     ]
    },
    {
     "data": {
      "image/png": "[encoded data removed]",
      "text/plain": [
       "<Figure size 432x288 with 1 Axes>"
      ]
     },
     "metadata": {
      "needs_background": "light"
     },
     "output_type": "display_data"
    },
    {
     "data": {
      "image/png": "[encoded data removed]",
      "text/plain": [
       "<Figure size 432x288 with 1 Axes>"
      ]
     },
     "metadata": {
      "needs_background": "light"
     },
     "output_type": "display_data"
    },
    {
     "data": {
      "image/png": "[encoded data removed]",
      "text/plain": [
       "<Figure size 432x288 with 1 Axes>"
      ]
     },
     "metadata": {
      "needs_background": "light"
     },
     "output_type": "display_data"
    },
    {
     "data": {
      "image/png": "[encoded data removed]",
      "text/plain": [
       "<Figure size 432x288 with 1 Axes>"
      ]
     },
     "metadata": {
      "needs_background": "light"
     },
     "output_type": "display_data"
    }
   ],
   "source": [
    "import cv2\n",
    "\n",
    "def plot_hist(data):\n",
    "    data = data.squeeze().cpu()\n",
    "    plt.hist(data[data==1], weights=torch.ones(len(data[data==1]))/len(data), \n",
    "             color='black', bins=10, range= (0, 1))\n",
    "    plt.hist(data[data==0], weights=torch.ones(len(data[data==0]))/len(data), \n",
    "             color='white', bins=10, range= (0, 1))\n",
    "    plt.gca().set_facecolor('xkcd:gray')\n",
    "    x_unique_count = torch.stack([(data==x_u).sum() for x_u in data.unique()])\n",
    "    plt.show()\n",
    "\n",
    "for i, (data_A, data_B) in enumerate(zip(dataloader_A, dataloader_B)):\n",
    "    print(len(data_A))\n",
    "    plot_hist(data_A)\n",
    "    plot_hist(data_B)\n",
    "    \n",
    "    visualize_img_batch(data_A[:64])\n",
    "    visualize_img_batch(data_B[:64])\n",
    "    break"
   ]
  },
  {
   "cell_type": "code",
   "execution_count": 12,
   "metadata": {
    "colab": {},
    "colab_type": "code",
    "id": "Xzr1OIyoJaMl"
   },
   "outputs": [],
   "source": [
    "class WeightNet(nn.Module):\n",
    "    '''A simple network that predicts the importances of the samples'''\n",
    "\n",
    "    def __init__(self):\n",
    "        super(WeightNet, self).__init__()\n",
    "        self.fc1 = nn.Linear(1, 1)\n",
    "        self.fc2 = nn.Linear(1, 1)\n",
    "        self.softmax = nn.Softmax(dim=0)\n",
    "        \n",
    "    def forward(self, x):\n",
    "        h1 = torch.sigmoid(self.fc1(x))\n",
    "        out = self.fc2(h1)\n",
    "        return self.softmax(out)\n",
    "#         return out"
   ]
  },
  {
   "cell_type": "code",
   "execution_count": 29,
   "metadata": {
    "colab": {},
    "colab_type": "code",
    "id": "mzq2m9j-JaMp",
    "outputId": "10601ee1-383a-426c-a6be-c6b862330f8a"
   },
   "outputs": [
    {
     "name": "stdout",
     "output_type": "stream",
     "text": [
      "step 0 loss_w:  0.3668520152568817\n",
      "step 500 loss_w:  0.0012489332584664226\n",
      "step 1000 loss_w:  0.0015715903136879206\n",
      "step 1500 loss_w:  0.00023683493782300502\n",
      "step 2000 loss_w:  4.141583360706136e-07\n",
      "step 2500 loss_w:  5.914270877838135e-05\n",
      "step 3000 loss_w:  0.00018981113680638373\n",
      "step 3500 loss_w:  0.0001306223130086437\n",
      "step 4000 loss_w:  0.0015926145715638995\n",
      "step 4500 loss_w:  0.0016284752637147903\n",
      "step 5000 loss_w:  8.976193203125149e-05\n"
     ]
    }
   ],
   "source": [
    "# Initialize the networks\n",
    "weight_network = WeightNet().cuda()\n",
    "\n",
    "# Initialize the optimizers\n",
    "lr = 0.01\n",
    "optimizer_w = optim.Adam(weight_network.parameters(), lr=lr)\n",
    "\n",
    "losses_w = []\n",
    "\n",
    "mean_A = []\n",
    "mean_B = []\n",
    "\n",
    "L_As = []\n",
    "L_Bs = []\n",
    "\n",
    "example_importances_A = []\n",
    "example_importances_B = []\n",
    "\n",
    "def weight_normalization(w):\n",
    "    return w\n",
    "#     return 0.5*(1 + w)\n",
    "\n",
    "for epoch in range(1):\n",
    "    for i, (real_A, real_B) in enumerate(zip(dataloader_A, dataloader_B)):\n",
    "#         real_A = torch.Tensor([1,1,0,0,0,0,0,0,0,0]).cuda().view(-1, 1).detach()\n",
    "#         real_B = torch.Tensor([1,1,1,1,1,1,1,1,0,0]).cuda().view(-1, 1).detach()\n",
    "\n",
    "        # The weighting process\n",
    "        w = weight_network(real_A)\n",
    "    \n",
    "        # The loss function --------------------------------------------------------------------------------\n",
    "        \n",
    "        # Using the means as objective function\n",
    "        L_A  = (real_A * weight_normalization(w)).sum()\n",
    "        L_B = (real_B).mean()\n",
    "        loss_w = (L_A - L_B)**2\n",
    "        \n",
    "        mean_A += [real_A.mean()]\n",
    "        mean_B += [real_B.mean()]\n",
    "\n",
    "        # ---------------------------------------------------------------------------------------------------\n",
    "\n",
    "        # Backward\n",
    "        optimizer_w.zero_grad()\n",
    "        loss_w.backward()\n",
    "        optimizer_w.step()   \n",
    "\n",
    "        # Store values --------------------------------------------------------------------------------------\n",
    "        L_As += [L_A.item()]\n",
    "        L_Bs += [L_B.item()]\n",
    "        \n",
    "        losses_w += [loss_w.item()]\n",
    "        \n",
    "        w_a = weight_normalization((weight_network(dataset_A.example_imgs.view(-1,1).cuda())))\n",
    "        example_importances_A += [(w_a[0].item(), w_a[1].item())] # Store examples in a list\n",
    "\n",
    "        # ---------------------------------------------------------------------------------------------------\n",
    "\n",
    "        # Print statistics\n",
    "        if i % 500 == 0:\n",
    "            print('step', i, 'loss_w: ', loss_w.item())\n",
    "            \n",
    "        if i % 5000 == 0 and i != 0:\n",
    "            break"
   ]
  },
  {
   "cell_type": "code",
   "execution_count": 30,
   "metadata": {},
   "outputs": [
    {
     "data": {
      "text/plain": [
       "tensor([[0.0009],\n",
       "        [0.0009],\n",
       "        [0.0009],\n",
       "        [0.0009],\n",
       "        [0.0009],\n",
       "        [0.0009],\n",
       "        [0.0009],\n",
       "        [0.0009],\n",
       "        [0.0009],\n",
       "        [0.0009],\n",
       "        [0.0009],\n",
       "        [0.0009],\n",
       "        [0.0009],\n",
       "        [0.0157],\n",
       "        [0.0009],\n",
       "        [0.0009],\n",
       "        [0.0009],\n",
       "        [0.0009],\n",
       "        [0.0009],\n",
       "        [0.0157],\n",
       "        [0.0009],\n",
       "        [0.0009],\n",
       "        [0.0157],\n",
       "        [0.0009],\n",
       "        [0.0157],\n",
       "        [0.0009],\n",
       "        [0.0009],\n",
       "        [0.0009],\n",
       "        [0.0009],\n",
       "        [0.0009],\n",
       "        [0.0009],\n",
       "        [0.0009],\n",
       "        [0.0009],\n",
       "        [0.0009],\n",
       "        [0.0009],\n",
       "        [0.0009],\n",
       "        [0.0009],\n",
       "        [0.0009],\n",
       "        [0.0009],\n",
       "        [0.0009],\n",
       "        [0.0009],\n",
       "        [0.0009],\n",
       "        [0.0157],\n",
       "        [0.0009],\n",
       "        [0.0009],\n",
       "        [0.0157],\n",
       "        [0.0009],\n",
       "        [0.0009],\n",
       "        [0.0009],\n",
       "        [0.0009],\n",
       "        [0.0157],\n",
       "        [0.0009],\n",
       "        [0.0009],\n",
       "        [0.0009],\n",
       "        [0.0009],\n",
       "        [0.0009],\n",
       "        [0.0157],\n",
       "        [0.0009],\n",
       "        [0.0157],\n",
       "        [0.0009],\n",
       "        [0.0009],\n",
       "        [0.0009],\n",
       "        [0.0009],\n",
       "        [0.0009],\n",
       "        [0.0157],\n",
       "        [0.0157],\n",
       "        [0.0009],\n",
       "        [0.0009],\n",
       "        [0.0009],\n",
       "        [0.0009],\n",
       "        [0.0009],\n",
       "        [0.0009],\n",
       "        [0.0009],\n",
       "        [0.0009],\n",
       "        [0.0009],\n",
       "        [0.0157],\n",
       "        [0.0009],\n",
       "        [0.0009],\n",
       "        [0.0157],\n",
       "        [0.0009],\n",
       "        [0.0009],\n",
       "        [0.0009],\n",
       "        [0.0009],\n",
       "        [0.0009],\n",
       "        [0.0009],\n",
       "        [0.0009],\n",
       "        [0.0157],\n",
       "        [0.0157],\n",
       "        [0.0157],\n",
       "        [0.0009],\n",
       "        [0.0009],\n",
       "        [0.0009],\n",
       "        [0.0009],\n",
       "        [0.0157],\n",
       "        [0.0157],\n",
       "        [0.0009],\n",
       "        [0.0009],\n",
       "        [0.0009],\n",
       "        [0.0009],\n",
       "        [0.0009],\n",
       "        [0.0009],\n",
       "        [0.0009],\n",
       "        [0.0009],\n",
       "        [0.0157],\n",
       "        [0.0009],\n",
       "        [0.0009],\n",
       "        [0.0009],\n",
       "        [0.0157],\n",
       "        [0.0009],\n",
       "        [0.0157],\n",
       "        [0.0009],\n",
       "        [0.0009],\n",
       "        [0.0009],\n",
       "        [0.0157],\n",
       "        [0.0157],\n",
       "        [0.0009],\n",
       "        [0.0009],\n",
       "        [0.0009],\n",
       "        [0.0009],\n",
       "        [0.0157],\n",
       "        [0.0009],\n",
       "        [0.0009],\n",
       "        [0.0009],\n",
       "        [0.0157],\n",
       "        [0.0009],\n",
       "        [0.0009],\n",
       "        [0.0009],\n",
       "        [0.0009],\n",
       "        [0.0009],\n",
       "        [0.0009],\n",
       "        [0.0157],\n",
       "        [0.0009],\n",
       "        [0.0157],\n",
       "        [0.0009],\n",
       "        [0.0009],\n",
       "        [0.0157],\n",
       "        [0.0009],\n",
       "        [0.0009],\n",
       "        [0.0009],\n",
       "        [0.0009],\n",
       "        [0.0009],\n",
       "        [0.0009],\n",
       "        [0.0009],\n",
       "        [0.0009],\n",
       "        [0.0009],\n",
       "        [0.0157],\n",
       "        [0.0009],\n",
       "        [0.0009],\n",
       "        [0.0009],\n",
       "        [0.0157],\n",
       "        [0.0157],\n",
       "        [0.0009],\n",
       "        [0.0157],\n",
       "        [0.0009],\n",
       "        [0.0009],\n",
       "        [0.0157],\n",
       "        [0.0009],\n",
       "        [0.0157],\n",
       "        [0.0009],\n",
       "        [0.0009],\n",
       "        [0.0009],\n",
       "        [0.0157],\n",
       "        [0.0009],\n",
       "        [0.0009],\n",
       "        [0.0009],\n",
       "        [0.0009],\n",
       "        [0.0009],\n",
       "        [0.0009],\n",
       "        [0.0009],\n",
       "        [0.0009],\n",
       "        [0.0009],\n",
       "        [0.0009],\n",
       "        [0.0009],\n",
       "        [0.0009],\n",
       "        [0.0009],\n",
       "        [0.0009],\n",
       "        [0.0009],\n",
       "        [0.0009],\n",
       "        [0.0009],\n",
       "        [0.0009],\n",
       "        [0.0009],\n",
       "        [0.0009],\n",
       "        [0.0009],\n",
       "        [0.0009],\n",
       "        [0.0009],\n",
       "        [0.0009],\n",
       "        [0.0009],\n",
       "        [0.0157],\n",
       "        [0.0009],\n",
       "        [0.0157],\n",
       "        [0.0009],\n",
       "        [0.0009],\n",
       "        [0.0009],\n",
       "        [0.0157],\n",
       "        [0.0157],\n",
       "        [0.0009],\n",
       "        [0.0009],\n",
       "        [0.0009],\n",
       "        [0.0157],\n",
       "        [0.0009],\n",
       "        [0.0009],\n",
       "        [0.0009],\n",
       "        [0.0009],\n",
       "        [0.0009],\n",
       "        [0.0009],\n",
       "        [0.0009],\n",
       "        [0.0009],\n",
       "        [0.0009],\n",
       "        [0.0157],\n",
       "        [0.0009],\n",
       "        [0.0009],\n",
       "        [0.0009],\n",
       "        [0.0157],\n",
       "        [0.0009],\n",
       "        [0.0009],\n",
       "        [0.0009],\n",
       "        [0.0009],\n",
       "        [0.0009],\n",
       "        [0.0009],\n",
       "        [0.0009],\n",
       "        [0.0009],\n",
       "        [0.0009],\n",
       "        [0.0157],\n",
       "        [0.0157],\n",
       "        [0.0157],\n",
       "        [0.0009],\n",
       "        [0.0009],\n",
       "        [0.0009],\n",
       "        [0.0009],\n",
       "        [0.0157],\n",
       "        [0.0009],\n",
       "        [0.0009],\n",
       "        [0.0009],\n",
       "        [0.0009],\n",
       "        [0.0009],\n",
       "        [0.0009],\n",
       "        [0.0009],\n",
       "        [0.0157],\n",
       "        [0.0009],\n",
       "        [0.0009],\n",
       "        [0.0157],\n",
       "        [0.0009],\n",
       "        [0.0009],\n",
       "        [0.0009],\n",
       "        [0.0157],\n",
       "        [0.0157],\n",
       "        [0.0009],\n",
       "        [0.0009],\n",
       "        [0.0009],\n",
       "        [0.0157],\n",
       "        [0.0009],\n",
       "        [0.0009],\n",
       "        [0.0009],\n",
       "        [0.0009],\n",
       "        [0.0009],\n",
       "        [0.0157]], device='cuda:0', grad_fn=<SoftmaxBackward>)"
      ]
     },
     "execution_count": 30,
     "metadata": {},
     "output_type": "execute_result"
    }
   ],
   "source": [
    "w"
   ]
  },
  {
   "cell_type": "code",
   "execution_count": 31,
   "metadata": {
    "colab": {},
    "colab_type": "code",
    "id": "odfL4hdUJaMr",
    "outputId": "2e24c049-4d84-4aa1-ef46-83f04ef1e01b"
   },
   "outputs": [
    {
     "data": {
      "image/png": "[encoded data removed]",
      "text/plain": [
       "<Figure size 720x432 with 1 Axes>"
      ]
     },
     "metadata": {
      "needs_background": "light"
     },
     "output_type": "display_data"
    }
   ],
   "source": [
    "plt.figure(figsize=(10,6))\n",
    "plt.title('Losses over iterations')\n",
    "plt.xlabel('Training iterations')\n",
    "plt.ylabel('Loss')\n",
    "# plt.yscale('symlog')\n",
    "plt.plot(losses_w)\n",
    "plt.legend(['W'])\n",
    "plt.show()"
   ]
  },
  {
   "cell_type": "code",
   "execution_count": 32,
   "metadata": {
    "colab": {},
    "colab_type": "code",
    "id": "PJuq-bwQJaMt",
    "outputId": "aab011a9-69fa-40c6-fedf-263fdcc53761"
   },
   "outputs": [
    {
     "data": {
      "image/png": "[encoded data removed]",
      "text/plain": [
       "<Figure size 720x432 with 1 Axes>"
      ]
     },
     "metadata": {
      "needs_background": "light"
     },
     "output_type": "display_data"
    }
   ],
   "source": [
    "plt.figure(figsize=(10,6))\n",
    "plt.title('Losses over iterations')\n",
    "plt.xlabel('Training iterations')\n",
    "plt.ylabel('Loss')\n",
    "plt.plot(L_As)\n",
    "plt.plot(L_Bs)\n",
    "plt.legend(['L_A', 'L_B'])\n",
    "plt.show()"
   ]
  },
  {
   "cell_type": "code",
   "execution_count": 34,
   "metadata": {
    "colab": {},
    "colab_type": "code",
    "id": "Y_mNJOz7JaMw",
    "outputId": "1c1b5e10-af08-4a3a-bff2-f74b1b620f8b"
   },
   "outputs": [
    {
     "data": {
      "image/png": "[encoded data removed]",
      "text/plain": [
       "<Figure size 720x432 with 1 Axes>"
      ]
     },
     "metadata": {
      "needs_background": "light"
     },
     "output_type": "display_data"
    },
    {
     "data": {
      "text/plain": [
       "(0.05494067817926407, 0.9450592994689941)"
      ]
     },
     "execution_count": 34,
     "metadata": {},
     "output_type": "execute_result"
    }
   ],
   "source": [
    "plt.figure(figsize=(10,6))\n",
    "plt.title('Assigned importances for the toy example images over the course of training')\n",
    "plt.plot(example_importances_A)\n",
    "plt.legend(['Img A with value {} (p={})'.format(0, ratio_A), \n",
    "            'Img A with value {} (p={})'.format(1, 1-ratio_A)])\n",
    "plt.ylabel('Assigned importance')\n",
    "plt.xlabel('Training iterations')\n",
    "plt.show()\n",
    "\n",
    "example_importances_A[-1]"
   ]
  },
  {
   "cell_type": "code",
   "execution_count": 17,
   "metadata": {},
   "outputs": [],
   "source": [
    "a,b = (0.055911172181367874, 0.944088876247406)"
   ]
  },
  {
   "cell_type": "code",
   "execution_count": 18,
   "metadata": {},
   "outputs": [
    {
     "data": {
      "text/plain": [
       "(0.0447289377450943, 0.1888177752494812)"
      ]
     },
     "execution_count": 18,
     "metadata": {},
     "output_type": "execute_result"
    }
   ],
   "source": [
    "a*0.8, b*0.2"
   ]
  },
  {
   "cell_type": "code",
   "execution_count": 19,
   "metadata": {
    "colab": {},
    "colab_type": "code",
    "id": "PaxHb0AEJaMy",
    "outputId": "0fd27e7c-5220-40d1-d11a-e4c4542729d9"
   },
   "outputs": [
    {
     "data": {
      "image/png": "[encoded data removed]",
      "text/plain": [
       "<Figure size 720x432 with 1 Axes>"
      ]
     },
     "metadata": {
      "needs_background": "light"
     },
     "output_type": "display_data"
    }
   ],
   "source": [
    "weights = weight_network(torch.linspace(0, 1, 64).view(-1,1).cuda()).cpu().detach().numpy()\n",
    "plt.figure(figsize=(10,6))\n",
    "plt.title('Assigned importances for image values')\n",
    "plt.plot(torch.linspace(0, 1, 64), weights)\n",
    "plt.ylabel('Assigned importance')\n",
    "plt.xlabel('Image value')\n",
    "plt.show()"
   ]
  },
  {
   "cell_type": "code",
   "execution_count": 20,
   "metadata": {
    "colab": {},
    "colab_type": "code",
    "id": "FRC7j9BYJaM1",
    "outputId": "27fb0feb-d215-4cbf-e66e-81d5c28dff69"
   },
   "outputs": [
    {
     "data": {
      "text/plain": [
       "(0.058823585510253906, 0.9411764740943909)"
      ]
     },
     "execution_count": 20,
     "metadata": {},
     "output_type": "execute_result"
    }
   ],
   "source": [
    "a = example_importances_A[-1][0]\n",
    "b = example_importances_A[-1][1]\n",
    "a, b"
   ]
  },
  {
   "cell_type": "code",
   "execution_count": 21,
   "metadata": {
    "colab": {},
    "colab_type": "code",
    "id": "8rTofkmfJaM3",
    "outputId": "b8eaa40c-d2e4-4795-8d64-2b59cb19377b"
   },
   "outputs": [
    {
     "data": {
      "text/plain": [
       "(0.06250005937181391, 0.0625)"
      ]
     },
     "execution_count": 21,
     "metadata": {},
     "output_type": "execute_result"
    }
   ],
   "source": [
    "# We find that the ratio is equal\n",
    "a/b, ratio_A**2/ratio_B**2"
   ]
  },
  {
   "cell_type": "markdown",
   "metadata": {
    "colab_type": "text",
    "id": "vQ7AV_FzJifl"
   },
   "source": [
    "**NOTE**:\n",
    "We find that these two ratios are equal if we use a \"perfect\" dataset, i.e. setting the batches in the training loop to:\n",
    "\n",
    "real_A = torch.Tensor([1,1,0,0,0,0,0,0,0,0]).cuda().view(-1, 1).detach()\n",
    "\n",
    "real_B = torch.Tensor([1,1,1,1,1,1,1,1,0,0]).cuda().view(-1, 1).detach()\n",
    "\n",
    "If we use a dataset that involves drawing the batches randomly, then some noise/randomness is added and we have a slightly different value."
   ]
  },
  {
   "cell_type": "code",
   "execution_count": 22,
   "metadata": {
    "colab": {},
    "colab_type": "code",
    "id": "cgqHEBQZJaM5",
    "outputId": "2e60d3f1-2b7a-4803-9db5-523e8a04622d"
   },
   "outputs": [
    {
     "name": "stdout",
     "output_type": "stream",
     "text": [
      "0.25\n",
      "4.0\n"
     ]
    }
   ],
   "source": [
    "print(ratio_A/ratio_B)\n",
    "print(ratio_B/ratio_A)"
   ]
  },
  {
   "cell_type": "code",
   "execution_count": 23,
   "metadata": {
    "colab": {},
    "colab_type": "code",
    "id": "M3wuEfOwJaM7",
    "outputId": "0433d425-fb42-43c8-d47f-95a3988a6380"
   },
   "outputs": [
    {
     "data": {
      "image/png": "[encoded data removed]",
      "text/plain": [
       "<Figure size 720x432 with 1 Axes>"
      ]
     },
     "metadata": {
      "needs_background": "light"
     },
     "output_type": "display_data"
    }
   ],
   "source": [
    "plt.figure(figsize=(10,6))\n",
    "plt.title('Losses over iterations')\n",
    "plt.xlabel('Training iterations')\n",
    "plt.ylabel('Mean')\n",
    "plt.plot(mean_A)\n",
    "plt.plot(mean_B)\n",
    "plt.legend(['mean_A', 'mean_B'])\n",
    "plt.show()"
   ]
  },
  {
   "cell_type": "code",
   "execution_count": null,
   "metadata": {
    "colab": {},
    "colab_type": "code",
    "id": "ClMr5mFnJaM-"
   },
   "outputs": [],
   "source": []
  }
 ],
 "metadata": {
  "colab": {
   "name": "Toy_example_estimation_of_Radon-Nikodym_derivative_one_sided.ipynb",
   "provenance": []
  },
  "kernelspec": {
   "display_name": "Python 3",
   "language": "python",
   "name": "python3"
  },
  "language_info": {
   "codemirror_mode": {
    "name": "ipython",
    "version": 3
   },
   "file_extension": ".py",
   "mimetype": "text/x-python",
   "name": "python",
   "nbconvert_exporter": "python",
   "pygments_lexer": "ipython3",
   "version": "3.7.5"
  }
 },
 "nbformat": 4,
 "nbformat_minor": 1
}
