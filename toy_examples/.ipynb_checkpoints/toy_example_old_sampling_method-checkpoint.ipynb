{
 "cells": [
  {
   "cell_type": "markdown",
   "metadata": {},
   "source": [
    "# Importance sampling: toy example with parameters"
   ]
  },
  {
   "cell_type": "code",
   "execution_count": 1,
   "metadata": {},
   "outputs": [],
   "source": [
    "import torch\n",
    "import torch.nn as nn\n",
    "import torch.nn.functional as F\n",
    "from torch.utils.data import Dataset, DataLoader\n",
    "from torchvision.utils import make_grid\n",
    "\n",
    "import matplotlib.pyplot as plt"
   ]
  },
  {
   "cell_type": "markdown",
   "metadata": {},
   "source": [
    "Functions for generation and visualization of the image batches"
   ]
  },
  {
   "cell_type": "code",
   "execution_count": 2,
   "metadata": {},
   "outputs": [],
   "source": [
    "def visualize_img_batch(batch):\n",
    "    '''Visualizes image batch'''\n",
    "    grid = make_grid(batch, nrow=8, padding=1, normalize=False, range=None, scale_each=False, pad_value=0)\n",
    "    plt.imshow(grid.permute(1,2,0))\n",
    "    plt.show()"
   ]
  },
  {
   "cell_type": "code",
   "execution_count": 3,
   "metadata": {},
   "outputs": [],
   "source": [
    "def random_image_data(size=(32768, 3, 1, 1), ratio=0.5):\n",
    "    '''Makes a random image batch of size (batch_size, height, width, channels) \n",
    "    with black to white ratio of value ratio\n",
    "    '''\n",
    "    idx = torch.randperm(size[0])[:int(ratio*size[0])]\n",
    "    image_batch = torch.zeros(size) + 0.2 # to make light gray\n",
    "    image_batch[idx] = 1 - 0.2 # to make light gray \n",
    "    return image_batch"
   ]
  },
  {
   "cell_type": "markdown",
   "metadata": {},
   "source": [
    "The dataset class"
   ]
  },
  {
   "cell_type": "code",
   "execution_count": 4,
   "metadata": {},
   "outputs": [],
   "source": [
    "class BlackWhiteDataset(Dataset):\n",
    "    '''The dataloader for the black and white images'''\n",
    "    def __init__(self, weight_network):\n",
    "        self.dataset = random_image_data()\n",
    "        \n",
    "        self.weight_network = weight_network\n",
    "\n",
    "    def __len__(self):\n",
    "        return len(self.dataset)\n",
    "    \n",
    "    def accept_sample(self, weight_network, img):\n",
    "        # Returns True if the image is accepted, False if rejected\n",
    "        weight = weight_network(img)\n",
    "        return bool(list(torch.utils.data.sampler.WeightedRandomSampler([1-weight, weight], 1))[0])\n",
    "    \n",
    "    def __getitem__(self, idx):\n",
    "        # Random permutation on the dataset order (is this equivalent to uniform sampling?)\n",
    "        all_idx = torch.randperm(len(dataset))[:100]\n",
    "        \n",
    "        # Loop through the samples and return once accepted\n",
    "        for i in all_idx:\n",
    "            accept = self.accept_sample(self.weight_network, self.dataset[i])\n",
    "            if accept:\n",
    "                return self.dataset[i]\n",
    "        return self.dataset[all_idx[0]] # return a random one if no sample found"
   ]
  },
  {
   "cell_type": "markdown",
   "metadata": {},
   "source": [
    "The weight network with parameters"
   ]
  },
  {
   "cell_type": "code",
   "execution_count": 5,
   "metadata": {},
   "outputs": [],
   "source": [
    "class Net(nn.Module):\n",
    "\n",
    "    def __init__(self):\n",
    "        super(Net, self).__init__()\n",
    "        self.fc1 = nn.Linear(3, 1)\n",
    "        self.fc2 = nn.Linear(1, 1)\n",
    "\n",
    "    def forward(self, x):\n",
    "        h1 = torch.sigmoid(self.fc1(x.view(-1, 3)))\n",
    "        out = torch.sigmoid(self.fc2(h1))\n",
    "        return out\n",
    "\n",
    "weight_network = Net()"
   ]
  },
  {
   "cell_type": "code",
   "execution_count": 6,
   "metadata": {},
   "outputs": [],
   "source": [
    "dataset = BlackWhiteDataset(weight_network)\n",
    "dataloader = DataLoader(dataset, batch_size=64, shuffle=True, num_workers=0)"
   ]
  },
  {
   "cell_type": "code",
   "execution_count": 7,
   "metadata": {},
   "outputs": [
    {
     "name": "stdout",
     "output_type": "stream",
     "text": [
      "tensor([[0.5716],\n",
      "        [0.5630]], grad_fn=<SigmoidBackward>)\n"
     ]
    }
   ],
   "source": [
    "example_img = torch.cat((torch.Tensor([0.2, 0.2, 0.2]), torch.Tensor([0.8, 0.8, 0.8])))\n",
    "w = weight_network(example_img)\n",
    "print(w)"
   ]
  },
  {
   "cell_type": "markdown",
   "metadata": {},
   "source": [
    "With Helge's objective function"
   ]
  },
  {
   "cell_type": "code",
   "execution_count": 13,
   "metadata": {},
   "outputs": [
    {
     "name": "stdout",
     "output_type": "stream",
     "text": [
      "step 0 loss:  1.2000000476837158\n",
      "outputs: 0.680231511592865 0.687458336353302 ground_truth 0.20000000298023224 0.800000011920929\n",
      "\n",
      "step 50 loss:  -1.2000000476837158\n",
      "outputs: 0.8173801302909851 0.8102012276649475 ground_truth 0.20000000298023224 0.800000011920929\n",
      "\n",
      "step 100 loss:  -5.40000057220459\n",
      "outputs: 0.7126566171646118 0.4548979699611664 ground_truth 0.20000000298023224 0.800000011920929\n",
      "\n",
      "step 150 loss:  -17.399999618530273\n",
      "outputs: 0.9672456383705139 0.04789426550269127 ground_truth 0.20000000298023224 0.800000011920929\n",
      "\n",
      "step 200 loss:  -16.80000114440918\n",
      "outputs: 0.9854671955108643 0.018741725012660027 ground_truth 0.20000000298023224 0.800000011920929\n",
      "\n",
      "step 250 loss:  -19.19999885559082\n",
      "outputs: 0.9923774003982544 0.013982060365378857 ground_truth 0.20000000298023224 0.800000011920929\n",
      "\n",
      "step 300 loss:  -18.600000381469727\n",
      "outputs: 0.994496762752533 0.010661494918167591 ground_truth 0.20000000298023224 0.800000011920929\n",
      "\n",
      "step 350 loss:  -19.19999885559082\n",
      "outputs: 0.9952808022499084 0.007849124260246754 ground_truth 0.20000000298023224 0.800000011920929\n",
      "\n",
      "step 400 loss:  -19.19999885559082\n",
      "outputs: 0.9964208602905273 0.006953010801225901 ground_truth 0.20000000298023224 0.800000011920929\n",
      "\n",
      "step 450 loss:  -19.19999885559082\n",
      "outputs: 0.9964755177497864 0.005039129871875048 ground_truth 0.20000000298023224 0.800000011920929\n",
      "\n",
      "step 500 loss:  -17.999998092651367\n",
      "outputs: 0.9965481162071228 0.003777912585064769 ground_truth 0.20000000298023224 0.800000011920929\n",
      "\n"
     ]
    }
   ],
   "source": [
    "weight_network = Net()\n",
    "criterion = nn.MSELoss()\n",
    "optimizer = optim.SGD(weight_network.parameters(), lr=0.1)\n",
    "dataset = BlackWhiteDataset(weight_network)\n",
    "dataloader = DataLoader(dataset, batch_size=64, shuffle=True, num_workers=0)\n",
    "\n",
    "for i, data in enumerate(dataloader):\n",
    "    labels = data.mean(1).view(-1, 1)\n",
    "\n",
    "    optimizer.zero_grad()\n",
    "\n",
    "    # forward + backward + optimize\n",
    "    outputs = weight_network(data)\n",
    "    \n",
    "    # Ground truth:\n",
    "    ground_truth = data.mean(1).view(-1, 1) \n",
    "    \n",
    "    loss = ((data.mean(1).view(-1, 1)-0.5) * (outputs/outputs.detach()).view(-1, 1)).sum()\n",
    "    \n",
    "    loss.backward()\n",
    "    optimizer.step()\n",
    "\n",
    "    # print statistics\n",
    "    if i % 50 == 0:\n",
    "        w = weight_network(example_img)\n",
    "        print('step', i, 'loss: ', loss.item())\n",
    "        print('outputs:', w[0].item(), w[1].item(), 'ground_truth', example_img[0].item(), example_img[3].item())\n",
    "        print()"
   ]
  },
  {
   "cell_type": "code",
   "execution_count": null,
   "metadata": {},
   "outputs": [],
   "source": [
    "visualize_img_batch(data)\n",
    "print('light grey = 0.2, dark grey = 0.8')"
   ]
  },
  {
   "cell_type": "code",
   "execution_count": null,
   "metadata": {},
   "outputs": [],
   "source": []
  }
 ],
 "metadata": {
  "kernelspec": {
   "display_name": "Python 3",
   "language": "python",
   "name": "python3"
  },
  "language_info": {
   "codemirror_mode": {
    "name": "ipython",
    "version": 3
   },
   "file_extension": ".py",
   "mimetype": "text/x-python",
   "name": "python",
   "nbconvert_exporter": "python",
   "pygments_lexer": "ipython3",
   "version": "3.7.5"
  }
 },
 "nbformat": 4,
 "nbformat_minor": 2
}
