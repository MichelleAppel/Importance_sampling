{
 "cells": [
  {
   "cell_type": "markdown",
   "metadata": {},
   "source": [
    "# CycleGAN: toy example\n",
    "This is an toy example that demonstrates CycleGAN and our assumption of semantic correspondence in the color dataset."
   ]
  },
  {
   "cell_type": "code",
   "execution_count": 1,
   "metadata": {},
   "outputs": [],
   "source": [
    "import torch\n",
    "import torch.nn as nn\n",
    "import torch.nn.functional as F\n",
    "import torch.optim as optim\n",
    "from torch.utils.data import Dataset, DataLoader\n",
    "from torchvision.utils import make_grid\n",
    "\n",
    "import itertools\n",
    "\n",
    "import matplotlib.pyplot as plt"
   ]
  },
  {
   "cell_type": "markdown",
   "metadata": {},
   "source": [
    "### Functions for generation and visualization of the image batches"
   ]
  },
  {
   "cell_type": "code",
   "execution_count": 2,
   "metadata": {},
   "outputs": [],
   "source": [
    "def visualize_img_batch(batch):\n",
    "    '''Visualizes image batch\n",
    "    \n",
    "    Parameters:\n",
    "    batch (Tensor): An image batch\n",
    "    '''\n",
    "    grid = make_grid(batch, nrow=8, padding=1, normalize=False, range=None, scale_each=False, pad_value=0)\n",
    "    plt.imshow(grid.permute(1,2,0))\n",
    "    plt.show()"
   ]
  },
  {
   "cell_type": "code",
   "execution_count": 3,
   "metadata": {},
   "outputs": [],
   "source": [
    "def random_image_data(size=(2**21, 3, 1, 1), ratio=0.5, offset=0.2, color=0, std=0):\n",
    "    '''Generates a random image batch \n",
    "    consisting of two modes (dark and light images)\n",
    "    \n",
    "    Parameters:\n",
    "    size (tuple): The dimensions of the image batch (batch_size, channels, width, length)\n",
    "    ratio (float): The ratio of light to dark images\n",
    "    offset (float): The brightness of the images relative to black and bright\n",
    "    color (int): Red = 0, green = 1, blue = 2\n",
    "    std (float): the standard deviation of the noise in the data set\n",
    "    \n",
    "    Returns:\n",
    "    image_batch (Tensor): The generated image batch\n",
    "    \n",
    "    '''\n",
    "    idx = torch.randperm(size[0])[:int(ratio*size[0])] # Randomly choose indices according to the ratio\n",
    "    \n",
    "    m = torch.distributions.normal.Normal(torch.Tensor([0]), torch.ones((int(torch.prod(torch.Tensor(size)))))*std)\n",
    "    \n",
    "    image_batch = torch.zeros(size)\n",
    "    image_batch[:, color] += offset # light color\n",
    "    image_batch[idx, color] = 1 - offset # dark color \n",
    "    \n",
    "    image_batch += m.sample().view(size)\n",
    "    return image_batch.clamp(0, 1).cuda()"
   ]
  },
  {
   "cell_type": "markdown",
   "metadata": {},
   "source": [
    "### The dataset class"
   ]
  },
  {
   "cell_type": "code",
   "execution_count": 4,
   "metadata": {},
   "outputs": [],
   "source": [
    "class ColorDataset(Dataset):\n",
    "    '''The dataloader for the color images\n",
    "    '''\n",
    "    def __init__(self, ratio=0.5, offset=0.2, color=0, std=0):\n",
    "        '''  \n",
    "        Parameters:\n",
    "        ratio (float): The ratio of light to dark images\n",
    "        offset (float): The brightness of the images relative to black and bright\n",
    "        color (int): Red = 0, green = 1, blue = 2\n",
    "        std (float): the standard deviation of the noise in the data set\n",
    "        '''\n",
    "        self.offset = offset\n",
    "        self.ratio = ratio\n",
    "        self.color = color\n",
    "        self.std = std\n",
    "        \n",
    "        self.dataset = random_image_data(ratio=self.ratio, \n",
    "                                         offset=self.offset, \n",
    "                                         color=self.color,\n",
    "                                         std=self.std)\n",
    "        self.example_imgs = self.example()\n",
    "        \n",
    "    def example(self):\n",
    "        '''\n",
    "        Returns an example from each mode in the domain\n",
    "        \n",
    "        '''\n",
    "        example_imgs = torch.zeros(size=(2, 3, 1, 1))\n",
    "\n",
    "        example_imgs[0, self.color] += self.offset # light color\n",
    "        example_imgs[1, self.color] = 1 - self.offset # dark color\n",
    "        return example_imgs\n",
    "\n",
    "    def __len__(self):\n",
    "        return len(self.dataset)\n",
    "    \n",
    "    def __getitem__(self, idx):      \n",
    "        return self.dataset[idx]"
   ]
  },
  {
   "cell_type": "markdown",
   "metadata": {},
   "source": [
    "### The networks"
   ]
  },
  {
   "cell_type": "code",
   "execution_count": 5,
   "metadata": {},
   "outputs": [],
   "source": [
    "class Discriminator(nn.Module):\n",
    "    '''A simple joint discriminator network'''\n",
    "\n",
    "    def __init__(self):\n",
    "        super(Discriminator, self).__init__()\n",
    "        self.fc1 = nn.Linear(3, 3)\n",
    "        self.fc2 = nn.Linear(3, 1)\n",
    "        \n",
    "    def forward(self, x):\n",
    "        h1 = torch.sigmoid(self.fc1(x.view(-1, 3)))\n",
    "        out = torch.sigmoid(self.fc2(h1))\n",
    "        return out"
   ]
  },
  {
   "cell_type": "code",
   "execution_count": 6,
   "metadata": {},
   "outputs": [],
   "source": [
    "class Generator(nn.Module):\n",
    "    '''A simple conditional generator network'''\n",
    "\n",
    "    def __init__(self):\n",
    "        super(Generator, self).__init__()\n",
    "        self.fc1 = nn.Linear(3, 3)\n",
    "        self.fc2 = nn.Linear(3, 3)\n",
    "        \n",
    "    def forward(self, x):\n",
    "        h1 = F.relu(self.fc1(x.view(-1, 3)))\n",
    "        out = torch.sigmoid(self.fc2(h1))\n",
    "        return out.unsqueeze(-1).unsqueeze(-1)"
   ]
  },
  {
   "cell_type": "markdown",
   "metadata": {},
   "source": [
    "### A demonstration of the two domains\n",
    "The idea here is that we create two domains: A red and a green domain. The domains consist of two modes: dark and light images. The big assumption here for our purpose is that the dark and light images have semantic correspondance, so for example: dark red will be translated to dark green.\n",
    "\n",
    "We can adjust the intensity of the images (offset) and the ratio of the modes for the experiment. In the visualiztion you can see the elements of the dataset. In the histogram you can see the modes."
   ]
  },
  {
   "cell_type": "code",
   "execution_count": 7,
   "metadata": {},
   "outputs": [
    {
     "data": {
      "image/png": "[encoded data removed]",
      "text/plain": [
       "<Figure size 432x288 with 1 Axes>"
      ]
     },
     "metadata": {
      "needs_background": "light"
     },
     "output_type": "display_data"
    },
    {
     "data": {
      "image/png": "[encoded data removed]",
      "text/plain": [
       "<Figure size 432x288 with 1 Axes>"
      ]
     },
     "metadata": {
      "needs_background": "light"
     },
     "output_type": "display_data"
    }
   ],
   "source": [
    "# Settings for domain A (red)\n",
    "offset_A = 0.3\n",
    "ratio_A = 0.5\n",
    "color_A = 0\n",
    "std_A = 0.03\n",
    "dataset_A = ColorDataset(offset=offset_A, ratio=ratio_A, color=color_A, std=std_A)\n",
    "dataloader_A = DataLoader(dataset_A, batch_size=64, shuffle=True)\n",
    "\n",
    "# Settings for domain B (green)\n",
    "offset_B = 0.3\n",
    "ratio_B = 0.5\n",
    "color_B = 1\n",
    "std_B = 0.03\n",
    "dataset_B = ColorDataset(offset=offset_B, ratio=ratio_B, color=color_B, std=std_B)\n",
    "dataloader_B = DataLoader(dataset_B, batch_size=64, shuffle=True)\n",
    "\n",
    "visualize_img_batch(dataset_A.example_imgs)\n",
    "visualize_img_batch(dataset_B.example_imgs)"
   ]
  },
  {
   "cell_type": "code",
   "execution_count": 8,
   "metadata": {},
   "outputs": [
    {
     "data": {
      "image/png": "[encoded data removed]",
      "text/plain": [
       "<Figure size 432x288 with 1 Axes>"
      ]
     },
     "metadata": {
      "needs_background": "light"
     },
     "output_type": "display_data"
    },
    {
     "name": "stdout",
     "output_type": "stream",
     "text": [
      "Total distance of cyan   (light to dark, dark to light) 1.523154616355896\n",
      "Total distance of yellow (light to light, dark to dark) 1.4142135381698608\n"
     ]
    }
   ],
   "source": [
    "R = dataset_A.example_imgs[:, :2].squeeze()\n",
    "G = dataset_B.example_imgs[:, :2].squeeze()\n",
    "sem1 = torch.stack((R[1], R[0]))-G\n",
    "sem2 = R-G\n",
    "\n",
    "plt.quiver([0, 0], [0, 0], R[:, 0], R[:, 1], angles='xy', scale_units='xy', color=['r', 'r'], scale=1)\n",
    "plt.quiver([0, 0], [0, 0], G[:, 0], G[:, 1], angles='xy', scale_units='xy', color=['g', 'g'], scale=1)\n",
    "plt.quiver(G[:, 0], G[:, 1], sem1[:, 0], sem1[:, 1], angles='xy', scale_units='xy', color=['c', 'c'], scale=1)\n",
    "plt.quiver(G[:, 0], G[:, 1], sem2[:, 0], sem2[:, 1], angles='xy', scale_units='xy', color=['y', 'y'], scale=1)\n",
    "\n",
    "plt.xlim(-0.1, 1)\n",
    "plt.ylim(-0.1, 1)\n",
    "plt.show()\n",
    "\n",
    "print('Total distance of cyan   (light to dark, dark to light)', ((sem1[:, 0]**2 + sem1[:, 1]**2)**0.5).sum().item())\n",
    "print('Total distance of yellow (light to light, dark to dark)', ((sem2[:, 0]**2 + sem2[:, 1]**2)**0.5).sum().item())"
   ]
  },
  {
   "cell_type": "code",
   "execution_count": 9,
   "metadata": {
    "scrolled": false
   },
   "outputs": [
    {
     "data": {
      "image/png": "[encoded data removed]",
      "text/plain": [
       "<Figure size 432x288 with 1 Axes>"
      ]
     },
     "metadata": {
      "needs_background": "light"
     },
     "output_type": "display_data"
    },
    {
     "data": {
      "image/png": "[encoded data removed]",
      "text/plain": [
       "<Figure size 432x288 with 1 Axes>"
      ]
     },
     "metadata": {
      "needs_background": "light"
     },
     "output_type": "display_data"
    },
    {
     "data": {
      "image/png": "[encoded data removed]",
      "text/plain": [
       "<Figure size 432x288 with 1 Axes>"
      ]
     },
     "metadata": {
      "needs_background": "light"
     },
     "output_type": "display_data"
    },
    {
     "data": {
      "image/png": "[encoded data removed]",
      "text/plain": [
       "<Figure size 432x288 with 1 Axes>"
      ]
     },
     "metadata": {
      "needs_background": "light"
     },
     "output_type": "display_data"
    }
   ],
   "source": [
    "import cv2\n",
    "\n",
    "def plot_hist(data):\n",
    "    data = data.permute(1,0,2,3).view(3,-1).cpu()\n",
    "    for i, c in enumerate(('r', 'g', 'b')):\n",
    "        plt.hist(data[i], weights=torch.ones(len(data[i]))/len(data[i]), \n",
    "                 color=c, bins=100, range= (0.01, 1))\n",
    "        x_unique_count = torch.stack([(data==x_u).sum() for x_u in data.unique()])\n",
    "    plt.show()\n",
    "\n",
    "for i, (data_A, data_B) in enumerate(zip(dataloader_A, dataloader_B)):\n",
    "#     print('True ratio domain A:', dataloader_A.dataset.ratio)\n",
    "    plot_hist(data_A)\n",
    "#     print('True ratio domain B:', dataloader_B.dataset.ratio)\n",
    "    plot_hist(data_B)\n",
    "    \n",
    "    visualize_img_batch(data_A[:64].cpu())\n",
    "    visualize_img_batch(data_B[:64].cpu())\n",
    "    break"
   ]
  },
  {
   "cell_type": "markdown",
   "metadata": {},
   "source": [
    "## The training loop"
   ]
  },
  {
   "cell_type": "code",
   "execution_count": 10,
   "metadata": {
    "scrolled": false
   },
   "outputs": [
    {
     "name": "stdout",
     "output_type": "stream",
     "text": [
      "step 0 loss_g 0.7615634799003601 loss_d 0.5082975625991821\n",
      "step 500 loss_g 0.12512007355690002 loss_d 0.6274480819702148\n",
      "step 1000 loss_g 0.12581215798854828 loss_d 0.6254795789718628\n",
      "step 1500 loss_g 0.12720566987991333 loss_d 0.622773289680481\n",
      "step 2000 loss_g 0.1253271847963333 loss_d 0.626440167427063\n",
      "step 2500 loss_g 0.1262824386358261 loss_d 0.6242052316665649\n",
      "step 3000 loss_g 0.12563835084438324 loss_d 0.6256793141365051\n",
      "step 3500 loss_g 0.12476839125156403 loss_d 0.628970742225647\n",
      "step 4000 loss_g 0.1284407079219818 loss_d 0.6204779744148254\n",
      "step 4500 loss_g 0.12907235324382782 loss_d 0.6185809373855591\n",
      "step 5000 loss_g 0.12517525255680084 loss_d 0.6257368922233582\n",
      "step 5500 loss_g 0.12544600665569305 loss_d 0.6250566244125366\n",
      "step 6000 loss_g 0.12601764500141144 loss_d 0.6236289739608765\n",
      "step 6500 loss_g 0.12598097324371338 loss_d 0.6247925758361816\n",
      "step 7000 loss_g 0.12561899423599243 loss_d 0.6250412464141846\n",
      "step 7500 loss_g 0.125675231218338 loss_d 0.624828577041626\n",
      "step 8000 loss_g 0.12550579011440277 loss_d 0.6249914169311523\n",
      "step 8500 loss_g 0.1253228634595871 loss_d 0.6250764727592468\n",
      "step 9000 loss_g 0.12500281631946564 loss_d 0.6254093647003174\n",
      "step 9500 loss_g 0.12524865567684174 loss_d 0.6267296671867371\n",
      "step 10000 loss_g 0.1255168467760086 loss_d 0.62489914894104\n",
      "step 10500 loss_g 0.1254798173904419 loss_d 0.625053882598877\n",
      "step 11000 loss_g 0.12544748187065125 loss_d 0.6250220537185669\n",
      "step 11500 loss_g 0.12545569241046906 loss_d 0.6248630285263062\n",
      "step 12000 loss_g 0.12558795511722565 loss_d 0.6249053478240967\n",
      "step 12500 loss_g 0.125573068857193 loss_d 0.6248908042907715\n",
      "step 13000 loss_g 0.12532605230808258 loss_d 0.6250410079956055\n",
      "step 13500 loss_g 0.1254916936159134 loss_d 0.6248984336853027\n",
      "step 14000 loss_g 0.1253236085176468 loss_d 0.6251872777938843\n",
      "step 14500 loss_g 0.12556195259094238 loss_d 0.6249823570251465\n",
      "step 15000 loss_g 0.1254219114780426 loss_d 0.6249966025352478\n",
      "step 15500 loss_g 0.12536148726940155 loss_d 0.62507164478302\n",
      "step 16000 loss_g 0.12545481324195862 loss_d 0.6250290870666504\n",
      "step 16500 loss_g 0.12532863020896912 loss_d 0.6250654458999634\n",
      "step 17000 loss_g 0.12563404440879822 loss_d 0.6249152421951294\n",
      "step 17500 loss_g 0.125453919172287 loss_d 0.624972403049469\n",
      "step 18000 loss_g 0.12550224363803864 loss_d 0.6248804926872253\n",
      "step 18500 loss_g 0.12553544342517853 loss_d 0.6250152587890625\n",
      "step 19000 loss_g 0.12535086274147034 loss_d 0.6250216960906982\n",
      "step 19500 loss_g 0.12532562017440796 loss_d 0.6252589821815491\n",
      "step 20000 loss_g 0.12539604306221008 loss_d 0.6249914169311523\n",
      "step 20500 loss_g 0.12526516616344452 loss_d 0.6252902746200562\n"
     ]
    },
    {
     "ename": "KeyboardInterrupt",
     "evalue": "",
     "output_type": "error",
     "traceback": [
      "\u001b[0;31m---------------------------------------------------------------------------\u001b[0m",
      "\u001b[0;31mKeyboardInterrupt\u001b[0m                         Traceback (most recent call last)",
      "\u001b[0;32m<ipython-input-10-81f2a958a39e>\u001b[0m in \u001b[0;36m<module>\u001b[0;34m\u001b[0m\n\u001b[1;32m     68\u001b[0m \u001b[0;34m\u001b[0m\u001b[0m\n\u001b[1;32m     69\u001b[0m         \u001b[0;31m# Optimization step\u001b[0m\u001b[0;34m\u001b[0m\u001b[0;34m\u001b[0m\u001b[0;34m\u001b[0m\u001b[0m\n\u001b[0;32m---> 70\u001b[0;31m         \u001b[0moptimizer_g\u001b[0m\u001b[0;34m.\u001b[0m\u001b[0mstep\u001b[0m\u001b[0;34m(\u001b[0m\u001b[0;34m)\u001b[0m\u001b[0;34m\u001b[0m\u001b[0;34m\u001b[0m\u001b[0m\n\u001b[0m\u001b[1;32m     71\u001b[0m         \u001b[0moptimizer_d\u001b[0m\u001b[0;34m.\u001b[0m\u001b[0mstep\u001b[0m\u001b[0;34m(\u001b[0m\u001b[0;34m)\u001b[0m\u001b[0;34m\u001b[0m\u001b[0;34m\u001b[0m\u001b[0m\n\u001b[1;32m     72\u001b[0m \u001b[0;34m\u001b[0m\u001b[0m\n",
      "\u001b[0;32m~/.local/lib/python3.7/site-packages/torch/optim/adam.py\u001b[0m in \u001b[0;36mstep\u001b[0;34m(self, closure)\u001b[0m\n\u001b[1;32m     93\u001b[0m \u001b[0;34m\u001b[0m\u001b[0m\n\u001b[1;32m     94\u001b[0m                 \u001b[0;31m# Decay the first and second moment running average coefficient\u001b[0m\u001b[0;34m\u001b[0m\u001b[0;34m\u001b[0m\u001b[0;34m\u001b[0m\u001b[0m\n\u001b[0;32m---> 95\u001b[0;31m                 \u001b[0mexp_avg\u001b[0m\u001b[0;34m.\u001b[0m\u001b[0mmul_\u001b[0m\u001b[0;34m(\u001b[0m\u001b[0mbeta1\u001b[0m\u001b[0;34m)\u001b[0m\u001b[0;34m.\u001b[0m\u001b[0madd_\u001b[0m\u001b[0;34m(\u001b[0m\u001b[0;36m1\u001b[0m \u001b[0;34m-\u001b[0m \u001b[0mbeta1\u001b[0m\u001b[0;34m,\u001b[0m \u001b[0mgrad\u001b[0m\u001b[0;34m)\u001b[0m\u001b[0;34m\u001b[0m\u001b[0;34m\u001b[0m\u001b[0m\n\u001b[0m\u001b[1;32m     96\u001b[0m                 \u001b[0mexp_avg_sq\u001b[0m\u001b[0;34m.\u001b[0m\u001b[0mmul_\u001b[0m\u001b[0;34m(\u001b[0m\u001b[0mbeta2\u001b[0m\u001b[0;34m)\u001b[0m\u001b[0;34m.\u001b[0m\u001b[0maddcmul_\u001b[0m\u001b[0;34m(\u001b[0m\u001b[0;36m1\u001b[0m \u001b[0;34m-\u001b[0m \u001b[0mbeta2\u001b[0m\u001b[0;34m,\u001b[0m \u001b[0mgrad\u001b[0m\u001b[0;34m,\u001b[0m \u001b[0mgrad\u001b[0m\u001b[0;34m)\u001b[0m\u001b[0;34m\u001b[0m\u001b[0;34m\u001b[0m\u001b[0m\n\u001b[1;32m     97\u001b[0m                 \u001b[0;32mif\u001b[0m \u001b[0mamsgrad\u001b[0m\u001b[0;34m:\u001b[0m\u001b[0;34m\u001b[0m\u001b[0;34m\u001b[0m\u001b[0m\n",
      "\u001b[0;31mKeyboardInterrupt\u001b[0m: "
     ]
    }
   ],
   "source": [
    "# Initialize the networks\n",
    "generator_A = Generator().cuda()\n",
    "generator_B = Generator().cuda()\n",
    "discriminator_A = Discriminator().cuda()\n",
    "discriminator_B = Discriminator().cuda()\n",
    "\n",
    "# Initialize the optimizers\n",
    "optimizer_g = optim.Adam(itertools.chain(generator_A.parameters(),\n",
    "                                         generator_B.parameters()), lr=0.01)\n",
    "optimizer_d = optim.Adam(itertools.chain(discriminator_A.parameters(),\n",
    "                                         discriminator_B.parameters()), lr=0.01)\n",
    "\n",
    "# Store values\n",
    "samples_A = []\n",
    "samples_B = []\n",
    "\n",
    "losses_g = []\n",
    "losses_d = []\n",
    "\n",
    "criterion_D = nn.MSELoss()\n",
    "criterion_G = nn.MSELoss()\n",
    "criterion_cycle = nn.MSELoss()\n",
    "criterion_L2 = nn.MSELoss()\n",
    "\n",
    "for epoch in range(1):\n",
    "    for i, (real_A, real_B) in enumerate(zip(dataloader_A, dataloader_B)):\n",
    "        # Set gradients to zero\n",
    "        optimizer_d.zero_grad()\n",
    "        optimizer_g.zero_grad()\n",
    "\n",
    "        # Forward\n",
    "        fake_A = generator_A(real_B)\n",
    "        fake_B = generator_B(real_A)\n",
    "        \n",
    "        rec_A = generator_A(fake_B)\n",
    "        rec_B = generator_B(fake_A)\n",
    "        \n",
    "        pred_real_A = discriminator_A(real_A)\n",
    "        pred_real_B = discriminator_B(real_B)\n",
    "        \n",
    "        pred_fake_A = discriminator_A(fake_A.detach())\n",
    "        pred_fake_B = discriminator_B(fake_B.detach())\n",
    "        \n",
    "        # The loss function --------------------------------------------------------------------------------\n",
    "        loss_D_real_A = criterion_D(pred_real_A, torch.ones((pred_real_A.shape)).cuda())\n",
    "        loss_D_real_B = criterion_D(pred_real_B, torch.ones((pred_real_B.shape)).cuda())\n",
    "\n",
    "        loss_D_fake_A = criterion_D(pred_fake_A, torch.zeros((pred_fake_A.shape)).cuda())\n",
    "        loss_D_fake_B = criterion_D(pred_fake_B, torch.zeros((pred_fake_B.shape)).cuda())\n",
    "        \n",
    "        loss_D_A = (loss_D_real_A + loss_D_fake_A) * 0.5\n",
    "        loss_D_B = (loss_D_real_B + loss_D_fake_B) * 0.5\n",
    "        \n",
    "        loss_G_A = criterion_G(discriminator_A(fake_A), torch.ones((pred_fake_A.shape)).cuda())\n",
    "        loss_G_B = criterion_G(discriminator_B(fake_B), torch.ones((pred_fake_A.shape)).cuda())\n",
    "        \n",
    "        cycle_A = criterion_cycle(real_A, rec_A)\n",
    "        cycle_B = criterion_cycle(real_B, rec_B)\n",
    "        cycle = cycle_A + cycle_B\n",
    "        \n",
    "        loss_d = (loss_D_A + loss_D_B)\n",
    "        loss_g = (loss_G_A + loss_G_B) + cycle\n",
    "        # ---------------------------------------------------------------------------------------------------\n",
    "\n",
    "        # Backward\n",
    "        loss_g.backward()\n",
    "        loss_d.backward()\n",
    "\n",
    "        # Optimization step\n",
    "        optimizer_g.step()\n",
    "        optimizer_d.step()\n",
    "\n",
    "        # Store values --------------------------------------------------------------------------------------\n",
    "        losses_g += [loss_g.item()]\n",
    "        losses_d += [loss_d.item()]\n",
    "        # ---------------------------------------------------------------------------------------------------\n",
    "\n",
    "        # Print statistics\n",
    "        if i % 500 == 0:\n",
    "            samples_A += [fake_A.detach()]\n",
    "            samples_B += [fake_B.detach()]\n",
    "            print('step', i, 'loss_g', loss_g.item(), 'loss_d', loss_d.item())"
   ]
  },
  {
   "cell_type": "code",
   "execution_count": 13,
   "metadata": {
    "scrolled": false
   },
   "outputs": [
    {
     "data": {
      "image/png": "[encoded data removed]",
      "text/plain": [
       "<Figure size 432x288 with 1 Axes>"
      ]
     },
     "metadata": {
      "needs_background": "light"
     },
     "output_type": "display_data"
    },
    {
     "data": {
      "image/png": "[encoded data removed]",
      "text/plain": [
       "<Figure size 432x288 with 1 Axes>"
      ]
     },
     "metadata": {
      "needs_background": "light"
     },
     "output_type": "display_data"
    },
    {
     "data": {
      "image/png": "[encoded data removed]",
      "text/plain": [
       "<Figure size 432x288 with 1 Axes>"
      ]
     },
     "metadata": {
      "needs_background": "light"
     },
     "output_type": "display_data"
    },
    {
     "data": {
      "image/png": "[encoded data removed]",
      "text/plain": [
       "<Figure size 432x288 with 1 Axes>"
      ]
     },
     "metadata": {
      "needs_background": "light"
     },
     "output_type": "display_data"
    },
    {
     "data": {
      "image/png": "[encoded data removed]",
      "text/plain": [
       "<Figure size 432x288 with 1 Axes>"
      ]
     },
     "metadata": {
      "needs_background": "light"
     },
     "output_type": "display_data"
    },
    {
     "data": {
      "image/png": "[encoded data removed]",
      "text/plain": [
       "<Figure size 432x288 with 1 Axes>"
      ]
     },
     "metadata": {
      "needs_background": "light"
     },
     "output_type": "display_data"
    },
    {
     "data": {
      "image/png": "[encoded data removed]",
      "text/plain": [
       "<Figure size 432x288 with 1 Axes>"
      ]
     },
     "metadata": {
      "needs_background": "light"
     },
     "output_type": "display_data"
    },
    {
     "data": {
      "image/png": "[encoded data removed]",
      "text/plain": [
       "<Figure size 432x288 with 1 Axes>"
      ]
     },
     "metadata": {
      "needs_background": "light"
     },
     "output_type": "display_data"
    }
   ],
   "source": [
    "# Some generated images\n",
    "visualize_img_batch(real_A.detach()[:64].cpu())\n",
    "visualize_img_batch(fake_B.detach()[:64].cpu())\n",
    "plot_hist(real_A.detach().cpu())\n",
    "plot_hist(fake_B.detach().cpu())\n",
    "\n",
    "visualize_img_batch(real_B.detach()[:64].cpu())\n",
    "visualize_img_batch(fake_A.detach()[:64].cpu())\n",
    "plot_hist(real_B.detach().cpu())\n",
    "plot_hist(fake_A.detach().cpu())"
   ]
  },
  {
   "cell_type": "code",
   "execution_count": 12,
   "metadata": {},
   "outputs": [
    {
     "data": {
      "image/png": "[encoded data removed]",
      "text/plain": [
       "<Figure size 720x432 with 1 Axes>"
      ]
     },
     "metadata": {
      "needs_background": "light"
     },
     "output_type": "display_data"
    }
   ],
   "source": [
    "plt.figure(figsize=(10,6))\n",
    "plt.title('Losses over iterations')\n",
    "plt.xlabel('Training iterations')\n",
    "plt.ylabel('Loss')\n",
    "plt.plot(losses_g)\n",
    "plt.plot(losses_d)\n",
    "plt.legend(['G', 'D'])\n",
    "plt.show()"
   ]
  },
  {
   "cell_type": "code",
   "execution_count": null,
   "metadata": {
    "scrolled": false
   },
   "outputs": [],
   "source": [
    "for img in samples_A:\n",
    "    visualize_img_batch(img[:64].cpu())"
   ]
  },
  {
   "cell_type": "code",
   "execution_count": null,
   "metadata": {},
   "outputs": [],
   "source": []
  }
 ],
 "metadata": {
  "kernelspec": {
   "display_name": "Python 3",
   "language": "python",
   "name": "python3"
  },
  "language_info": {
   "codemirror_mode": {
    "name": "ipython",
    "version": 3
   },
   "file_extension": ".py",
   "mimetype": "text/x-python",
   "name": "python",
   "nbconvert_exporter": "python",
   "pygments_lexer": "ipython3",
   "version": "3.7.5"
  }
 },
 "nbformat": 4,
 "nbformat_minor": 2
}
