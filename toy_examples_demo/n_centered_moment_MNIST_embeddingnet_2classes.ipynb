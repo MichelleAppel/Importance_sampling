{
  "nbformat": 4,
  "nbformat_minor": 0,
  "metadata": {
    "accelerator": "GPU",
    "colab": {
      "name": "n-centered moment MNIST",
      "provenance": [],
      "collapsed_sections": [],
      "include_colab_link": true
    },
    "kernelspec": {
      "display_name": "Python 3",
      "language": "python",
      "name": "python3"
    },
    "language_info": {
      "codemirror_mode": {
        "name": "ipython",
        "version": 3
      },
      "file_extension": ".py",
      "mimetype": "text/x-python",
      "name": "python",
      "nbconvert_exporter": "python",
      "pygments_lexer": "ipython3",
      "version": "3.7.5"
    },
    "widgets": {
      "application/vnd.jupyter.widget-state+json": {
        "3ea0ad25919e4b88b851433ce260bb8e": {
          "model_module": "@jupyter-widgets/controls",
          "model_name": "HBoxModel",
          "state": {
            "_view_name": "HBoxView",
            "_dom_classes": [],
            "_model_name": "HBoxModel",
            "_view_module": "@jupyter-widgets/controls",
            "_model_module_version": "1.5.0",
            "_view_count": null,
            "_view_module_version": "1.5.0",
            "box_style": "",
            "layout": "IPY_MODEL_4b3966f5b9dd49678b3bb47154d8a848",
            "_model_module": "@jupyter-widgets/controls",
            "children": [
              "IPY_MODEL_b876fc6e141c41da8c1c4d8537eb6bf9",
              "IPY_MODEL_5ef281c8ca4d4f75ba2c9ffc51a8bf9d"
            ]
          }
        },
        "4b3966f5b9dd49678b3bb47154d8a848": {
          "model_module": "@jupyter-widgets/base",
          "model_name": "LayoutModel",
          "state": {
            "_view_name": "LayoutView",
            "grid_template_rows": null,
            "right": null,
            "justify_content": null,
            "_view_module": "@jupyter-widgets/base",
            "overflow": null,
            "_model_module_version": "1.2.0",
            "_view_count": null,
            "flex_flow": null,
            "width": null,
            "min_width": null,
            "border": null,
            "align_items": null,
            "bottom": null,
            "_model_module": "@jupyter-widgets/base",
            "top": null,
            "grid_column": null,
            "overflow_y": null,
            "overflow_x": null,
            "grid_auto_flow": null,
            "grid_area": null,
            "grid_template_columns": null,
            "flex": null,
            "_model_name": "LayoutModel",
            "justify_items": null,
            "grid_row": null,
            "max_height": null,
            "align_content": null,
            "visibility": null,
            "align_self": null,
            "height": null,
            "min_height": null,
            "padding": null,
            "grid_auto_rows": null,
            "grid_gap": null,
            "max_width": null,
            "order": null,
            "_view_module_version": "1.2.0",
            "grid_template_areas": null,
            "object_position": null,
            "object_fit": null,
            "grid_auto_columns": null,
            "margin": null,
            "display": null,
            "left": null
          }
        },
        "b876fc6e141c41da8c1c4d8537eb6bf9": {
          "model_module": "@jupyter-widgets/controls",
          "model_name": "FloatProgressModel",
          "state": {
            "_view_name": "ProgressView",
            "style": "IPY_MODEL_be267f07eb2140789d356d892a96ee28",
            "_dom_classes": [],
            "description": "",
            "_model_name": "FloatProgressModel",
            "bar_style": "success",
            "max": 1,
            "_view_module": "@jupyter-widgets/controls",
            "_model_module_version": "1.5.0",
            "value": 1,
            "_view_count": null,
            "_view_module_version": "1.5.0",
            "orientation": "horizontal",
            "min": 0,
            "description_tooltip": null,
            "_model_module": "@jupyter-widgets/controls",
            "layout": "IPY_MODEL_21d3ec6d7ae94a019288ad002b52dce0"
          }
        },
        "5ef281c8ca4d4f75ba2c9ffc51a8bf9d": {
          "model_module": "@jupyter-widgets/controls",
          "model_name": "HTMLModel",
          "state": {
            "_view_name": "HTMLView",
            "style": "IPY_MODEL_c3b4c8a5c24e452395a66511ea7fa97e",
            "_dom_classes": [],
            "description": "",
            "_model_name": "HTMLModel",
            "placeholder": "​",
            "_view_module": "@jupyter-widgets/controls",
            "_model_module_version": "1.5.0",
            "value": " 9920512/? [00:00&lt;00:00, 16323069.77it/s]",
            "_view_count": null,
            "_view_module_version": "1.5.0",
            "description_tooltip": null,
            "_model_module": "@jupyter-widgets/controls",
            "layout": "IPY_MODEL_c1fb276ae21540259c349e16fdb49b6e"
          }
        },
        "be267f07eb2140789d356d892a96ee28": {
          "model_module": "@jupyter-widgets/controls",
          "model_name": "ProgressStyleModel",
          "state": {
            "_view_name": "StyleView",
            "_model_name": "ProgressStyleModel",
            "description_width": "initial",
            "_view_module": "@jupyter-widgets/base",
            "_model_module_version": "1.5.0",
            "_view_count": null,
            "_view_module_version": "1.2.0",
            "bar_color": null,
            "_model_module": "@jupyter-widgets/controls"
          }
        },
        "21d3ec6d7ae94a019288ad002b52dce0": {
          "model_module": "@jupyter-widgets/base",
          "model_name": "LayoutModel",
          "state": {
            "_view_name": "LayoutView",
            "grid_template_rows": null,
            "right": null,
            "justify_content": null,
            "_view_module": "@jupyter-widgets/base",
            "overflow": null,
            "_model_module_version": "1.2.0",
            "_view_count": null,
            "flex_flow": null,
            "width": null,
            "min_width": null,
            "border": null,
            "align_items": null,
            "bottom": null,
            "_model_module": "@jupyter-widgets/base",
            "top": null,
            "grid_column": null,
            "overflow_y": null,
            "overflow_x": null,
            "grid_auto_flow": null,
            "grid_area": null,
            "grid_template_columns": null,
            "flex": null,
            "_model_name": "LayoutModel",
            "justify_items": null,
            "grid_row": null,
            "max_height": null,
            "align_content": null,
            "visibility": null,
            "align_self": null,
            "height": null,
            "min_height": null,
            "padding": null,
            "grid_auto_rows": null,
            "grid_gap": null,
            "max_width": null,
            "order": null,
            "_view_module_version": "1.2.0",
            "grid_template_areas": null,
            "object_position": null,
            "object_fit": null,
            "grid_auto_columns": null,
            "margin": null,
            "display": null,
            "left": null
          }
        },
        "c3b4c8a5c24e452395a66511ea7fa97e": {
          "model_module": "@jupyter-widgets/controls",
          "model_name": "DescriptionStyleModel",
          "state": {
            "_view_name": "StyleView",
            "_model_name": "DescriptionStyleModel",
            "description_width": "",
            "_view_module": "@jupyter-widgets/base",
            "_model_module_version": "1.5.0",
            "_view_count": null,
            "_view_module_version": "1.2.0",
            "_model_module": "@jupyter-widgets/controls"
          }
        },
        "c1fb276ae21540259c349e16fdb49b6e": {
          "model_module": "@jupyter-widgets/base",
          "model_name": "LayoutModel",
          "state": {
            "_view_name": "LayoutView",
            "grid_template_rows": null,
            "right": null,
            "justify_content": null,
            "_view_module": "@jupyter-widgets/base",
            "overflow": null,
            "_model_module_version": "1.2.0",
            "_view_count": null,
            "flex_flow": null,
            "width": null,
            "min_width": null,
            "border": null,
            "align_items": null,
            "bottom": null,
            "_model_module": "@jupyter-widgets/base",
            "top": null,
            "grid_column": null,
            "overflow_y": null,
            "overflow_x": null,
            "grid_auto_flow": null,
            "grid_area": null,
            "grid_template_columns": null,
            "flex": null,
            "_model_name": "LayoutModel",
            "justify_items": null,
            "grid_row": null,
            "max_height": null,
            "align_content": null,
            "visibility": null,
            "align_self": null,
            "height": null,
            "min_height": null,
            "padding": null,
            "grid_auto_rows": null,
            "grid_gap": null,
            "max_width": null,
            "order": null,
            "_view_module_version": "1.2.0",
            "grid_template_areas": null,
            "object_position": null,
            "object_fit": null,
            "grid_auto_columns": null,
            "margin": null,
            "display": null,
            "left": null
          }
        },
        "976ccf11906d4d1abd86b3de2a8a435a": {
          "model_module": "@jupyter-widgets/controls",
          "model_name": "HBoxModel",
          "state": {
            "_view_name": "HBoxView",
            "_dom_classes": [],
            "_model_name": "HBoxModel",
            "_view_module": "@jupyter-widgets/controls",
            "_model_module_version": "1.5.0",
            "_view_count": null,
            "_view_module_version": "1.5.0",
            "box_style": "",
            "layout": "IPY_MODEL_2a23ea8f8fab4f31940e33f6e599143a",
            "_model_module": "@jupyter-widgets/controls",
            "children": [
              "IPY_MODEL_27d2604c86df499188c62fbd7169b5df",
              "IPY_MODEL_057d9404ca0848a4bbe346f641130611"
            ]
          }
        },
        "2a23ea8f8fab4f31940e33f6e599143a": {
          "model_module": "@jupyter-widgets/base",
          "model_name": "LayoutModel",
          "state": {
            "_view_name": "LayoutView",
            "grid_template_rows": null,
            "right": null,
            "justify_content": null,
            "_view_module": "@jupyter-widgets/base",
            "overflow": null,
            "_model_module_version": "1.2.0",
            "_view_count": null,
            "flex_flow": null,
            "width": null,
            "min_width": null,
            "border": null,
            "align_items": null,
            "bottom": null,
            "_model_module": "@jupyter-widgets/base",
            "top": null,
            "grid_column": null,
            "overflow_y": null,
            "overflow_x": null,
            "grid_auto_flow": null,
            "grid_area": null,
            "grid_template_columns": null,
            "flex": null,
            "_model_name": "LayoutModel",
            "justify_items": null,
            "grid_row": null,
            "max_height": null,
            "align_content": null,
            "visibility": null,
            "align_self": null,
            "height": null,
            "min_height": null,
            "padding": null,
            "grid_auto_rows": null,
            "grid_gap": null,
            "max_width": null,
            "order": null,
            "_view_module_version": "1.2.0",
            "grid_template_areas": null,
            "object_position": null,
            "object_fit": null,
            "grid_auto_columns": null,
            "margin": null,
            "display": null,
            "left": null
          }
        },
        "27d2604c86df499188c62fbd7169b5df": {
          "model_module": "@jupyter-widgets/controls",
          "model_name": "FloatProgressModel",
          "state": {
            "_view_name": "ProgressView",
            "style": "IPY_MODEL_300d2893404246ae9260356421a73d8d",
            "_dom_classes": [],
            "description": "",
            "_model_name": "FloatProgressModel",
            "bar_style": "success",
            "max": 1,
            "_view_module": "@jupyter-widgets/controls",
            "_model_module_version": "1.5.0",
            "value": 1,
            "_view_count": null,
            "_view_module_version": "1.5.0",
            "orientation": "horizontal",
            "min": 0,
            "description_tooltip": null,
            "_model_module": "@jupyter-widgets/controls",
            "layout": "IPY_MODEL_8b628299723543e098df46110731b5f8"
          }
        },
        "057d9404ca0848a4bbe346f641130611": {
          "model_module": "@jupyter-widgets/controls",
          "model_name": "HTMLModel",
          "state": {
            "_view_name": "HTMLView",
            "style": "IPY_MODEL_52d7311a7a44494198a2796d91fe46a9",
            "_dom_classes": [],
            "description": "",
            "_model_name": "HTMLModel",
            "placeholder": "​",
            "_view_module": "@jupyter-widgets/controls",
            "_model_module_version": "1.5.0",
            "value": " 32768/? [00:00&lt;00:00, 52958.74it/s]",
            "_view_count": null,
            "_view_module_version": "1.5.0",
            "description_tooltip": null,
            "_model_module": "@jupyter-widgets/controls",
            "layout": "IPY_MODEL_f87b55de64d14f478b75f9eaebfb2b93"
          }
        },
        "300d2893404246ae9260356421a73d8d": {
          "model_module": "@jupyter-widgets/controls",
          "model_name": "ProgressStyleModel",
          "state": {
            "_view_name": "StyleView",
            "_model_name": "ProgressStyleModel",
            "description_width": "initial",
            "_view_module": "@jupyter-widgets/base",
            "_model_module_version": "1.5.0",
            "_view_count": null,
            "_view_module_version": "1.2.0",
            "bar_color": null,
            "_model_module": "@jupyter-widgets/controls"
          }
        },
        "8b628299723543e098df46110731b5f8": {
          "model_module": "@jupyter-widgets/base",
          "model_name": "LayoutModel",
          "state": {
            "_view_name": "LayoutView",
            "grid_template_rows": null,
            "right": null,
            "justify_content": null,
            "_view_module": "@jupyter-widgets/base",
            "overflow": null,
            "_model_module_version": "1.2.0",
            "_view_count": null,
            "flex_flow": null,
            "width": null,
            "min_width": null,
            "border": null,
            "align_items": null,
            "bottom": null,
            "_model_module": "@jupyter-widgets/base",
            "top": null,
            "grid_column": null,
            "overflow_y": null,
            "overflow_x": null,
            "grid_auto_flow": null,
            "grid_area": null,
            "grid_template_columns": null,
            "flex": null,
            "_model_name": "LayoutModel",
            "justify_items": null,
            "grid_row": null,
            "max_height": null,
            "align_content": null,
            "visibility": null,
            "align_self": null,
            "height": null,
            "min_height": null,
            "padding": null,
            "grid_auto_rows": null,
            "grid_gap": null,
            "max_width": null,
            "order": null,
            "_view_module_version": "1.2.0",
            "grid_template_areas": null,
            "object_position": null,
            "object_fit": null,
            "grid_auto_columns": null,
            "margin": null,
            "display": null,
            "left": null
          }
        },
        "52d7311a7a44494198a2796d91fe46a9": {
          "model_module": "@jupyter-widgets/controls",
          "model_name": "DescriptionStyleModel",
          "state": {
            "_view_name": "StyleView",
            "_model_name": "DescriptionStyleModel",
            "description_width": "",
            "_view_module": "@jupyter-widgets/base",
            "_model_module_version": "1.5.0",
            "_view_count": null,
            "_view_module_version": "1.2.0",
            "_model_module": "@jupyter-widgets/controls"
          }
        },
        "f87b55de64d14f478b75f9eaebfb2b93": {
          "model_module": "@jupyter-widgets/base",
          "model_name": "LayoutModel",
          "state": {
            "_view_name": "LayoutView",
            "grid_template_rows": null,
            "right": null,
            "justify_content": null,
            "_view_module": "@jupyter-widgets/base",
            "overflow": null,
            "_model_module_version": "1.2.0",
            "_view_count": null,
            "flex_flow": null,
            "width": null,
            "min_width": null,
            "border": null,
            "align_items": null,
            "bottom": null,
            "_model_module": "@jupyter-widgets/base",
            "top": null,
            "grid_column": null,
            "overflow_y": null,
            "overflow_x": null,
            "grid_auto_flow": null,
            "grid_area": null,
            "grid_template_columns": null,
            "flex": null,
            "_model_name": "LayoutModel",
            "justify_items": null,
            "grid_row": null,
            "max_height": null,
            "align_content": null,
            "visibility": null,
            "align_self": null,
            "height": null,
            "min_height": null,
            "padding": null,
            "grid_auto_rows": null,
            "grid_gap": null,
            "max_width": null,
            "order": null,
            "_view_module_version": "1.2.0",
            "grid_template_areas": null,
            "object_position": null,
            "object_fit": null,
            "grid_auto_columns": null,
            "margin": null,
            "display": null,
            "left": null
          }
        },
        "b886c966cdf542299c7c5c8cf9b09820": {
          "model_module": "@jupyter-widgets/controls",
          "model_name": "HBoxModel",
          "state": {
            "_view_name": "HBoxView",
            "_dom_classes": [],
            "_model_name": "HBoxModel",
            "_view_module": "@jupyter-widgets/controls",
            "_model_module_version": "1.5.0",
            "_view_count": null,
            "_view_module_version": "1.5.0",
            "box_style": "",
            "layout": "IPY_MODEL_567407dd872a42a59cdd3b54a821b337",
            "_model_module": "@jupyter-widgets/controls",
            "children": [
              "IPY_MODEL_7def90d16b5446feb222a9b08f569bea",
              "IPY_MODEL_719bfb483ad84995968514f370b1f0b7"
            ]
          }
        },
        "567407dd872a42a59cdd3b54a821b337": {
          "model_module": "@jupyter-widgets/base",
          "model_name": "LayoutModel",
          "state": {
            "_view_name": "LayoutView",
            "grid_template_rows": null,
            "right": null,
            "justify_content": null,
            "_view_module": "@jupyter-widgets/base",
            "overflow": null,
            "_model_module_version": "1.2.0",
            "_view_count": null,
            "flex_flow": null,
            "width": null,
            "min_width": null,
            "border": null,
            "align_items": null,
            "bottom": null,
            "_model_module": "@jupyter-widgets/base",
            "top": null,
            "grid_column": null,
            "overflow_y": null,
            "overflow_x": null,
            "grid_auto_flow": null,
            "grid_area": null,
            "grid_template_columns": null,
            "flex": null,
            "_model_name": "LayoutModel",
            "justify_items": null,
            "grid_row": null,
            "max_height": null,
            "align_content": null,
            "visibility": null,
            "align_self": null,
            "height": null,
            "min_height": null,
            "padding": null,
            "grid_auto_rows": null,
            "grid_gap": null,
            "max_width": null,
            "order": null,
            "_view_module_version": "1.2.0",
            "grid_template_areas": null,
            "object_position": null,
            "object_fit": null,
            "grid_auto_columns": null,
            "margin": null,
            "display": null,
            "left": null
          }
        },
        "7def90d16b5446feb222a9b08f569bea": {
          "model_module": "@jupyter-widgets/controls",
          "model_name": "FloatProgressModel",
          "state": {
            "_view_name": "ProgressView",
            "style": "IPY_MODEL_839a86f025534365aef1935ef0dd8403",
            "_dom_classes": [],
            "description": "",
            "_model_name": "FloatProgressModel",
            "bar_style": "success",
            "max": 1,
            "_view_module": "@jupyter-widgets/controls",
            "_model_module_version": "1.5.0",
            "value": 1,
            "_view_count": null,
            "_view_module_version": "1.5.0",
            "orientation": "horizontal",
            "min": 0,
            "description_tooltip": null,
            "_model_module": "@jupyter-widgets/controls",
            "layout": "IPY_MODEL_47905c745076412dbd7abfff8627820a"
          }
        },
        "719bfb483ad84995968514f370b1f0b7": {
          "model_module": "@jupyter-widgets/controls",
          "model_name": "HTMLModel",
          "state": {
            "_view_name": "HTMLView",
            "style": "IPY_MODEL_c98bc7b19ba844ed87745b32d88f5f82",
            "_dom_classes": [],
            "description": "",
            "_model_name": "HTMLModel",
            "placeholder": "​",
            "_view_module": "@jupyter-widgets/controls",
            "_model_module_version": "1.5.0",
            "value": " 1654784/? [00:00&lt;00:00, 3150983.02it/s]",
            "_view_count": null,
            "_view_module_version": "1.5.0",
            "description_tooltip": null,
            "_model_module": "@jupyter-widgets/controls",
            "layout": "IPY_MODEL_4027e120fa2e40d3827ced1dc0fc1d31"
          }
        },
        "839a86f025534365aef1935ef0dd8403": {
          "model_module": "@jupyter-widgets/controls",
          "model_name": "ProgressStyleModel",
          "state": {
            "_view_name": "StyleView",
            "_model_name": "ProgressStyleModel",
            "description_width": "initial",
            "_view_module": "@jupyter-widgets/base",
            "_model_module_version": "1.5.0",
            "_view_count": null,
            "_view_module_version": "1.2.0",
            "bar_color": null,
            "_model_module": "@jupyter-widgets/controls"
          }
        },
        "47905c745076412dbd7abfff8627820a": {
          "model_module": "@jupyter-widgets/base",
          "model_name": "LayoutModel",
          "state": {
            "_view_name": "LayoutView",
            "grid_template_rows": null,
            "right": null,
            "justify_content": null,
            "_view_module": "@jupyter-widgets/base",
            "overflow": null,
            "_model_module_version": "1.2.0",
            "_view_count": null,
            "flex_flow": null,
            "width": null,
            "min_width": null,
            "border": null,
            "align_items": null,
            "bottom": null,
            "_model_module": "@jupyter-widgets/base",
            "top": null,
            "grid_column": null,
            "overflow_y": null,
            "overflow_x": null,
            "grid_auto_flow": null,
            "grid_area": null,
            "grid_template_columns": null,
            "flex": null,
            "_model_name": "LayoutModel",
            "justify_items": null,
            "grid_row": null,
            "max_height": null,
            "align_content": null,
            "visibility": null,
            "align_self": null,
            "height": null,
            "min_height": null,
            "padding": null,
            "grid_auto_rows": null,
            "grid_gap": null,
            "max_width": null,
            "order": null,
            "_view_module_version": "1.2.0",
            "grid_template_areas": null,
            "object_position": null,
            "object_fit": null,
            "grid_auto_columns": null,
            "margin": null,
            "display": null,
            "left": null
          }
        },
        "c98bc7b19ba844ed87745b32d88f5f82": {
          "model_module": "@jupyter-widgets/controls",
          "model_name": "DescriptionStyleModel",
          "state": {
            "_view_name": "StyleView",
            "_model_name": "DescriptionStyleModel",
            "description_width": "",
            "_view_module": "@jupyter-widgets/base",
            "_model_module_version": "1.5.0",
            "_view_count": null,
            "_view_module_version": "1.2.0",
            "_model_module": "@jupyter-widgets/controls"
          }
        },
        "4027e120fa2e40d3827ced1dc0fc1d31": {
          "model_module": "@jupyter-widgets/base",
          "model_name": "LayoutModel",
          "state": {
            "_view_name": "LayoutView",
            "grid_template_rows": null,
            "right": null,
            "justify_content": null,
            "_view_module": "@jupyter-widgets/base",
            "overflow": null,
            "_model_module_version": "1.2.0",
            "_view_count": null,
            "flex_flow": null,
            "width": null,
            "min_width": null,
            "border": null,
            "align_items": null,
            "bottom": null,
            "_model_module": "@jupyter-widgets/base",
            "top": null,
            "grid_column": null,
            "overflow_y": null,
            "overflow_x": null,
            "grid_auto_flow": null,
            "grid_area": null,
            "grid_template_columns": null,
            "flex": null,
            "_model_name": "LayoutModel",
            "justify_items": null,
            "grid_row": null,
            "max_height": null,
            "align_content": null,
            "visibility": null,
            "align_self": null,
            "height": null,
            "min_height": null,
            "padding": null,
            "grid_auto_rows": null,
            "grid_gap": null,
            "max_width": null,
            "order": null,
            "_view_module_version": "1.2.0",
            "grid_template_areas": null,
            "object_position": null,
            "object_fit": null,
            "grid_auto_columns": null,
            "margin": null,
            "display": null,
            "left": null
          }
        },
        "c0cb66f3d51b415a867d1538bd6b5920": {
          "model_module": "@jupyter-widgets/controls",
          "model_name": "HBoxModel",
          "state": {
            "_view_name": "HBoxView",
            "_dom_classes": [],
            "_model_name": "HBoxModel",
            "_view_module": "@jupyter-widgets/controls",
            "_model_module_version": "1.5.0",
            "_view_count": null,
            "_view_module_version": "1.5.0",
            "box_style": "",
            "layout": "IPY_MODEL_08b43a5ac53f400ca4a851c20dce8d66",
            "_model_module": "@jupyter-widgets/controls",
            "children": [
              "IPY_MODEL_693e901cd3eb4177917ff220c0147b32",
              "IPY_MODEL_af81a6c6859244e4a8bc039e36bf1c5e"
            ]
          }
        },
        "08b43a5ac53f400ca4a851c20dce8d66": {
          "model_module": "@jupyter-widgets/base",
          "model_name": "LayoutModel",
          "state": {
            "_view_name": "LayoutView",
            "grid_template_rows": null,
            "right": null,
            "justify_content": null,
            "_view_module": "@jupyter-widgets/base",
            "overflow": null,
            "_model_module_version": "1.2.0",
            "_view_count": null,
            "flex_flow": null,
            "width": null,
            "min_width": null,
            "border": null,
            "align_items": null,
            "bottom": null,
            "_model_module": "@jupyter-widgets/base",
            "top": null,
            "grid_column": null,
            "overflow_y": null,
            "overflow_x": null,
            "grid_auto_flow": null,
            "grid_area": null,
            "grid_template_columns": null,
            "flex": null,
            "_model_name": "LayoutModel",
            "justify_items": null,
            "grid_row": null,
            "max_height": null,
            "align_content": null,
            "visibility": null,
            "align_self": null,
            "height": null,
            "min_height": null,
            "padding": null,
            "grid_auto_rows": null,
            "grid_gap": null,
            "max_width": null,
            "order": null,
            "_view_module_version": "1.2.0",
            "grid_template_areas": null,
            "object_position": null,
            "object_fit": null,
            "grid_auto_columns": null,
            "margin": null,
            "display": null,
            "left": null
          }
        },
        "693e901cd3eb4177917ff220c0147b32": {
          "model_module": "@jupyter-widgets/controls",
          "model_name": "FloatProgressModel",
          "state": {
            "_view_name": "ProgressView",
            "style": "IPY_MODEL_e55e22571c264b1a904f5557d2d0b237",
            "_dom_classes": [],
            "description": "",
            "_model_name": "FloatProgressModel",
            "bar_style": "success",
            "max": 1,
            "_view_module": "@jupyter-widgets/controls",
            "_model_module_version": "1.5.0",
            "value": 1,
            "_view_count": null,
            "_view_module_version": "1.5.0",
            "orientation": "horizontal",
            "min": 0,
            "description_tooltip": null,
            "_model_module": "@jupyter-widgets/controls",
            "layout": "IPY_MODEL_63ee5f7fcc904b18be6a3d989420c309"
          }
        },
        "af81a6c6859244e4a8bc039e36bf1c5e": {
          "model_module": "@jupyter-widgets/controls",
          "model_name": "HTMLModel",
          "state": {
            "_view_name": "HTMLView",
            "style": "IPY_MODEL_ddc4ce7aa9eb4d1988eb3e2313f68227",
            "_dom_classes": [],
            "description": "",
            "_model_name": "HTMLModel",
            "placeholder": "​",
            "_view_module": "@jupyter-widgets/controls",
            "_model_module_version": "1.5.0",
            "value": " 8192/? [00:00&lt;00:00, 27456.91it/s]",
            "_view_count": null,
            "_view_module_version": "1.5.0",
            "description_tooltip": null,
            "_model_module": "@jupyter-widgets/controls",
            "layout": "IPY_MODEL_a770f3d141e2476bb18353a9f2f1df03"
          }
        },
        "e55e22571c264b1a904f5557d2d0b237": {
          "model_module": "@jupyter-widgets/controls",
          "model_name": "ProgressStyleModel",
          "state": {
            "_view_name": "StyleView",
            "_model_name": "ProgressStyleModel",
            "description_width": "initial",
            "_view_module": "@jupyter-widgets/base",
            "_model_module_version": "1.5.0",
            "_view_count": null,
            "_view_module_version": "1.2.0",
            "bar_color": null,
            "_model_module": "@jupyter-widgets/controls"
          }
        },
        "63ee5f7fcc904b18be6a3d989420c309": {
          "model_module": "@jupyter-widgets/base",
          "model_name": "LayoutModel",
          "state": {
            "_view_name": "LayoutView",
            "grid_template_rows": null,
            "right": null,
            "justify_content": null,
            "_view_module": "@jupyter-widgets/base",
            "overflow": null,
            "_model_module_version": "1.2.0",
            "_view_count": null,
            "flex_flow": null,
            "width": null,
            "min_width": null,
            "border": null,
            "align_items": null,
            "bottom": null,
            "_model_module": "@jupyter-widgets/base",
            "top": null,
            "grid_column": null,
            "overflow_y": null,
            "overflow_x": null,
            "grid_auto_flow": null,
            "grid_area": null,
            "grid_template_columns": null,
            "flex": null,
            "_model_name": "LayoutModel",
            "justify_items": null,
            "grid_row": null,
            "max_height": null,
            "align_content": null,
            "visibility": null,
            "align_self": null,
            "height": null,
            "min_height": null,
            "padding": null,
            "grid_auto_rows": null,
            "grid_gap": null,
            "max_width": null,
            "order": null,
            "_view_module_version": "1.2.0",
            "grid_template_areas": null,
            "object_position": null,
            "object_fit": null,
            "grid_auto_columns": null,
            "margin": null,
            "display": null,
            "left": null
          }
        },
        "ddc4ce7aa9eb4d1988eb3e2313f68227": {
          "model_module": "@jupyter-widgets/controls",
          "model_name": "DescriptionStyleModel",
          "state": {
            "_view_name": "StyleView",
            "_model_name": "DescriptionStyleModel",
            "description_width": "",
            "_view_module": "@jupyter-widgets/base",
            "_model_module_version": "1.5.0",
            "_view_count": null,
            "_view_module_version": "1.2.0",
            "_model_module": "@jupyter-widgets/controls"
          }
        },
        "a770f3d141e2476bb18353a9f2f1df03": {
          "model_module": "@jupyter-widgets/base",
          "model_name": "LayoutModel",
          "state": {
            "_view_name": "LayoutView",
            "grid_template_rows": null,
            "right": null,
            "justify_content": null,
            "_view_module": "@jupyter-widgets/base",
            "overflow": null,
            "_model_module_version": "1.2.0",
            "_view_count": null,
            "flex_flow": null,
            "width": null,
            "min_width": null,
            "border": null,
            "align_items": null,
            "bottom": null,
            "_model_module": "@jupyter-widgets/base",
            "top": null,
            "grid_column": null,
            "overflow_y": null,
            "overflow_x": null,
            "grid_auto_flow": null,
            "grid_area": null,
            "grid_template_columns": null,
            "flex": null,
            "_model_name": "LayoutModel",
            "justify_items": null,
            "grid_row": null,
            "max_height": null,
            "align_content": null,
            "visibility": null,
            "align_self": null,
            "height": null,
            "min_height": null,
            "padding": null,
            "grid_auto_rows": null,
            "grid_gap": null,
            "max_width": null,
            "order": null,
            "_view_module_version": "1.2.0",
            "grid_template_areas": null,
            "object_position": null,
            "object_fit": null,
            "grid_auto_columns": null,
            "margin": null,
            "display": null,
            "left": null
          }
        }
      }
    }
  },
  "cells": [
    {
      "cell_type": "markdown",
      "metadata": {
        "id": "view-in-github",
        "colab_type": "text"
      },
      "source": [
        "<a href=\"https://colab.research.google.com/github/MichelleAppel/Importance_sampling/blob/master/toy_examples_demo/n_centered_moment_MNIST_embeddingnet_2classes.ipynb\" target=\"_parent\"><img src=\"https://colab.research.google.com/assets/colab-badge.svg\" alt=\"Open In Colab\"/></a>"
      ]
    },
    {
      "cell_type": "code",
      "metadata": {
        "id": "jFffV8slk-gP"
      },
      "source": [
        "import torch\n",
        "import torch.nn as nn\n",
        "import torch.nn.functional as F\n",
        "import torch.optim as optim\n",
        "import torchvision\n",
        "from torch.utils.data import Dataset, DataLoader\n",
        "from torchvision.utils import make_grid\n",
        "\n",
        "from sklearn.decomposition import PCA\n",
        "\n",
        "import numpy as np\n",
        "import math\n",
        "import itertools\n",
        "\n",
        "from scipy import signal\n",
        "\n",
        "import matplotlib.pyplot as plt"
      ],
      "execution_count": 1,
      "outputs": []
    },
    {
      "cell_type": "markdown",
      "metadata": {
        "id": "oValuDnTk-gO"
      },
      "source": [
        "# Toy example MNIST with PCA embeddings (one-sided)"
      ]
    },
    {
      "cell_type": "code",
      "metadata": {
        "id": "nVvwqfTjHbxK"
      },
      "source": [
        "def MNIST_data(distribution=[0.1, 0.1, 0.1, 0.1, 0.1, 0.1, 0.1, 0.1, 0.1, 0.1], one_hot_labels=False):\n",
        "    # distribution: distribution for each label\n",
        "    # returns (data, labels) for MNIST with all the classes; zeroes and ones have the given distribution\n",
        "\n",
        "    MNIST = torchvision.datasets.MNIST('/files/', train=True, download=True,\n",
        "                             transform=torchvision.transforms.Compose([\n",
        "                               torchvision.transforms.ToTensor(),\n",
        "                               torchvision.transforms.Normalize(\n",
        "                                 (0.1307,), (0.3081,))\n",
        "                             ]))\n",
        "    \n",
        "    distribution /= np.array(distribution).sum()\n",
        "    \n",
        "    # bool mask for each label\n",
        "    idxm = [MNIST.targets==label for label in range(len(distribution))]\n",
        "    min_idx = torch.Tensor([sum(i) for i in idxm]).min().int().item()\n",
        "    tot_idx = torch.Tensor([sum(i) for i in idxm]).sum().int().item()\n",
        "\n",
        "    # list of indices for each label\n",
        "    idx = [np.where(idxm[label])[0] for label in range(len(distribution))]\n",
        "    \n",
        "    len_idx = torch.Tensor([len(i) for i in idx])\n",
        "    wanted_len = torch.Tensor([d*tot_idx for d in distribution])\n",
        "    \n",
        "    min_class = ((len_idx/wanted_len).argmin())\n",
        "    min = ((len_idx/wanted_len).min().item())\n",
        "\n",
        "    if min < 1:\n",
        "      distribution *= min\n",
        "\n",
        "    valid_idx = []\n",
        "    class_len = [math.floor(d*tot_idx) for d in distribution]\n",
        "    for label, length in enumerate(class_len):\n",
        "      valid_idx += idx[label][:length].tolist()\n",
        "\n",
        "    valid_idx = np.array(valid_idx)\n",
        "    np.random.shuffle(valid_idx)\n",
        "\n",
        "    # assign the new data and labels to the dataset\n",
        "    if one_hot_labels:\n",
        "      MNIST.targets = torch.nn.functional.one_hot(MNIST.targets[valid_idx])\n",
        "    else:\n",
        "      MNIST.targets = MNIST.targets[valid_idx]\n",
        "    MNIST.data = MNIST.data[valid_idx]\n",
        "\n",
        "    return MNIST "
      ],
      "execution_count": 2,
      "outputs": []
    },
    {
      "cell_type": "code",
      "metadata": {
        "colab": {
          "base_uri": "https://localhost:8080/",
          "height": 624,
          "referenced_widgets": [
            "3ea0ad25919e4b88b851433ce260bb8e",
            "4b3966f5b9dd49678b3bb47154d8a848",
            "b876fc6e141c41da8c1c4d8537eb6bf9",
            "5ef281c8ca4d4f75ba2c9ffc51a8bf9d",
            "be267f07eb2140789d356d892a96ee28",
            "21d3ec6d7ae94a019288ad002b52dce0",
            "c3b4c8a5c24e452395a66511ea7fa97e",
            "c1fb276ae21540259c349e16fdb49b6e",
            "976ccf11906d4d1abd86b3de2a8a435a",
            "2a23ea8f8fab4f31940e33f6e599143a",
            "27d2604c86df499188c62fbd7169b5df",
            "057d9404ca0848a4bbe346f641130611",
            "300d2893404246ae9260356421a73d8d",
            "8b628299723543e098df46110731b5f8",
            "52d7311a7a44494198a2796d91fe46a9",
            "f87b55de64d14f478b75f9eaebfb2b93",
            "b886c966cdf542299c7c5c8cf9b09820",
            "567407dd872a42a59cdd3b54a821b337",
            "7def90d16b5446feb222a9b08f569bea",
            "719bfb483ad84995968514f370b1f0b7",
            "839a86f025534365aef1935ef0dd8403",
            "47905c745076412dbd7abfff8627820a",
            "c98bc7b19ba844ed87745b32d88f5f82",
            "4027e120fa2e40d3827ced1dc0fc1d31",
            "c0cb66f3d51b415a867d1538bd6b5920",
            "08b43a5ac53f400ca4a851c20dce8d66",
            "693e901cd3eb4177917ff220c0147b32",
            "af81a6c6859244e4a8bc039e36bf1c5e",
            "e55e22571c264b1a904f5557d2d0b237",
            "63ee5f7fcc904b18be6a3d989420c309",
            "ddc4ce7aa9eb4d1988eb3e2313f68227",
            "a770f3d141e2476bb18353a9f2f1df03"
          ]
        },
        "id": "U7umJfjtqQLC",
        "outputId": "4cc0a801-e7de-43fa-e75e-c7f6ba55f2f0"
      },
      "source": [
        "MNIST_data([0.5, 0.5])"
      ],
      "execution_count": 3,
      "outputs": [
        {
          "output_type": "stream",
          "text": [
            "Downloading http://yann.lecun.com/exdb/mnist/train-images-idx3-ubyte.gz to /files/MNIST/raw/train-images-idx3-ubyte.gz\n"
          ],
          "name": "stdout"
        },
        {
          "output_type": "display_data",
          "data": {
            "application/vnd.jupyter.widget-view+json": {
              "model_id": "3ea0ad25919e4b88b851433ce260bb8e",
              "version_minor": 0,
              "version_major": 2
            },
            "text/plain": [
              "HBox(children=(FloatProgress(value=1.0, bar_style='info', max=1.0), HTML(value='')))"
            ]
          },
          "metadata": {
            "tags": []
          }
        },
        {
          "output_type": "stream",
          "text": [
            "Extracting /files/MNIST/raw/train-images-idx3-ubyte.gz to /files/MNIST/raw\n",
            "Downloading http://yann.lecun.com/exdb/mnist/train-labels-idx1-ubyte.gz to /files/MNIST/raw/train-labels-idx1-ubyte.gz\n",
            "\n"
          ],
          "name": "stdout"
        },
        {
          "output_type": "display_data",
          "data": {
            "application/vnd.jupyter.widget-view+json": {
              "model_id": "976ccf11906d4d1abd86b3de2a8a435a",
              "version_minor": 0,
              "version_major": 2
            },
            "text/plain": [
              "HBox(children=(FloatProgress(value=1.0, bar_style='info', max=1.0), HTML(value='')))"
            ]
          },
          "metadata": {
            "tags": []
          }
        },
        {
          "output_type": "stream",
          "text": [
            "Extracting /files/MNIST/raw/train-labels-idx1-ubyte.gz to /files/MNIST/raw\n",
            "Downloading http://yann.lecun.com/exdb/mnist/t10k-images-idx3-ubyte.gz to /files/MNIST/raw/t10k-images-idx3-ubyte.gz\n"
          ],
          "name": "stdout"
        },
        {
          "output_type": "display_data",
          "data": {
            "application/vnd.jupyter.widget-view+json": {
              "model_id": "b886c966cdf542299c7c5c8cf9b09820",
              "version_minor": 0,
              "version_major": 2
            },
            "text/plain": [
              "HBox(children=(FloatProgress(value=1.0, bar_style='info', max=1.0), HTML(value='')))"
            ]
          },
          "metadata": {
            "tags": []
          }
        },
        {
          "output_type": "stream",
          "text": [
            "Extracting /files/MNIST/raw/t10k-images-idx3-ubyte.gz to /files/MNIST/raw\n",
            "Downloading http://yann.lecun.com/exdb/mnist/t10k-labels-idx1-ubyte.gz to /files/MNIST/raw/t10k-labels-idx1-ubyte.gz\n"
          ],
          "name": "stdout"
        },
        {
          "output_type": "display_data",
          "data": {
            "application/vnd.jupyter.widget-view+json": {
              "model_id": "c0cb66f3d51b415a867d1538bd6b5920",
              "version_minor": 0,
              "version_major": 2
            },
            "text/plain": [
              "HBox(children=(FloatProgress(value=1.0, bar_style='info', max=1.0), HTML(value='')))"
            ]
          },
          "metadata": {
            "tags": []
          }
        },
        {
          "output_type": "stream",
          "text": [
            "Extracting /files/MNIST/raw/t10k-labels-idx1-ubyte.gz to /files/MNIST/raw\n",
            "Processing...\n",
            "Done!\n"
          ],
          "name": "stdout"
        },
        {
          "output_type": "stream",
          "text": [
            "/usr/local/lib/python3.6/dist-packages/torchvision/datasets/mnist.py:480: UserWarning: The given NumPy array is not writeable, and PyTorch does not support non-writeable tensors. This means you can write to the underlying (supposedly non-writeable) NumPy array using the tensor. You may want to copy the array to protect its data or make it writeable before converting it to a tensor. This type of warning will be suppressed for the rest of this program. (Triggered internally at  /pytorch/torch/csrc/utils/tensor_numpy.cpp:141.)\n",
            "  return torch.from_numpy(parsed.astype(m[2], copy=False)).view(*s)\n"
          ],
          "name": "stderr"
        },
        {
          "output_type": "stream",
          "text": [
            "\n",
            "\n",
            "\n"
          ],
          "name": "stdout"
        },
        {
          "output_type": "execute_result",
          "data": {
            "text/plain": [
              "Dataset MNIST\n",
              "    Number of datapoints: 11846\n",
              "    Root location: /files/\n",
              "    Split: Train\n",
              "    StandardTransform\n",
              "Transform: Compose(\n",
              "               ToTensor()\n",
              "               Normalize(mean=(0.1307,), std=(0.3081,))\n",
              "           )"
            ]
          },
          "metadata": {
            "tags": []
          },
          "execution_count": 3
        }
      ]
    },
    {
      "cell_type": "code",
      "metadata": {
        "id": "r2kQeQqIk-gZ"
      },
      "source": [
        "class MNISTDataset(Dataset):\n",
        "    '''The dataset for the MNIST binary data\n",
        "    '''\n",
        "    def __init__(self, distribution=[0.1, 0.1, 0.1, 0.1, 0.1, 0.1, 0.1, 0.1, 0.1, 0.1], one_hot_labels=False):\n",
        "\n",
        "        self.distribution = distribution        \n",
        "        self.dataset = MNIST_data(distribution=self.distribution, one_hot_labels=one_hot_labels)\n",
        "        self.example_imgs = self.example()\n",
        "        \n",
        "        # to take out in real applications\n",
        "        self.unique_labels = torch.unique(self.dataset.targets)[:len(distribution)]\n",
        "\n",
        "    def example(self):\n",
        "        '''\n",
        "        Returns an example from each digit in the domain\n",
        "        \n",
        "        '''\n",
        "        labels = self.dataset.targets\n",
        "        data = self.dataset.data\n",
        "        '''img0 = data[labels==0][0].unsqueeze(0)\n",
        "        img1 = data[labels==1][0].unsqueeze(0)\n",
        "        img2 = data[labels==2][0].unsqueeze(0)\n",
        "        img3 = data[labels==3][0].unsqueeze(0)\n",
        "        img4 = data[labels==4][0].unsqueeze(0)\n",
        "        img5 = data[labels==5][0].unsqueeze(0)\n",
        "        img6 = data[labels==6][0].unsqueeze(0)\n",
        "        img7 = data[labels==7][0].unsqueeze(0)\n",
        "        img8 = data[labels==8][0].unsqueeze(0)\n",
        "        img9 = data[labels==9][0].unsqueeze(0)\n",
        "        ex = torch.cat((img0, img1, img2, img3, img4, img5, img6, img7, img8, img9), 0)'''\n",
        "        img = []\n",
        "        for label in torch.unique(labels)[:len(self.distribution)]:\n",
        "          img = img + [data[labels==label][0].unsqueeze(0)]\n",
        "        ex = torch.cat(img, 0)\n",
        "              \n",
        "        return ex\n",
        "\n",
        "    def __len__(self):\n",
        "        return len(self.dataset)\n",
        "    \n",
        "    def __getitem__(self, idx):      \n",
        "        return self.dataset[idx]"
      ],
      "execution_count": 4,
      "outputs": []
    },
    {
      "cell_type": "markdown",
      "metadata": {
        "id": "kV_U-4hNHbx1"
      },
      "source": [
        "In this example we have 2 domains with 10 classes. Only the first two classes have a different probability."
      ]
    },
    {
      "cell_type": "code",
      "metadata": {
        "id": "CbbBXC3zk-gb"
      },
      "source": [
        "batch_size = 256\n",
        "\n",
        "# Settings for domain A\n",
        "# dataset_A = MNISTDataset(distribution=[0.05, 0.15, 0.1, 0.1, 0.1, 0.1, 0.1, 0.1, 0.1, 0.1])\n",
        "dataset_A = MNISTDataset(distribution=[0.2, 0.8])\n",
        "dataloader_A = DataLoader(dataset_A, batch_size, shuffle=True)\n",
        "\n",
        "# Settings for domain B\n",
        "# dataset_B = MNISTDataset(distribution=[0.1, 0.1, 0.1, 0.1, 0.1, 0.1, 0.1, 0.1, 0.1, 0.1])\n",
        "dataset_B = MNISTDataset(distribution=[0.5, 0.5])\n",
        "dataloader_B = DataLoader(dataset_B, batch_size, shuffle=True)"
      ],
      "execution_count": 19,
      "outputs": []
    },
    {
      "cell_type": "code",
      "metadata": {
        "id": "UIgeSM6Kk-gi"
      },
      "source": [
        "class WeightNet(nn.Module):\n",
        "    '''A simple network that predicts the importances of the samples'''\n",
        "\n",
        "    def __init__(self):\n",
        "        super(WeightNet, self).__init__()\n",
        "        self.softmax = nn.Softmax(dim=0)\n",
        "\n",
        "        self.conv1 = nn.Conv2d(1, 10, kernel_size=5)\n",
        "        self.conv2 = nn.Conv2d(10, 20, kernel_size=5)\n",
        "        self.fc1 = nn.Linear(320, 40)\n",
        "        self.fc2 = nn.Linear(40, 1)\n",
        "        \n",
        "    def forward(self, x):\n",
        "        h1 = torch.sigmoid(F.max_pool2d(self.conv1(x), 2))\n",
        "        h2 = torch.sigmoid(F.max_pool2d(self.conv2(h1), 2))\n",
        "        h3 = h2.view(-1, 320)\n",
        "        h4 = torch.sigmoid(self.fc1(h3))\n",
        "        out = self.fc2(h4)\n",
        "        return self.softmax(out), out"
      ],
      "execution_count": 20,
      "outputs": []
    },
    {
      "cell_type": "code",
      "metadata": {
        "id": "W4tjLGL-430I"
      },
      "source": [
        "class EmbeddingNet(nn.Module):\r\n",
        "    '''A simple network that predicts the importances of the samples'''\r\n",
        "\r\n",
        "    def __init__(self):\r\n",
        "        super(EmbeddingNet, self).__init__()\r\n",
        "        self.softmax = nn.Softmax(dim=0)\r\n",
        "\r\n",
        "        self.conv1 = nn.Conv2d(1, 10, kernel_size=5)\r\n",
        "        self.conv2 = nn.Conv2d(10, 20, kernel_size=5)\r\n",
        "        self.fc1 = nn.Linear(320, 40)\r\n",
        "        self.fc2 = nn.Linear(40, 10)\r\n",
        "        self.relu = nn.ReLU()\r\n",
        "        \r\n",
        "    def forward(self, x):\r\n",
        "        h1 = torch.relu(F.max_pool2d(self.conv1(x), 2))\r\n",
        "        h2 = torch.relu(F.max_pool2d(self.conv2(h1), 2))\r\n",
        "        h3 = h2.view(-1, 320)\r\n",
        "        h4 = torch.relu(self.fc1(h3))\r\n",
        "        out = self.fc2(h4)\r\n",
        "        return self.softmax(out), out"
      ],
      "execution_count": 21,
      "outputs": []
    },
    {
      "cell_type": "code",
      "metadata": {
        "id": "ApJOqpacoJ4C"
      },
      "source": [
        "def n_centered_moment(x, w, n):\n",
        "  if n > 1:\n",
        "    c = n_centered_moment(x, w, 1)\n",
        "  else:\n",
        "    c = 0\n",
        "  return (((x - c)**n)*w).sum(0)"
      ],
      "execution_count": 22,
      "outputs": []
    },
    {
      "cell_type": "code",
      "metadata": {
        "id": "2fbAA3yD43jw"
      },
      "source": [
        "def raw_to_onehot(labels, n_classes):\n",
        "  onehot = torch.zeros(len(labels), n_classes)\n",
        "  for c in labels.unique():\n",
        "    onehot[labels==c, c] = 1\n",
        "  return onehot"
      ],
      "execution_count": 23,
      "outputs": []
    },
    {
      "cell_type": "code",
      "metadata": {
        "id": "KV18Gu-Xk-gl",
        "colab": {
          "base_uri": "https://localhost:8080/"
        },
        "outputId": "2b8f8aaf-ebf5-44f1-edfc-3c3af88b14d5"
      },
      "source": [
        "# Initialize the networks\n",
        "weight_network = WeightNet().cuda()\n",
        "embedding_network = EmbeddingNet().cuda()\n",
        "\n",
        "# Initialize the optimizers\n",
        "lr = 0.001\n",
        "optimizer_w = optim.Adam(weight_network.parameters(), lr=lr)\n",
        "optimizer_e = optim.Adam(embedding_network.parameters(), lr=lr)\n",
        "\n",
        "# For storing results\n",
        "losses_w = []\n",
        "\n",
        "means_A = []\n",
        "means_B = []\n",
        "\n",
        "vars_A = []\n",
        "vars_B = []\n",
        "\n",
        "moments_A = []\n",
        "moments_B = []\n",
        "\n",
        "example_importances_A = []\n",
        "\n",
        "n = 1 # n-centered moment\n",
        "n_classes = len(dataset_A.distribution)\n",
        "\n",
        "pca = PCA(n_components=10)\n",
        "\n",
        "for epoch in range(10):\n",
        "    for i, (real_A, real_B) in enumerate(zip(dataloader_A, dataloader_B)):\n",
        "        \n",
        "        img_A = real_A[0].cuda()\n",
        "        img_B = real_B[0].cuda()\n",
        "\n",
        "        label_A = raw_to_onehot(real_A[1], n_classes).cuda()\n",
        "        label_B = raw_to_onehot(real_B[1], n_classes).cuda()\n",
        "\n",
        "        if epoch == 0 and i == 0:\n",
        "          embedding = pca.fit(torch.cat((img_A.view(-1, 28*28), img_B.view(-1, 28*28))).cpu())\n",
        "\n",
        "        # The embeddings\n",
        "        e_A = embedding_network(img_A)[1].detach()\n",
        "        e_B = embedding_network(img_B)[1].detach()\n",
        "\n",
        "        e_A = torch.Tensor(embedding.transform(img_A.view(-1, 28*28).cpu())).cuda()\n",
        "        e_B = torch.Tensor(embedding.transform(img_B.view(-1, 28*28).cpu())).cuda()\n",
        "\n",
        "        # e_A = label_A\n",
        "        # e_B = label_B\n",
        "\n",
        "        # The weighting process\n",
        "        w_A = weight_network(img_A)[0]\n",
        "        w_B = 1/len(img_B)\n",
        "\n",
        "        # The loss function --------------------------------------------------------------------------------\n",
        "        n_centered_moment_A = n_centered_moment(e_A, w_A, n)\n",
        "        n_centered_moment_B = n_centered_moment(e_B, w_B, n)\n",
        "        loss_w = ((n_centered_moment_A - n_centered_moment_B)**2).sum()\n",
        "\n",
        "        # ---------------------------------------------------------------------------------------------------\n",
        "\n",
        "        # Backward\n",
        "        optimizer_w.zero_grad()\n",
        "        optimizer_e.zero_grad()\n",
        "\n",
        "        loss_w.backward()\n",
        "        \n",
        "        optimizer_w.step() \n",
        "        optimizer_e.step()     \n",
        "\n",
        "        # Store values --------------------------------------------------------------------------------------\n",
        "        moments_A += [n_centered_moment_A.cpu().detach().numpy()]\n",
        "        moments_B += [n_centered_moment_B.cpu().detach().numpy()]\n",
        "\n",
        "        means_A += [n_centered_moment(label_A, w_A, 1).detach().cpu().numpy()]\n",
        "        means_B += [n_centered_moment(label_B, w_B, 1).detach().cpu().numpy()]\n",
        "\n",
        "        vars_A += [n_centered_moment(label_A, w_A, 2).detach().cpu().numpy()]\n",
        "        vars_B += [n_centered_moment(label_B, w_B, 2).detach().cpu().numpy()]    \n",
        "\n",
        "        losses_w += [loss_w.item()]\n",
        "        \n",
        "        w_a = weight_network(dataset_A.example_imgs.cuda().unsqueeze(1).float())\n",
        "        example_importances_A += [[importance.item() for importance in w_a[0]]] # Store examples in a list\n",
        "\n",
        "        # ---------------------------------------------------------------------------------------------------\n",
        "\n",
        "        # Print statistics\n",
        "        if i % 50 == 0:\n",
        "            print('step', i, 'loss_w: ', loss_w.item())\n",
        "            \n",
        "        if i % 10000 == 0 and i != 0:\n",
        "            break"
      ],
      "execution_count": 24,
      "outputs": [
        {
          "output_type": "stream",
          "text": [
            "step 0 loss_w:  54.377254486083984\n",
            "step 0 loss_w:  6.537103176116943\n",
            "step 0 loss_w:  0.7738491296768188\n",
            "step 0 loss_w:  3.964946985244751\n",
            "step 0 loss_w:  1.487281322479248\n",
            "step 0 loss_w:  5.564612865447998\n",
            "step 0 loss_w:  1.3147450685501099\n",
            "step 0 loss_w:  1.319482445716858\n",
            "step 0 loss_w:  2.728987216949463\n",
            "step 0 loss_w:  3.678927183151245\n"
          ],
          "name": "stdout"
        }
      ]
    },
    {
      "cell_type": "code",
      "metadata": {
        "id": "oIcZei-plaxu"
      },
      "source": [
        "moments_A = torch.Tensor(moments_A)\r\n",
        "moments_B = torch.Tensor(moments_B)\r\n",
        "means_A = torch.Tensor(means_A)\r\n",
        "means_B = torch.Tensor(means_B)\r\n",
        "vars_A = torch.Tensor(vars_A)\r\n",
        "vars_B = torch.Tensor(vars_B)"
      ],
      "execution_count": 25,
      "outputs": []
    },
    {
      "cell_type": "code",
      "metadata": {
        "id": "NLqnWNZbd60y"
      },
      "source": [
        "# for c in range(n_classes):\r\n",
        "#   plt.scatter(e_A.cpu()[real_A[1]==c][:, 0], e_A.cpu()[real_A[1]==c][:, 1])\r\n",
        "# plt.title('PCA of domain A')\r\n",
        "# plt.show()\r\n",
        "\r\n",
        "# for c in range(n_classes):\r\n",
        "#   plt.scatter(e_B.cpu()[real_B[1]==c][:, 0], e_B.cpu()[real_B[1]==c][:, 1])\r\n",
        "# plt.title('PCA of domain B')\r\n",
        "# plt.legend(np.arange(n_classes))\r\n",
        "# plt.show()"
      ],
      "execution_count": 26,
      "outputs": []
    },
    {
      "cell_type": "markdown",
      "metadata": {
        "id": "IzDBcvmDHby4"
      },
      "source": [
        "## Results\n",
        "In the plot below we see that the loss of W is going down."
      ]
    },
    {
      "cell_type": "code",
      "metadata": {
        "id": "Bx6S16dbk-go",
        "colab": {
          "base_uri": "https://localhost:8080/",
          "height": 404
        },
        "outputId": "024d7924-880b-4c9e-da2c-e13cd1955672"
      },
      "source": [
        "plt.figure(figsize=(10,6))\n",
        "plt.title('Losses over iterations')\n",
        "plt.xlabel('Training iterations')\n",
        "plt.ylabel('Loss')\n",
        "# plt.yscale('symlog')\n",
        "smoothed_losses_w = signal.savgol_filter(losses_w,101,3)\n",
        "plt.plot(smoothed_losses_w)\n",
        "plt.legend(['W'])\n",
        "plt.show()"
      ],
      "execution_count": 27,
      "outputs": [
        {
          "output_type": "display_data",
          "data": {
            "image/png": "[encoded data removed]",
            "text/plain": [
              "<Figure size 720x432 with 1 Axes>"
            ]
          },
          "metadata": {
            "tags": [],
            "needs_background": "light"
          }
        }
      ]
    },
    {
      "cell_type": "markdown",
      "metadata": {
        "id": "aM4uVAKQHbzK"
      },
      "source": [
        "The plot below shows that the classes 0 and 1 in domain A are weighted to match the uniform distribution in domain B."
      ]
    },
    {
      "cell_type": "code",
      "metadata": {
        "id": "llvZ7ah0k-gq",
        "colab": {
          "base_uri": "https://localhost:8080/",
          "height": 791
        },
        "outputId": "d575c93e-9ac3-43fe-a625-31a57f3a17b1"
      },
      "source": [
        "plt.figure(figsize=(10,6))\n",
        "plt.title('Moments A - measure of domain A after weighting (smoothed)')\n",
        "plt.xlabel('Training iterations')\n",
        "plt.ylabel('Loss')\n",
        "plt.ylim(ymax = moments_A.max(), ymin = moments_A.min())\n",
        "smoothed_Lmin = signal.savgol_filter(moments_A,101,3,axis=0)\n",
        "plt.plot(smoothed_Lmin)\n",
        "plt.legend(np.arange(len(moments_A[0])))\n",
        "plt.show()\n",
        "\n",
        "plt.figure(figsize=(10,6))\n",
        "plt.title('Moments B - Measure of domain B (smoothed)')\n",
        "plt.xlabel('Training iterations')\n",
        "plt.ylabel('Loss')\n",
        "plt.ylim(ymax = moments_A.max(), ymin = moments_A.min())\n",
        "smoothed_Lplus = signal.savgol_filter(moments_B,101,3,axis=0)\n",
        "plt.plot(smoothed_Lplus)\n",
        "plt.legend(np.arange(len(moments_A[0])))\n",
        "plt.show()"
      ],
      "execution_count": 28,
      "outputs": [
        {
          "output_type": "display_data",
          "data": {
            "image/png": "[encoded data removed]",
            "text/plain": [
              "<Figure size 720x432 with 1 Axes>"
            ]
          },
          "metadata": {
            "tags": [],
            "needs_background": "light"
          }
        },
        {
          "output_type": "display_data",
          "data": {
            "image/png": "[encoded data removed]",
            "text/plain": [
              "<Figure size 720x432 with 1 Axes>"
            ]
          },
          "metadata": {
            "tags": [],
            "needs_background": "light"
          }
        }
      ]
    },
    {
      "cell_type": "code",
      "metadata": {
        "id": "dVZv4G8pPoCi",
        "colab": {
          "base_uri": "https://localhost:8080/",
          "height": 791
        },
        "outputId": "b2db49d0-91d7-47c4-ca8d-97df114068a7"
      },
      "source": [
        "plt.figure(figsize=(10,6))\n",
        "plt.title('Mean of domain A after weighting (smoothed)')\n",
        "plt.xlabel('Training iterations')\n",
        "plt.ylabel('Loss')\n",
        "plt.ylim(ymax = means_A.max(), ymin = means_A.min())\n",
        "smoothed_means_A = signal.savgol_filter(means_A,101,3,axis=0)\n",
        "plt.plot(smoothed_means_A)\n",
        "plt.legend(np.arange(n_classes))\n",
        "plt.show()\n",
        "\n",
        "plt.figure(figsize=(10,6))\n",
        "plt.title('Mean of domain B (smoothed)')\n",
        "plt.xlabel('Training iterations')\n",
        "plt.ylabel('Loss')\n",
        "plt.ylim(ymax = means_A.max(), ymin = means_A.min())\n",
        "smoothed_means_B = signal.savgol_filter(means_B,101,3,axis=0)\n",
        "plt.plot(smoothed_means_B)\n",
        "plt.legend(np.arange(n_classes))\n",
        "plt.show()"
      ],
      "execution_count": 29,
      "outputs": [
        {
          "output_type": "display_data",
          "data": {
            "image/png": "[encoded data removed]",
            "text/plain": [
              "<Figure size 720x432 with 1 Axes>"
            ]
          },
          "metadata": {
            "tags": [],
            "needs_background": "light"
          }
        },
        {
          "output_type": "display_data",
          "data": {
            "image/png": "[encoded data removed]",
            "text/plain": [
              "<Figure size 720x432 with 1 Axes>"
            ]
          },
          "metadata": {
            "tags": [],
            "needs_background": "light"
          }
        }
      ]
    },
    {
      "cell_type": "code",
      "metadata": {
        "id": "yvyg5fJRQBDo",
        "colab": {
          "base_uri": "https://localhost:8080/",
          "height": 791
        },
        "outputId": "25a5ec27-7f4d-43cc-d189-5912667f0f59"
      },
      "source": [
        "plt.figure(figsize=(10,6))\n",
        "plt.title('Var of domain A after weighting (smoothed)')\n",
        "plt.xlabel('Training iterations')\n",
        "plt.ylabel('Loss')\n",
        "plt.ylim(ymax = vars_A.max(), ymin = vars_A.min())\n",
        "smoothed_vars_A = signal.savgol_filter(vars_A,101,3,axis=0)\n",
        "plt.plot(smoothed_vars_A)\n",
        "plt.legend(np.arange(n_classes))\n",
        "plt.show()\n",
        "\n",
        "plt.figure(figsize=(10,6))\n",
        "plt.title('Var of domain B (smoothed)')\n",
        "plt.xlabel('Training iterations')\n",
        "plt.ylabel('Loss')\n",
        "plt.ylim(ymax = vars_A.max(), ymin = vars_A.min())\n",
        "smoothed_vars_B = signal.savgol_filter(vars_B,101,3,axis=0)\n",
        "plt.plot(smoothed_vars_B)\n",
        "plt.legend(np.arange(n_classes))\n",
        "plt.show()"
      ],
      "execution_count": 30,
      "outputs": [
        {
          "output_type": "display_data",
          "data": {
            "image/png": "[encoded data removed]",
            "text/plain": [
              "<Figure size 720x432 with 1 Axes>"
            ]
          },
          "metadata": {
            "tags": [],
            "needs_background": "light"
          }
        },
        {
          "output_type": "display_data",
          "data": {
            "image/png": "[encoded data removed]",
            "text/plain": [
              "<Figure size 720x432 with 1 Axes>"
            ]
          },
          "metadata": {
            "tags": [],
            "needs_background": "light"
          }
        }
      ]
    },
    {
      "cell_type": "code",
      "metadata": {
        "id": "cFCkwwHvR48_",
        "colab": {
          "base_uri": "https://localhost:8080/",
          "height": 791
        },
        "outputId": "ce11ed88-1c1b-46ae-fe1f-f32da3f56f82"
      },
      "source": [
        "plt.figure(figsize=(10,6))\n",
        "plt.title('Mean and var of domain A after weighting (smoothed)')\n",
        "plt.xlabel('Training iterations')\n",
        "plt.ylabel('Loss')\n",
        "plt.ylim(ymax = (smoothed_means_A + smoothed_vars_A).max(), ymin = (smoothed_means_A - smoothed_vars_A).min())\n",
        "plt.plot(smoothed_means_A)\n",
        "for i in range(smoothed_means_A.shape[1]):\n",
        "  plt.fill_between(np.arange(len(smoothed_means_A)), (smoothed_means_A - smoothed_vars_A)[:, i], (smoothed_means_A + smoothed_vars_A)[:, i], alpha=0.1)\n",
        "plt.legend(np.arange(n_classes))\n",
        "plt.show()\n",
        "\n",
        "plt.figure(figsize=(10,6))\n",
        "plt.title('Mean and var of domain A after weighting (smoothed)')\n",
        "plt.xlabel('Training iterations')\n",
        "plt.ylabel('Loss')\n",
        "plt.ylim(ymax = (smoothed_means_A + smoothed_vars_A).max(), ymin = (smoothed_means_A - smoothed_vars_A).min())\n",
        "plt.plot(smoothed_means_B)\n",
        "for i in range(smoothed_means_B.shape[1]):\n",
        "  plt.fill_between(np.arange(len(smoothed_means_B)), (smoothed_means_B - smoothed_vars_B)[:, i], (smoothed_means_B + smoothed_vars_B)[:, i], alpha=0.1)\n",
        "plt.legend(np.arange(n_classes))\n",
        "plt.show()"
      ],
      "execution_count": 31,
      "outputs": [
        {
          "output_type": "display_data",
          "data": {
            "image/png": "[encoded data removed]",
            "text/plain": [
              "<Figure size 720x432 with 1 Axes>"
            ]
          },
          "metadata": {
            "tags": [],
            "needs_background": "light"
          }
        },
        {
          "output_type": "display_data",
          "data": {
            "image/png": "[encoded data removed]",
            "text/plain": [
              "<Figure size 720x432 with 1 Axes>"
            ]
          },
          "metadata": {
            "tags": [],
            "needs_background": "light"
          }
        }
      ]
    },
    {
      "cell_type": "markdown",
      "metadata": {
        "id": "nZdoFzJPHbzb"
      },
      "source": [
        "Here you see the weights assigned to the classes in domain A. As expected, 0 gets a large weight as it is underrepresented in domain A, and 1 gets a small weight as it is overrepresented in domain A."
      ]
    },
    {
      "cell_type": "code",
      "metadata": {
        "id": "GUiituvrk-gs",
        "colab": {
          "base_uri": "https://localhost:8080/",
          "height": 404
        },
        "outputId": "007de68d-ce15-4c8f-97d7-5c20e021fe9e"
      },
      "source": [
        "plt.figure(figsize=(10,6))\n",
        "plt.title('Assigned importances for the classes in domain A over the course of training')\n",
        "plt.plot(example_importances_A)\n",
        "plt.legend(np.arange(n_classes))\n",
        "plt.ylabel('Assigned importance')\n",
        "plt.xlabel('Training iterations')\n",
        "plt.show()"
      ],
      "execution_count": 32,
      "outputs": [
        {
          "output_type": "display_data",
          "data": {
            "image/png": "[encoded data removed]",
            "text/plain": [
              "<Figure size 720x432 with 1 Axes>"
            ]
          },
          "metadata": {
            "tags": [],
            "needs_background": "light"
          }
        }
      ]
    },
    {
      "cell_type": "code",
      "metadata": {
        "id": "QvvndeLhFnfl"
      },
      "source": [
        ""
      ],
      "execution_count": 32,
      "outputs": []
    }
  ]
}