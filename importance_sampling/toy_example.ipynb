{
 "cells": [
  {
   "cell_type": "markdown",
   "metadata": {},
   "source": [
    "# Importance sampling: toy example"
   ]
  },
  {
   "cell_type": "code",
   "execution_count": 1,
   "metadata": {},
   "outputs": [],
   "source": [
    "import torch\n",
    "from torch.utils.data import Dataset\n",
    "\n",
    "import matplotlib.pyplot as plt"
   ]
  },
  {
   "cell_type": "markdown",
   "metadata": {},
   "source": [
    "Step 1: making a dataloader that generates black and white images only"
   ]
  },
  {
   "cell_type": "code",
   "execution_count": 2,
   "metadata": {},
   "outputs": [],
   "source": [
    "def generate_image(color='black', size=(8, 8, 3)):\n",
    "    ''' Generates a black or white image as toy example'''\n",
    "    if color == 'black':\n",
    "        return torch.zeros(size)\n",
    "    else:\n",
    "        return torch.ones(size)"
   ]
  },
  {
   "cell_type": "code",
   "execution_count": 3,
   "metadata": {},
   "outputs": [],
   "source": [
    "def visualize_img(img):\n",
    "    '''Visualize the images'''\n",
    "    plt.imshow(img.cpu())\n",
    "    plt.show()"
   ]
  },
  {
   "cell_type": "code",
   "execution_count": 4,
   "metadata": {},
   "outputs": [],
   "source": [
    "# Test the function\n",
    "# visualize_img(generate_image('black'))\n",
    "# visualize_img(generate_image('white'))"
   ]
  },
  {
   "cell_type": "code",
   "execution_count": 5,
   "metadata": {},
   "outputs": [],
   "source": [
    "def random_image_batch(size=(16, 8, 8, 3), ratio=0.5):\n",
    "    '''Makes a random image batch of size (batch_size, height, width, channels) \n",
    "    with black to white ratio of value ratio\n",
    "    '''\n",
    "    idx = torch.randperm(size[0])[:int(ratio*size[0])]\n",
    "    image_batch = torch.zeros(size)\n",
    "    image_batch[idx] = 1\n",
    "    return image_batch"
   ]
  },
  {
   "cell_type": "markdown",
   "metadata": {},
   "source": [
    "The dataloader function"
   ]
  },
  {
   "cell_type": "code",
   "execution_count": 6,
   "metadata": {},
   "outputs": [],
   "source": [
    "def dummy_weight_network(img):\n",
    "    '''Returns weight based on image (toy example)'''\n",
    "    return img.mean()"
   ]
  },
  {
   "cell_type": "code",
   "execution_count": 10,
   "metadata": {},
   "outputs": [],
   "source": [
    "class BlackWhiteDataset(Dataset):\n",
    "    '''The dataloader for the black and white images'''\n",
    "    def __init__(self, weight_network):\n",
    "        self.dataset = random_image_batch()\n",
    "        \n",
    "        self.weight_network = weight_network\n",
    "\n",
    "    def __len__(self):\n",
    "        return len(self.dataset)\n",
    "    \n",
    "    def accept_sample(self, weight_network, img):\n",
    "        # Returns True if the image is accepted, False if rejected\n",
    "        weight = weight_network(img)\n",
    "        return bool(list(torch.utils.data.sampler.WeightedRandomSampler([1-weight, weight], 1))[0])\n",
    "    \n",
    "    def __getitem__(self, idx):\n",
    "        # Random permutation on the dataset order (is this equivalent to uniform sampling?)\n",
    "        all_idx = torch.randperm(len(dataset))\n",
    "        \n",
    "        # Loop through the samples and return once accepted\n",
    "        for i in all_idx:\n",
    "            accept = self.accept_sample(self.weight_network, self.dataset[i])\n",
    "            if accept:\n",
    "                return self.dataset[i]"
   ]
  },
  {
   "cell_type": "code",
   "execution_count": 11,
   "metadata": {},
   "outputs": [],
   "source": [
    "dataset = BlackWhiteDataset(dummy_weight_network)"
   ]
  },
  {
   "cell_type": "code",
   "execution_count": 13,
   "metadata": {},
   "outputs": [
    {
     "data": {
      "image/png": "[encoded data removed]",
      "text/plain": [
       "<Figure size 432x288 with 1 Axes>"
      ]
     },
     "metadata": {
      "needs_background": "light"
     },
     "output_type": "display_data"
    }
   ],
   "source": [
    "# This should only sample white images as they have a probablity of 1 to be sampled (black has 0)\n",
    "visualize_img(dataset[0])"
   ]
  }
 ],
 "metadata": {
  "kernelspec": {
   "display_name": "Python 3",
   "language": "python",
   "name": "python3"
  },
  "language_info": {
   "codemirror_mode": {
    "name": "ipython",
    "version": 3
   },
   "file_extension": ".py",
   "mimetype": "text/x-python",
   "name": "python",
   "nbconvert_exporter": "python",
   "pygments_lexer": "ipython3",
   "version": "3.6.8"
  }
 },
 "nbformat": 4,
 "nbformat_minor": 2
}
