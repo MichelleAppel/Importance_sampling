{
 "cells": [
  {
   "cell_type": "markdown",
   "metadata": {},
   "source": [
    "# Importance sampling: toy example with parameters (batch method)\n",
    "In this method we sample from a batch instead of one by one"
   ]
  },
  {
   "cell_type": "code",
   "execution_count": 1,
   "metadata": {},
   "outputs": [],
   "source": [
    "import torch\n",
    "import torch.nn as nn\n",
    "import torch.nn.functional as F\n",
    "import torch.optim as optim\n",
    "from torch.utils.data import Dataset, DataLoader\n",
    "from torchvision.utils import make_grid\n",
    "\n",
    "import matplotlib.pyplot as plt"
   ]
  },
  {
   "cell_type": "markdown",
   "metadata": {},
   "source": [
    "Functions for generation and visualization of the image batches"
   ]
  },
  {
   "cell_type": "code",
   "execution_count": 2,
   "metadata": {},
   "outputs": [],
   "source": [
    "def visualize_img_batch(batch):\n",
    "    '''Visualizes image batch'''\n",
    "    grid = make_grid(batch, nrow=8, padding=1, normalize=False, range=None, scale_each=False, pad_value=0)\n",
    "    plt.imshow(grid.permute(1,2,0))\n",
    "    plt.show()"
   ]
  },
  {
   "cell_type": "code",
   "execution_count": 3,
   "metadata": {},
   "outputs": [],
   "source": [
    "def random_image_data(size=(2**20, 3, 1, 1), ratio=0.5, offset=0.2):\n",
    "    '''Makes a random image batch of size (batch_size, height, width, channels) \n",
    "    with black to white ratio of value ratio\n",
    "    '''\n",
    "    idx = torch.randperm(size[0])[:int(ratio*size[0])]\n",
    "    image_batch = torch.zeros(size) + offset # to make light gray\n",
    "    image_batch[idx] = 1 - offset # to make dark gray \n",
    "    return image_batch"
   ]
  },
  {
   "cell_type": "markdown",
   "metadata": {},
   "source": [
    "The dataset class"
   ]
  },
  {
   "cell_type": "code",
   "execution_count": 4,
   "metadata": {},
   "outputs": [],
   "source": [
    "class BlackWhiteDataset(Dataset):\n",
    "    '''The dataloader for the black and white images'''\n",
    "    def __init__(self, offset=0.2):\n",
    "        self.offset = offset\n",
    "        self.dataset = random_image_data(offset = self.offset)\n",
    "\n",
    "    def __len__(self):\n",
    "        return len(self.dataset)\n",
    "    \n",
    "    def __getitem__(self, idx):      \n",
    "        return self.dataset[idx]"
   ]
  },
  {
   "cell_type": "markdown",
   "metadata": {},
   "source": [
    "The weight network with parameters"
   ]
  },
  {
   "cell_type": "code",
   "execution_count": 123,
   "metadata": {},
   "outputs": [],
   "source": [
    "class WeightNet(nn.Module):\n",
    "\n",
    "    def __init__(self):\n",
    "        super(WeightNet, self).__init__()\n",
    "        self.fc1 = nn.Linear(3, 1)\n",
    "        self.fc2 = nn.Linear(1, 1)\n",
    "        self.softmax = nn.Softmax(dim=0)\n",
    "        \n",
    "    def forward(self, x):\n",
    "        h1 = torch.sigmoid(self.fc1(x.view(-1, 3)))\n",
    "        out = self.softmax(self.fc2(h1))\n",
    "        return out"
   ]
  },
  {
   "cell_type": "code",
   "execution_count": 124,
   "metadata": {},
   "outputs": [],
   "source": [
    "class Discriminator(nn.Module):\n",
    "\n",
    "    def __init__(self):\n",
    "        super(Discriminator, self).__init__()\n",
    "        self.fc1 = nn.Linear(3, 1)\n",
    "        self.fc2 = nn.Linear(1, 1)\n",
    "        self.softmax = nn.Softmax(dim=0)\n",
    "        \n",
    "    def forward(self, x):\n",
    "        h1 = torch.sigmoid(self.fc1(x.view(-1, 3)))\n",
    "        out = torch.sigmoid(self.fc2(h1))\n",
    "        return out"
   ]
  },
  {
   "cell_type": "markdown",
   "metadata": {},
   "source": [
    "With Helge's objective function"
   ]
  },
  {
   "cell_type": "code",
   "execution_count": 137,
   "metadata": {
    "scrolled": false
   },
   "outputs": [],
   "source": [
    "weight_network = WeightNet()\n",
    "discriminator = Discriminator()\n",
    "optimizer_w = optim.Adam(weight_network.parameters(), lr=0.01)\n",
    "optimizer_d = optim.Adam(discriminator.parameters(), lr=0.01)\n",
    "\n",
    "offset = 0.4\n",
    "dataset = BlackWhiteDataset(offset=offset)\n",
    "dataloader = DataLoader(dataset, batch_size=256, shuffle=True, num_workers=0)\n",
    "sampled_batch_size = 64\n",
    "\n",
    "\n",
    "example_img = torch.cat((torch.Tensor([offset, offset, offset]), \n",
    "                         torch.Tensor([1-offset, 1-offset, 1-offset])))\n",
    "\n",
    "losses = []\n",
    "example_importances = []\n",
    "for i, data in enumerate(dataloader):\n",
    "    optimizer_w.zero_grad()\n",
    "    optimizer_d.zero_grad()\n",
    "    \n",
    "    importances = weight_network(data).squeeze() # Get the importances for each image\n",
    "    sampled_idx = list( # Sample according to these importances\n",
    "        torch.utils.data.sampler.WeightedRandomSampler(importances,\n",
    "                                                       sampled_batch_size, \n",
    "                                                       replacement=False)\n",
    "    )\n",
    "    sampled_importances = importances[sampled_idx] # The importances assigned to the smaller batch\n",
    "    sampled_batch = data[sampled_idx] # The sampled smaller batch\n",
    "    \n",
    "    # The loss function: TODO\n",
    "#     loss = (sampled_batch.mean(1).view(-1, 1) * (sampled_importances/\n",
    "#                                         sampled_importances.detach()).view(-1, 1)).mean()\n",
    "    Lmin = discriminator()\n",
    "    Lplus = discriminator()\n",
    "    \n",
    "    losses += [loss.item()] # Store loss in a list\n",
    "    loss.backward()\n",
    "    optimizer.step()\n",
    "\n",
    "    w = weight_network(example_img)\n",
    "    example_importances += [(w[0].item(), w[1].item())] # Store examples in a list\n",
    "    \n",
    "    break\n",
    "    \n",
    "    # print statistics\n",
    "    if i % 100 == 0:\n",
    "        print(w[0].item(), w[1].item())\n",
    "        print('step', i, 'loss: ', loss.item())\n",
    "        print()"
   ]
  },
  {
   "cell_type": "code",
   "execution_count": 132,
   "metadata": {},
   "outputs": [],
   "source": [
    "def amplify_visual(sampled_batch, offset=0.2):\n",
    "    sampled_batch[sampled_batch < 0.5] = offset\n",
    "    sampled_batch[sampled_batch > 0.5] = 1-offset\n",
    "    return sampled_batch"
   ]
  },
  {
   "cell_type": "code",
   "execution_count": 133,
   "metadata": {},
   "outputs": [
    {
     "data": {
      "image/png": "[encoded data removed]",
      "text/plain": [
       "<Figure size 432x288 with 1 Axes>"
      ]
     },
     "metadata": {
      "needs_background": "light"
     },
     "output_type": "display_data"
    },
    {
     "name": "stdout",
     "output_type": "stream",
     "text": [
      "light grey = 0.4, dark grey = 0.6\n"
     ]
    }
   ],
   "source": [
    "visualize_img_batch(amplify_visual(sampled_batch))\n",
    "print('light grey = {}, dark grey = {}'.format(offset, 1-offset))"
   ]
  },
  {
   "cell_type": "code",
   "execution_count": 134,
   "metadata": {},
   "outputs": [
    {
     "data": {
      "image/png": "[encoded data removed]",
      "text/plain": [
       "<Figure size 720x432 with 1 Axes>"
      ]
     },
     "metadata": {
      "needs_background": "light"
     },
     "output_type": "display_data"
    }
   ],
   "source": [
    "plt.figure(figsize=(10,6))\n",
    "plt.title('Losses over iterations')\n",
    "plt.xlabel('Training iterations')\n",
    "plt.ylabel('Loss')\n",
    "plt.plot(losses)\n",
    "plt.show()"
   ]
  },
  {
   "cell_type": "code",
   "execution_count": 135,
   "metadata": {},
   "outputs": [
    {
     "data": {
      "image/png": "[encoded data removed]",
      "text/plain": [
       "<Figure size 720x432 with 1 Axes>"
      ]
     },
     "metadata": {
      "needs_background": "light"
     },
     "output_type": "display_data"
    }
   ],
   "source": [
    "plt.figure(figsize=(10,6))\n",
    "plt.title('Assigned importances for the toy example images over the course of training')\n",
    "plt.plot(example_importances)\n",
    "plt.legend(['Img with value {}'.format(offset), 'Img with value {}'.format(1-offset)])\n",
    "plt.xlabel('Assigned importance')\n",
    "plt.ylabel('Training iterations')\n",
    "plt.show()"
   ]
  },
  {
   "cell_type": "code",
   "execution_count": null,
   "metadata": {},
   "outputs": [],
   "source": []
  }
 ],
 "metadata": {
  "kernelspec": {
   "display_name": "Python 3",
   "language": "python",
   "name": "python3"
  },
  "language_info": {
   "codemirror_mode": {
    "name": "ipython",
    "version": 3
   },
   "file_extension": ".py",
   "mimetype": "text/x-python",
   "name": "python",
   "nbconvert_exporter": "python",
   "pygments_lexer": "ipython3",
   "version": "3.7.5"
  }
 },
 "nbformat": 4,
 "nbformat_minor": 2
}
