{
 "cells": [
  {
   "cell_type": "markdown",
   "metadata": {},
   "source": [
    "# Importance sampling in cycleGAN: toy example"
   ]
  },
  {
   "cell_type": "code",
   "execution_count": 1,
   "metadata": {},
   "outputs": [],
   "source": [
    "import torch\n",
    "import torch.nn as nn\n",
    "import torch.nn.functional as F\n",
    "import torch.optim as optim\n",
    "from torch.utils.data import Dataset, DataLoader\n",
    "from torchvision.utils import make_grid\n",
    "\n",
    "import itertools\n",
    "\n",
    "import matplotlib.pyplot as plt"
   ]
  },
  {
   "cell_type": "markdown",
   "metadata": {},
   "source": [
    "### Functions for generation and visualization of the image batches"
   ]
  },
  {
   "cell_type": "code",
   "execution_count": 2,
   "metadata": {},
   "outputs": [],
   "source": [
    "def visualize_img_batch(batch):\n",
    "    '''Visualizes image batch\n",
    "    \n",
    "    Parameters:\n",
    "    batch (Tensor): An image batch\n",
    "    '''\n",
    "    grid = make_grid(batch, nrow=8, padding=1, normalize=False, range=None, scale_each=False, pad_value=0)\n",
    "    plt.imshow(grid.permute(1,2,0))\n",
    "    plt.show()"
   ]
  },
  {
   "cell_type": "code",
   "execution_count": 3,
   "metadata": {},
   "outputs": [],
   "source": [
    "def random_image_data(size=(2**21, 3, 1, 1), ratio=0.5, offset=0.2, color=0):\n",
    "    '''Generates a random image batch \n",
    "    consisting of two modes (dark and light images)\n",
    "    \n",
    "    Parameters:\n",
    "    size (tuple): The dimensions of the image batch (batch_size, channels, width, length)\n",
    "    ratio (float): The ratio of light to dark images\n",
    "    offset (float): The brightness of the images relative to black and bright\n",
    "    color (int): Red = 0, green = 1, blue = 2\n",
    "    \n",
    "    Returns:\n",
    "    image_batch (Tensor): The generated image batch\n",
    "    \n",
    "    '''\n",
    "    idx = torch.randperm(size[0])[:int(ratio*size[0])] # Randomly choose indices according to the ratio\n",
    "    image_batch = torch.zeros(size)\n",
    "    image_batch[:, color] += offset # light color\n",
    "    image_batch[idx, color] = 1 - offset # dark color \n",
    "    return image_batch"
   ]
  },
  {
   "cell_type": "markdown",
   "metadata": {},
   "source": [
    "### The dataset class"
   ]
  },
  {
   "cell_type": "code",
   "execution_count": 4,
   "metadata": {},
   "outputs": [],
   "source": [
    "class ColorDataset(Dataset):\n",
    "    '''The dataloader for the color images\n",
    "    '''\n",
    "    def __init__(self, ratio=0.5, offset=0.2, color=0):\n",
    "        '''  \n",
    "        Parameters:\n",
    "        ratio (float): The ratio of light to dark images\n",
    "        offset (float): The brightness of the images relative to black and bright\n",
    "        color (int): Red = 0, green = 1, blue = 2\n",
    "        '''\n",
    "        self.offset = offset\n",
    "        self.ratio = ratio\n",
    "        self.color = color\n",
    "        \n",
    "        self.dataset = random_image_data(ratio=self.ratio, \n",
    "                                         offset=self.offset, \n",
    "                                         color=self.color)\n",
    "        self.example_imgs = self.example()\n",
    "        \n",
    "    def example(self):\n",
    "        '''\n",
    "        Returns an example from each mode in the domain\n",
    "        \n",
    "        '''\n",
    "        example_imgs = torch.zeros(size=(2, 3, 1, 1))\n",
    "\n",
    "        example_imgs[0, self.color] += self.offset # light color\n",
    "        example_imgs[1, self.color] = 1 - self.offset # dark color\n",
    "        return example_imgs   \n",
    "\n",
    "    def __len__(self):\n",
    "        return len(self.dataset)\n",
    "    \n",
    "    def __getitem__(self, idx):      \n",
    "        return self.dataset[idx]"
   ]
  },
  {
   "cell_type": "markdown",
   "metadata": {},
   "source": [
    "### The networks"
   ]
  },
  {
   "cell_type": "code",
   "execution_count": 5,
   "metadata": {},
   "outputs": [],
   "source": [
    "class WeightNet(nn.Module):\n",
    "    '''A simple network that predicts the importances of the samples'''\n",
    "\n",
    "    def __init__(self):\n",
    "        super(WeightNet, self).__init__()\n",
    "        self.fc1 = nn.Linear(3, 1)\n",
    "        self.fc2 = nn.Linear(1, 1)\n",
    "        self.softmax = nn.Softmax(dim=0)\n",
    "        \n",
    "    def forward(self, x):\n",
    "        h1 = torch.sigmoid(self.fc1(x.view(-1, 3)))\n",
    "        out = self.softmax(self.fc2(h1))\n",
    "        return out"
   ]
  },
  {
   "cell_type": "code",
   "execution_count": 6,
   "metadata": {},
   "outputs": [],
   "source": [
    "class TrivialWeightNet(nn.Module):\n",
    "    '''A trivial network that predicts the importances of the samples'''\n",
    "\n",
    "    def __init__(self):\n",
    "        super(TrivialWeightNet, self).__init__()\n",
    "        self.fc1 = nn.Linear(1, 1)\n",
    "        \n",
    "    def forward(self, x):\n",
    "        out = torch.ones((x.size()[0], 1))\n",
    "        out /= out.sum()\n",
    "        return out"
   ]
  },
  {
   "cell_type": "code",
   "execution_count": 7,
   "metadata": {},
   "outputs": [],
   "source": [
    "class Discriminator(nn.Module):\n",
    "    '''A simple joint discriminator network'''\n",
    "\n",
    "    def __init__(self):\n",
    "        super(Discriminator, self).__init__()\n",
    "        self.fc1 = nn.Linear(6, 3)\n",
    "        self.fc2 = nn.Linear(3, 1)\n",
    "        \n",
    "    def forward(self, x):\n",
    "        h1 = torch.sigmoid(self.fc1(x.view(-1, 6)))\n",
    "        out = torch.sigmoid(self.fc2(h1))\n",
    "        return out"
   ]
  },
  {
   "cell_type": "code",
   "execution_count": 8,
   "metadata": {},
   "outputs": [],
   "source": [
    "class TrivialDiscriminator(nn.Module):\n",
    "    '''A trivial joint discriminator network'''\n",
    "\n",
    "    def __init__(self):\n",
    "        super(TrivialDiscriminator, self).__init__()\n",
    "        self.fc1 = nn.Linear(1, 1)\n",
    "        \n",
    "    def forward(self, x):\n",
    "        return torch.zeros(x.size()[0], 1)"
   ]
  },
  {
   "cell_type": "code",
   "execution_count": 9,
   "metadata": {},
   "outputs": [],
   "source": [
    "class Generator(nn.Module):\n",
    "    '''A simple conditional generator network'''\n",
    "\n",
    "    def __init__(self):\n",
    "        super(Generator, self).__init__()\n",
    "        self.fc1 = nn.Linear(3, 3)\n",
    "        self.fc2 = nn.Linear(3, 3)\n",
    "        \n",
    "    def forward(self, x):\n",
    "        h1 = F.relu(self.fc1(x.view(-1, 3)))\n",
    "        out = torch.sigmoid(self.fc2(h1))\n",
    "        return out.unsqueeze(-1).unsqueeze(-1)"
   ]
  },
  {
   "cell_type": "code",
   "execution_count": 10,
   "metadata": {},
   "outputs": [],
   "source": [
    "class TrivialGenerator(nn.Module):\n",
    "    '''A trivial conditional generator network'''\n",
    "    \n",
    "    def __init__(self):\n",
    "        super(TrivialGenerator, self).__init__()\n",
    "        self.nn = nn.Linear(1,1) # Otherwise error\n",
    "        \n",
    "    def forward(self, x):\n",
    "        new = torch.zeros((x.shape))\n",
    "        new[:, 0] = x[:, 1]\n",
    "        new[:, 1] = x[:, 0]\n",
    "        return new"
   ]
  },
  {
   "cell_type": "markdown",
   "metadata": {},
   "source": [
    "### A demonstration of the two domains\n",
    "The idea here is that we create two domains: A red and a green domain. The domains consist of two modes: dark and light images. The big assumption here for our purpose is that the dark and light images have semantic correspondance, so for example: dark red will be translated to dark green.\n",
    "\n",
    "We can adjust the intensity of the images (offset) and the ratio of the modes for the experiment. In the visualiztion you can see the elements of the dataset. In the histogram you can see the modes."
   ]
  },
  {
   "cell_type": "code",
   "execution_count": 11,
   "metadata": {},
   "outputs": [
    {
     "data": {
      "image/png": "[encoded data removed]",
      "text/plain": [
       "<Figure size 432x288 with 1 Axes>"
      ]
     },
     "metadata": {
      "needs_background": "light"
     },
     "output_type": "display_data"
    },
    {
     "data": {
      "image/png": "[encoded data removed]",
      "text/plain": [
       "<Figure size 432x288 with 1 Axes>"
      ]
     },
     "metadata": {
      "needs_background": "light"
     },
     "output_type": "display_data"
    }
   ],
   "source": [
    "# Settings for domain A (red)\n",
    "offset_A = 0.2\n",
    "ratio_A = 0.5\n",
    "color_A = 0\n",
    "dataset_A = ColorDataset(offset=offset_A, ratio=ratio_A, color=color_A)\n",
    "dataloader_A = DataLoader(dataset_A, batch_size=256, shuffle=True)\n",
    "\n",
    "# Settings for domain B (green)\n",
    "offset_B = 0.2\n",
    "ratio_B = 0.5\n",
    "color_B = 1\n",
    "dataset_B = ColorDataset(offset=offset_B, ratio=ratio_B, color=color_B)\n",
    "dataloader_B = DataLoader(dataset_B, batch_size=256, shuffle=True)\n",
    "\n",
    "visualize_img_batch(dataset_A.example_imgs)\n",
    "visualize_img_batch(dataset_B.example_imgs)"
   ]
  },
  {
   "cell_type": "code",
   "execution_count": 12,
   "metadata": {},
   "outputs": [
    {
     "name": "stdout",
     "output_type": "stream",
     "text": [
      "True ratio domain A: 0.5\n",
      "Count: tensor([122, 134]) Ratio in this batch: tensor([0.4766, 0.5234])\n"
     ]
    },
    {
     "data": {
      "image/png": "[encoded data removed]",
      "text/plain": [
       "<Figure size 432x288 with 1 Axes>"
      ]
     },
     "metadata": {
      "needs_background": "light"
     },
     "output_type": "display_data"
    },
    {
     "name": "stdout",
     "output_type": "stream",
     "text": [
      "True ratio domain B: 0.5\n",
      "Count: tensor([125, 131]) Ratio in this batch: tensor([0.4883, 0.5117])\n"
     ]
    },
    {
     "data": {
      "image/png": "[encoded data removed]",
      "text/plain": [
       "<Figure size 432x288 with 1 Axes>"
      ]
     },
     "metadata": {
      "needs_background": "light"
     },
     "output_type": "display_data"
    }
   ],
   "source": [
    "def plot_hist(data):\n",
    "    data = data.view(3, -1).sum(0)\n",
    "    plt.hist(data, weights=torch.ones(len(data))/len(data))\n",
    "    x_unique_count = torch.stack([(data==x_u).sum() for x_u in data.unique()])\n",
    "    \n",
    "    print('Count:', x_unique_count, 'Ratio in this batch:', x_unique_count/float(x_unique_count.sum()))\n",
    "\n",
    "    plt.show()\n",
    "\n",
    "for i, (data_A, data_B) in enumerate(zip(dataloader_A, dataloader_B)):\n",
    "    print('True ratio domain A:', dataloader_A.dataset.ratio)\n",
    "    plot_hist(data_A)\n",
    "    print('True ratio domain B:', dataloader_B.dataset.ratio)\n",
    "    plot_hist(data_B)\n",
    "    break"
   ]
  },
  {
   "cell_type": "markdown",
   "metadata": {},
   "source": [
    "## The training loop"
   ]
  },
  {
   "cell_type": "code",
   "execution_count": null,
   "metadata": {
    "scrolled": true
   },
   "outputs": [
    {
     "name": "stdout",
     "output_type": "stream",
     "text": [
      "step 0 loss_g:  1.0672811269760132 loss_d:  0.5524616241455078 cycle 0.41078853607177734 loss_w:  129.95401000976562\n",
      "step 500 loss_g:  0.12977558374404907 loss_d:  0.6221374869346619 cycle 0.003559708595275879 loss_w:  48.350257873535156\n",
      "step 1000 loss_g:  0.12505006790161133 loss_d:  0.6237872242927551 cycle 0.0004610020259860903 loss_w:  47.95509338378906\n",
      "step 1500 loss_g:  0.1339845061302185 loss_d:  0.6243939399719238 cycle 0.00626456830650568 loss_w:  48.93714904785156\n",
      "step 2000 loss_g:  0.13616475462913513 loss_d:  0.6029508113861084 cycle 0.0016519075725227594 loss_w:  47.40911865234375\n",
      "step 2500 loss_g:  0.14923594892024994 loss_d:  0.5758908987045288 cycle 0.001312381587922573 loss_w:  46.49211120605469\n",
      "step 3000 loss_g:  0.11611443012952805 loss_d:  0.6430347561836243 cycle 0.0052629755809903145 loss_w:  48.92237854003906\n",
      "step 3500 loss_g:  0.13656741380691528 loss_d:  0.5972625017166138 cycle 0.00023240584414452314 loss_w:  46.97999572753906\n",
      "step 4000 loss_g:  0.12978625297546387 loss_d:  0.6416435837745667 cycle 0.0007325336337089539 loss_w:  49.418392181396484\n",
      "step 4500 loss_g:  0.11518844962120056 loss_d:  0.6735248565673828 cycle 0.014066282659769058 loss_w:  51.377891540527344\n",
      "step 5000 loss_g:  0.12424661219120026 loss_d:  0.6278749704360962 cycle 3.9828464650781825e-05 loss_w:  48.138328552246094\n",
      "step 5500 loss_g:  0.12492349743843079 loss_d:  0.6249500513076782 cycle 4.159531454206444e-05 loss_w:  47.994571685791016\n",
      "step 6000 loss_g:  0.1251296103000641 loss_d:  0.6252066493034363 cycle 3.7150261050555855e-05 loss_w:  48.02389907836914\n"
     ]
    }
   ],
   "source": [
    "# Initialize the networks\n",
    "weight_network_A = WeightNet()\n",
    "weight_network_B = WeightNet()\n",
    "generator_A = Generator()\n",
    "generator_B = Generator()\n",
    "discriminator_A = Discriminator()\n",
    "discriminator_B = Discriminator()\n",
    "\n",
    "# Initialize the optimizers\n",
    "optimizer_w = optim.Adam(itertools.chain(weight_network_A.parameters(), \n",
    "                                         weight_network_B.parameters()), lr=0.01)\n",
    "optimizer_g = optim.Adam(itertools.chain(generator_A.parameters(),\n",
    "                                         generator_B.parameters()), lr=0.01)\n",
    "optimizer_d = optim.Adam(itertools.chain(discriminator_A.parameters(),\n",
    "                                         discriminator_B.parameters()), lr=0.01)\n",
    "\n",
    "# Store values\n",
    "samples_A = []\n",
    "samples_B = []\n",
    "\n",
    "losses_g = []\n",
    "losses_d = []\n",
    "losses_w = []\n",
    "\n",
    "Lminusses = []\n",
    "Lplusses = []\n",
    "\n",
    "example_importances_A = []\n",
    "example_importances_B = []\n",
    "\n",
    "criterion_D = nn.MSELoss()\n",
    "criterion_G = nn.MSELoss()\n",
    "criterion_cycle = nn.MSELoss()\n",
    "criterion_L2 = nn.MSELoss()\n",
    "\n",
    "sampled_batch_size = 64 # The amount of images sampled using importance sampling\n",
    "for epoch in range(5):\n",
    "    for i, (data_A, data_B) in enumerate(zip(dataloader_A, dataloader_B)):\n",
    "        # Set gradients to zero\n",
    "        optimizer_w.zero_grad()\n",
    "        optimizer_d.zero_grad()\n",
    "        optimizer_g.zero_grad()\n",
    "\n",
    "        # The sampling process ----------------------------------------------------------------------------\n",
    "        importances_A = weight_network_A(data_A).squeeze() # Get the importances for each image in domain A\n",
    "        importances_B = weight_network_B(data_B).squeeze() # Get the importances for each image in domain B\n",
    "\n",
    "        sampled_idx_A = list( # Sample from batch A according to these importances\n",
    "            torch.utils.data.sampler.WeightedRandomSampler(importances_A, \n",
    "                                                           sampled_batch_size, \n",
    "                                                           replacement=False))\n",
    "\n",
    "        sampled_importances_A = importances_A[sampled_idx_A] # The importances assigned to the smaller batch\n",
    "        real_A = data_A[sampled_idx_A] # The sampled smaller batch A\n",
    "\n",
    "        sampled_idx_B = list( # Sample from batch Baccording to these importances\n",
    "            torch.utils.data.sampler.WeightedRandomSampler(importances_B,\n",
    "                                                           sampled_batch_size, \n",
    "                                                           replacement=False))\n",
    "\n",
    "        sampled_importances_B = importances_B[sampled_idx_B] # The importances assigned to the smaller batch\n",
    "        real_B = data_B[sampled_idx_B] # The sampled smaller batch B\n",
    "        # --------------------------------------------------------------------------------------------------\n",
    "\n",
    "        # Forward\n",
    "        fake_A = generator_A(real_B)\n",
    "        fake_B = generator_B(real_A)\n",
    "        \n",
    "        rec_A = generator_A(fake_B)\n",
    "        rec_B = generator_B(fake_A)\n",
    "        \n",
    "        pred_real_A = discriminator_A(real_A)\n",
    "        pred_real_B = discriminator_B(real_B)\n",
    "        \n",
    "        pred_fake_A = discriminator_A(fake_A.detach())\n",
    "        pred_fake_B = discriminator_B(fake_B.detach())\n",
    "\n",
    "        # The loss function --------------------------------------------------------------------------------\n",
    "        loss_D_real_A = criterion_D(pred_real_A, torch.ones((pred_real_A.shape)))\n",
    "        loss_D_real_B = criterion_D(pred_real_B, torch.ones((pred_real_B.shape)))\n",
    "\n",
    "        loss_D_fake_A = criterion_D(pred_fake_A, torch.zeros((pred_fake_A.shape)))\n",
    "        loss_D_fake_B = criterion_D(pred_fake_B, torch.zeros((pred_fake_B.shape)))\n",
    "        \n",
    "        loss_D_A = (loss_D_real_A + loss_D_fake_A) * 0.5\n",
    "        loss_D_B = (loss_D_real_B + loss_D_fake_B) * 0.5\n",
    "        \n",
    "        loss_G_A = criterion_G(discriminator_A(fake_A), torch.ones((pred_fake_A.shape)))\n",
    "        loss_G_B = criterion_G(discriminator_B(fake_B), torch.ones((pred_fake_A.shape)))\n",
    "        \n",
    "        cycle_A = criterion_cycle(real_A, rec_A)\n",
    "        cycle_B = criterion_cycle(real_B, rec_B)\n",
    "        cycle = cycle_A + cycle_B\n",
    "        \n",
    "        loss_d = (loss_D_A + loss_D_B)\n",
    "        loss_g = (loss_G_A + loss_G_B) + cycle\n",
    "        loss_w = ((loss_G_A.detach() + loss_D_A.detach() + cycle.detach()) * sampled_importances_A/sampled_importances_A.detach()).sum() + \\\n",
    "                 ((loss_G_B.detach() + loss_D_B.detach() + cycle.detach()) * sampled_importances_B/sampled_importances_B.detach()).sum()\n",
    "        # ---------------------------------------------------------------------------------------------------\n",
    "\n",
    "        # Backward\n",
    "        loss_g.backward()\n",
    "        loss_d.backward()\n",
    "        loss_w.backward()\n",
    "\n",
    "        # Optimization step\n",
    "        optimizer_g.step()\n",
    "        optimizer_w.step()\n",
    "        optimizer_d.step()\n",
    "\n",
    "        # Store values --------------------------------------------------------------------------------------\n",
    "        losses_g += [loss_g.item()]\n",
    "        losses_d += [loss_d.item()]\n",
    "        losses_w += [loss_w.item()]\n",
    "\n",
    "        w_a = weight_network_A(dataset_A.example_imgs)\n",
    "        w_b = weight_network_B(dataset_B.example_imgs)\n",
    "        example_importances_A += [(w_a[0].item(), w_a[1].item())] # Store examples in a list\n",
    "        example_importances_B += [(w_b[0].item(), w_b[1].item())] # Store examples in a list\n",
    "        # ---------------------------------------------------------------------------------------------------\n",
    "\n",
    "        # Print statistics\n",
    "        if i % 500 == 0:\n",
    "            samples_A += [fake_A.detach()]\n",
    "            samples_B += [fake_B.detach()]\n",
    "            print('step', i, 'loss_g: ', loss_g.item(), 'loss_d: ', loss_d.item(), 'cycle', cycle.item(),'loss_w: ', loss_w.item())"
   ]
  },
  {
   "cell_type": "code",
   "execution_count": null,
   "metadata": {},
   "outputs": [],
   "source": [
    "visualize_img_batch(real_A)\n",
    "visualize_img_batch(fake_B.detach())\n",
    "print('True ratio domain A {}'.format(ratio_A))\n",
    "plot_hist(real_A)\n",
    "\n",
    "visualize_img_batch(real_B)\n",
    "visualize_img_batch(fake_A.detach())\n",
    "print('True ratio domain B {}'.format(ratio_B))\n",
    "plot_hist(real_B)"
   ]
  },
  {
   "cell_type": "code",
   "execution_count": null,
   "metadata": {},
   "outputs": [],
   "source": [
    "plt.figure(figsize=(10,6))\n",
    "plt.title('Losses over iterations')\n",
    "plt.xlabel('Training iterations')\n",
    "plt.ylabel('Loss')\n",
    "plt.plot(losses_g)\n",
    "plt.plot(losses_d)\n",
    "plt.plot(losses_w)\n",
    "plt.legend(['G', 'D', 'W'])\n",
    "plt.show()"
   ]
  },
  {
   "cell_type": "code",
   "execution_count": null,
   "metadata": {},
   "outputs": [],
   "source": [
    "plt.figure(figsize=(10,6))\n",
    "plt.title('Assigned importances for the toy example images over the course of training')\n",
    "plt.plot(example_importances_A)\n",
    "plt.plot(example_importances_B)\n",
    "plt.legend(['Img A with value {} (p={})'.format(offset_A, ratio_A), \n",
    "            'Img A with value {} (p={})'.format(1-offset_A, 1-ratio_A), \n",
    "            'Img B with value {} (p={})'.format(offset_B, ratio_B), \n",
    "            'Img B with value {} (p={})'.format(1-offset_B, 1-ratio_B)])\n",
    "plt.xlabel('Assigned importance')\n",
    "plt.ylabel('Training iterations')\n",
    "plt.show()"
   ]
  },
  {
   "cell_type": "code",
   "execution_count": null,
   "metadata": {},
   "outputs": [],
   "source": [
    "plt.figure(figsize=(10,6))\n",
    "plt.title('Ratio between importances of the same mode')\n",
    "plt.plot(torch.Tensor(example_importances_A)[:, 0]/torch.Tensor(example_importances_B)[:, 0])\n",
    "plt.plot(torch.Tensor(example_importances_A)[:, 1]/torch.Tensor(example_importances_B)[:, 1])\n",
    "plt.legend(['Dark images', 'Light images'])\n",
    "plt.xlabel('Ratio importance')\n",
    "plt.ylabel('Training iterations')\n",
    "plt.show()"
   ]
  },
  {
   "cell_type": "code",
   "execution_count": null,
   "metadata": {},
   "outputs": [],
   "source": [
    "for img in samples_B:\n",
    "    visualize_img_batch(img)"
   ]
  },
  {
   "cell_type": "code",
   "execution_count": null,
   "metadata": {},
   "outputs": [],
   "source": []
  }
 ],
 "metadata": {
  "kernelspec": {
   "display_name": "Python 3",
   "language": "python",
   "name": "python3"
  },
  "language_info": {
   "codemirror_mode": {
    "name": "ipython",
    "version": 3
   },
   "file_extension": ".py",
   "mimetype": "text/x-python",
   "name": "python",
   "nbconvert_exporter": "python",
   "pygments_lexer": "ipython3",
   "version": "3.7.5"
  }
 },
 "nbformat": 4,
 "nbformat_minor": 2
}
