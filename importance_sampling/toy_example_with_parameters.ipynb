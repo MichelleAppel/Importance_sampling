{
 "cells": [
  {
   "cell_type": "markdown",
   "metadata": {},
   "source": [
    "# Importance sampling: toy example with parameters"
   ]
  },
  {
   "cell_type": "code",
   "execution_count": 1,
   "metadata": {},
   "outputs": [],
   "source": [
    "import torch\n",
    "import torch.nn as nn\n",
    "import torch.nn.functional as F\n",
    "from torch.utils.data import Dataset, DataLoader\n",
    "from torchvision.utils import make_grid\n",
    "\n",
    "import matplotlib.pyplot as plt"
   ]
  },
  {
   "cell_type": "markdown",
   "metadata": {},
   "source": [
    "Functions for generation and visualization of the image batches"
   ]
  },
  {
   "cell_type": "code",
   "execution_count": 2,
   "metadata": {},
   "outputs": [],
   "source": [
    "def visualize_img_batch(batch):\n",
    "    '''Visualizes image batch'''\n",
    "    grid = make_grid(batch, nrow=8, padding=1, normalize=False, range=None, scale_each=False, pad_value=0)\n",
    "    plt.imshow(grid.permute(1,2,0))\n",
    "    plt.show()"
   ]
  },
  {
   "cell_type": "code",
   "execution_count": 3,
   "metadata": {},
   "outputs": [],
   "source": [
    "def random_image_data(size=(32768, 3, 1, 1), ratio=0.5):\n",
    "    '''Makes a random image batch of size (batch_size, height, width, channels) \n",
    "    with black to white ratio of value ratio\n",
    "    '''\n",
    "    idx = torch.randperm(size[0])[:int(ratio*size[0])]\n",
    "    image_batch = torch.zeros(size) + 0.2 # to make light gray\n",
    "    image_batch[idx] = 1 - 0.2 # to make light gray \n",
    "    return image_batch"
   ]
  },
  {
   "cell_type": "markdown",
   "metadata": {},
   "source": [
    "The dataset class"
   ]
  },
  {
   "cell_type": "code",
   "execution_count": 13,
   "metadata": {},
   "outputs": [],
   "source": [
    "class BlackWhiteDataset(Dataset):\n",
    "    '''The dataloader for the black and white images'''\n",
    "    def __init__(self, weight_network):\n",
    "        self.dataset = random_image_data()\n",
    "        \n",
    "        self.weight_network = weight_network\n",
    "\n",
    "    def __len__(self):\n",
    "        return len(self.dataset)\n",
    "    \n",
    "    def accept_sample(self, weight_network, img):\n",
    "        # Returns True if the image is accepted, False if rejected\n",
    "        weight = weight_network(img)\n",
    "        return bool(list(torch.utils.data.sampler.WeightedRandomSampler([1-weight, weight], 1))[0])\n",
    "    \n",
    "    def __getitem__(self, idx):\n",
    "        # Random permutation on the dataset order (is this equivalent to uniform sampling?)\n",
    "        all_idx = torch.randperm(len(dataset))\n",
    "        \n",
    "        # Loop through the samples and return once accepted\n",
    "        for i in all_idx:\n",
    "            accept = self.accept_sample(self.weight_network, self.dataset[i])\n",
    "            if accept:\n",
    "                return self.dataset[i]"
   ]
  },
  {
   "cell_type": "markdown",
   "metadata": {},
   "source": [
    "The weight network with parameters"
   ]
  },
  {
   "cell_type": "code",
   "execution_count": 36,
   "metadata": {},
   "outputs": [],
   "source": [
    "class Net(nn.Module):\n",
    "\n",
    "    def __init__(self):\n",
    "        super(Net, self).__init__()\n",
    "        self.fc1 = nn.Linear(3, 1)\n",
    "        self.fc2 = nn.Linear(1, 1)\n",
    "        \n",
    "        self.fc1.weight.data.fill_(0.5) # This as initialization because when the weights are too small\n",
    "        self.fc2.weight.data.fill_(0.5) # no images are sampled\n",
    "\n",
    "    def forward(self, x):\n",
    "        h1 = torch.sigmoid(self.fc1(x.view(-1, 3)))\n",
    "        out = torch.sigmoid(self.fc2(h1))\n",
    "        return out\n",
    "\n",
    "weight_network = Net()"
   ]
  },
  {
   "cell_type": "code",
   "execution_count": 37,
   "metadata": {},
   "outputs": [],
   "source": [
    "dataset = BlackWhiteDataset(weight_network)\n",
    "dataloader = DataLoader(dataset, batch_size=64, shuffle=True, num_workers=4)"
   ]
  },
  {
   "cell_type": "code",
   "execution_count": 31,
   "metadata": {},
   "outputs": [
    {
     "name": "stdout",
     "output_type": "stream",
     "text": [
      "tensor([[0.4107],\n",
      "        [0.4367]], grad_fn=<SigmoidBackward>)\n"
     ]
    }
   ],
   "source": [
    "example_img = torch.cat((torch.Tensor([0.2, 0.2, 0.2]), torch.Tensor([0.8, 0.8, 0.8])))\n",
    "w = weight_network(example_img)\n",
    "print(w)"
   ]
  },
  {
   "cell_type": "markdown",
   "metadata": {},
   "source": [
    "Training loop with MSE"
   ]
  },
  {
   "cell_type": "code",
   "execution_count": 42,
   "metadata": {},
   "outputs": [],
   "source": [
    "import torch.optim as optim\n",
    "\n",
    "criterion = nn.MSELoss()\n",
    "optimizer = optim.SGD(weight_network.parameters(), lr=0.00001)"
   ]
  },
  {
   "cell_type": "code",
   "execution_count": 43,
   "metadata": {},
   "outputs": [],
   "source": [
    "# for i, data in enumerate(dataloader):\n",
    "#     labels = data.mean(1).view(-1, 1)\n",
    "    \n",
    "#     optimizer.zero_grad()\n",
    "\n",
    "#     # forward + backward + optimize\n",
    "#     outputs = weight_network(data)\n",
    "#     loss = criterion(outputs, labels)\n",
    "#     loss.backward()\n",
    "#     optimizer.step()\n",
    "\n",
    "#     # print statistics\n",
    "#     if i % 50 == 0:\n",
    "#         print('step', i, 'loss: ', loss.item())\n",
    "# #         print('outputs:', outputs[0].item(), 'labels:', labels[0].item())\n",
    "# #         print()"
   ]
  },
  {
   "cell_type": "markdown",
   "metadata": {},
   "source": [
    "With Helge's objective function"
   ]
  },
  {
   "cell_type": "code",
   "execution_count": 44,
   "metadata": {},
   "outputs": [
    {
     "name": "stdout",
     "output_type": "stream",
     "text": [
      "step 0 loss:  -1.2000000476837158\n",
      "outputs: 0.7748978137969971 0.7909761071205139 ground_truth 0.20000000298023224 0.800000011920929\n",
      "\n",
      "step 50 loss:  -1.8000000715255737\n",
      "outputs: 0.7748932838439941 0.7909656167030334 ground_truth 0.20000000298023224 0.800000011920929\n",
      "\n",
      "step 100 loss:  0.6000000238418579\n",
      "outputs: 0.7748880386352539 0.7909545302391052 ground_truth 0.20000000298023224 0.800000011920929\n",
      "\n",
      "step 150 loss:  1.2000000476837158\n",
      "outputs: 0.7748895883560181 0.7909502387046814 ground_truth 0.20000000298023224 0.800000011920929\n",
      "\n",
      "step 200 loss:  3.0\n",
      "outputs: 0.7748900651931763 0.7909450531005859 ground_truth 0.20000000298023224 0.800000011920929\n",
      "\n",
      "step 250 loss:  1.2000000476837158\n",
      "outputs: 0.7748743295669556 0.7909229397773743 ground_truth 0.20000000298023224 0.800000011920929\n",
      "\n",
      "step 300 loss:  -0.6000000238418579\n",
      "outputs: 0.774872899055481 0.7909157276153564 ground_truth 0.20000000298023224 0.800000011920929\n",
      "\n",
      "step 350 loss:  3.5999999046325684\n",
      "outputs: 0.7748581171035767 0.790894627571106 ground_truth 0.20000000298023224 0.800000011920929\n",
      "\n",
      "step 400 loss:  7.199999809265137\n",
      "outputs: 0.7748394012451172 0.7908695936203003 ground_truth 0.20000000298023224 0.800000011920929\n",
      "\n",
      "step 450 loss:  1.1999999284744263\n",
      "outputs: 0.7748326063156128 0.790856659412384 ground_truth 0.20000000298023224 0.800000011920929\n",
      "\n",
      "step 500 loss:  2.4000000953674316\n",
      "outputs: 0.7748292684555054 0.7908474802970886 ground_truth 0.20000000298023224 0.800000011920929\n",
      "\n"
     ]
    }
   ],
   "source": [
    "dataloader = DataLoader(dataset, batch_size=64, shuffle=True, num_workers=4)\n",
    "for i, data in enumerate(dataloader):\n",
    "#     labels = data.mean(1).view(-1, 1)\n",
    "\n",
    "    optimizer.zero_grad()\n",
    "\n",
    "    # forward + backward + optimize\n",
    "    outputs = weight_network(data)\n",
    "    \n",
    "    # Ground truth:\n",
    "    ground_truth = data.mean(1).view(-1, 1) \n",
    "    \n",
    "    loss = ( (data.mean(1).view(-1, 1)-0.5) * (outputs/outputs.detach()).view(-1, 1)).sum()\n",
    "    \n",
    "    loss.backward()\n",
    "    optimizer.step()\n",
    "\n",
    "    # print statistics\n",
    "    if i % 50 == 0:\n",
    "        \n",
    "        w = weight_network(example_img)\n",
    "        print('step', i, 'loss: ', loss.item())\n",
    "        print('outputs:', w[0].item(), w[1].item(), 'ground_truth', example_img[0].item(), example_img[3].item())\n",
    "        print()"
   ]
  },
  {
   "cell_type": "code",
   "execution_count": 41,
   "metadata": {},
   "outputs": [
    {
     "data": {
      "image/png": "[encoded data removed]",
      "text/plain": [
       "<Figure size 432x288 with 1 Axes>"
      ]
     },
     "metadata": {
      "needs_background": "light"
     },
     "output_type": "display_data"
    },
    {
     "name": "stdout",
     "output_type": "stream",
     "text": [
      "light grey = 0.2, dark grey = 0.8\n"
     ]
    }
   ],
   "source": [
    "visualize_img_batch(data)\n",
    "print('light grey = 0.2, dark grey = 0.8')"
   ]
  },
  {
   "cell_type": "code",
   "execution_count": null,
   "metadata": {},
   "outputs": [],
   "source": []
  }
 ],
 "metadata": {
  "kernelspec": {
   "display_name": "Python 3",
   "language": "python",
   "name": "python3"
  },
  "language_info": {
   "codemirror_mode": {
    "name": "ipython",
    "version": 3
   },
   "file_extension": ".py",
   "mimetype": "text/x-python",
   "name": "python",
   "nbconvert_exporter": "python",
   "pygments_lexer": "ipython3",
   "version": "3.7.5"
  }
 },
 "nbformat": 4,
 "nbformat_minor": 2
}
