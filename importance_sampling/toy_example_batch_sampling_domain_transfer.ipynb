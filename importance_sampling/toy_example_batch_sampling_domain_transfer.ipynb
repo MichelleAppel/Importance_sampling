{
 "cells": [
  {
   "cell_type": "markdown",
   "metadata": {},
   "source": [
    "# Importance sampling in domain transfer: toy example batch sampling\n",
    "This is an toy example that demonstrates our importance sampling method used in unsupervised domain transfer. The problem we are addressing is that of the domains having non-matching distributions, which is often the case in GAN data sets. We use importance sampling to correct for this mis-match in domain distributions.\n",
    "\n",
    "For this example we use a color dataset, consisting of images of spatial size $1\\times1$. The idea is to have the domains consist of two modes: a dark and a light image. The goal is to correct for the dissimilar modes in the distribution using the weighting network in combination with importance sampling. The big assumption here is that dark and light images in the domains have semantic correspondence and that these modes are supposed to be equal.\n",
    "\n",
    "In unsupervised domain transfer, there exist no image pairs or ground truth for these kind of distributions: they are unknown. This is also the case in our example. To enforce semantic correspondence we add a simple static conditional generator that maps images to another color domain with the same brightness."
   ]
  },
  {
   "cell_type": "code",
   "execution_count": 1,
   "metadata": {},
   "outputs": [],
   "source": [
    "import torch\n",
    "import torch.nn as nn\n",
    "import torch.nn.functional as F\n",
    "import torch.optim as optim\n",
    "from torch.utils.data import Dataset, DataLoader\n",
    "from torchvision.utils import make_grid\n",
    "\n",
    "import itertools\n",
    "\n",
    "import matplotlib.pyplot as plt"
   ]
  },
  {
   "cell_type": "markdown",
   "metadata": {},
   "source": [
    "### Functions for generation and visualization of the image batches"
   ]
  },
  {
   "cell_type": "code",
   "execution_count": 2,
   "metadata": {},
   "outputs": [],
   "source": [
    "def visualize_img_batch(batch):\n",
    "    '''Visualizes image batch\n",
    "    \n",
    "    Parameters:\n",
    "    batch (Tensor): An image batch\n",
    "    '''\n",
    "    grid = make_grid(batch, nrow=8, padding=1, normalize=False, range=None, scale_each=False, pad_value=0)\n",
    "    plt.imshow(grid.permute(1,2,0))\n",
    "    plt.show()"
   ]
  },
  {
   "cell_type": "code",
   "execution_count": 3,
   "metadata": {},
   "outputs": [],
   "source": [
    "def random_image_data(size=(2**21, 3, 1, 1), ratio=0.5, offset=0.2, color=0):\n",
    "    '''Generates a random image batch \n",
    "    consisting of two modes (dark and light images)\n",
    "    \n",
    "    Parameters:\n",
    "    size (tuple): The dimensions of the image batch (batch_size, channels, width, length)\n",
    "    ratio (float): The ratio of light to dark images\n",
    "    offset (float): The brightness of the images relative to black and bright\n",
    "    color (int): Red = 0, green = 1, blue = 2\n",
    "    \n",
    "    Returns:\n",
    "    image_batch (Tensor): The generated image batch\n",
    "    \n",
    "    '''\n",
    "    idx = torch.randperm(size[0])[:int(ratio*size[0])] # Randomly choose indices according to the ratio\n",
    "    image_batch = torch.zeros(size)\n",
    "    image_batch[:, color] += offset # light color\n",
    "    image_batch[idx, color] = 1 - offset # dark color \n",
    "    return image_batch"
   ]
  },
  {
   "cell_type": "markdown",
   "metadata": {},
   "source": [
    "### The dataset class"
   ]
  },
  {
   "cell_type": "code",
   "execution_count": 4,
   "metadata": {},
   "outputs": [],
   "source": [
    "class ColorDataset(Dataset):\n",
    "    '''The dataloader for the color images\n",
    "    '''\n",
    "    def __init__(self, ratio=0.5, offset=0.2, color=0):\n",
    "        '''  \n",
    "        Parameters:\n",
    "        ratio (float): The ratio of light to dark images\n",
    "        offset (float): The brightness of the images relative to black and bright\n",
    "        color (int): Red = 0, green = 1, blue = 2\n",
    "        '''\n",
    "        self.offset = offset\n",
    "        self.ratio = ratio\n",
    "        self.color = color\n",
    "        \n",
    "        self.dataset = random_image_data(ratio=self.ratio, \n",
    "                                         offset=self.offset, \n",
    "                                         color=self.color)\n",
    "        self.example_imgs = self.example()\n",
    "        \n",
    "    def example(self):\n",
    "        '''\n",
    "        Returns an example from each mode in the domain\n",
    "        \n",
    "        '''\n",
    "        example_imgs = torch.zeros(size=(2, 3, 1, 1))\n",
    "\n",
    "        example_imgs[0, self.color] += self.offset # light color\n",
    "        example_imgs[1, self.color] = 1 - self.offset # dark color\n",
    "        return example_imgs   \n",
    "\n",
    "    def __len__(self):\n",
    "        return len(self.dataset)\n",
    "    \n",
    "    def __getitem__(self, idx):      \n",
    "        return self.dataset[idx]"
   ]
  },
  {
   "cell_type": "markdown",
   "metadata": {},
   "source": [
    "### The networks"
   ]
  },
  {
   "cell_type": "code",
   "execution_count": 5,
   "metadata": {},
   "outputs": [],
   "source": [
    "class WeightNet(nn.Module):\n",
    "    '''A simple network that predicts the importances of the samples'''\n",
    "\n",
    "    def __init__(self):\n",
    "        super(WeightNet, self).__init__()\n",
    "        self.fc1 = nn.Linear(3, 1)\n",
    "        self.fc2 = nn.Linear(1, 1)\n",
    "        self.softmax = nn.Softmax(dim=0)\n",
    "        \n",
    "    def forward(self, x):\n",
    "        h1 = torch.sigmoid(self.fc1(x.view(-1, 3)))\n",
    "        out = self.softmax(self.fc2(h1))\n",
    "        return out"
   ]
  },
  {
   "cell_type": "code",
   "execution_count": 6,
   "metadata": {},
   "outputs": [],
   "source": [
    "class TrivialWeightNet(nn.Module):\n",
    "    '''A trivial network that predicts the importances of the samples'''\n",
    "\n",
    "    def __init__(self):\n",
    "        super(TrivialWeightNet, self).__init__()\n",
    "        self.fc1 = nn.Linear(1, 1)\n",
    "        \n",
    "    def forward(self, x):\n",
    "        out = torch.ones((x.size()[0], 1))\n",
    "        out /= out.sum()\n",
    "        return out"
   ]
  },
  {
   "cell_type": "code",
   "execution_count": 7,
   "metadata": {},
   "outputs": [],
   "source": [
    "class Discriminator(nn.Module):\n",
    "    '''A simple joint discriminator network'''\n",
    "\n",
    "    def __init__(self):\n",
    "        super(Discriminator, self).__init__()\n",
    "        self.fc1 = nn.Linear(6, 3)\n",
    "        self.fc2 = nn.Linear(3, 1)\n",
    "        \n",
    "    def forward(self, x):\n",
    "        h1 = torch.sigmoid(self.fc1(x.view(-1, 6)))\n",
    "        out = torch.sigmoid(self.fc2(h1))\n",
    "        return out"
   ]
  },
  {
   "cell_type": "code",
   "execution_count": 8,
   "metadata": {},
   "outputs": [],
   "source": [
    "class TrivialDiscriminator(nn.Module):\n",
    "    '''A trivial joint discriminator network'''\n",
    "\n",
    "    def __init__(self):\n",
    "        super(TrivialDiscriminator, self).__init__()\n",
    "        self.fc1 = nn.Linear(1, 1)\n",
    "        \n",
    "    def forward(self, x):\n",
    "        return torch.zeros(x.size()[0], 1)"
   ]
  },
  {
   "cell_type": "code",
   "execution_count": 9,
   "metadata": {},
   "outputs": [],
   "source": [
    "class Generator(nn.Module):\n",
    "    '''A simple conditional generator network'''\n",
    "\n",
    "    def __init__(self):\n",
    "        super(Generator, self).__init__()\n",
    "        self.fc1 = nn.Linear(3, 3)\n",
    "        self.fc2 = nn.Linear(3, 3)\n",
    "        \n",
    "    def forward(self, x):\n",
    "        h1 = F.relu(self.fc1(x.view(-1, 3)))\n",
    "        out = torch.sigmoid(self.fc2(h1))\n",
    "        return out.unsqueeze(-1).unsqueeze(-1)"
   ]
  },
  {
   "cell_type": "code",
   "execution_count": 10,
   "metadata": {},
   "outputs": [],
   "source": [
    "class TrivialGenerator(nn.Module):\n",
    "    '''A trivial conditional generator network'''\n",
    "    \n",
    "    def __init__(self):\n",
    "        super(TrivialGenerator, self).__init__()\n",
    "        self.nn = nn.Linear(1,1) # Otherwise error\n",
    "        \n",
    "    def forward(self, x):\n",
    "        new = torch.zeros((x.shape))\n",
    "        new[:, 0] = x[:, 1]\n",
    "        new[:, 1] = x[:, 0]\n",
    "        return new"
   ]
  },
  {
   "cell_type": "markdown",
   "metadata": {},
   "source": [
    "### A demonstration of the two domains\n",
    "The idea here is that we create two domains: A red and a green domain. The domains consist of two modes: dark and light images. The big assumption here for our purpose is that the dark and light images have semantic correspondance, so for example: dark red will be translated to dark green.\n",
    "\n",
    "We can adjust the intensity of the images (offset) and the ratio of the modes for the experiment. In the visualiztion you can see the elements of the dataset. In the histogram you can see the modes."
   ]
  },
  {
   "cell_type": "code",
   "execution_count": 11,
   "metadata": {},
   "outputs": [
    {
     "data": {
      "image/png": "[encoded data removed]",
      "text/plain": [
       "<Figure size 432x288 with 1 Axes>"
      ]
     },
     "metadata": {
      "needs_background": "light"
     },
     "output_type": "display_data"
    },
    {
     "data": {
      "image/png": "[encoded data removed]",
      "text/plain": [
       "<Figure size 432x288 with 1 Axes>"
      ]
     },
     "metadata": {
      "needs_background": "light"
     },
     "output_type": "display_data"
    }
   ],
   "source": [
    "# Settings for domain A (red)\n",
    "offset_A = 0.2\n",
    "ratio_A = 0.5\n",
    "color_A = 0\n",
    "dataset_A = ColorDataset(offset=offset_A, ratio=ratio_A, color=color_A)\n",
    "dataloader_A = DataLoader(dataset_A, batch_size=256, shuffle=True)\n",
    "\n",
    "# Settings for domain B (green)\n",
    "offset_B = 0.2\n",
    "ratio_B = 0.5\n",
    "color_B = 1\n",
    "dataset_B = ColorDataset(offset=offset_B, ratio=ratio_B, color=color_B)\n",
    "dataloader_B = DataLoader(dataset_B, batch_size=256, shuffle=True)\n",
    "\n",
    "visualize_img_batch(dataset_A.example_imgs)\n",
    "visualize_img_batch(dataset_B.example_imgs)"
   ]
  },
  {
   "cell_type": "code",
   "execution_count": 12,
   "metadata": {},
   "outputs": [
    {
     "name": "stdout",
     "output_type": "stream",
     "text": [
      "True ratio domain A: 0.5\n",
      "Count: tensor([132, 124]) Ratio in this batch: tensor([0.5156, 0.4844])\n"
     ]
    },
    {
     "data": {
      "image/png": "[encoded data removed]",
      "text/plain": [
       "<Figure size 432x288 with 1 Axes>"
      ]
     },
     "metadata": {
      "needs_background": "light"
     },
     "output_type": "display_data"
    },
    {
     "name": "stdout",
     "output_type": "stream",
     "text": [
      "True ratio domain B: 0.5\n",
      "Count: tensor([133, 123]) Ratio in this batch: tensor([0.5195, 0.4805])\n"
     ]
    },
    {
     "data": {
      "image/png": "[encoded data removed]",
      "text/plain": [
       "<Figure size 432x288 with 1 Axes>"
      ]
     },
     "metadata": {
      "needs_background": "light"
     },
     "output_type": "display_data"
    }
   ],
   "source": [
    "def plot_hist(data):\n",
    "    data = data.view(3, -1).sum(0)\n",
    "    plt.hist(data, weights=torch.ones(len(data))/len(data))\n",
    "    x_unique_count = torch.stack([(data==x_u).sum() for x_u in data.unique()])\n",
    "    \n",
    "    print('Count:', x_unique_count, 'Ratio in this batch:', x_unique_count/float(x_unique_count.sum()))\n",
    "\n",
    "    plt.show()\n",
    "\n",
    "for i, (data_A, data_B) in enumerate(zip(dataloader_A, dataloader_B)):\n",
    "    print('True ratio domain A:', dataloader_A.dataset.ratio)\n",
    "    plot_hist(data_A)\n",
    "    print('True ratio domain B:', dataloader_B.dataset.ratio)\n",
    "    plot_hist(data_B)\n",
    "    break"
   ]
  },
  {
   "cell_type": "markdown",
   "metadata": {},
   "source": [
    "## The training loop"
   ]
  },
  {
   "cell_type": "code",
   "execution_count": null,
   "metadata": {
    "scrolled": true
   },
   "outputs": [
    {
     "name": "stdout",
     "output_type": "stream",
     "text": [
      "step 0 loss_g:  -8.80419921875 loss_d:  8.80419921875 loss_w:  77.51392364501953\n",
      "step 500 loss_g:  0.1690673828125 loss_d:  -0.1690673828125 loss_w:  0.02858377993106842\n",
      "step 1000 loss_g:  -0.034912109375 loss_d:  0.034912109375 loss_w:  0.0012188553810119629\n",
      "step 1500 loss_g:  0.0185546875 loss_d:  -0.0185546875 loss_w:  0.00034427642822265625\n",
      "step 2000 loss_g:  -0.03125 loss_d:  0.03125 loss_w:  0.0009765625\n",
      "step 2500 loss_g:  0.01171875 loss_d:  -0.01171875 loss_w:  0.0001373291015625\n",
      "step 3000 loss_g:  -0.0015869140625 loss_d:  0.0015869140625 loss_w:  2.518296241760254e-06\n",
      "step 3500 loss_g:  -0.001220703125 loss_d:  0.001220703125 loss_w:  1.4901161193847656e-06\n",
      "step 4000 loss_g:  0.001708984375 loss_d:  -0.001708984375 loss_w:  2.9206275939941406e-06\n",
      "step 4500 loss_g:  -0.0006103515625 loss_d:  0.0006103515625 loss_w:  3.725290298461914e-07\n",
      "step 5000 loss_g:  -0.0050048828125 loss_d:  0.0050048828125 loss_w:  2.504885196685791e-05\n",
      "step 5500 loss_g:  0.003662109375 loss_d:  -0.003662109375 loss_w:  1.341104507446289e-05\n",
      "step 6000 loss_g:  -0.003173828125 loss_d:  0.003173828125 loss_w:  1.0073184967041016e-05\n",
      "step 6500 loss_g:  0.054443359375 loss_d:  -0.054443359375 loss_w:  0.0029640793800354004\n",
      "step 7000 loss_g:  -0.0028076171875 loss_d:  0.0028076171875 loss_w:  7.88271427154541e-06\n",
      "step 7500 loss_g:  0.001953125 loss_d:  -0.001953125 loss_w:  3.814697265625e-06\n",
      "step 8000 loss_g:  0.001953125 loss_d:  -0.001953125 loss_w:  3.814697265625e-06\n",
      "step 0 loss_g:  -0.0009765625 loss_d:  0.0009765625 loss_w:  9.5367431640625e-07\n",
      "step 500 loss_g:  0.0093994140625 loss_d:  -0.0093994140625 loss_w:  8.834898471832275e-05\n",
      "step 1000 loss_g:  0.002685546875 loss_d:  -0.002685546875 loss_w:  7.212162017822266e-06\n",
      "step 1500 loss_g:  0.0001220703125 loss_d:  -0.0001220703125 loss_w:  1.4901161193847656e-08\n",
      "step 2000 loss_g:  -0.004150390625 loss_d:  0.004150390625 loss_w:  1.722574234008789e-05\n",
      "step 2500 loss_g:  0.0 loss_d:  0.0 loss_w:  0.0\n",
      "step 3000 loss_g:  -0.0009765625 loss_d:  0.0009765625 loss_w:  9.5367431640625e-07\n",
      "step 3500 loss_g:  -0.0028076171875 loss_d:  0.0028076171875 loss_w:  7.88271427154541e-06\n",
      "step 4000 loss_g:  0.0001220703125 loss_d:  -0.0001220703125 loss_w:  1.4901161193847656e-08\n",
      "step 4500 loss_g:  -0.000244140625 loss_d:  0.000244140625 loss_w:  5.960464477539063e-08\n",
      "step 5000 loss_g:  -0.0001220703125 loss_d:  0.0001220703125 loss_w:  1.4901161193847656e-08\n",
      "step 5500 loss_g:  0.0006103515625 loss_d:  -0.0006103515625 loss_w:  3.725290298461914e-07\n",
      "step 6000 loss_g:  -0.0008544921875 loss_d:  0.0008544921875 loss_w:  7.301568984985352e-07\n",
      "step 6500 loss_g:  0.0003662109375 loss_d:  -0.0003662109375 loss_w:  1.341104507446289e-07\n",
      "step 7000 loss_g:  0.000732421875 loss_d:  -0.000732421875 loss_w:  5.364418029785156e-07\n",
      "step 7500 loss_g:  -0.001708984375 loss_d:  0.001708984375 loss_w:  2.9206275939941406e-06\n",
      "step 8000 loss_g:  -0.00048828125 loss_d:  0.00048828125 loss_w:  2.384185791015625e-07\n",
      "step 0 loss_g:  0.00048828125 loss_d:  -0.00048828125 loss_w:  2.384185791015625e-07\n",
      "step 500 loss_g:  -0.0006103515625 loss_d:  0.0006103515625 loss_w:  3.725290298461914e-07\n",
      "step 1000 loss_g:  0.000732421875 loss_d:  -0.000732421875 loss_w:  5.364418029785156e-07\n",
      "step 1500 loss_g:  0.00244140625 loss_d:  -0.00244140625 loss_w:  5.9604644775390625e-06\n",
      "step 2000 loss_g:  0.001708984375 loss_d:  -0.001708984375 loss_w:  2.9206275939941406e-06\n",
      "step 2500 loss_g:  -0.0001220703125 loss_d:  0.0001220703125 loss_w:  1.4901161193847656e-08\n",
      "step 3000 loss_g:  0.001953125 loss_d:  -0.001953125 loss_w:  3.814697265625e-06\n",
      "step 3500 loss_g:  0.0013427734375 loss_d:  -0.0013427734375 loss_w:  1.8030405044555664e-06\n",
      "step 4000 loss_g:  0.00079345703125 loss_d:  -0.00079345703125 loss_w:  6.295740604400635e-07\n",
      "step 4500 loss_g:  0.0 loss_d:  0.0 loss_w:  0.0\n",
      "step 5000 loss_g:  -0.00146484375 loss_d:  0.00146484375 loss_w:  2.1457672119140625e-06\n",
      "step 5500 loss_g:  -0.00054931640625 loss_d:  0.00054931640625 loss_w:  3.0174851417541504e-07\n",
      "step 6000 loss_g:  -0.00048828125 loss_d:  0.00048828125 loss_w:  2.384185791015625e-07\n",
      "step 6500 loss_g:  0.00048828125 loss_d:  -0.00048828125 loss_w:  2.384185791015625e-07\n",
      "step 7000 loss_g:  0.0006103515625 loss_d:  -0.0006103515625 loss_w:  3.725290298461914e-07\n",
      "step 7500 loss_g:  0.00091552734375 loss_d:  -0.00091552734375 loss_w:  8.381903171539307e-07\n",
      "step 8000 loss_g:  0.001220703125 loss_d:  -0.001220703125 loss_w:  1.4901161193847656e-06\n",
      "step 0 loss_g:  0.0013427734375 loss_d:  -0.0013427734375 loss_w:  1.8030405044555664e-06\n",
      "step 500 loss_g:  0.0008544921875 loss_d:  -0.0008544921875 loss_w:  7.301568984985352e-07\n",
      "step 1000 loss_g:  0.00018310546875 loss_d:  -0.00018310546875 loss_w:  3.3527612686157227e-08\n",
      "step 1500 loss_g:  -0.0006103515625 loss_d:  0.0006103515625 loss_w:  3.725290298461914e-07\n",
      "step 2000 loss_g:  0.00018310546875 loss_d:  -0.00018310546875 loss_w:  3.3527612686157227e-08\n",
      "step 2500 loss_g:  -6.103515625e-05 loss_d:  6.103515625e-05 loss_w:  3.725290298461914e-09\n",
      "step 3000 loss_g:  3.0517578125e-05 loss_d:  -3.0517578125e-05 loss_w:  9.313225746154785e-10\n",
      "step 3500 loss_g:  -3.0517578125e-05 loss_d:  3.0517578125e-05 loss_w:  9.313225746154785e-10\n",
      "step 4000 loss_g:  0.0001220703125 loss_d:  -0.0001220703125 loss_w:  1.4901161193847656e-08\n",
      "step 4500 loss_g:  -0.00018310546875 loss_d:  0.00018310546875 loss_w:  3.3527612686157227e-08\n",
      "step 5000 loss_g:  0.0001983642578125 loss_d:  -0.0001983642578125 loss_w:  3.934837877750397e-08\n",
      "step 5500 loss_g:  -0.00012969970703125 loss_d:  0.00012969970703125 loss_w:  1.682201400399208e-08\n",
      "step 6000 loss_g:  6.866455078125e-05 loss_d:  -6.866455078125e-05 loss_w:  4.71482053399086e-09\n",
      "step 6500 loss_g:  0.0 loss_d:  0.0 loss_w:  0.0\n",
      "step 7000 loss_g:  0.0001678466796875 loss_d:  -0.0001678466796875 loss_w:  2.8172507882118225e-08\n",
      "step 7500 loss_g:  -6.103515625e-05 loss_d:  6.103515625e-05 loss_w:  3.725290298461914e-09\n",
      "step 8000 loss_g:  -0.0001373291015625 loss_d:  0.0001373291015625 loss_w:  1.885928213596344e-08\n",
      "step 0 loss_g:  -1.52587890625e-05 loss_d:  1.52587890625e-05 loss_w:  2.3283064365386963e-10\n"
     ]
    }
   ],
   "source": [
    "# Initialize the networks\n",
    "weight_network_A = TrivialWeightNet()\n",
    "weight_network_B = TrivialWeightNet()\n",
    "generator_A = Generator()\n",
    "generator_B = Generator()\n",
    "discriminator = Discriminator()\n",
    "\n",
    "# Initialize the optimizers\n",
    "optimizer_w = optim.Adam(itertools.chain(weight_network_A.parameters(), \n",
    "                                         weight_network_B.parameters()), lr=0.01)\n",
    "optimizer_g = optim.Adam(itertools.chain(generator_A.parameters(),\n",
    "                                         generator_B.parameters()), lr=0.01)\n",
    "optimizer_d = optim.Adam(discriminator.parameters(), lr=0.01)\n",
    "\n",
    "# Store values\n",
    "samples_A = []\n",
    "samples_B = []\n",
    "\n",
    "losses_g = []\n",
    "losses_d = []\n",
    "losses_w = []\n",
    "\n",
    "Lminusses = []\n",
    "Lplusses = []\n",
    "\n",
    "example_importances_A = []\n",
    "example_importances_B = []\n",
    "\n",
    "\n",
    "sampled_batch_size = 64 # The amount of images sampled using importance sampling\n",
    "for epoch in range(5):\n",
    "    for i, (data_A, data_B) in enumerate(zip(dataloader_A, dataloader_B)):\n",
    "        # Set gradients to zero\n",
    "        optimizer_w.zero_grad()\n",
    "        optimizer_d.zero_grad()\n",
    "        optimizer_g.zero_grad()\n",
    "\n",
    "        # The sampling process ----------------------------------------------------------------------------\n",
    "        importances_A = weight_network_A(data_A).squeeze() # Get the importances for each image in domain A\n",
    "        importances_B = weight_network_B(data_B).squeeze() # Get the importances for each image in domain B\n",
    "\n",
    "        sampled_idx_A = list( # Sample from batch A according to these importances\n",
    "            torch.utils.data.sampler.WeightedRandomSampler(importances_A, \n",
    "                                                           sampled_batch_size, \n",
    "                                                           replacement=False))\n",
    "\n",
    "        sampled_importances_A = importances_A[sampled_idx_A] # The importances assigned to the smaller batch\n",
    "        real_A = data_A[sampled_idx_A] # The sampled smaller batch A\n",
    "\n",
    "        sampled_idx_B = list( # Sample from batch Baccording to these importances\n",
    "            torch.utils.data.sampler.WeightedRandomSampler(importances_B,\n",
    "                                                           sampled_batch_size, \n",
    "                                                           replacement=False))\n",
    "\n",
    "        sampled_importances_B = importances_B[sampled_idx_B] # The importances assigned to the smaller batch\n",
    "        real_B = data_B[sampled_idx_B] # The sampled smaller batch B\n",
    "        # --------------------------------------------------------------------------------------------------\n",
    "\n",
    "        # Generated images\n",
    "        fake_A = generator_A(real_B)\n",
    "        fake_B = generator_B(real_A)\n",
    "\n",
    "        # Discriminator values\n",
    "        discriminated_A = discriminator(torch.cat((real_A, fake_B)))\n",
    "        discriminated_B = discriminator(torch.cat((fake_A, real_B)))\n",
    "\n",
    "        # The loss function --------------------------------------------------------------------------------\n",
    "        Lmin = (discriminated_A * sampled_importances_A/sampled_importances_A.detach()).sum()\n",
    "        Lplus = (discriminated_B * sampled_importances_B/sampled_importances_B.detach()).sum()\n",
    "\n",
    "        loss_g = Lmin - Lplus\n",
    "        loss_w = (Lmin - Lplus)**2\n",
    "        loss_d = Lplus - Lmin\n",
    "        # ---------------------------------------------------------------------------------------------------\n",
    "\n",
    "        # Backward\n",
    "        loss_g.backward(retain_graph=True)\n",
    "        loss_w.backward(retain_graph=True)\n",
    "        loss_d.backward()\n",
    "\n",
    "        # Optimization step\n",
    "        optimizer_g.step()\n",
    "        optimizer_w.step()\n",
    "        optimizer_d.step()\n",
    "\n",
    "        # Store values --------------------------------------------------------------------------------------\n",
    "        Lminusses += [Lmin.item()]\n",
    "        Lplusses += [Lplus.item()]\n",
    "\n",
    "        losses_g += [loss_g.item()]\n",
    "        losses_d += [loss_d.item()]\n",
    "        losses_w += [loss_w.item()]\n",
    "\n",
    "        w_a = weight_network_A(dataset_A.example_imgs)\n",
    "        w_b = weight_network_B(dataset_B.example_imgs)\n",
    "        example_importances_A += [(w_a[0].item(), w_a[1].item())] # Store examples in a list\n",
    "        example_importances_B += [(w_b[0].item(), w_b[1].item())] # Store examples in a list\n",
    "        # ---------------------------------------------------------------------------------------------------\n",
    "\n",
    "        # Print statistics\n",
    "        if i % 500 == 0:\n",
    "            samples_A += [fake_A.detach()]\n",
    "            samples_B += [fake_B.detach()]\n",
    "            print('step', i, 'loss_g: ', loss_g.item(), 'loss_d: ', loss_d.item(), 'loss_w: ', loss_w.item())"
   ]
  },
  {
   "cell_type": "code",
   "execution_count": null,
   "metadata": {},
   "outputs": [],
   "source": [
    "visualize_img_batch(real_A)\n",
    "visualize_img_batch(fake_B.detach())\n",
    "print('True ratio domain A {}'.format(ratio_A))\n",
    "plot_hist(real_A)\n",
    "\n",
    "visualize_img_batch(real_B)\n",
    "visualize_img_batch(fake_A.detach())\n",
    "print('True ratio domain B {}'.format(ratio_B))\n",
    "plot_hist(real_B)"
   ]
  },
  {
   "cell_type": "code",
   "execution_count": null,
   "metadata": {},
   "outputs": [],
   "source": [
    "plt.figure(figsize=(10,6))\n",
    "plt.title('Losses over iterations')\n",
    "plt.xlabel('Training iterations')\n",
    "plt.ylabel('Loss')\n",
    "plt.plot(losses_g)\n",
    "plt.plot(losses_d)\n",
    "plt.plot(losses_w)\n",
    "plt.legend(['G', 'D', 'W'])\n",
    "plt.show()"
   ]
  },
  {
   "cell_type": "code",
   "execution_count": null,
   "metadata": {},
   "outputs": [],
   "source": [
    "plt.figure(figsize=(10,6))\n",
    "plt.title('Losses over iterations')\n",
    "plt.xlabel('Training iterations')\n",
    "plt.ylabel('Loss')\n",
    "plt.plot(Lminusses)\n",
    "plt.plot(Lplusses)\n",
    "plt.legend(['Lmin', 'Lplus'])\n",
    "plt.show()"
   ]
  },
  {
   "cell_type": "code",
   "execution_count": null,
   "metadata": {},
   "outputs": [],
   "source": [
    "plt.figure(figsize=(10,6))\n",
    "plt.title('Assigned importances for the toy example images over the course of training')\n",
    "plt.plot(example_importances_A)\n",
    "plt.plot(example_importances_B)\n",
    "plt.legend(['Img A with value {} (p={})'.format(offset_A, ratio_A), \n",
    "            'Img A with value {} (p={})'.format(1-offset_A, 1-ratio_A), \n",
    "            'Img B with value {} (p={})'.format(offset_B, ratio_B), \n",
    "            'Img B with value {} (p={})'.format(1-offset_B, 1-ratio_B)])\n",
    "plt.xlabel('Assigned importance')\n",
    "plt.ylabel('Training iterations')\n",
    "plt.show()"
   ]
  },
  {
   "cell_type": "code",
   "execution_count": null,
   "metadata": {},
   "outputs": [],
   "source": [
    "plt.figure(figsize=(10,6))\n",
    "plt.title('Ratio between importances of the same mode')\n",
    "plt.plot(torch.Tensor(example_importances_A)[:, 0]/torch.Tensor(example_importances_B)[:, 0])\n",
    "plt.plot(torch.Tensor(example_importances_A)[:, 1]/torch.Tensor(example_importances_B)[:, 1])\n",
    "plt.legend(['Dark images', 'Light images'])\n",
    "plt.xlabel('Ratio importance')\n",
    "plt.ylabel('Training iterations')\n",
    "plt.show()"
   ]
  },
  {
   "cell_type": "code",
   "execution_count": null,
   "metadata": {},
   "outputs": [],
   "source": [
    "for img in samples_B:\n",
    "    visualize_img_batch(img)"
   ]
  }
 ],
 "metadata": {
  "kernelspec": {
   "display_name": "Python 3",
   "language": "python",
   "name": "python3"
  },
  "language_info": {
   "codemirror_mode": {
    "name": "ipython",
    "version": 3
   },
   "file_extension": ".py",
   "mimetype": "text/x-python",
   "name": "python",
   "nbconvert_exporter": "python",
   "pygments_lexer": "ipython3",
   "version": "3.7.5"
  }
 },
 "nbformat": 4,
 "nbformat_minor": 2
}
